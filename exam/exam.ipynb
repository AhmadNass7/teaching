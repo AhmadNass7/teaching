{
 "cells": [
  {
   "cell_type": "markdown",
   "id": "4c0c5a77",
   "metadata": {},
   "source": [
    "# Exam\n",
    "- The exam is 120 minutes.\n",
    "- You have 10 questions.\n",
    "- Your code style will be also evaluated.\n",
    "- You must turn your camera on.\n",
    "- You can use any online materials.\n",
    "- You cannot contact any other person on this planet in any way!\n",
    "- Remember to also add a short textual explanation with your own words for coding questions.\n",
    "- Once you are done:\n",
    "    - Save the notebook.\n",
    "    - Export it as both Jupyter notebook (*.ipynb) and pdf.\n",
    "    - Upload both files together with Assessed Submission Form on Canvas.\n"
   ]
  },
  {
   "cell_type": "markdown",
   "id": "74e17d41",
   "metadata": {},
   "source": [
    "## 1. Convert Age to Seconds\n",
    "Write a Python program that takes an integer value from users as their age and convert it to seconds. Assume that each year has exactly `365` days. Ignore leap years and days between last birthday and now."
   ]
  },
  {
   "cell_type": "code",
   "execution_count": null,
   "id": "23e0bb03",
   "metadata": {},
   "outputs": [],
   "source": [
    "# Code here..."
   ]
  },
  {
   "cell_type": "markdown",
   "id": "c43e2de9",
   "metadata": {},
   "source": [
    "Text here..."
   ]
  },
  {
   "cell_type": "markdown",
   "id": "fa31e003",
   "metadata": {},
   "source": [
    "## 2. Calculate a Fraction\n",
    "Define a function that takes a list of integers as input and returns sum of even numbers devided by sum of odd numbers. For example, for the input list `[1, 2, 4, 3]`, the function should return `(2 + 4) / (1 + 3) = 1.5`."
   ]
  },
  {
   "cell_type": "code",
   "execution_count": null,
   "id": "5e798da0",
   "metadata": {},
   "outputs": [],
   "source": [
    "# Code here..."
   ]
  },
  {
   "cell_type": "markdown",
   "id": "1ee067cb",
   "metadata": {},
   "source": [
    "Text here..."
   ]
  },
  {
   "cell_type": "markdown",
   "id": "55341f17",
   "metadata": {},
   "source": [
    "## 3. Find Indexes of Maximums\n",
    "Define a function that takes a list of numerical values as input. This function should return another list that contains the indexes of all the values that are equal to the maximum of the input list. For example, if the input list is `[1, 4, 2, 4]`, the function should return `[1, 3]`."
   ]
  },
  {
   "cell_type": "code",
   "execution_count": null,
   "id": "c19454e8",
   "metadata": {},
   "outputs": [],
   "source": [
    "# Code here..."
   ]
  },
  {
   "cell_type": "markdown",
   "id": "956224a7",
   "metadata": {},
   "source": [
    "Text here..."
   ]
  },
  {
   "cell_type": "markdown",
   "id": "0000010a",
   "metadata": {},
   "source": [
    "## 4. Encrypt Messages\n",
    "Define a function that takes a string as input and reutrns the encrypted version of it. For encyption, it should replace each character with its counterpart character from the other side of alphabets. For example, the string `“abc”` should be encrypted to `“zyx”`. Assume the input string only has lowercase alphabetical characters.    \n",
    "**Hint:** The alphabets list that contains all the 26 lowercase english characters in the right order is already defined for you. \n"
   ]
  },
  {
   "cell_type": "code",
   "execution_count": null,
   "id": "9ce9d809",
   "metadata": {},
   "outputs": [],
   "source": [
    "alphabets = list(\"abcdefghigklmnopqrstuvwxyz\")\n",
    "\n",
    "# Code here..."
   ]
  },
  {
   "cell_type": "markdown",
   "id": "f2e76ff1",
   "metadata": {},
   "source": [
    "Text here..."
   ]
  },
  {
   "cell_type": "markdown",
   "id": "0b57943c",
   "metadata": {},
   "source": [
    "## 5. Define a Class\n",
    "Define a `Car` class. This class should have the following properties and methods:\n",
    "- Peroperty `brand` to store the brand of the car. (For example, \"BMW\")\n",
    "- Peroperty `model` to store the specific model of the car. (For example, \"X1\")\n",
    "- Peroperty `age` to store the age of the car. (For example, 3)\n",
    "- Peroperty `original_price` to store the original price of the car. (For example, 10000)\n",
    "- Method `__init__` to create an object and set the value of properties.\n",
    "- Method `__str__` for printing out car's properties as a formatted text. \n",
    "- Method `get_current_price` to calculate the current price of the car. Assume that the price of cars will be reduced each year by 10%. (For example, if the age is 3, then the current price is 70% of the original price)"
   ]
  },
  {
   "cell_type": "code",
   "execution_count": null,
   "id": "8fa2cf50",
   "metadata": {},
   "outputs": [],
   "source": [
    "# Code here..."
   ]
  },
  {
   "cell_type": "markdown",
   "id": "37c827a8",
   "metadata": {},
   "source": [
    "Text here..."
   ]
  },
  {
   "cell_type": "markdown",
   "id": "bab5b645",
   "metadata": {},
   "source": [
    "## 6. Process a DataFrame\n",
    "We have a simple dataframe. It shows different purhcases of some customers. Write a Python code to calculate total purchases of each customer and sort them in descending order in a table. The result of your code should generate the second dataframe."
   ]
  },
  {
   "cell_type": "code",
   "execution_count": null,
   "id": "232f8b28",
   "metadata": {},
   "outputs": [],
   "source": [
    "import pandas as pd\n",
    "\n",
    "customers = pd.DataFrame({\"Name\": [\"Alice\", \"Bob\", \"Bob\", \"Alice\", \"John\", \"John\"], \n",
    "                          \"Purchase\": [100, 200, 50, 100, 150, 50]})\n",
    "customers"
   ]
  },
  {
   "cell_type": "code",
   "execution_count": null,
   "id": "fa36158e",
   "metadata": {},
   "outputs": [],
   "source": [
    "result_table = pd.DataFrame({\"Name\": [\"Bob\", \"Alice\", \"John\"], \"Purchase\": [250, 200, 200]}).set_index(\"Name\")\n",
    "result_table"
   ]
  },
  {
   "cell_type": "code",
   "execution_count": null,
   "id": "d133b990",
   "metadata": {},
   "outputs": [],
   "source": [
    "# Code here..."
   ]
  },
  {
   "cell_type": "markdown",
   "id": "d72ae29b",
   "metadata": {},
   "source": [
    "Text here..."
   ]
  },
  {
   "cell_type": "markdown",
   "id": "a0976505",
   "metadata": {},
   "source": [
    "## 7. Difference Between Tuple and List\n",
    "`Tuple` and `List` data types are very similar to each other. What is the most important difference of them? Explain it by providing a sample code."
   ]
  },
  {
   "cell_type": "code",
   "execution_count": null,
   "id": "4c036eae",
   "metadata": {},
   "outputs": [],
   "source": [
    "# Code here..."
   ]
  },
  {
   "cell_type": "markdown",
   "id": "25d80ea1",
   "metadata": {},
   "source": [
    "Text here..."
   ]
  },
  {
   "cell_type": "markdown",
   "id": "665b83ae",
   "metadata": {},
   "source": [
    "## 8.  Difference Between If Statements and If Expressions\n",
    "What is the difference between `if statements` and `if expressions`? Explain your answer by providing one example for each of them."
   ]
  },
  {
   "cell_type": "code",
   "execution_count": null,
   "id": "d85cda7a",
   "metadata": {},
   "outputs": [],
   "source": [
    "# Code here..."
   ]
  },
  {
   "cell_type": "markdown",
   "id": "16d6924b",
   "metadata": {},
   "source": [
    "Text here..."
   ]
  },
  {
   "cell_type": "markdown",
   "id": "c2d46571",
   "metadata": {},
   "source": [
    "## 9. Fancy Indexing\n",
    "What does `fancy indexing` mean in Numpy? Explain your answer by providing a sample code. "
   ]
  },
  {
   "cell_type": "code",
   "execution_count": null,
   "id": "f0eee0eb",
   "metadata": {},
   "outputs": [],
   "source": [
    "# Code here..."
   ]
  },
  {
   "cell_type": "markdown",
   "id": "8aed3c04",
   "metadata": {},
   "source": [
    "Text here..."
   ]
  },
  {
   "cell_type": "markdown",
   "id": "51316aed",
   "metadata": {},
   "source": [
    "## 10. Debugging a Code\n",
    "We want to create a dicitionary and store the number of children of each couple. However, our simple code fails to store `3` as the number of children for `Alice` and `Bob`. Explain why this simple code generates error and propose a solution. "
   ]
  },
  {
   "cell_type": "code",
   "execution_count": null,
   "id": "939ed61b",
   "metadata": {},
   "outputs": [],
   "source": [
    "number_of_children = {}\n",
    "number_of_children[[\"Alice\", \"Bob\"]] = 3"
   ]
  },
  {
   "cell_type": "code",
   "execution_count": null,
   "id": "d32d1dd2",
   "metadata": {},
   "outputs": [],
   "source": [
    "# Code here..."
   ]
  },
  {
   "cell_type": "markdown",
   "id": "672fecf6",
   "metadata": {},
   "source": [
    "Text here..."
   ]
  }
 ],
 "metadata": {
  "kernelspec": {
   "display_name": "Python 3 (ipykernel)",
   "language": "python",
   "name": "python3"
  },
  "language_info": {
   "codemirror_mode": {
    "name": "ipython",
    "version": 3
   },
   "file_extension": ".py",
   "mimetype": "text/x-python",
   "name": "python",
   "nbconvert_exporter": "python",
   "pygments_lexer": "ipython3",
   "version": "3.8.11"
  }
 },
 "nbformat": 4,
 "nbformat_minor": 5
}
