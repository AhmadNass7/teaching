{
 "cells": [
  {
   "cell_type": "markdown",
   "id": "korean-wednesday",
   "metadata": {},
   "source": [
    "# Active Learning\n",
    "Load the `mnist` dataset. Split it into training and test sets. Choose a default classification model. Comapre the following tuple sampling strategies for different labeling budgets $ B $:\n",
    "- Random sampling of $ B $ tuples from the training set. \n",
    "- Sampling $ B $ tuples from the training set based on an active learning strategy, such as uncertainty sampling.\n",
    "- Clustering data points of the training set into $ B $ cluster to sample the centroid of these $ B $ cluster. \n",
    "\n",
    "For different labeling budgets $ B $, you should:\n",
    "- Repeat the followings 5 times:\n",
    "    - Run the above sampling strategies to sample 3 different sets of tuples for labeling.\n",
    "    - Label the sampled tuples.\n",
    "    - Train 3 models on these 3 sets of sampled tuples separately. \n",
    "    - Test the models on the test set and store the results.\n",
    "- Calculate the accuracy mean and standard deviation of the models for each labeling budget $ B $\n",
    "\n",
    "Finally, draw a line chart to show how the accuracy of the models increases with more labeled tuples, when using different tuple sampling strategies."
   ]
  },
  {
   "cell_type": "code",
   "execution_count": null,
   "id": "manual-female",
   "metadata": {},
   "outputs": [],
   "source": []
  }
 ],
 "metadata": {
  "kernelspec": {
   "display_name": "Python 3",
   "language": "python",
   "name": "python3"
  },
  "language_info": {
   "codemirror_mode": {
    "name": "ipython",
    "version": 3
   },
   "file_extension": ".py",
   "mimetype": "text/x-python",
   "name": "python",
   "nbconvert_exporter": "python",
   "pygments_lexer": "ipython3",
   "version": "3.8.5"
  }
 },
 "nbformat": 4,
 "nbformat_minor": 5
}
