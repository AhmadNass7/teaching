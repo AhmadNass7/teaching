{
  "cells": [
    {
      "cell_type": "markdown",
      "metadata": {
        "id": "view-in-github",
        "colab_type": "text"
      },
      "source": [
        "<a href=\"https://colab.research.google.com/github/AhmadNass7/teaching/blob/main/naive_bayes.ipynb\" target=\"_parent\"><img src=\"https://colab.research.google.com/assets/colab-badge.svg\" alt=\"Open In Colab\"/></a>"
      ]
    },
    {
      "cell_type": "markdown",
      "id": "korean-wednesday",
      "metadata": {
        "id": "korean-wednesday"
      },
      "source": [
        "# Naive Bayes\n",
        "You should build a machine learning pipeline using a naive bayes model. In particular, you should do the following:\n",
        "- Load the `mnist` dataset using [Pandas](https://pandas.pydata.org/docs/reference/api/pandas.read_csv.html). You can find this dataset in the datasets folder.\n",
        "- Split the dataset into training and test sets using [Scikit-Learn](https://scikit-learn.org/stable/modules/generated/sklearn.model_selection.train_test_split.html). \n",
        "- Train and test a naive bayes model using [Scikit-Learn](https://scikit-learn.org/stable/modules/generated/sklearn.naive_bayes.GaussianNB.html).\n",
        "- Check the documentation to identify the most important hyperparameters, attributes, and methods of the model. Use them in practice."
      ]
    },
    {
      "cell_type": "code",
      "execution_count": null,
      "id": "infrared-copper",
      "metadata": {
        "id": "infrared-copper"
      },
      "outputs": [],
      "source": []
    },
    {
      "cell_type": "markdown",
      "source": [
        "## Importing Libraries"
      ],
      "metadata": {
        "id": "noT1PY7wWLru"
      },
      "id": "noT1PY7wWLru"
    },
    {
      "cell_type": "code",
      "source": [
        "import pandas as pd \n",
        "import sklearn.model_selection\n",
        "import sklearn.naive_bayes\n",
        "import sklearn.metrics"
      ],
      "metadata": {
        "id": "l7paotVJWTxt"
      },
      "id": "l7paotVJWTxt",
      "execution_count": 20,
      "outputs": []
    },
    {
      "cell_type": "markdown",
      "source": [
        "# Loading the Data sets"
      ],
      "metadata": {
        "id": "IDaWBMYLWLz5"
      },
      "id": "IDaWBMYLWLz5"
    },
    {
      "cell_type": "code",
      "source": [
        "df=pd.read_csv(\"mnist.csv\")\n",
        "df.head()\n",
        "df=df.set_index(\"id\")"
      ],
      "metadata": {
        "id": "xi1EBU91Wa28"
      },
      "id": "xi1EBU91Wa28",
      "execution_count": 8,
      "outputs": []
    },
    {
      "cell_type": "markdown",
      "source": [
        "## Splitting Data Sets intro Training and Testing "
      ],
      "metadata": {
        "id": "A3ZSDp3uWL2h"
      },
      "id": "A3ZSDp3uWL2h"
    },
    {
      "cell_type": "code",
      "source": [
        "x=df.drop([\"class\"] , axis=1)\n",
        "y=df[\"class\"]\n",
        "x_train,x_test,y_train, y_test= sklearn.model_selection.train_test_split(x,y)\n",
        "print(\"df.\",df.shape)\n",
        "print(\"x_train:\",x_train.shape)\n",
        "print(\"x_test:\",x_test.shape)\n",
        "print(\"y_train:\",y_train.shape)\n",
        "print(\"y_test:\",y_train.shape)\n",
        "\n"
      ],
      "metadata": {
        "colab": {
          "base_uri": "https://localhost:8080/"
        },
        "id": "cD-VBjjeWgnz",
        "outputId": "ae0cce2b-ae68-4793-d8c6-e387ebeb292c"
      },
      "id": "cD-VBjjeWgnz",
      "execution_count": 13,
      "outputs": [
        {
          "output_type": "stream",
          "name": "stdout",
          "text": [
            "df. (4000, 785)\n",
            "x_train: (3000, 784)\n",
            "x_test: (1000, 784)\n",
            "y_train: (3000,)\n",
            "y_test: (3000,)\n"
          ]
        }
      ]
    },
    {
      "cell_type": "markdown",
      "source": [
        "## Training the Data sets "
      ],
      "metadata": {
        "id": "1yZwAS2nWL43"
      },
      "id": "1yZwAS2nWL43"
    },
    {
      "cell_type": "code",
      "source": [
        "model = sklearn.naive_bayes.GaussianNB()\n",
        "model.fit(x_train,y_train)"
      ],
      "metadata": {
        "colab": {
          "base_uri": "https://localhost:8080/"
        },
        "id": "W6-0iEQoWjR4",
        "outputId": "b0869a60-4ff2-4d06-a056-d5380d821bbe"
      },
      "id": "W6-0iEQoWjR4",
      "execution_count": 14,
      "outputs": [
        {
          "output_type": "execute_result",
          "data": {
            "text/plain": [
              "GaussianNB()"
            ]
          },
          "metadata": {},
          "execution_count": 14
        }
      ]
    },
    {
      "cell_type": "markdown",
      "source": [
        "## Testing the Data Sets"
      ],
      "metadata": {
        "id": "dQ9AF8NkWL6s"
      },
      "id": "dQ9AF8NkWL6s"
    },
    {
      "cell_type": "code",
      "source": [
        "y_predicted = model.predict(x_test)\n",
        "y_predicted "
      ],
      "metadata": {
        "colab": {
          "base_uri": "https://localhost:8080/"
        },
        "id": "OPargVOOWlsK",
        "outputId": "bd6b5e1d-9c50-4306-b22a-b7a3f74fcb9e"
      },
      "id": "OPargVOOWlsK",
      "execution_count": 15,
      "outputs": [
        {
          "output_type": "execute_result",
          "data": {
            "text/plain": [
              "array([8, 9, 9, 9, 0, 9, 9, 8, 9, 0, 7, 0, 9, 6, 8, 9, 6, 1, 0, 6, 8, 7,\n",
              "       0, 8, 9, 9, 1, 8, 8, 4, 4, 9, 8, 0, 6, 9, 1, 2, 9, 0, 9, 3, 6, 6,\n",
              "       7, 9, 6, 6, 7, 6, 1, 9, 0, 0, 8, 6, 1, 6, 8, 8, 9, 2, 5, 3, 3, 2,\n",
              "       8, 6, 6, 6, 4, 1, 2, 1, 7, 9, 8, 8, 9, 7, 8, 2, 1, 1, 6, 8, 1, 8,\n",
              "       6, 8, 0, 8, 4, 8, 8, 0, 7, 9, 3, 1, 4, 0, 8, 6, 6, 6, 7, 1, 2, 1,\n",
              "       1, 8, 6, 6, 6, 8, 7, 1, 7, 7, 2, 5, 0, 1, 1, 0, 8, 1, 2, 1, 9, 1,\n",
              "       1, 0, 6, 2, 8, 0, 1, 2, 6, 8, 6, 0, 0, 0, 7, 1, 6, 0, 1, 2, 8, 7,\n",
              "       8, 8, 1, 0, 1, 4, 0, 1, 3, 1, 1, 8, 3, 1, 4, 7, 7, 2, 8, 4, 6, 1,\n",
              "       1, 9, 4, 0, 6, 8, 1, 9, 0, 3, 7, 6, 3, 9, 1, 8, 7, 1, 4, 8, 1, 3,\n",
              "       1, 9, 8, 4, 8, 7, 8, 2, 9, 8, 9, 1, 6, 8, 9, 1, 1, 9, 6, 0, 4, 6,\n",
              "       1, 9, 0, 2, 6, 9, 6, 6, 7, 0, 8, 8, 8, 1, 7, 2, 7, 0, 7, 8, 9, 1,\n",
              "       3, 7, 8, 0, 9, 3, 0, 7, 0, 8, 8, 7, 3, 6, 9, 1, 0, 2, 8, 0, 0, 9,\n",
              "       1, 1, 8, 0, 9, 3, 8, 7, 6, 9, 9, 1, 6, 3, 1, 0, 1, 6, 1, 7, 6, 5,\n",
              "       6, 9, 4, 6, 2, 9, 0, 6, 4, 9, 2, 7, 1, 4, 8, 8, 1, 8, 6, 9, 7, 8,\n",
              "       7, 3, 7, 0, 1, 6, 8, 1, 0, 9, 9, 0, 6, 4, 1, 9, 6, 2, 7, 9, 1, 0,\n",
              "       3, 1, 1, 1, 2, 6, 0, 0, 6, 6, 0, 8, 0, 1, 1, 0, 1, 4, 8, 0, 7, 0,\n",
              "       1, 4, 8, 6, 8, 7, 2, 2, 1, 6, 0, 6, 7, 1, 2, 1, 8, 9, 7, 6, 6, 1,\n",
              "       6, 1, 7, 2, 1, 3, 4, 0, 0, 5, 7, 1, 1, 9, 6, 0, 1, 9, 8, 9, 3, 0,\n",
              "       7, 7, 6, 7, 1, 1, 1, 1, 1, 3, 3, 0, 8, 9, 1, 1, 3, 3, 7, 2, 1, 4,\n",
              "       9, 1, 8, 4, 6, 8, 0, 8, 1, 6, 3, 6, 1, 0, 8, 3, 2, 6, 0, 1, 1, 8,\n",
              "       1, 0, 6, 0, 8, 4, 6, 8, 7, 1, 1, 6, 0, 0, 7, 1, 9, 7, 1, 1, 7, 1,\n",
              "       7, 7, 1, 0, 0, 9, 3, 7, 3, 1, 9, 1, 1, 9, 5, 9, 9, 1, 9, 6, 3, 1,\n",
              "       7, 9, 8, 9, 1, 7, 3, 1, 6, 9, 7, 3, 9, 4, 8, 1, 1, 9, 3, 3, 6, 0,\n",
              "       8, 5, 5, 3, 2, 3, 7, 8, 1, 1, 1, 9, 9, 8, 6, 8, 6, 1, 8, 5, 1, 8,\n",
              "       1, 1, 7, 1, 1, 1, 6, 8, 8, 3, 9, 6, 9, 5, 8, 3, 8, 6, 1, 6, 1, 7,\n",
              "       1, 8, 8, 0, 1, 3, 0, 1, 0, 3, 6, 0, 0, 8, 1, 1, 8, 1, 9, 6, 8, 9,\n",
              "       8, 8, 6, 4, 6, 0, 8, 7, 8, 2, 0, 2, 1, 3, 9, 2, 8, 1, 0, 8, 6, 0,\n",
              "       1, 7, 6, 5, 7, 7, 8, 3, 0, 1, 8, 9, 6, 8, 0, 1, 8, 1, 0, 6, 9, 9,\n",
              "       1, 3, 7, 6, 1, 3, 6, 3, 3, 6, 7, 8, 6, 1, 7, 8, 7, 9, 0, 1, 0, 9,\n",
              "       7, 6, 3, 4, 7, 8, 7, 0, 9, 6, 8, 0, 8, 0, 6, 7, 1, 8, 8, 8, 9, 7,\n",
              "       9, 1, 0, 6, 0, 6, 5, 7, 0, 0, 9, 1, 4, 0, 0, 7, 3, 1, 8, 3, 0, 1,\n",
              "       8, 8, 0, 6, 3, 0, 1, 1, 7, 9, 9, 1, 6, 4, 3, 9, 2, 0, 7, 6, 1, 9,\n",
              "       2, 5, 7, 9, 6, 9, 9, 6, 5, 1, 8, 7, 9, 4, 6, 7, 2, 7, 8, 9, 7, 0,\n",
              "       6, 2, 7, 8, 8, 2, 8, 3, 1, 0, 0, 3, 8, 8, 9, 9, 2, 9, 7, 9, 7, 6,\n",
              "       6, 3, 6, 6, 9, 9, 6, 6, 2, 0, 8, 2, 1, 1, 6, 1, 9, 7, 8, 1, 9, 6,\n",
              "       7, 6, 8, 1, 1, 1, 8, 8, 0, 8, 0, 3, 2, 8, 8, 0, 7, 6, 4, 3, 9, 8,\n",
              "       9, 8, 8, 9, 1, 0, 0, 8, 1, 6, 9, 2, 9, 3, 9, 9, 2, 1, 0, 6, 9, 6,\n",
              "       3, 1, 3, 4, 3, 8, 6, 8, 7, 1, 9, 2, 7, 6, 6, 1, 8, 7, 8, 1, 5, 7,\n",
              "       9, 3, 8, 8, 8, 7, 1, 7, 1, 0, 8, 1, 3, 6, 6, 6, 1, 8, 9, 7, 8, 0,\n",
              "       1, 9, 9, 1, 2, 7, 9, 8, 7, 8, 1, 7, 8, 1, 1, 1, 8, 1, 8, 2, 1, 6,\n",
              "       8, 6, 0, 9, 2, 6, 1, 3, 8, 0, 1, 6, 0, 1, 6, 6, 1, 3, 1, 7, 2, 6,\n",
              "       1, 6, 8, 6, 6, 1, 3, 0, 1, 9, 7, 2, 9, 1, 8, 1, 1, 1, 7, 8, 4, 9,\n",
              "       5, 9, 0, 2, 3, 1, 6, 0, 6, 7, 0, 1, 7, 6, 1, 1, 4, 6, 4, 9, 8, 8,\n",
              "       6, 1, 6, 7, 3, 9, 6, 0, 8, 1, 3, 9, 4, 9, 4, 1, 8, 6, 6, 0, 9, 1,\n",
              "       9, 0, 7, 9, 3, 7, 0, 6, 9, 9, 9, 9, 1, 9, 4, 1, 1, 7, 1, 7, 1, 0,\n",
              "       0, 9, 9, 6, 9, 0, 6, 4, 6, 1])"
            ]
          },
          "metadata": {},
          "execution_count": 15
        }
      ]
    },
    {
      "cell_type": "code",
      "source": [
        "\n",
        "accuracy_score(y_test, y_predicted) \n"
      ],
      "metadata": {
        "colab": {
          "base_uri": "https://localhost:8080/"
        },
        "id": "Hx418L_YaGIy",
        "outputId": "721d907c-daac-41fc-fd0b-92cf0ac16173"
      },
      "id": "Hx418L_YaGIy",
      "execution_count": 22,
      "outputs": [
        {
          "output_type": "execute_result",
          "data": {
            "text/plain": [
              "0.633"
            ]
          },
          "metadata": {},
          "execution_count": 22
        }
      ]
    }
  ],
  "metadata": {
    "kernelspec": {
      "display_name": "Python 3",
      "language": "python",
      "name": "python3"
    },
    "language_info": {
      "codemirror_mode": {
        "name": "ipython",
        "version": 3
      },
      "file_extension": ".py",
      "mimetype": "text/x-python",
      "name": "python",
      "nbconvert_exporter": "python",
      "pygments_lexer": "ipython3",
      "version": "3.8.5"
    },
    "colab": {
      "provenance": [],
      "include_colab_link": true
    }
  },
  "nbformat": 4,
  "nbformat_minor": 5
}