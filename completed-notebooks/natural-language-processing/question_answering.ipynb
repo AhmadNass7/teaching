{
 "cells": [
  {
   "cell_type": "markdown",
   "id": "f053a289",
   "metadata": {},
   "source": [
    "# Question Answering\n",
    "Build a question answering system. In particular, you should do the followings:\n",
    "- Download an annotated question answering dataset, such as [SQuAD](https://rajpurkar.github.io/SQuAD-explorer/).\n",
    "- Load and fine-tune a pre-trained question answering model using a library, such as `Simple Transformers`.\n",
    "- Evaluate your question answering model.\n",
    "- Run it on some example questions and check the answers. "
   ]
  },
  {
   "cell_type": "markdown",
   "id": "6d6acfa8",
   "metadata": {},
   "source": [
    "## Importing Modules"
   ]
  },
  {
   "cell_type": "code",
   "execution_count": 1,
   "id": "b6974e5c",
   "metadata": {},
   "outputs": [
    {
     "name": "stderr",
     "output_type": "stream",
     "text": [
      "2021-12-02 11:06:44.486508: W tensorflow/stream_executor/platform/default/dso_loader.cc:64] Could not load dynamic library 'libcudart.so.11.0'; dlerror: libcudart.so.11.0: cannot open shared object file: No such file or directory\n",
      "2021-12-02 11:06:44.486535: I tensorflow/stream_executor/cuda/cudart_stub.cc:29] Ignore above cudart dlerror if you do not have a GPU set up on your machine.\n"
     ]
    }
   ],
   "source": [
    "import os\n",
    "import json\n",
    "import random\n",
    "import sklearn.model_selection\n",
    "import simpletransformers.question_answering"
   ]
  },
  {
   "cell_type": "markdown",
   "id": "88657a3a",
   "metadata": {},
   "source": [
    "## Downloading an Loading the Dataset\n",
    "We load the SQuAD dataset. As we can see below, each entry of the dataset consists of the followings:\n",
    "- `context`: The paragraph or text from which the question is asked.\n",
    "- `qas`: A list of questions and answers."
   ]
  },
  {
   "cell_type": "code",
   "execution_count": 2,
   "id": "08c785bb",
   "metadata": {},
   "outputs": [
    {
     "data": {
      "text/plain": [
       "{'qas': [{'question': 'What sorts of departments might one see in a major department store?',\n",
       "   'id': '5726494f708984140094c16f',\n",
       "   'answers': [{'text': 'clothing, furniture, home appliances, toys, cosmetics, gardening, toiletries, sporting goods',\n",
       "     'answer_start': 63}],\n",
       "   'is_impossible': False},\n",
       "  {'question': \"Who started influencing department stores in the 1970's? \",\n",
       "   'id': '5726494f708984140094c170',\n",
       "   'answers': [{'text': 'discounters', 'answer_start': 608}],\n",
       "   'is_impossible': False},\n",
       "  {'question': 'What has begun pressuring department stores in more recent years?',\n",
       "   'id': '5726494f708984140094c171',\n",
       "   'answers': [{'text': 'online stores such as Amazon.', 'answer_start': 681}],\n",
       "   'is_impossible': False},\n",
       "  {'question': 'Other than at the check-out lanes at the front of a store, where may customers check out?',\n",
       "   'id': '5726494f708984140094c172',\n",
       "   'answers': [{'text': 'at sales counters within each department.',\n",
       "     'answer_start': 425}],\n",
       "   'is_impossible': False},\n",
       "  {'plausible_answers': [{'text': 'clothing, furniture, home appliances, toys, cosmetics, gardening, toiletries, sporting goods',\n",
       "     'answer_start': 63}],\n",
       "   'question': 'What sorts of departments might one see in a minor department store?',\n",
       "   'id': '5ad09d41645df0001a2cff58',\n",
       "   'answers': [],\n",
       "   'is_impossible': True},\n",
       "  {'plausible_answers': [{'text': 'discounters', 'answer_start': 608}],\n",
       "   'question': \"Who started influencing department stores in the 1990's?\",\n",
       "   'id': '5ad09d41645df0001a2cff59',\n",
       "   'answers': [],\n",
       "   'is_impossible': True},\n",
       "  {'plausible_answers': [{'text': 'discounters', 'answer_start': 608}],\n",
       "   'question': \"Who stopped influencing department stores in the 1970's?\",\n",
       "   'id': '5ad09d41645df0001a2cff5a',\n",
       "   'answers': [],\n",
       "   'is_impossible': True},\n",
       "  {'plausible_answers': [{'text': 'online stores such as Amazon',\n",
       "     'answer_start': 681}],\n",
       "   'question': 'What has stopped pressuring department stores in more recent years?',\n",
       "   'id': '5ad09d41645df0001a2cff5b',\n",
       "   'answers': [],\n",
       "   'is_impossible': True},\n",
       "  {'plausible_answers': [{'text': 'at sales counters within each department',\n",
       "     'answer_start': 425}],\n",
       "   'question': \"Other than at the check-out lanes at the front of a store, where can't customers check out?\",\n",
       "   'id': '5ad09d41645df0001a2cff5c',\n",
       "   'answers': [],\n",
       "   'is_impossible': True}],\n",
       " 'context': 'Department stores today have sections that sell the following: clothing, furniture, home appliances, toys, cosmetics, gardening, toiletries, sporting goods, do it yourself, paint, and hardware and additionally select other lines of products such as food, books, jewelry, electronics, stationery, photographic equipment, baby products, and products for pets. Customers check out near the front of the store or, alternatively, at sales counters within each department. Some are part of a retail chain of many stores, while others may be independent retailers. In the 1970s, they came under heavy pressure from discounters. Since 2010, they have come under even heavier pressure from online stores such as Amazon.'}"
      ]
     },
     "execution_count": 2,
     "metadata": {},
     "output_type": "execute_result"
    }
   ],
   "source": [
    "# !wget -O train-v2.0.json https://rajpurkar.github.io/SQuAD-explorer/dataset/train-v2.0.json\n",
    "data = json.load(open(\"train-v2.0.json\", \"r\"))\n",
    "data = [item for topic in data[\"data\"] for item in topic[\"paragraphs\"]]\n",
    "data = random.sample(data, 100)\n",
    "train_data, validation_data = sklearn.model_selection.train_test_split(data)\n",
    "data[0]"
   ]
  },
  {
   "cell_type": "markdown",
   "id": "e351efaf",
   "metadata": {},
   "source": [
    "## Fine-Tuning the Pre-Trained Model"
   ]
  },
  {
   "cell_type": "code",
   "execution_count": 3,
   "id": "5db61ed7",
   "metadata": {},
   "outputs": [
    {
     "name": "stderr",
     "output_type": "stream",
     "text": [
      "Some weights of the model checkpoint at roberta-base were not used when initializing RobertaForQuestionAnswering: ['lm_head.bias', 'lm_head.dense.weight', 'lm_head.dense.bias', 'lm_head.layer_norm.weight', 'lm_head.layer_norm.bias', 'lm_head.decoder.weight']\n",
      "- This IS expected if you are initializing RobertaForQuestionAnswering from the checkpoint of a model trained on another task or with another architecture (e.g. initializing a BertForSequenceClassification model from a BertForPreTraining model).\n",
      "- This IS NOT expected if you are initializing RobertaForQuestionAnswering from the checkpoint of a model that you expect to be exactly identical (initializing a BertForSequenceClassification model from a BertForSequenceClassification model).\n",
      "Some weights of RobertaForQuestionAnswering were not initialized from the model checkpoint at roberta-base and are newly initialized: ['qa_outputs.bias', 'qa_outputs.weight']\n",
      "You should probably TRAIN this model on a down-stream task to be able to use it for predictions and inference.\n",
      "convert squad examples to features: 100%|████████████████████████████████████████████████████████████████████████████████| 532/532 [00:02<00:00, 200.47it/s]\n",
      "add example index and unique id: 100%|████████████████████████████████████████████████████████████████████████████████| 532/532 [00:00<00:00, 769437.84it/s]\n"
     ]
    },
    {
     "data": {
      "application/vnd.jupyter.widget-view+json": {
       "model_id": "680f8a6635784c4980321b417933e168",
       "version_major": 2,
       "version_minor": 0
      },
      "text/plain": [
       "Epoch:   0%|          | 0/1 [00:00<?, ?it/s]"
      ]
     },
     "metadata": {},
     "output_type": "display_data"
    },
    {
     "data": {
      "application/vnd.jupyter.widget-view+json": {
       "model_id": "b05738de257e4a4dadb1553c37b075ff",
       "version_major": 2,
       "version_minor": 0
      },
      "text/plain": [
       "Running Epoch 0 of 1:   0%|          | 0/266 [00:00<?, ?it/s]"
      ]
     },
     "metadata": {},
     "output_type": "display_data"
    },
    {
     "data": {
      "text/plain": [
       "(33, 4.573533609509468)"
      ]
     },
     "execution_count": 3,
     "metadata": {},
     "output_type": "execute_result"
    }
   ],
   "source": [
    "train_args = {\n",
    "    \"learning_ratevalidation_data\": 5,\n",
    "    \"num_train_epochs\": 1,\n",
    "    \"max_seq_length\": 384,\n",
    "    \"doc_stride\": 128,\n",
    "    \"overwrite_output_dir\": True,\n",
    "    \"reprocess_input_data\": False,\n",
    "    \"train_batch_size\": 2,\n",
    "    \"n_best_size\": 5,\n",
    "    \"gradient_accumulation_steps\": 8,   \n",
    "    \"save_model_every_epoch\": False, \n",
    "    \"early_stopping_consider_epochs\": True,\n",
    "    \"use_early_stopping\": True,   \n",
    "}\n",
    "model = simpletransformers.question_answering.QuestionAnsweringModel(\"roberta\", \"roberta-base\", args=train_args, use_cuda=False)\n",
    "model.train_model(train_data)"
   ]
  },
  {
   "cell_type": "markdown",
   "id": "e5ee7d63",
   "metadata": {},
   "source": [
    "## Evaluating the Fine-Tuned Model\n",
    "We can now evaluate the trained model on a validation set. The following metrics will be calculated by default:\n",
    "- `correct`: Number of predicted answers matching the true answer exactly.\n",
    "- `similar`: Number of predicted answers that are a substring of the true answer or vice versa.\n",
    "- `incorrect`: Number of predicted answers that does not meet the criteria for correct or similar.\n",
    "- `eval_loss`: Cross Entropy Loss for eval_data."
   ]
  },
  {
   "cell_type": "code",
   "execution_count": 4,
   "id": "81239fe0",
   "metadata": {},
   "outputs": [
    {
     "name": "stderr",
     "output_type": "stream",
     "text": [
      "convert squad examples to features: 100%|████████████████████████████████████████████████████████████████████████████████| 184/184 [00:01<00:00, 174.17it/s]\n",
      "add example index and unique id: 100%|████████████████████████████████████████████████████████████████████████████████| 184/184 [00:00<00:00, 464351.35it/s]\n"
     ]
    },
    {
     "data": {
      "application/vnd.jupyter.widget-view+json": {
       "model_id": "d67065b4a3884f11bafe0b92aa51bf57",
       "version_major": 2,
       "version_minor": 0
      },
      "text/plain": [
       "Running Evaluation:   0%|          | 0/23 [00:00<?, ?it/s]"
      ]
     },
     "metadata": {},
     "output_type": "display_data"
    },
    {
     "data": {
      "text/plain": [
       "{'correct': 75,\n",
       " 'similar': 109,\n",
       " 'incorrect': 0,\n",
       " 'eval_loss': -3.8359746725662895}"
      ]
     },
     "execution_count": 4,
     "metadata": {},
     "output_type": "execute_result"
    }
   ],
   "source": [
    "result, texts = model.eval_model(validation_data)\n",
    "result"
   ]
  },
  {
   "cell_type": "markdown",
   "id": "7e2dbc62",
   "metadata": {},
   "source": [
    "## Predicting Answers of Questions"
   ]
  },
  {
   "cell_type": "code",
   "execution_count": 9,
   "id": "decf2a6d",
   "metadata": {},
   "outputs": [
    {
     "name": "stderr",
     "output_type": "stream",
     "text": [
      "convert squad examples to features: 100%|█████████████████████████████████████████████████████████████████████████████████████| 1/1 [00:00<00:00, 52.08it/s]\n",
      "add example index and unique id: 100%|█████████████████████████████████████████████████████████████████████████████████████| 1/1 [00:00<00:00, 15477.14it/s]\n"
     ]
    },
    {
     "data": {
      "application/vnd.jupyter.widget-view+json": {
       "model_id": "9898eda0bda546cbaee125d2df19ca35",
       "version_major": 2,
       "version_minor": 0
      },
      "text/plain": [
       "Running Prediction:   0%|          | 0/1 [00:00<?, ?it/s]"
      ]
     },
     "metadata": {},
     "output_type": "display_data"
    },
    {
     "data": {
      "text/plain": [
       "[{'id': '0', 'answer': ['empty']}]"
      ]
     },
     "execution_count": 9,
     "metadata": {},
     "output_type": "execute_result"
    }
   ],
   "source": [
    "new_questions = [\n",
    "    {\n",
    "        \"context\": \"\"\"With French, Belgian and Portuguese activity in the lower Congo River region undermining orderly incursion of tropical Africa, the Berlin Conference of 1884–85 was held to regulate the competition between the European powers in what was called the \"Scramble for Africa\" by defining \"effective occupation\" as the criterion for international recognition of territorial claims. The scramble continued into the 1890s, and caused Britain to reconsider its decision in 1885 to withdraw from Sudan. A joint force of British and Egyptian troops defeated the Mahdist Army in 1896, and rebuffed a French attempted invasion at Fashoda in 1898. Sudan was nominally made an Anglo-Egyptian Condominium, but a British colony in reality.\"\"\",\n",
    "        \"qas\": [\n",
    "            {\n",
    "                \"question\": \"Where did France try to invade in 1898?\",\n",
    "                \"id\": \"0\",\n",
    "            }\n",
    "        ],\n",
    "    }\n",
    "]\n",
    "\n",
    "predictions, raw_outputs = model.predict(new_questions, n_best_size=1)\n",
    "predictions"
   ]
  },
  {
   "cell_type": "code",
   "execution_count": null,
   "id": "f0864707",
   "metadata": {},
   "outputs": [],
   "source": []
  }
 ],
 "metadata": {
  "kernelspec": {
   "display_name": "Python 3 (ipykernel)",
   "language": "python",
   "name": "python3"
  },
  "language_info": {
   "codemirror_mode": {
    "name": "ipython",
    "version": 3
   },
   "file_extension": ".py",
   "mimetype": "text/x-python",
   "name": "python",
   "nbconvert_exporter": "python",
   "pygments_lexer": "ipython3",
   "version": "3.8.12"
  }
 },
 "nbformat": 4,
 "nbformat_minor": 5
}
