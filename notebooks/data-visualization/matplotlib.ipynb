{
 "cells": [
  {
   "cell_type": "markdown",
   "id": "occupational-dairy",
   "metadata": {},
   "source": [
    "# Matplotlib\n",
    "   - Content taken from *Jake VanderPlas. Python data science handbook: Essential tools for working with data. O'Reilly Media, 2016.*   \n",
    "   \n",
    "Matplotlib is a multiplatform data visualization library built on NumPy arrays, and designed to work with the broader SciPy stack. Matplotlib package was born, with version 0.1 released in 2003. One of Matplotlib’s most important features is its ability to play well with many operating systems and graphics backends. In recent years, however, the interface and style of Matplotlib have begun to show their age. Nevertheless, we cannot ignore Matplotlib’s strength as a well-tested, cross-platform graphics engine."
   ]
  },
  {
   "cell_type": "markdown",
   "id": "desperate-reducing",
   "metadata": {},
   "source": [
    "## General Matplotlib Tips\n",
    "### Importing\n",
    "Let us import Matplotlib and use some standard shorthands for it."
   ]
  },
  {
   "cell_type": "code",
   "execution_count": null,
   "id": "technological-florist",
   "metadata": {},
   "outputs": [],
   "source": [
    "import numpy as np\n",
    "import matplotlib as mpl\n",
    "import matplotlib.pyplot as plt"
   ]
  },
  {
   "cell_type": "markdown",
   "id": "municipal-ability",
   "metadata": {},
   "source": [
    "### Setting Styles\n",
    "We will use the `plt.style` directive to choose appropriate aesthetic styles for our figures."
   ]
  },
  {
   "cell_type": "code",
   "execution_count": null,
   "id": "plastic-company",
   "metadata": {},
   "outputs": [],
   "source": [
    "plt.style.use('seaborn-whitegrid')"
   ]
  },
  {
   "cell_type": "markdown",
   "id": "placed-resource",
   "metadata": {},
   "source": [
    "#### Customizing Matplotlib: Configurations and Stylesheets\n",
    "Matplotlib’s default plot settings are often the subject of complaint among its users. While much is slated to change in the 2.0 Matplotlib release, the ability to customize default settings helps bring the package in line with your own aesthetic preferences.   \n",
    "\n",
    "The version 1.4 release of Matplotlib in August 2014 added a very convenient style module, which includes a number of new default stylesheets, as well as the ability to create and package your own styles. Even if you don’t create your own style, the stylesheets included by default are extremely useful. The available styles are listed in `plt.style.available`. The basic way to switch to a stylesheet is to call `plt.style.use`. But keep in mind that this will change the style for the rest of the session. Let’s create a function that will make two basic types of plot and test different styles."
   ]
  },
  {
   "cell_type": "code",
   "execution_count": null,
   "id": "curious-wages",
   "metadata": {},
   "outputs": [],
   "source": [
    "def hist_and_lines():\n",
    "    np.random.seed(0)\n",
    "    fig, ax = plt.subplots(1, 2, figsize=(11, 4))\n",
    "    ax[0].hist(np.random.randn(1000))\n",
    "    for i in range(3):\n",
    "        ax[1].plot(np.random.rand(10))\n",
    "        ax[1].legend(['a', 'b', 'c'], loc='lower left')\n",
    "\n",
    "print(plt.style.available[:5])\n",
    "plt.style.use('ggplot')\n",
    "hist_and_lines()"
   ]
  },
  {
   "cell_type": "markdown",
   "id": "electrical-display",
   "metadata": {},
   "source": [
    "### show() or No show()? How to Display Your Plots\n",
    "The best use of Matplotlib differs depending on how you are using it. The three applicable contexts are using Matplotlib in a\n",
    "script, in an IPython terminal, or in an IPython notebook.   \n",
    "- **Plotting from a script.** If you are using Matplotlib from within a script, the function `plt.show()` is your\n",
    "friend. `plt.show()` starts an event loop, looks for all currently active figure objects, and opens one or more interactive windows that display your figure or figures. One thing to be aware of: the `plt.show()` command should be used only once per\n",
    "Python session, and is most often seen at the very end of the script. Multiple `show()` commands can lead to unpredictable backend-dependent behavior, and should mostly be avoided.   \n",
    "- **Plotting from an IPython shell.** IPython is built to work well with Matplotlib if you specify Matplotlib mode. To enable this mode, you can use the `%matplotlib` magic command after starting ipython. At this point, any plt plot command will cause a figure window to open, and further commands can be run to update the plot. Some changes (such as modifying properties of lines that are already drawn) will not draw automatically; to force an update, use `plt.draw()`. Using `plt.show()` in Matplotlib mode is not required.   \n",
    "- **Plotting from an IPython notebook.** The IPython notebook is a browser-based interactive data analysis tool that can combine narrative, code, graphics, HTML elements, and much more into a single executable document. Plotting interactively within an IPython notebook can be done with the `%matplotlib` command, and works in a similar way to the IPython shell. In the IPython notebook, you also have the option of embedding graphics directly in the notebook, with two possible options.\n",
    "    - `%matplotlib notebook` will lead to interactive plots embedded within the notebook.\n",
    "    - `%matplotlib inline` will lead to static images of your plot embedded in the notebook.\n",
    "\n",
    "\n",
    "Therefore, we use the `%matplotlib inline` for here. After you run this command (it needs to be done only once per kernel/session), any cell within the notebook that creates a plot will embed a PNG image of the resulting graphic."
   ]
  },
  {
   "cell_type": "code",
   "execution_count": null,
   "id": "colonial-perry",
   "metadata": {},
   "outputs": [],
   "source": [
    "%matplotlib inline"
   ]
  },
  {
   "cell_type": "markdown",
   "id": "radical-soviet",
   "metadata": {},
   "source": [
    "### Drawing and Saving a Figure\n",
    "Run the following cell to draw and save the first figure. One nice feature of Matplotlib is the ability to save figures in a wide variety of formats. You can save a figure using the `savefig()` command."
   ]
  },
  {
   "cell_type": "code",
   "execution_count": null,
   "id": "alien-platform",
   "metadata": {},
   "outputs": [],
   "source": [
    "x = np.linspace(0, 10, 100)\n",
    "\n",
    "fig = plt.figure()\n",
    "plt.plot(x, np.sin(x), '-')\n",
    "plt.plot(x, np.cos(x), '--')\n",
    "\n",
    "fig.savefig('my_figure.png')"
   ]
  },
  {
   "cell_type": "markdown",
   "id": "gross-cradle",
   "metadata": {},
   "source": [
    "### Two Interfaces: MATLAB-Style and Object-Oriented\n",
    "A potentially confusing feature of Matplotlib is its dual interfaces: a convenient MATLAB-style state-based interface, and a more powerful object-oriented interface.    \n",
    "\n",
    "**MATLAB-style interface.** Matplotlib was originally written as a Python alternative for MATLAB users, and much of its syntax reflects that fact. The MATLAB-style tools are contained in the pyplot (plt) interface. It’s important to note that this interface is stateful: it keeps track of the “current” figure and axes, which are where all plt commands are applied. You can get a reference to these using the `plt.gcf()` (get current figure) and `plt.gca()` (get current axes) routines. While this stateful interface is fast and convenient for simple plots, it is easy to run into problems. For example, once the second panel is created, how can we go back and add something to the first?"
   ]
  },
  {
   "cell_type": "code",
   "execution_count": null,
   "id": "neural-large",
   "metadata": {},
   "outputs": [],
   "source": [
    "# create a plot figure\n",
    "plt.figure()\n",
    " \n",
    "# create the first of two panels and set current axis\n",
    "plt.subplot(2, 1, 1) # (rows, columns, panel number)\n",
    "plt.plot(x, np.sin(x))\n",
    "\n",
    "# create the second panel and set current axis\n",
    "plt.subplot(2, 1, 2)\n",
    "plt.plot(x, np.cos(x));"
   ]
  },
  {
   "cell_type": "markdown",
   "id": "caroline-measure",
   "metadata": {},
   "source": [
    "**Object-oriented interface.** The object-oriented interface is available for these more complicated situations, and for when you want more control over your figure. Rather than depending on some notion of an “active” figure or axes, in the object-oriented interface the plotting functions are methods of explicit Figure and Axes objects."
   ]
  },
  {
   "cell_type": "code",
   "execution_count": null,
   "id": "hundred-extension",
   "metadata": {},
   "outputs": [],
   "source": [
    "# First create a grid of plots\n",
    "# ax will be an array of two Axes objects\n",
    "fig, ax = plt.subplots(2)\n",
    "\n",
    "# Call plot() method on the appropriate object\n",
    "ax[0].plot(x, np.sin(x))\n",
    "ax[1].plot(x, np.cos(x));"
   ]
  },
  {
   "cell_type": "markdown",
   "id": "adjacent-suffering",
   "metadata": {},
   "source": [
    "### Exercise\n",
    "Plot the function $ y = sin(x) * cos(x) $ using both MATLAB-style and object-oriented interfaces. Decorate the plots properly and save them as png files."
   ]
  },
  {
   "cell_type": "code",
   "execution_count": null,
   "id": "approximate-cookie",
   "metadata": {},
   "outputs": [],
   "source": []
  },
  {
   "cell_type": "code",
   "execution_count": null,
   "id": "behavioral-emperor",
   "metadata": {},
   "outputs": [],
   "source": []
  },
  {
   "cell_type": "markdown",
   "id": "sunset-chess",
   "metadata": {},
   "source": [
    "## Simple Line Plots\n",
    "Perhaps the simplest of all plots is the visualization of a single function $ y = f(x) $. For all Matplotlib plots, we start by creating a figure and an axes. In Matplotlib, the figure (an instance of the class `plt.Figure`) can be thought of as a single container that contains all the objects representing axes, graphics, text, and labels. The axes (an instance of the class `plt.Axes`) is what we see below: a bounding box with ticks and labels, which will eventually contain the plot elements that make up our visualization.    \n",
    "Once we have created an axes, we can use the `ax.plot` function to plot some data. If we want to create a single figure with multiple lines, we can simply call the plot function multiple times."
   ]
  },
  {
   "cell_type": "code",
   "execution_count": null,
   "id": "equipped-label",
   "metadata": {},
   "outputs": [],
   "source": [
    "fig = plt.figure()\n",
    "ax = plt.axes()\n",
    "x = np.linspace(0, 10, 1000)\n",
    "ax.plot(x, np.sin(x));"
   ]
  },
  {
   "cell_type": "markdown",
   "id": "widespread-headquarters",
   "metadata": {},
   "source": [
    "### Adjusting the Plot: Line Colors and Styles\n",
    "The first adjustment you might wish to make to a plot is to control the line colors and styles. The `plt.plot()` function takes additional arguments that can be used to specify these."
   ]
  },
  {
   "cell_type": "code",
   "execution_count": null,
   "id": "lesser-nebraska",
   "metadata": {},
   "outputs": [],
   "source": [
    "plt.plot(x, np.sin(x - 0), color='blue') # specify color by name\n",
    "plt.plot(x, np.sin(x - 1), color='g') # short color code (rgbcmyk)\n",
    "plt.plot(x, np.sin(x - 2), color='0.75') # Grayscale between 0 and 1\n",
    "plt.plot(x, np.sin(x - 3), color='#FFDD44') # Hex code (RRGGBB from 00 to FF)\n",
    "plt.plot(x, np.sin(x - 4), color=(1.0,0.2,0.3)) # RGB tuple, values 0 and 1\n",
    "plt.plot(x, np.sin(x - 5), color='chartreuse'); # all HTML color names supported"
   ]
  },
  {
   "cell_type": "markdown",
   "id": "limited-orange",
   "metadata": {},
   "source": [
    "Similarly, you can adjust the line style using the linestyle keyword."
   ]
  },
  {
   "cell_type": "code",
   "execution_count": null,
   "id": "tender-justice",
   "metadata": {},
   "outputs": [],
   "source": [
    "plt.plot(x, x + 0, linestyle='solid')\n",
    "plt.plot(x, x + 1, linestyle='dashed')\n",
    "plt.plot(x, x + 2, linestyle='dashdot')\n",
    "plt.plot(x, x + 3, linestyle='dotted');\n",
    "    \n",
    "# For short, you can use the following codes:\n",
    "plt.plot(x, x + 4, linestyle='-') # solid\n",
    "plt.plot(x, x + 5, linestyle='--') # dashed\n",
    "plt.plot(x, x + 6, linestyle='-.') # dashdot\n",
    "plt.plot(x, x + 7, linestyle=':'); # dotted"
   ]
  },
  {
   "cell_type": "markdown",
   "id": "sized-stand",
   "metadata": {},
   "source": [
    "### Adjusting the Plot: Axes Limits\n",
    "Matplotlib does a decent job of choosing default axes limits for your plot, but sometimes it’s nice to have finer control. The most basic way to adjust axis limits is to use the `plt.xlim()` and `plt.ylim()` methods."
   ]
  },
  {
   "cell_type": "code",
   "execution_count": null,
   "id": "martial-module",
   "metadata": {},
   "outputs": [],
   "source": [
    "plt.plot(x, np.sin(x))\n",
    "plt.xlim(-1, 11)\n",
    "plt.ylim(-1.5, 1.5);"
   ]
  },
  {
   "cell_type": "markdown",
   "id": "affected-japanese",
   "metadata": {},
   "source": [
    "If for some reason you’d like either axis to be displayed in reverse, you can simply reverse the order of the arguments."
   ]
  },
  {
   "cell_type": "code",
   "execution_count": null,
   "id": "visible-intellectual",
   "metadata": {},
   "outputs": [],
   "source": [
    "plt.plot(x, np.sin(x))\n",
    "plt.xlim(10, 0)\n",
    "plt.ylim(1.2, -1.2);"
   ]
  },
  {
   "cell_type": "markdown",
   "id": "honest-gothic",
   "metadata": {},
   "source": [
    "A useful related method is `plt.axis()` (note here the potential confusion between axes with an e, and axis with an i). The `plt.axis()` method allows you to set the x and y limits with a single call, by passing a list that specifies `[xmin, xmax, ymin, ymax]`."
   ]
  },
  {
   "cell_type": "code",
   "execution_count": null,
   "id": "brutal-validity",
   "metadata": {},
   "outputs": [],
   "source": [
    "plt.plot(x, np.sin(x))\n",
    "plt.axis([-1, 11, -1.5, 1.5]);"
   ]
  },
  {
   "cell_type": "markdown",
   "id": "coordinate-sensitivity",
   "metadata": {},
   "source": [
    "The `plt.axis()` method goes even beyond this, allowing you to do things like automatically tighten the bounds around the current plot."
   ]
  },
  {
   "cell_type": "code",
   "execution_count": null,
   "id": "valued-region",
   "metadata": {},
   "outputs": [],
   "source": [
    "plt.plot(x, np.sin(x))\n",
    "plt.axis('tight');"
   ]
  },
  {
   "cell_type": "markdown",
   "id": "stretch-bidder",
   "metadata": {},
   "source": [
    "It allows even higher-level specifications, such as ensuring an equal aspect ratio so that on your screen, one unit in x is equal to one unit in y."
   ]
  },
  {
   "cell_type": "code",
   "execution_count": null,
   "id": "stainless-drama",
   "metadata": {},
   "outputs": [],
   "source": [
    "plt.plot(x, np.sin(x))\n",
    "plt.axis('equal');"
   ]
  },
  {
   "cell_type": "markdown",
   "id": "sunset-municipality",
   "metadata": {},
   "source": [
    "### Labeling Plots\n",
    "Titles and axis labels are the simplest such labels—there are methods that can be used to quickly set them. You can adjust the position, size, and style of these labels using optional arguments to the function."
   ]
  },
  {
   "cell_type": "code",
   "execution_count": null,
   "id": "regulation-sympathy",
   "metadata": {},
   "outputs": [],
   "source": [
    "plt.plot(x, np.sin(x))\n",
    "plt.title(\"A Sine Curve\")\n",
    "plt.xlabel(\"x\")\n",
    "plt.ylabel(\"sin(x)\");"
   ]
  },
  {
   "cell_type": "markdown",
   "id": "endless-working",
   "metadata": {},
   "source": [
    "When multiple lines are being shown within a single axes, it can be useful to create a plot legend that labels each line type. Again, Matplotlib has a built-in way of quickly creating such a legend. It is done via the (you guessed it) `plt.legend()` method. Though there are several valid ways of using this, I find it easiest to specify the label of each line using the label keyword of the plot function."
   ]
  },
  {
   "cell_type": "code",
   "execution_count": null,
   "id": "mineral-journal",
   "metadata": {},
   "outputs": [],
   "source": [
    "plt.plot(x, np.sin(x), '-g', label='sin(x)')\n",
    "plt.plot(x, np.cos(x), ':b', label='cos(x)')\n",
    "plt.axis('equal')\n",
    "plt.legend();"
   ]
  },
  {
   "cell_type": "markdown",
   "id": "dangerous-night",
   "metadata": {},
   "source": [
    "### Transitioning Between the Two Styles\n",
    "While most plt functions translate directly to ax methods (such as `plt.plot()` → `ax.plot()`, `plt.legend()` → `ax.legend()`, etc.), this is not the case for all commands. In particular, functions to set limits, labels, and titles are slightly modified. For transitioning between MATLAB-style functions and object-oriented methods, make the following changes:   \n",
    "- `plt.xlabel()` → `ax.set_xlabel()`\n",
    "- `plt.ylabel()` → `ax.set_ylabel()`\n",
    "- `plt.xlim()` → `ax.set_xlim()`\n",
    "- `plt.ylim()` → `ax.set_ylim()`\n",
    "- `plt.title()` → `ax.set_title()`\n",
    "\n",
    "In the object-oriented interface to plotting, rather than calling these functions individually, it is often more convenient to use the `ax.set()` method to set all these properties at once."
   ]
  },
  {
   "cell_type": "code",
   "execution_count": null,
   "id": "built-renewal",
   "metadata": {},
   "outputs": [],
   "source": [
    "ax = plt.axes()\n",
    "ax.plot(x, np.sin(x))\n",
    "ax.set(xlim=(0, 10), ylim=(-2, 2), xlabel='x', ylabel='sin(x)', title='A Simple Plot');"
   ]
  },
  {
   "cell_type": "markdown",
   "id": "agricultural-kelly",
   "metadata": {},
   "source": [
    "### Exercise\n",
    "Draw three plots in a row. The first one show draw the function $ y = log_2x $. The second one show draw the function $ y = \\sqrt{x} $. The third one should draw both the functions together. Decorate the plots properly."
   ]
  },
  {
   "cell_type": "code",
   "execution_count": null,
   "id": "suffering-offset",
   "metadata": {},
   "outputs": [],
   "source": []
  },
  {
   "cell_type": "markdown",
   "id": "thirty-wyoming",
   "metadata": {},
   "source": [
    "## Simple Scatter Plots\n",
    "Another commonly used plot type is the simple scatter plot, a close cousin of the line plot. Instead of points being joined by line segments, here the points are represented individually with a dot, circle, or other shape.\n",
    "\n",
    "### Scatter Plots with plt.plot\n",
    "We looked at `plt.plot/ax.plot` to produce line plots. It turns out that this same function can produce scatter plots as well. The third argument in the function call is a character that represents the type of symbol used for the plotting. Just as you can specify options such as '-' and '--' to control the line style, the marker style has its own set of short string codes."
   ]
  },
  {
   "cell_type": "code",
   "execution_count": null,
   "id": "significant-diploma",
   "metadata": {},
   "outputs": [],
   "source": [
    "x = np.linspace(0, 10, 30)\n",
    "y = np.sin(x)\n",
    "plt.plot(x, y, 'o', color='black');"
   ]
  },
  {
   "cell_type": "markdown",
   "id": "swiss-version",
   "metadata": {},
   "source": [
    "Most of the possibilities are fairly intuitive, and we’ll show a number of the more common ones here."
   ]
  },
  {
   "cell_type": "code",
   "execution_count": null,
   "id": "environmental-plastic",
   "metadata": {},
   "outputs": [],
   "source": [
    "rng = np.random.RandomState(0)\n",
    "for marker in ['o', '.', ',', 'x', '+', 'v', '^', '<', '>', 's', 'd']:\n",
    "    plt.plot(rng.rand(5), rng.rand(5), marker, label=\"marker='{0}'\".format(marker))\n",
    "\n",
    "plt.legend(numpoints=1)\n",
    "plt.xlim(0, 1.8);"
   ]
  },
  {
   "cell_type": "markdown",
   "id": "imposed-chest",
   "metadata": {},
   "source": [
    "Additional keyword arguments to `plt.plot` specify a wide range of properties of the lines and markers."
   ]
  },
  {
   "cell_type": "code",
   "execution_count": null,
   "id": "bound-contrast",
   "metadata": {},
   "outputs": [],
   "source": [
    "plt.plot(x, y, '-p', color='gray', markersize=15, linewidth=4, \n",
    "         markerfacecolor='white', markeredgecolor='gray', markeredgewidth=2)\n",
    "\n",
    "plt.ylim(-1.2, 1.2);"
   ]
  },
  {
   "cell_type": "markdown",
   "id": "democratic-administration",
   "metadata": {},
   "source": [
    "### Scatter Plots with plt.scatter\n",
    "A second, more powerful method of creating scatter plots is the `plt.scatter` function, which can be used very similarly to the `plt.plot` function. The primary difference of `plt.scatter` from `plt.plot` is that it can be used to create scatter plots where the properties of each individual point (size, face color, edge color, etc.) can be individually controlled or mapped to data."
   ]
  },
  {
   "cell_type": "code",
   "execution_count": null,
   "id": "olympic-community",
   "metadata": {},
   "outputs": [],
   "source": [
    "plt.scatter(x, y, marker='o');"
   ]
  },
  {
   "cell_type": "markdown",
   "id": "arctic-privacy",
   "metadata": {},
   "source": [
    "Let’s show this by creating a random scatter plot with points of many colors and sizes. In order to better see the overlapping results, we’ll also use the `alpha` keyword to adjust the transparency level. Notice that the color argument is automatically mapped to a color scale (shown here by the `colorbar()` command), and the size argument is given in pixels. In this way, the color and size of points can be used to convey information in the visualization, in order to illustrate multidimensional data."
   ]
  },
  {
   "cell_type": "code",
   "execution_count": null,
   "id": "consistent-rochester",
   "metadata": {},
   "outputs": [],
   "source": [
    "rng = np.random.RandomState(0)\n",
    "x = rng.randn(100)\n",
    "y = rng.randn(100)\n",
    "colors = rng.rand(100)\n",
    "sizes = 1000 * rng.rand(100)\n",
    "plt.scatter(x, y, c=colors, s=sizes, alpha=0.3, cmap='viridis') \n",
    "plt.colorbar(); # show color scale"
   ]
  },
  {
   "cell_type": "markdown",
   "id": "moved-decrease",
   "metadata": {},
   "source": [
    "### plot Versus scatter: A Note on Efficiency\n",
    "Aside from the different features available in `plt.plot` and `plt.scatter`, why might you choose to use one over the other? While it doesn’t matter as much for small amounts of data, as datasets get larger than a few thousand points, `plt.plot` can be noticeably more efficient than `plt.scatter`. The reason is that `plt.scatter` has the capability to render a different size and/or color for each point, so the renderer must do the extra work of constructing each point individually. In `plt.plot`, on the other hand, the points are always essentially clones of each other, so the work of determining the appearance of the points is done only once for the entire set of data. For large datasets, the difference between these two can lead to vastly different performance, and for this reason, `plt.plot` should be preferred over `plt.scatter` for large datasets."
   ]
  },
  {
   "cell_type": "markdown",
   "id": "enormous-celebrity",
   "metadata": {},
   "source": [
    "### Exercise\n",
    "The iris dataset consists of 3 different types of irises’ (Setosa, Versicolour, and Virginica) petal and sepal length, stored in a 150x4 numpy.ndarray. The rows being the samples and the columns being Sepal Length, Sepal Width, Petal Length, and Petal Width. First use k-means algrithm to cluster the dataset into 3 clusters. Then, visualize the scatter of data points using the first two features. Use the cluster ID to color the plot. Decorate the plot properly."
   ]
  },
  {
   "cell_type": "code",
   "execution_count": null,
   "id": "packed-acquisition",
   "metadata": {},
   "outputs": [],
   "source": [
    "import sklearn.datasets\n",
    "iris = sklearn.datasets.load_iris().data"
   ]
  },
  {
   "cell_type": "code",
   "execution_count": null,
   "id": "blond-aggregate",
   "metadata": {},
   "outputs": [],
   "source": []
  },
  {
   "cell_type": "markdown",
   "id": "structural-commons",
   "metadata": {},
   "source": [
    "## Visualizing Errors\n",
    "For any scientific measurement, accurate accounting for errors is nearly as important, if not more important, than accurate reporting of the number itself. In visualization of data and results, showing the errors effectively can make a plot convey much more complete information.   \n",
    "A basic errorbar can be created with a single Matplotlib function call. Here the `fmt` is a format code controlling the appearance of lines and points, and has the same syntax as the shorthand used in `plt.plot`."
   ]
  },
  {
   "cell_type": "code",
   "execution_count": null,
   "id": "arranged-hungary",
   "metadata": {},
   "outputs": [],
   "source": [
    "x = np.linspace(0, 10, 50)\n",
    "dy = 0.8\n",
    "y = np.sin(x) + dy * np.random.randn(50)\n",
    "plt.errorbar(x, y, yerr=dy, fmt='.k');"
   ]
  },
  {
   "cell_type": "markdown",
   "id": "proof-clothing",
   "metadata": {},
   "source": [
    "In addition to these basic options, the errorbar function has many options to finetune the outputs. Using these additional options you can easily customize the aesthetics of your errorbar plot. I often find it helpful, especially in crowded plots, to make the errorbars lighter than the points themselves."
   ]
  },
  {
   "cell_type": "code",
   "execution_count": null,
   "id": "traditional-smooth",
   "metadata": {},
   "outputs": [],
   "source": [
    "plt.errorbar(x, y, yerr=dy, fmt='o', color='black', ecolor='lightgray', elinewidth=3, capsize=0);"
   ]
  },
  {
   "cell_type": "markdown",
   "id": "average-account",
   "metadata": {},
   "source": [
    "## Histograms, Binnings, and Density\n",
    "A simple histogram can be a great first step in understanding a dataset. The `hist()` function has many options to tune both the calculation and the display."
   ]
  },
  {
   "cell_type": "code",
   "execution_count": null,
   "id": "arranged-provider",
   "metadata": {},
   "outputs": [],
   "source": [
    "data = np.random.randn(1000)\n",
    "plt.hist(data, bins=30, alpha=0.5, histtype='stepfilled', color='steelblue', edgecolor='none');"
   ]
  },
  {
   "cell_type": "markdown",
   "id": "linear-skating",
   "metadata": {},
   "source": [
    "The combination of `histtype='stepfilled'` along with some transparency alpha to be very useful when comparing histograms of several distributions."
   ]
  },
  {
   "cell_type": "code",
   "execution_count": null,
   "id": "statutory-frost",
   "metadata": {},
   "outputs": [],
   "source": [
    "x1 = np.random.normal(0, 0.8, 1000)\n",
    "x2 = np.random.normal(-2, 1, 1000)\n",
    "x3 = np.random.normal(3, 2, 1000)\n",
    "kwargs = dict(histtype='stepfilled', alpha=0.3, bins=40)\n",
    "plt.hist(x1, **kwargs)\n",
    "plt.hist(x2, **kwargs)\n",
    "plt.hist(x3, **kwargs);"
   ]
  },
  {
   "cell_type": "markdown",
   "id": "iraqi-strengthening",
   "metadata": {},
   "source": [
    "Bar charts can be drawn using the `plt.bar()` function. "
   ]
  },
  {
   "cell_type": "code",
   "execution_count": null,
   "id": "tropical-tampa",
   "metadata": {},
   "outputs": [],
   "source": [
    "plt.bar([0, 1, 2], [5, 10, 7], tick_label=[\"A\", \"B\", \"C\"]);"
   ]
  },
  {
   "cell_type": "markdown",
   "id": "powered-measure",
   "metadata": {},
   "source": [
    "### Exercise\n",
    "Plot a bar chart with error bars for each feature of the iris dataset. The height of each bar should represent the mean of the feature and the error bar should represent the standard deviation of the feature. Decorate the plot properly."
   ]
  },
  {
   "cell_type": "code",
   "execution_count": null,
   "id": "electrical-locking",
   "metadata": {},
   "outputs": [],
   "source": [
    "import sklearn.datasets\n",
    "iris = sklearn.datasets.load_iris().data"
   ]
  },
  {
   "cell_type": "code",
   "execution_count": null,
   "id": "sought-encoding",
   "metadata": {},
   "outputs": [],
   "source": []
  },
  {
   "cell_type": "markdown",
   "id": "olive-pakistan",
   "metadata": {},
   "source": [
    "## Multiple Subplots\n",
    "Sometimes it is helpful to compare different views of data side by side. To this end, Matplotlib has the concept of subplots: groups of smaller axes that can exist together within a single figure. These subplots might be insets, grids of plots, or other more complicated layouts.\n",
    "\n",
    "### plt.axes: Subplots by Hand\n",
    "The most basic method of creating an axes is to use the plt.axes function. As we’ve seen previously, by default this creates a standard axes object that fills the entire figure. plt.axes also takes an optional argument that is a list of four numbers in the figure coordinate system. These numbers represent `[bottom, left, width, height]` in the figure coordinate system, which ranges from 0 at the bottom left of the figure to 1 at the top right of the figure.   \n",
    "\n",
    "For example, we might create an inset axes at the top-right corner of another axes by setting the x and y position to 0.65 (that is, starting at 65% of the width and 65% of the height of the figure) and the x and y extents to 0.2 (that is, the size of the axes is 20% of the width and 20% of the height of the figure)."
   ]
  },
  {
   "cell_type": "code",
   "execution_count": null,
   "id": "fossil-postage",
   "metadata": {},
   "outputs": [],
   "source": [
    "ax1 = plt.axes() # standard axes\n",
    "ax2 = plt.axes([0.65, 0.65, 0.2, 0.2])"
   ]
  },
  {
   "cell_type": "markdown",
   "id": "thorough-luther",
   "metadata": {},
   "source": [
    "The equivalent of this command within the object-oriented interface is `fig.add_axes()`. We now have two axes (the top with no tick labels) that are just touching: the bottom of the upper panel (at position 0.5) matches the top of the lower panel (at position 0.1 + 0.4)."
   ]
  },
  {
   "cell_type": "code",
   "execution_count": null,
   "id": "other-westminster",
   "metadata": {},
   "outputs": [],
   "source": [
    "fig = plt.figure()\n",
    "ax1 = fig.add_axes([0.1, 0.5, 0.8, 0.4], xticklabels=[], ylim=(-1.2, 1.2))\n",
    "ax2 = fig.add_axes([0.1, 0.1, 0.8, 0.4], ylim=(-1.2, 1.2))\n",
    "x = np.linspace(0, 10)\n",
    "ax1.plot(np.sin(x))\n",
    "ax2.plot(np.cos(x));"
   ]
  },
  {
   "cell_type": "markdown",
   "id": "resistant-compromise",
   "metadata": {},
   "source": [
    "### plt.subplot: Simple Grids of Subplots\n",
    "Aligned columns or rows of subplots are a common enough need that Matplotlib has several convenience routines that make them easy to create. The lowest level of these is `plt.subplot()`, which creates a single subplot within a grid. As you can see, this command takes three integer arguments—the number of rows, the number of columns, and the index of the plot to be created in this scheme, which runs from the upper left to the bottom right."
   ]
  },
  {
   "cell_type": "code",
   "execution_count": null,
   "id": "guilty-photography",
   "metadata": {},
   "outputs": [],
   "source": [
    "for i in range(1, 7):\n",
    "    plt.subplot(2, 3, i)\n",
    "    plt.text(0.5, 0.5, str((2, 3, i)), fontsize=18, ha='center')"
   ]
  },
  {
   "cell_type": "markdown",
   "id": "provincial-thickness",
   "metadata": {},
   "source": [
    "The command `plt.subplots_adjust()` can be used to adjust the spacing between these plots. The following code uses the equivalent object-oriented command, `fig.add_subplot()`. We’ve used the hspace and wspace arguments of `plt.subplots_adjust()`, which specify the spacing along the height and width of the figure, in units of the subplot size (in this case, the space is 40% of the subplot width and height)."
   ]
  },
  {
   "cell_type": "code",
   "execution_count": null,
   "id": "material-tackle",
   "metadata": {},
   "outputs": [],
   "source": [
    "fig = plt.figure()\n",
    "fig.subplots_adjust(hspace=0.4, wspace=0.4)\n",
    "for i in range(1, 7):\n",
    "    ax = fig.add_subplot(2, 3, i)\n",
    "    ax.text(0.5, 0.5, str((2, 3, i)), fontsize=18, ha='center')"
   ]
  },
  {
   "cell_type": "markdown",
   "id": "instant-coach",
   "metadata": {},
   "source": [
    "### plt.subplots: The Whole Grid in One Go\n",
    "The approach just described can become quite tedious when you’re creating a large grid of subplots, especially if you’d like to hide the x- and y-axis labels on the inner plots. For this purpose, `plt.subplots()` is the easier tool to use (note the **s** at the end of subplots). Rather than creating a single subplot, this function creates a full grid of subplots in a single line, returning them in a NumPy array. The arguments are the number of rows and number of columns, along with optional keywords sharex and sharey, which allow you to specify the relationships between different axes.    \n",
    "\n",
    "Here we’ll create a 2×3 grid of subplots, where all axes in the same row share their y-axis scale, and all axes in the same column share their x-axis scale. Note that by specifying `sharex` and `sharey`, we’ve automatically removed inner labels on the grid to make the plot cleaner. The resulting grid of axes instances is returned within a NumPy array, allowing for convenient specification of the desired axes using standard array indexing notation.   \n",
    "\n",
    "In comparison to `plt.subplot()`, `plt.subplots()` is more consistent with Python’s conventional 0-based indexing."
   ]
  },
  {
   "cell_type": "code",
   "execution_count": null,
   "id": "boring-final",
   "metadata": {},
   "outputs": [],
   "source": [
    "fig, ax = plt.subplots(2, 3, sharex='col', sharey='row')\n",
    "# axes are in a two-dimensional array, indexed by [row, col]\n",
    "for i in range(2):\n",
    "    for j in range(3):\n",
    "        ax[i, j].text(0.5, 0.5, str((i, j)), fontsize=18, ha='center')"
   ]
  },
  {
   "cell_type": "markdown",
   "id": "greenhouse-graphics",
   "metadata": {},
   "source": [
    "### Exercise\n",
    "Plot a 2x3 grid. Each subplot of this grid shoud draw the histogram of one feature of the iris dataset. Decorate the plot properly."
   ]
  },
  {
   "cell_type": "code",
   "execution_count": null,
   "id": "pending-cheese",
   "metadata": {},
   "outputs": [],
   "source": [
    "import sklearn.datasets\n",
    "iris = sklearn.datasets.load_iris().data"
   ]
  },
  {
   "cell_type": "code",
   "execution_count": null,
   "id": "automatic-modification",
   "metadata": {},
   "outputs": [],
   "source": []
  },
  {
   "cell_type": "markdown",
   "id": "entitled-string",
   "metadata": {},
   "source": [
    "## Three-Dimensional Plotting in Matplotlib\n",
    "Matplotlib was initially designed with only two-dimensional plotting in mind. Around the time of the 1.0 release, some three-dimensional plotting utilities were built on top of Matplotlib’s two-dimensional display, and the result is a convenient (if\n",
    "somewhat limited) set of tools for three-dimensional data visualization. We enable three-dimensional plots by importing the `mplot3d` toolkit, included with the main Matplotlib installation.   \n",
    "\n",
    "Once this submodule is imported, we can create a three-dimensional axes by passing the keyword `projection='3d'` to any of the normal axes creation routines. With this 3D axes enabled, we can now plot a variety of three-dimensional plot types. Three-dimensional plotting is one of the functionalities that benefits immensely from viewing figures interactively rather than statically in the notebook; recall that to use interactive figures, you can use `%matplotlib notebook` rather than `%matplotlib` inline when running this code."
   ]
  },
  {
   "cell_type": "code",
   "execution_count": null,
   "id": "overall-china",
   "metadata": {},
   "outputs": [],
   "source": [
    "import mpl_toolkits.mplot3d\n",
    "\n",
    "fig = plt.figure()\n",
    "ax = plt.axes(projection='3d')"
   ]
  },
  {
   "cell_type": "markdown",
   "id": "union-exclusion",
   "metadata": {},
   "source": [
    "### Three-Dimensional Points and Lines\n",
    "The most basic three-dimensional plot is a line or scatter plot created from sets of (x, y, z) triples. In analogy with the more common two-dimensional plots discussed earlier, we can create these using the ax.plot3D and ax.scatter3D functions. The call signature for these is nearly identical to that of their two-dimensional counterparts.   \n",
    "\n",
    "Notice that by default, the scatter points have their transparency adjusted to give a sense of depth on the page. While the three-dimensional effect is sometimes difficult to see within a static image, an interactive view can lead to some nice intuition about the layout of the points."
   ]
  },
  {
   "cell_type": "code",
   "execution_count": null,
   "id": "advisory-yeast",
   "metadata": {},
   "outputs": [],
   "source": [
    "ax = plt.axes(projection='3d')\n",
    "\n",
    "# Data for a three-dimensional line\n",
    "zline = np.linspace(0, 15, 1000)\n",
    "xline = np.sin(zline)\n",
    "yline = np.cos(zline)\n",
    "ax.plot3D(xline, yline, zline, 'gray')\n",
    "\n",
    "# Data for three-dimensional scattered points\n",
    "zdata = 15 * np.random.random(100)\n",
    "xdata = np.sin(zdata) + 0.1 * np.random.randn(100)\n",
    "ydata = np.cos(zdata) + 0.1 * np.random.randn(100)\n",
    "ax.scatter3D(xdata, ydata, zdata, c=zdata, cmap='Greens');"
   ]
  },
  {
   "cell_type": "markdown",
   "id": "occupied-ground",
   "metadata": {},
   "source": [
    "### Exercise\n",
    "Visualize the data points of the iris dataset in a 3D space using the first three features. Decorate the figure properly."
   ]
  },
  {
   "cell_type": "code",
   "execution_count": null,
   "id": "beneficial-washer",
   "metadata": {},
   "outputs": [],
   "source": [
    "import sklearn.datasets\n",
    "iris = sklearn.datasets.load_iris().data"
   ]
  },
  {
   "cell_type": "code",
   "execution_count": null,
   "id": "academic-turkey",
   "metadata": {},
   "outputs": [],
   "source": []
  }
 ],
 "metadata": {
  "kernelspec": {
   "display_name": "Python 3",
   "language": "python",
   "name": "python3"
  },
  "language_info": {
   "codemirror_mode": {
    "name": "ipython",
    "version": 3
   },
   "file_extension": ".py",
   "mimetype": "text/x-python",
   "name": "python",
   "nbconvert_exporter": "python",
   "pygments_lexer": "ipython3",
   "version": "3.8.10"
  }
 },
 "nbformat": 4,
 "nbformat_minor": 5
}
