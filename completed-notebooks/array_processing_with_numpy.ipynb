{
 "cells": [
  {
   "cell_type": "markdown",
   "id": "separate-plymouth",
   "metadata": {},
   "source": [
    "# Array Processing with NumPy\n",
    "Some of the exercises are taken from https://pynative.com/python-numpy-exercise/."
   ]
  },
  {
   "cell_type": "code",
   "execution_count": 1,
   "id": "danish-interference",
   "metadata": {},
   "outputs": [],
   "source": [
    "import numpy as np"
   ]
  },
  {
   "cell_type": "markdown",
   "id": "extraordinary-recognition",
   "metadata": {},
   "source": [
    "## Create an Array\n",
    "Write a Python program that creates an integer array with 4 elements of type unsigned int16 and prints the shape, the number of dimensions, and the length of each element (in bytes)."
   ]
  },
  {
   "cell_type": "code",
   "execution_count": 6,
   "id": "auburn-characterization",
   "metadata": {},
   "outputs": [
    {
     "data": {
      "text/plain": [
       "((4,), 1, 2)"
      ]
     },
     "execution_count": 6,
     "metadata": {},
     "output_type": "execute_result"
    }
   ],
   "source": [
    "a = np.empty(shape=(4), dtype=np.int16)\n",
    "a.shape, a.ndim, a.itemsize"
   ]
  },
  {
   "cell_type": "markdown",
   "id": "grand-house",
   "metadata": {},
   "source": [
    "## Create a 2D Array\n",
    "Write a Python program that creates a 5X2 integer array from a range between 100 to 200 such that the difference between each element is 10."
   ]
  },
  {
   "cell_type": "code",
   "execution_count": 7,
   "id": "great-organization",
   "metadata": {},
   "outputs": [
    {
     "data": {
      "text/plain": [
       "array([[100, 110],\n",
       "       [120, 130],\n",
       "       [140, 150],\n",
       "       [160, 170],\n",
       "       [180, 190]])"
      ]
     },
     "execution_count": 7,
     "metadata": {},
     "output_type": "execute_result"
    }
   ],
   "source": [
    "a = np.arange(100, 200, 10).reshape((5, 2))\n",
    "a"
   ]
  },
  {
   "cell_type": "markdown",
   "id": "modern-thong",
   "metadata": {},
   "source": [
    "## Select Rows and Columns\n",
    "Write a Python program to return the array of odd rows and even columns from the given numpy array."
   ]
  },
  {
   "cell_type": "code",
   "execution_count": 8,
   "id": "contained-burlington",
   "metadata": {},
   "outputs": [
    {
     "data": {
      "text/plain": [
       "array([[ 3,  6,  9, 12],\n",
       "       [15, 18, 21, 24],\n",
       "       [27, 30, 33, 36],\n",
       "       [39, 42, 45, 48],\n",
       "       [51, 54, 57, 60]])"
      ]
     },
     "execution_count": 8,
     "metadata": {},
     "output_type": "execute_result"
    }
   ],
   "source": [
    "a = np.array([[3 ,6, 9, 12], [15 ,18, 21, 24], [27 ,30, 33, 36], [39 ,42, 45, 48], [51 ,54, 57, 60]])\n",
    "a"
   ]
  },
  {
   "cell_type": "code",
   "execution_count": 11,
   "id": "heard-consultation",
   "metadata": {},
   "outputs": [
    {
     "data": {
      "text/plain": [
       "array([[15, 21],\n",
       "       [39, 45]])"
      ]
     },
     "execution_count": 11,
     "metadata": {},
     "output_type": "execute_result"
    }
   ],
   "source": [
    "a[1::2, ::2]"
   ]
  },
  {
   "cell_type": "markdown",
   "id": "close-collector",
   "metadata": {},
   "source": [
    "## Compute Numerical Operations\n",
    "Write a Python program that computes the sum, the element-wise multiplication, and the matrix multiplication of the given numpy arrays. "
   ]
  },
  {
   "cell_type": "code",
   "execution_count": 12,
   "id": "premium-compiler",
   "metadata": {},
   "outputs": [
    {
     "data": {
      "text/plain": [
       "(array([[ 5,  6],\n",
       "        [21, 18]]),\n",
       " array([[15, 33],\n",
       "        [ 4,  7]]))"
      ]
     },
     "execution_count": 12,
     "metadata": {},
     "output_type": "execute_result"
    }
   ],
   "source": [
    "a = np.array([[5, 6], [21, 18]])\n",
    "b = np.array([[15, 33], [4, 7]])\n",
    "a, b"
   ]
  },
  {
   "cell_type": "code",
   "execution_count": 16,
   "id": "activated-occurrence",
   "metadata": {},
   "outputs": [
    {
     "data": {
      "text/plain": [
       "array([[ 99, 207],\n",
       "       [387, 819]])"
      ]
     },
     "execution_count": 16,
     "metadata": {},
     "output_type": "execute_result"
    }
   ],
   "source": [
    "a + b\n",
    "a * b\n",
    "a.dot(b)"
   ]
  },
  {
   "cell_type": "markdown",
   "id": "identical-turner",
   "metadata": {},
   "source": [
    "## Sort by Rows and Columns\n",
    "Write a Python program to sort the given 2D array in 2 scenarios: (1) Sort it by the second row; (2) Sort it by the second column.  "
   ]
  },
  {
   "cell_type": "code",
   "execution_count": 20,
   "id": "employed-lawsuit",
   "metadata": {},
   "outputs": [
    {
     "data": {
      "text/plain": [
       "array([[34, 43, 73],\n",
       "       [82, 22, 12],\n",
       "       [53, 94, 66]])"
      ]
     },
     "execution_count": 20,
     "metadata": {},
     "output_type": "execute_result"
    }
   ],
   "source": [
    "a = np.array([[34, 43, 73], [82, 22, 12], [53, 94, 66]])\n",
    "a"
   ]
  },
  {
   "cell_type": "code",
   "execution_count": 21,
   "id": "primary-arlington",
   "metadata": {},
   "outputs": [
    {
     "data": {
      "text/plain": [
       "array([[34, 43, 73],\n",
       "       [12, 22, 82],\n",
       "       [53, 66, 94]])"
      ]
     },
     "execution_count": 21,
     "metadata": {},
     "output_type": "execute_result"
    }
   ],
   "source": [
    "a.sort(axis=1)\n",
    "a"
   ]
  },
  {
   "cell_type": "markdown",
   "id": "fabulous-identification",
   "metadata": {},
   "source": [
    "## Split and Concatenate an Array\n",
    "Write a Python program to split the given 8x3 array into 4 equal-sized sub-arrays. Then, concatenate the splitted arrays to rebuilt the original array."
   ]
  },
  {
   "cell_type": "code",
   "execution_count": 22,
   "id": "encouraging-ultimate",
   "metadata": {},
   "outputs": [
    {
     "data": {
      "text/plain": [
       "array([[10, 11, 12],\n",
       "       [13, 14, 15],\n",
       "       [16, 17, 18],\n",
       "       [19, 20, 21],\n",
       "       [22, 23, 24],\n",
       "       [25, 26, 27],\n",
       "       [28, 29, 30],\n",
       "       [31, 32, 33]])"
      ]
     },
     "execution_count": 22,
     "metadata": {},
     "output_type": "execute_result"
    }
   ],
   "source": [
    "a = np.arange(10, 34, 1).reshape(8, 3)\n",
    "a"
   ]
  },
  {
   "cell_type": "code",
   "execution_count": 28,
   "id": "tested-village",
   "metadata": {},
   "outputs": [
    {
     "data": {
      "text/plain": [
       "array([[10, 11, 12],\n",
       "       [13, 14, 15],\n",
       "       [16, 17, 18],\n",
       "       [19, 20, 21],\n",
       "       [22, 23, 24],\n",
       "       [25, 26, 27],\n",
       "       [28, 29, 30],\n",
       "       [31, 32, 33]])"
      ]
     },
     "execution_count": 28,
     "metadata": {},
     "output_type": "execute_result"
    }
   ],
   "source": [
    "x1, x2, x3, x4 = np.vsplit(a, 4)\n",
    "np.vstack([x1, x2, x3, x4])"
   ]
  },
  {
   "cell_type": "markdown",
   "id": "super-vietnam",
   "metadata": {},
   "source": [
    "## Delete and Insert Columns\n",
    "Write a Python Program that deletes the second column from the given array and insert the given new column in its place."
   ]
  },
  {
   "cell_type": "code",
   "execution_count": 29,
   "id": "negative-techno",
   "metadata": {},
   "outputs": [
    {
     "data": {
      "text/plain": [
       "(array([[34, 43, 73],\n",
       "        [82, 22, 12],\n",
       "        [53, 94, 66]]),\n",
       " array([[10, 10, 10]]))"
      ]
     },
     "execution_count": 29,
     "metadata": {},
     "output_type": "execute_result"
    }
   ],
   "source": [
    "a = np.array([[34, 43, 73], [82, 22, 12], [53, 94, 66]]) \n",
    "new_column = np.array([[10, 10, 10]])\n",
    "a, new_column"
   ]
  },
  {
   "cell_type": "code",
   "execution_count": 30,
   "id": "skilled-letter",
   "metadata": {},
   "outputs": [
    {
     "data": {
      "text/plain": [
       "array([[34, 10, 73],\n",
       "       [82, 10, 12],\n",
       "       [53, 10, 66]])"
      ]
     },
     "execution_count": 30,
     "metadata": {},
     "output_type": "execute_result"
    }
   ],
   "source": [
    "a[:, 1] = new_column\n",
    "a"
   ]
  },
  {
   "cell_type": "code",
   "execution_count": null,
   "id": "42e04da3",
   "metadata": {},
   "outputs": [],
   "source": []
  }
 ],
 "metadata": {
  "kernelspec": {
   "display_name": "Python 3 (ipykernel)",
   "language": "python",
   "name": "python3"
  },
  "language_info": {
   "codemirror_mode": {
    "name": "ipython",
    "version": 3
   },
   "file_extension": ".py",
   "mimetype": "text/x-python",
   "name": "python",
   "nbconvert_exporter": "python",
   "pygments_lexer": "ipython3",
   "version": "3.8.11"
  }
 },
 "nbformat": 4,
 "nbformat_minor": 5
}
