{
 "cells": [
  {
   "cell_type": "markdown",
   "id": "bibliographic-edward",
   "metadata": {},
   "source": [
    "# Modules and Packages"
   ]
  },
  {
   "cell_type": "markdown",
   "id": "actual-chinese",
   "metadata": {},
   "source": [
    "## os\n",
    "Write a Python program to print the list of files in the current folder and their absolute path."
   ]
  },
  {
   "cell_type": "code",
   "execution_count": null,
   "id": "tender-colombia",
   "metadata": {},
   "outputs": [],
   "source": []
  },
  {
   "cell_type": "markdown",
   "id": "burning-montreal",
   "metadata": {},
   "source": [
    "## math\n",
    "Write a Python program that finds the maximum of log$_2 10$ and $ e^e $."
   ]
  },
  {
   "cell_type": "code",
   "execution_count": null,
   "id": "saved-craft",
   "metadata": {},
   "outputs": [],
   "source": []
  },
  {
   "cell_type": "markdown",
   "id": "opponent-morning",
   "metadata": {},
   "source": [
    "## random\n",
    "Write a function that takes a probability between 0.0 and 1.0 and returns True with that probability. For example, if the input probability is 0.3, the function should return True in 30\\% of the times and False in the 70\\% of the times."
   ]
  },
  {
   "cell_type": "code",
   "execution_count": null,
   "id": "global-alpha",
   "metadata": {},
   "outputs": [],
   "source": [
    "import random\n",
    "\n",
    "def f(p):\n",
    "    \n",
    "    r = random.uniform(0.0, 0.1)\n",
    "    \n",
    "    if r <= p:\n",
    "        True\n",
    "    else:\n",
    "        False\n",
    "        \n",
    "p = 0.5\n",
    "r = 0.3\n",
    "\n",
    "\n",
    "0 0.1 0.2 0.3 0.4 0.5 0.6 0.7 0.8 0.9 1"
   ]
  },
  {
   "cell_type": "markdown",
   "id": "novel-rotation",
   "metadata": {},
   "source": [
    "## pickle\n",
    "Write a program to store and load a dictionary."
   ]
  },
  {
   "cell_type": "code",
   "execution_count": 3,
   "id": "convinced-fault",
   "metadata": {},
   "outputs": [],
   "source": [
    "import pickle\n",
    "\n",
    "a = {'hello': 'world'}\n",
    "\n",
    "f = open(\"my_dic.pickle\", \"wb\")\n",
    "#with open('filename.pickle', 'wb') as handle:\n",
    "pickle.dump(a, f)\n",
    "\n",
    "# with open('filename.pickle', 'rb') as handle:\n",
    "#     b = pickle.load(handle)\n",
    "\n",
    "# print a == b"
   ]
  },
  {
   "cell_type": "code",
   "execution_count": 4,
   "id": "c5e4fb1e",
   "metadata": {},
   "outputs": [
    {
     "data": {
      "text/plain": [
       "{'hello': 'world'}"
      ]
     },
     "execution_count": 4,
     "metadata": {},
     "output_type": "execute_result"
    }
   ],
   "source": [
    "f = open(\"my_dic.pickle\", \"rb\")\n",
    "a = pickle.load(f)\n",
    "a"
   ]
  },
  {
   "cell_type": "markdown",
   "id": "scientific-timer",
   "metadata": {},
   "source": [
    "## json\n",
    "Write a program to store and load a dictionary as a json file."
   ]
  },
  {
   "cell_type": "code",
   "execution_count": null,
   "id": "western-resident",
   "metadata": {},
   "outputs": [],
   "source": []
  },
  {
   "cell_type": "markdown",
   "id": "hidden-quick",
   "metadata": {},
   "source": [
    "## re\n",
    "Write a function that takes a string as input and returns True if the format of the string matches an email address."
   ]
  },
  {
   "cell_type": "code",
   "execution_count": null,
   "id": "cloudy-visiting",
   "metadata": {},
   "outputs": [],
   "source": []
  }
 ],
 "metadata": {
  "kernelspec": {
   "display_name": "Python 3 (ipykernel)",
   "language": "python",
   "name": "python3"
  },
  "language_info": {
   "codemirror_mode": {
    "name": "ipython",
    "version": 3
   },
   "file_extension": ".py",
   "mimetype": "text/x-python",
   "name": "python",
   "nbconvert_exporter": "python",
   "pygments_lexer": "ipython3",
   "version": "3.8.11"
  }
 },
 "nbformat": 4,
 "nbformat_minor": 5
}
