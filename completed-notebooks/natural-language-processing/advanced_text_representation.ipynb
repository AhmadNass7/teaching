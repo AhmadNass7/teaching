{
 "cells": [
  {
   "cell_type": "markdown",
   "id": "02ac9723",
   "metadata": {},
   "source": [
    "# Advanced Text Representation\n",
    "We want to examine some pre-trained word embedding models. In particular, you should do the followings:\n",
    "- Find a pre-trained word embedding model, such as [Google's word2vec model](https://code.google.com/archive/p/word2vec/).\n",
    "- Load the pre-trained model using a library, such as [gensim](https://radimrehurek.com/gensim/models/keyedvectors.html).\n",
    "- Examine the word vectors.\n",
    "- Visualize a sample of words using necessary libraries, such as t-SNE."
   ]
  },
  {
   "cell_type": "markdown",
   "id": "4e307661",
   "metadata": {},
   "source": [
    "## Importing Modules"
   ]
  },
  {
   "cell_type": "code",
   "execution_count": 85,
   "id": "54497e53",
   "metadata": {},
   "outputs": [],
   "source": [
    "import pandas as pd\n",
    "import gensim.models\n",
    "import sklearn.cluster\n",
    "import sklearn.manifold\n",
    "import plotly.express as px"
   ]
  },
  {
   "cell_type": "markdown",
   "id": "745beaf1",
   "metadata": {},
   "source": [
    "## Loading a Pre-Trained Word2Vec Model"
   ]
  },
  {
   "cell_type": "code",
   "execution_count": 71,
   "id": "10a7aad3",
   "metadata": {},
   "outputs": [],
   "source": [
    "model = KeyedVectors.load_word2vec_format(\"/tmp/GoogleNews-vectors-negative300.bin.gz\", binary=True)"
   ]
  },
  {
   "cell_type": "markdown",
   "id": "4bc91a99",
   "metadata": {},
   "source": [
    "## Examining Word Vectors"
   ]
  },
  {
   "cell_type": "code",
   "execution_count": 73,
   "id": "3a872398",
   "metadata": {},
   "outputs": [
    {
     "data": {
      "text/plain": [
       "array([ 0.14160156,  0.25195312,  0.02624512,  0.00069809, -0.09814453,\n",
       "       -0.15429688, -0.20605469, -0.1484375 , -0.1640625 ,  0.0612793 ,\n",
       "       -0.24121094, -0.078125  ,  0.03979492, -0.11816406,  0.01745605,\n",
       "        0.06591797,  0.13378906,  0.25390625, -0.125     , -0.14648438,\n",
       "        0.12402344,  0.19628906,  0.04663086,  0.07910156,  0.10400391,\n",
       "        0.04003906, -0.22363281,  0.19921875, -0.06591797,  0.06689453,\n",
       "        0.13964844, -0.171875  , -0.30859375, -0.02502441, -0.11523438,\n",
       "       -0.15136719,  0.10839844,  0.15820312,  0.34375   ,  0.07373047,\n",
       "        0.03125   , -0.04956055, -0.12597656,  0.14550781, -0.06396484,\n",
       "        0.16503906, -0.10400391, -0.25195312,  0.04931641,  0.25976562,\n",
       "        0.01367188,  0.06445312, -0.05615234, -0.13476562, -0.24316406,\n",
       "        0.14941406, -0.33984375,  0.02600098, -0.3515625 , -0.1171875 ,\n",
       "        0.07714844, -0.27148438, -0.07373047, -0.05541992,  0.04956055,\n",
       "       -0.25195312,  0.13574219,  0.06396484, -0.23144531,  0.06933594,\n",
       "       -0.27539062,  0.10302734,  0.02575684,  0.12060547, -0.03540039,\n",
       "       -0.0043335 ,  0.30664062,  0.27148438,  0.13378906, -0.13085938,\n",
       "        0.06176758, -0.3359375 ,  0.02185059, -0.03442383,  0.01470947,\n",
       "        0.05541992,  0.328125  , -0.28515625, -0.0135498 ,  0.15820312,\n",
       "       -0.15625   , -0.03588867, -0.2109375 , -0.05175781, -0.4609375 ,\n",
       "       -0.03515625,  0.11035156, -0.22167969, -0.40429688, -0.12792969,\n",
       "       -0.00598145, -0.11621094,  0.12451172,  0.23828125, -0.05102539,\n",
       "       -0.03955078, -0.15039062, -0.2265625 , -0.38671875, -0.21386719,\n",
       "        0.0201416 , -0.15039062,  0.36132812,  0.10253906,  0.19824219,\n",
       "       -0.25390625, -0.0534668 , -0.203125  ,  0.1328125 ,  0.17480469,\n",
       "       -0.22949219, -0.19628906,  0.13476562, -0.05126953,  0.171875  ,\n",
       "       -0.25390625, -0.06835938, -0.13378906, -0.31445312, -0.03112793,\n",
       "       -0.06396484,  0.09375   , -0.08056641,  0.08300781, -0.19335938,\n",
       "       -0.22558594,  0.06591797, -0.0859375 , -0.01245117,  0.17773438,\n",
       "        0.08251953,  0.16601562, -0.06640625, -0.1484375 ,  0.09521484,\n",
       "       -0.171875  ,  0.21875   ,  0.296875  , -0.25976562, -0.06494141,\n",
       "        0.00848389,  0.10839844,  0.28320312,  0.00286865,  0.0703125 ,\n",
       "        0.09472656,  0.00558472,  0.20605469,  0.203125  ,  0.12402344,\n",
       "       -0.02038574, -0.03198242,  0.15917969, -0.07421875,  0.1484375 ,\n",
       "        0.13183594, -0.11962891,  0.08886719, -0.01531982,  0.29882812,\n",
       "       -0.22070312, -0.24707031,  0.21289062,  0.06445312, -0.20703125,\n",
       "       -0.2734375 , -0.03222656, -0.30664062, -0.15917969, -0.05322266,\n",
       "        0.1875    , -0.15625   , -0.11914062, -0.25195312,  0.34375   ,\n",
       "        0.16992188,  0.1796875 , -0.02783203,  0.0201416 ,  0.24121094,\n",
       "        0.17773438,  0.24804688,  0.10107422,  0.21289062, -0.03808594,\n",
       "        0.1875    ,  0.24707031, -0.18945312, -0.14453125, -0.08691406,\n",
       "        0.09814453,  0.02856445,  0.15820312,  0.01916504,  0.06787109,\n",
       "       -0.2890625 ,  0.04125977,  0.07910156, -0.22167969, -0.140625  ,\n",
       "       -0.296875  , -0.13769531,  0.05224609,  0.16699219, -0.3125    ,\n",
       "       -0.00933838,  0.3046875 ,  0.16699219,  0.18652344, -0.09375   ,\n",
       "        0.11767578, -0.22949219, -0.17480469,  0.00439453, -0.24414062,\n",
       "        0.05297852, -0.13476562,  0.00297546, -0.25      , -0.20507812,\n",
       "        0.02197266,  0.07910156, -0.23144531, -0.04492188,  0.125     ,\n",
       "       -0.14648438, -0.11523438,  0.11621094,  0.00897217, -0.11621094,\n",
       "        0.265625  ,  0.02905273, -0.09082031,  0.12792969, -0.16210938,\n",
       "        0.3125    , -0.09082031, -0.09375   , -0.04443359,  0.0045166 ,\n",
       "       -0.14648438,  0.0213623 , -0.23339844,  0.08496094,  0.10351562,\n",
       "        0.15039062,  0.19042969, -0.0078125 ,  0.08349609,  0.21679688,\n",
       "        0.16113281,  0.20800781,  0.09082031,  0.14746094,  0.04614258,\n",
       "        0.35742188,  0.18261719, -0.05175781, -0.16210938,  0.26367188,\n",
       "       -0.02172852, -0.17285156,  0.22753906, -0.10888672,  0.13476562,\n",
       "       -0.06347656,  0.00671387,  0.19628906,  0.03295898, -0.0534668 ,\n",
       "       -0.20019531,  0.21289062, -0.07373047, -0.13183594, -0.25390625,\n",
       "        0.2578125 ,  0.05932617,  0.05761719, -0.04150391, -0.00628662,\n",
       "       -0.29101562,  0.02783203, -0.22363281,  0.12304688, -0.21582031,\n",
       "        0.18847656, -0.24023438,  0.02307129, -0.08789062, -0.18554688],\n",
       "      dtype=float32)"
      ]
     },
     "execution_count": 73,
     "metadata": {},
     "output_type": "execute_result"
    }
   ],
   "source": [
    "vector = model[\"Berlin\"]\n",
    "vector"
   ]
  },
  {
   "cell_type": "code",
   "execution_count": 74,
   "id": "e1ba1b6c",
   "metadata": {},
   "outputs": [
    {
     "name": "stdout",
     "output_type": "stream",
     "text": [
      "(300,)\n"
     ]
    }
   ],
   "source": [
    "print(vector.shape)"
   ]
  },
  {
   "cell_type": "code",
   "execution_count": 75,
   "id": "3d24dbfe",
   "metadata": {},
   "outputs": [
    {
     "data": {
      "text/plain": [
       "[('Munich', 0.6743212938308716),\n",
       " ('BBC_Tristana_Moore', 0.6629698276519775),\n",
       " ('Hamburg', 0.6400265097618103),\n",
       " ('Frankfurt', 0.6383745074272156),\n",
       " ('Germany', 0.631354808807373),\n",
       " ('Dusseldorf', 0.621732234954834),\n",
       " ('historic_Tempelhof_Airport', 0.6146382689476013),\n",
       " ('Munich_Germany', 0.6117033362388611),\n",
       " ('Kempinski_Hotel_Bristol', 0.6082198619842529),\n",
       " ('German', 0.608098030090332)]"
      ]
     },
     "execution_count": 75,
     "metadata": {},
     "output_type": "execute_result"
    }
   ],
   "source": [
    "model.most_similar(\"Berlin\", topn=10)"
   ]
  },
  {
   "cell_type": "code",
   "execution_count": 97,
   "id": "f6e6407f",
   "metadata": {},
   "outputs": [
    {
     "data": {
      "text/plain": [
       "[('Berlin', 0.5473558306694031),\n",
       " ('Hamburg', 0.5346046686172485),\n",
       " ('Netherlands', 0.520778238773346),\n",
       " ('Austria', 0.5198242664337158),\n",
       " ('CIty', 0.5105443596839905),\n",
       " ('Cologne', 0.5068037509918213),\n",
       " ('Hungary', 0.5012103319168091),\n",
       " ('Braustolz_GmbH', 0.4935721457004547),\n",
       " ('Stuttgart', 0.4911365211009979),\n",
       " ('German', 0.48699653148651123)]"
      ]
     },
     "execution_count": 97,
     "metadata": {},
     "output_type": "execute_result"
    }
   ],
   "source": [
    "model.most_similar([\"Germany\", \"City\"])"
   ]
  },
  {
   "cell_type": "code",
   "execution_count": 77,
   "id": "7a7b15ff",
   "metadata": {},
   "outputs": [
    {
     "data": {
      "text/plain": [
       "'Twitter'"
      ]
     },
     "execution_count": 77,
     "metadata": {},
     "output_type": "execute_result"
    }
   ],
   "source": [
    "model.doesnt_match([\"Berlin\", \"London\", \"Twitter\", \"Paris\"])"
   ]
  },
  {
   "cell_type": "code",
   "execution_count": 78,
   "id": "f2bf1fee",
   "metadata": {},
   "outputs": [
    {
     "data": {
      "text/plain": [
       "0.0066413707"
      ]
     },
     "execution_count": 78,
     "metadata": {},
     "output_type": "execute_result"
    }
   ],
   "source": [
    "model.similarity(\"Berlin\", \"Twitter\")"
   ]
  },
  {
   "cell_type": "code",
   "execution_count": 79,
   "id": "6041d9f0",
   "metadata": {},
   "outputs": [
    {
     "data": {
      "text/plain": [
       "0.54122275"
      ]
     },
     "execution_count": 79,
     "metadata": {},
     "output_type": "execute_result"
    }
   ],
   "source": [
    "model.similarity(\"Berlin\", \"Paris\")"
   ]
  },
  {
   "cell_type": "code",
   "execution_count": 80,
   "id": "8a86ed61",
   "metadata": {},
   "outputs": [
    {
     "data": {
      "text/plain": [
       "[('queen', 0.7118193507194519),\n",
       " ('monarch', 0.6189674139022827),\n",
       " ('princess', 0.5902431011199951),\n",
       " ('crown_prince', 0.5499460697174072),\n",
       " ('prince', 0.5377321839332581),\n",
       " ('kings', 0.5236844420433044),\n",
       " ('Queen_Consort', 0.5235945582389832),\n",
       " ('queens', 0.5181134343147278),\n",
       " ('sultan', 0.5098593831062317),\n",
       " ('monarchy', 0.5087411999702454)]"
      ]
     },
     "execution_count": 80,
     "metadata": {},
     "output_type": "execute_result"
    }
   ],
   "source": [
    "# woman - man = x - king\n",
    "# woman - man + king = x\n",
    "# x = ?\n",
    "model.most_similar(positive=[\"woman\", \"king\"], negative=[\"man\"])"
   ]
  },
  {
   "cell_type": "code",
   "execution_count": 81,
   "id": "18f62644",
   "metadata": {},
   "outputs": [
    {
     "data": {
      "text/plain": [
       "[('Berlin', 0.7644002437591553),\n",
       " ('Frankfurt', 0.7329736351966858),\n",
       " ('Dusseldorf', 0.7009456753730774),\n",
       " ('Munich', 0.6773864030838013),\n",
       " ('Cologne', 0.6470192670822144),\n",
       " ('Düsseldorf', 0.6399551033973694),\n",
       " ('Stuttgart', 0.6361044049263),\n",
       " ('Munich_Germany', 0.6238142251968384),\n",
       " ('Budapest', 0.6192865371704102),\n",
       " ('Hamburg', 0.6168562769889832)]"
      ]
     },
     "execution_count": 81,
     "metadata": {},
     "output_type": "execute_result"
    }
   ],
   "source": [
    "# Paris - France = x - Germany\n",
    "# Paris - France + Germany = x\n",
    "# x = ?\n",
    "model.most_similar(positive=[\"Paris\", \"Germany\"], negative=[\"France\"])"
   ]
  },
  {
   "cell_type": "markdown",
   "id": "d39245fe",
   "metadata": {},
   "source": [
    "## Visualizing Word Vectors"
   ]
  },
  {
   "cell_type": "markdown",
   "id": "9e1bc2f4",
   "metadata": {},
   "source": [
    "### Chossing Some Words"
   ]
  },
  {
   "cell_type": "code",
   "execution_count": 90,
   "id": "163a9a45",
   "metadata": {},
   "outputs": [],
   "source": [
    "vocabulary = [\"university\", \"student\", \"teacher\", \"school\",\n",
    "              \"football\", \"sport\", \"gym\", \"basketball\",\n",
    "              \"germany\", \"france\", \"uk\", \"spain\",\n",
    "              \"berlin\", \"paris\", \"london\", \"madrid\",\n",
    "              \"film\", \"interstellar\", \"inception\",\n",
    "              \"twitter\", \"facebook\", \"google\", \"yahoo\",\n",
    "              \"cat\", \"dog\", \"mouse\", \"bird\",\n",
    "              \"bmw\", \"audi\", \"wv\", \"benz\",\n",
    "              \"obama\", \"churchill\", \"putin\", \"trump\"]\n",
    "vectors = [model[word] for word in vocabulary]"
   ]
  },
  {
   "cell_type": "markdown",
   "id": "d67bd2f8",
   "metadata": {},
   "source": [
    "### Clustering Word Vectors"
   ]
  },
  {
   "cell_type": "code",
   "execution_count": 91,
   "id": "8b4e6e3b",
   "metadata": {},
   "outputs": [],
   "source": [
    "kmeans = sklearn.cluster.KMeans(n_clusters=9)\n",
    "kmeans.fit(vectors)\n",
    "cluster_labels = kmeans.labels_"
   ]
  },
  {
   "cell_type": "markdown",
   "id": "2f0043bc",
   "metadata": {},
   "source": [
    "### Reducing Feature Size to 2D"
   ]
  },
  {
   "cell_type": "code",
   "execution_count": 92,
   "id": "af4b2e28",
   "metadata": {},
   "outputs": [],
   "source": [
    "tsne = sklearn.manifold.TSNE(n_components=2, perplexity=3, n_iter=10000) \n",
    "reduced_vectors = tsne.fit_transform(vectors)"
   ]
  },
  {
   "cell_type": "markdown",
   "id": "6342e05a",
   "metadata": {},
   "source": [
    "### Visualizing 2D Word Vectors"
   ]
  },
  {
   "cell_type": "code",
   "execution_count": 93,
   "id": "8dd37f6c",
   "metadata": {},
   "outputs": [
    {
     "data": {
      "application/vnd.plotly.v1+json": {
       "config": {
        "plotlyServerURL": "https://plot.ly"
       },
       "data": [
        {
         "hovertemplate": "x=%{x}<br>y=%{y}<br>Word=%{text}<br>Cluster ID=%{marker.color}<extra></extra>",
         "legendgroup": "",
         "marker": {
          "color": [
           1,
           1,
           1,
           1,
           6,
           6,
           6,
           6,
           3,
           0,
           3,
           5,
           3,
           0,
           0,
           5,
           3,
           8,
           7,
           4,
           4,
           3,
           3,
           2,
           2,
           2,
           2,
           3,
           3,
           3,
           3,
           3,
           3,
           3,
           3
          ],
          "coloraxis": "coloraxis",
          "symbol": "circle"
         },
         "mode": "markers+text",
         "name": "",
         "orientation": "v",
         "showlegend": false,
         "text": [
          "university",
          "student",
          "teacher",
          "school",
          "football",
          "sport",
          "gym",
          "basketball",
          "germany",
          "france",
          "uk",
          "spain",
          "berlin",
          "paris",
          "london",
          "madrid",
          "film",
          "interstellar",
          "inception",
          "twitter",
          "facebook",
          "google",
          "yahoo",
          "cat",
          "dog",
          "mouse",
          "bird",
          "bmw",
          "audi",
          "wv",
          "benz",
          "obama",
          "churchill",
          "putin",
          "trump"
         ],
         "textposition": "bottom right",
         "type": "scatter",
         "x": [
          -653.86865234375,
          -697.51611328125,
          -737.4503784179688,
          -674.2479248046875,
          -422.92425537109375,
          -365.57635498046875,
          -625.8733520507812,
          -464.0848083496094,
          548.6990966796875,
          484.57342529296875,
          187.56246948242188,
          509.69927978515625,
          243.60818481445312,
          302.3701171875,
          412.86737060546875,
          534.1275634765625,
          13.488296508789062,
          -9.797513008117676,
          194.0197296142578,
          -94.99832916259766,
          -126.14301300048828,
          323.9669189453125,
          314.3076171875,
          48.670249938964844,
          12.842942237854004,
          59.053096771240234,
          95.94950866699219,
          118.62694549560547,
          93.44296264648438,
          117.05770111083984,
          124.18647003173828,
          112.6347885131836,
          171.25694274902344,
          66.41412353515625,
          -11.100259780883789
         ],
         "xaxis": "x",
         "y": [
          -383.09649658203125,
          -353.49688720703125,
          -298.3379821777344,
          -305.9650573730469,
          -116.05289459228516,
          -100.81041717529297,
          -251.3912353515625,
          -127.83148956298828,
          321.1895446777344,
          308.499267578125,
          81.20838165283203,
          247.49853515625,
          9.62971305847168,
          103.96878814697266,
          185.37017822265625,
          210.83314514160156,
          -122.17950439453125,
          91.12326049804688,
          -77.86788177490234,
          437.2620544433594,
          409.176025390625,
          -138.19778442382812,
          -66.90486145019531,
          -444.7481689453125,
          -468.8192443847656,
          -366.7424011230469,
          -491.6861877441406,
          -130.15614318847656,
          33.96800994873047,
          158.59323120117188,
          -21.32026481628418,
          222.22674560546875,
          4.272421360015869,
          -42.50937271118164,
          -26.746875762939453
         ],
         "yaxis": "y"
        }
       ],
       "layout": {
        "coloraxis": {
         "colorbar": {
          "title": {
           "text": "Cluster ID"
          }
         },
         "colorscale": [
          [
           0,
           "#0d0887"
          ],
          [
           0.1111111111111111,
           "#46039f"
          ],
          [
           0.2222222222222222,
           "#7201a8"
          ],
          [
           0.3333333333333333,
           "#9c179e"
          ],
          [
           0.4444444444444444,
           "#bd3786"
          ],
          [
           0.5555555555555556,
           "#d8576b"
          ],
          [
           0.6666666666666666,
           "#ed7953"
          ],
          [
           0.7777777777777778,
           "#fb9f3a"
          ],
          [
           0.8888888888888888,
           "#fdca26"
          ],
          [
           1,
           "#f0f921"
          ]
         ]
        },
        "legend": {
         "tracegroupgap": 0
        },
        "margin": {
         "t": 60
        },
        "template": {
         "data": {
          "bar": [
           {
            "error_x": {
             "color": "#2a3f5f"
            },
            "error_y": {
             "color": "#2a3f5f"
            },
            "marker": {
             "line": {
              "color": "#E5ECF6",
              "width": 0.5
             },
             "pattern": {
              "fillmode": "overlay",
              "size": 10,
              "solidity": 0.2
             }
            },
            "type": "bar"
           }
          ],
          "barpolar": [
           {
            "marker": {
             "line": {
              "color": "#E5ECF6",
              "width": 0.5
             },
             "pattern": {
              "fillmode": "overlay",
              "size": 10,
              "solidity": 0.2
             }
            },
            "type": "barpolar"
           }
          ],
          "carpet": [
           {
            "aaxis": {
             "endlinecolor": "#2a3f5f",
             "gridcolor": "white",
             "linecolor": "white",
             "minorgridcolor": "white",
             "startlinecolor": "#2a3f5f"
            },
            "baxis": {
             "endlinecolor": "#2a3f5f",
             "gridcolor": "white",
             "linecolor": "white",
             "minorgridcolor": "white",
             "startlinecolor": "#2a3f5f"
            },
            "type": "carpet"
           }
          ],
          "choropleth": [
           {
            "colorbar": {
             "outlinewidth": 0,
             "ticks": ""
            },
            "type": "choropleth"
           }
          ],
          "contour": [
           {
            "colorbar": {
             "outlinewidth": 0,
             "ticks": ""
            },
            "colorscale": [
             [
              0,
              "#0d0887"
             ],
             [
              0.1111111111111111,
              "#46039f"
             ],
             [
              0.2222222222222222,
              "#7201a8"
             ],
             [
              0.3333333333333333,
              "#9c179e"
             ],
             [
              0.4444444444444444,
              "#bd3786"
             ],
             [
              0.5555555555555556,
              "#d8576b"
             ],
             [
              0.6666666666666666,
              "#ed7953"
             ],
             [
              0.7777777777777778,
              "#fb9f3a"
             ],
             [
              0.8888888888888888,
              "#fdca26"
             ],
             [
              1,
              "#f0f921"
             ]
            ],
            "type": "contour"
           }
          ],
          "contourcarpet": [
           {
            "colorbar": {
             "outlinewidth": 0,
             "ticks": ""
            },
            "type": "contourcarpet"
           }
          ],
          "heatmap": [
           {
            "colorbar": {
             "outlinewidth": 0,
             "ticks": ""
            },
            "colorscale": [
             [
              0,
              "#0d0887"
             ],
             [
              0.1111111111111111,
              "#46039f"
             ],
             [
              0.2222222222222222,
              "#7201a8"
             ],
             [
              0.3333333333333333,
              "#9c179e"
             ],
             [
              0.4444444444444444,
              "#bd3786"
             ],
             [
              0.5555555555555556,
              "#d8576b"
             ],
             [
              0.6666666666666666,
              "#ed7953"
             ],
             [
              0.7777777777777778,
              "#fb9f3a"
             ],
             [
              0.8888888888888888,
              "#fdca26"
             ],
             [
              1,
              "#f0f921"
             ]
            ],
            "type": "heatmap"
           }
          ],
          "heatmapgl": [
           {
            "colorbar": {
             "outlinewidth": 0,
             "ticks": ""
            },
            "colorscale": [
             [
              0,
              "#0d0887"
             ],
             [
              0.1111111111111111,
              "#46039f"
             ],
             [
              0.2222222222222222,
              "#7201a8"
             ],
             [
              0.3333333333333333,
              "#9c179e"
             ],
             [
              0.4444444444444444,
              "#bd3786"
             ],
             [
              0.5555555555555556,
              "#d8576b"
             ],
             [
              0.6666666666666666,
              "#ed7953"
             ],
             [
              0.7777777777777778,
              "#fb9f3a"
             ],
             [
              0.8888888888888888,
              "#fdca26"
             ],
             [
              1,
              "#f0f921"
             ]
            ],
            "type": "heatmapgl"
           }
          ],
          "histogram": [
           {
            "marker": {
             "pattern": {
              "fillmode": "overlay",
              "size": 10,
              "solidity": 0.2
             }
            },
            "type": "histogram"
           }
          ],
          "histogram2d": [
           {
            "colorbar": {
             "outlinewidth": 0,
             "ticks": ""
            },
            "colorscale": [
             [
              0,
              "#0d0887"
             ],
             [
              0.1111111111111111,
              "#46039f"
             ],
             [
              0.2222222222222222,
              "#7201a8"
             ],
             [
              0.3333333333333333,
              "#9c179e"
             ],
             [
              0.4444444444444444,
              "#bd3786"
             ],
             [
              0.5555555555555556,
              "#d8576b"
             ],
             [
              0.6666666666666666,
              "#ed7953"
             ],
             [
              0.7777777777777778,
              "#fb9f3a"
             ],
             [
              0.8888888888888888,
              "#fdca26"
             ],
             [
              1,
              "#f0f921"
             ]
            ],
            "type": "histogram2d"
           }
          ],
          "histogram2dcontour": [
           {
            "colorbar": {
             "outlinewidth": 0,
             "ticks": ""
            },
            "colorscale": [
             [
              0,
              "#0d0887"
             ],
             [
              0.1111111111111111,
              "#46039f"
             ],
             [
              0.2222222222222222,
              "#7201a8"
             ],
             [
              0.3333333333333333,
              "#9c179e"
             ],
             [
              0.4444444444444444,
              "#bd3786"
             ],
             [
              0.5555555555555556,
              "#d8576b"
             ],
             [
              0.6666666666666666,
              "#ed7953"
             ],
             [
              0.7777777777777778,
              "#fb9f3a"
             ],
             [
              0.8888888888888888,
              "#fdca26"
             ],
             [
              1,
              "#f0f921"
             ]
            ],
            "type": "histogram2dcontour"
           }
          ],
          "mesh3d": [
           {
            "colorbar": {
             "outlinewidth": 0,
             "ticks": ""
            },
            "type": "mesh3d"
           }
          ],
          "parcoords": [
           {
            "line": {
             "colorbar": {
              "outlinewidth": 0,
              "ticks": ""
             }
            },
            "type": "parcoords"
           }
          ],
          "pie": [
           {
            "automargin": true,
            "type": "pie"
           }
          ],
          "scatter": [
           {
            "marker": {
             "colorbar": {
              "outlinewidth": 0,
              "ticks": ""
             }
            },
            "type": "scatter"
           }
          ],
          "scatter3d": [
           {
            "line": {
             "colorbar": {
              "outlinewidth": 0,
              "ticks": ""
             }
            },
            "marker": {
             "colorbar": {
              "outlinewidth": 0,
              "ticks": ""
             }
            },
            "type": "scatter3d"
           }
          ],
          "scattercarpet": [
           {
            "marker": {
             "colorbar": {
              "outlinewidth": 0,
              "ticks": ""
             }
            },
            "type": "scattercarpet"
           }
          ],
          "scattergeo": [
           {
            "marker": {
             "colorbar": {
              "outlinewidth": 0,
              "ticks": ""
             }
            },
            "type": "scattergeo"
           }
          ],
          "scattergl": [
           {
            "marker": {
             "colorbar": {
              "outlinewidth": 0,
              "ticks": ""
             }
            },
            "type": "scattergl"
           }
          ],
          "scattermapbox": [
           {
            "marker": {
             "colorbar": {
              "outlinewidth": 0,
              "ticks": ""
             }
            },
            "type": "scattermapbox"
           }
          ],
          "scatterpolar": [
           {
            "marker": {
             "colorbar": {
              "outlinewidth": 0,
              "ticks": ""
             }
            },
            "type": "scatterpolar"
           }
          ],
          "scatterpolargl": [
           {
            "marker": {
             "colorbar": {
              "outlinewidth": 0,
              "ticks": ""
             }
            },
            "type": "scatterpolargl"
           }
          ],
          "scatterternary": [
           {
            "marker": {
             "colorbar": {
              "outlinewidth": 0,
              "ticks": ""
             }
            },
            "type": "scatterternary"
           }
          ],
          "surface": [
           {
            "colorbar": {
             "outlinewidth": 0,
             "ticks": ""
            },
            "colorscale": [
             [
              0,
              "#0d0887"
             ],
             [
              0.1111111111111111,
              "#46039f"
             ],
             [
              0.2222222222222222,
              "#7201a8"
             ],
             [
              0.3333333333333333,
              "#9c179e"
             ],
             [
              0.4444444444444444,
              "#bd3786"
             ],
             [
              0.5555555555555556,
              "#d8576b"
             ],
             [
              0.6666666666666666,
              "#ed7953"
             ],
             [
              0.7777777777777778,
              "#fb9f3a"
             ],
             [
              0.8888888888888888,
              "#fdca26"
             ],
             [
              1,
              "#f0f921"
             ]
            ],
            "type": "surface"
           }
          ],
          "table": [
           {
            "cells": {
             "fill": {
              "color": "#EBF0F8"
             },
             "line": {
              "color": "white"
             }
            },
            "header": {
             "fill": {
              "color": "#C8D4E3"
             },
             "line": {
              "color": "white"
             }
            },
            "type": "table"
           }
          ]
         },
         "layout": {
          "annotationdefaults": {
           "arrowcolor": "#2a3f5f",
           "arrowhead": 0,
           "arrowwidth": 1
          },
          "autotypenumbers": "strict",
          "coloraxis": {
           "colorbar": {
            "outlinewidth": 0,
            "ticks": ""
           }
          },
          "colorscale": {
           "diverging": [
            [
             0,
             "#8e0152"
            ],
            [
             0.1,
             "#c51b7d"
            ],
            [
             0.2,
             "#de77ae"
            ],
            [
             0.3,
             "#f1b6da"
            ],
            [
             0.4,
             "#fde0ef"
            ],
            [
             0.5,
             "#f7f7f7"
            ],
            [
             0.6,
             "#e6f5d0"
            ],
            [
             0.7,
             "#b8e186"
            ],
            [
             0.8,
             "#7fbc41"
            ],
            [
             0.9,
             "#4d9221"
            ],
            [
             1,
             "#276419"
            ]
           ],
           "sequential": [
            [
             0,
             "#0d0887"
            ],
            [
             0.1111111111111111,
             "#46039f"
            ],
            [
             0.2222222222222222,
             "#7201a8"
            ],
            [
             0.3333333333333333,
             "#9c179e"
            ],
            [
             0.4444444444444444,
             "#bd3786"
            ],
            [
             0.5555555555555556,
             "#d8576b"
            ],
            [
             0.6666666666666666,
             "#ed7953"
            ],
            [
             0.7777777777777778,
             "#fb9f3a"
            ],
            [
             0.8888888888888888,
             "#fdca26"
            ],
            [
             1,
             "#f0f921"
            ]
           ],
           "sequentialminus": [
            [
             0,
             "#0d0887"
            ],
            [
             0.1111111111111111,
             "#46039f"
            ],
            [
             0.2222222222222222,
             "#7201a8"
            ],
            [
             0.3333333333333333,
             "#9c179e"
            ],
            [
             0.4444444444444444,
             "#bd3786"
            ],
            [
             0.5555555555555556,
             "#d8576b"
            ],
            [
             0.6666666666666666,
             "#ed7953"
            ],
            [
             0.7777777777777778,
             "#fb9f3a"
            ],
            [
             0.8888888888888888,
             "#fdca26"
            ],
            [
             1,
             "#f0f921"
            ]
           ]
          },
          "colorway": [
           "#636efa",
           "#EF553B",
           "#00cc96",
           "#ab63fa",
           "#FFA15A",
           "#19d3f3",
           "#FF6692",
           "#B6E880",
           "#FF97FF",
           "#FECB52"
          ],
          "font": {
           "color": "#2a3f5f"
          },
          "geo": {
           "bgcolor": "white",
           "lakecolor": "white",
           "landcolor": "#E5ECF6",
           "showlakes": true,
           "showland": true,
           "subunitcolor": "white"
          },
          "hoverlabel": {
           "align": "left"
          },
          "hovermode": "closest",
          "mapbox": {
           "style": "light"
          },
          "paper_bgcolor": "white",
          "plot_bgcolor": "#E5ECF6",
          "polar": {
           "angularaxis": {
            "gridcolor": "white",
            "linecolor": "white",
            "ticks": ""
           },
           "bgcolor": "#E5ECF6",
           "radialaxis": {
            "gridcolor": "white",
            "linecolor": "white",
            "ticks": ""
           }
          },
          "scene": {
           "xaxis": {
            "backgroundcolor": "#E5ECF6",
            "gridcolor": "white",
            "gridwidth": 2,
            "linecolor": "white",
            "showbackground": true,
            "ticks": "",
            "zerolinecolor": "white"
           },
           "yaxis": {
            "backgroundcolor": "#E5ECF6",
            "gridcolor": "white",
            "gridwidth": 2,
            "linecolor": "white",
            "showbackground": true,
            "ticks": "",
            "zerolinecolor": "white"
           },
           "zaxis": {
            "backgroundcolor": "#E5ECF6",
            "gridcolor": "white",
            "gridwidth": 2,
            "linecolor": "white",
            "showbackground": true,
            "ticks": "",
            "zerolinecolor": "white"
           }
          },
          "shapedefaults": {
           "line": {
            "color": "#2a3f5f"
           }
          },
          "ternary": {
           "aaxis": {
            "gridcolor": "white",
            "linecolor": "white",
            "ticks": ""
           },
           "baxis": {
            "gridcolor": "white",
            "linecolor": "white",
            "ticks": ""
           },
           "bgcolor": "#E5ECF6",
           "caxis": {
            "gridcolor": "white",
            "linecolor": "white",
            "ticks": ""
           }
          },
          "title": {
           "x": 0.05
          },
          "xaxis": {
           "automargin": true,
           "gridcolor": "white",
           "linecolor": "white",
           "ticks": "",
           "title": {
            "standoff": 15
           },
           "zerolinecolor": "white",
           "zerolinewidth": 2
          },
          "yaxis": {
           "automargin": true,
           "gridcolor": "white",
           "linecolor": "white",
           "ticks": "",
           "title": {
            "standoff": 15
           },
           "zerolinecolor": "white",
           "zerolinewidth": 2
          }
         }
        },
        "xaxis": {
         "anchor": "y",
         "domain": [
          0,
          1
         ],
         "title": {
          "text": "x"
         }
        },
        "yaxis": {
         "anchor": "x",
         "domain": [
          0,
          1
         ],
         "title": {
          "text": "y"
         }
        }
       }
      },
      "text/html": [
       "<div>                            <div id=\"5c89f515-9c84-458f-8e75-388858dd6b47\" class=\"plotly-graph-div\" style=\"height:525px; width:100%;\"></div>            <script type=\"text/javascript\">                require([\"plotly\"], function(Plotly) {                    window.PLOTLYENV=window.PLOTLYENV || {};                                    if (document.getElementById(\"5c89f515-9c84-458f-8e75-388858dd6b47\")) {                    Plotly.newPlot(                        \"5c89f515-9c84-458f-8e75-388858dd6b47\",                        [{\"hovertemplate\":\"x=%{x}<br>y=%{y}<br>Word=%{text}<br>Cluster ID=%{marker.color}<extra></extra>\",\"legendgroup\":\"\",\"marker\":{\"color\":[1,1,1,1,6,6,6,6,3,0,3,5,3,0,0,5,3,8,7,4,4,3,3,2,2,2,2,3,3,3,3,3,3,3,3],\"coloraxis\":\"coloraxis\",\"symbol\":\"circle\"},\"mode\":\"markers+text\",\"name\":\"\",\"orientation\":\"v\",\"showlegend\":false,\"text\":[\"university\",\"student\",\"teacher\",\"school\",\"football\",\"sport\",\"gym\",\"basketball\",\"germany\",\"france\",\"uk\",\"spain\",\"berlin\",\"paris\",\"london\",\"madrid\",\"film\",\"interstellar\",\"inception\",\"twitter\",\"facebook\",\"google\",\"yahoo\",\"cat\",\"dog\",\"mouse\",\"bird\",\"bmw\",\"audi\",\"wv\",\"benz\",\"obama\",\"churchill\",\"putin\",\"trump\"],\"textposition\":\"bottom right\",\"type\":\"scatter\",\"x\":[-653.86865234375,-697.51611328125,-737.4503784179688,-674.2479248046875,-422.92425537109375,-365.57635498046875,-625.8733520507812,-464.0848083496094,548.6990966796875,484.57342529296875,187.56246948242188,509.69927978515625,243.60818481445312,302.3701171875,412.86737060546875,534.1275634765625,13.488296508789062,-9.797513008117676,194.0197296142578,-94.99832916259766,-126.14301300048828,323.9669189453125,314.3076171875,48.670249938964844,12.842942237854004,59.053096771240234,95.94950866699219,118.62694549560547,93.44296264648438,117.05770111083984,124.18647003173828,112.6347885131836,171.25694274902344,66.41412353515625,-11.100259780883789],\"xaxis\":\"x\",\"y\":[-383.09649658203125,-353.49688720703125,-298.3379821777344,-305.9650573730469,-116.05289459228516,-100.81041717529297,-251.3912353515625,-127.83148956298828,321.1895446777344,308.499267578125,81.20838165283203,247.49853515625,9.62971305847168,103.96878814697266,185.37017822265625,210.83314514160156,-122.17950439453125,91.12326049804688,-77.86788177490234,437.2620544433594,409.176025390625,-138.19778442382812,-66.90486145019531,-444.7481689453125,-468.8192443847656,-366.7424011230469,-491.6861877441406,-130.15614318847656,33.96800994873047,158.59323120117188,-21.32026481628418,222.22674560546875,4.272421360015869,-42.50937271118164,-26.746875762939453],\"yaxis\":\"y\"}],                        {\"coloraxis\":{\"colorbar\":{\"title\":{\"text\":\"Cluster ID\"}},\"colorscale\":[[0.0,\"#0d0887\"],[0.1111111111111111,\"#46039f\"],[0.2222222222222222,\"#7201a8\"],[0.3333333333333333,\"#9c179e\"],[0.4444444444444444,\"#bd3786\"],[0.5555555555555556,\"#d8576b\"],[0.6666666666666666,\"#ed7953\"],[0.7777777777777778,\"#fb9f3a\"],[0.8888888888888888,\"#fdca26\"],[1.0,\"#f0f921\"]]},\"legend\":{\"tracegroupgap\":0},\"margin\":{\"t\":60},\"template\":{\"data\":{\"bar\":[{\"error_x\":{\"color\":\"#2a3f5f\"},\"error_y\":{\"color\":\"#2a3f5f\"},\"marker\":{\"line\":{\"color\":\"#E5ECF6\",\"width\":0.5},\"pattern\":{\"fillmode\":\"overlay\",\"size\":10,\"solidity\":0.2}},\"type\":\"bar\"}],\"barpolar\":[{\"marker\":{\"line\":{\"color\":\"#E5ECF6\",\"width\":0.5},\"pattern\":{\"fillmode\":\"overlay\",\"size\":10,\"solidity\":0.2}},\"type\":\"barpolar\"}],\"carpet\":[{\"aaxis\":{\"endlinecolor\":\"#2a3f5f\",\"gridcolor\":\"white\",\"linecolor\":\"white\",\"minorgridcolor\":\"white\",\"startlinecolor\":\"#2a3f5f\"},\"baxis\":{\"endlinecolor\":\"#2a3f5f\",\"gridcolor\":\"white\",\"linecolor\":\"white\",\"minorgridcolor\":\"white\",\"startlinecolor\":\"#2a3f5f\"},\"type\":\"carpet\"}],\"choropleth\":[{\"colorbar\":{\"outlinewidth\":0,\"ticks\":\"\"},\"type\":\"choropleth\"}],\"contour\":[{\"colorbar\":{\"outlinewidth\":0,\"ticks\":\"\"},\"colorscale\":[[0.0,\"#0d0887\"],[0.1111111111111111,\"#46039f\"],[0.2222222222222222,\"#7201a8\"],[0.3333333333333333,\"#9c179e\"],[0.4444444444444444,\"#bd3786\"],[0.5555555555555556,\"#d8576b\"],[0.6666666666666666,\"#ed7953\"],[0.7777777777777778,\"#fb9f3a\"],[0.8888888888888888,\"#fdca26\"],[1.0,\"#f0f921\"]],\"type\":\"contour\"}],\"contourcarpet\":[{\"colorbar\":{\"outlinewidth\":0,\"ticks\":\"\"},\"type\":\"contourcarpet\"}],\"heatmap\":[{\"colorbar\":{\"outlinewidth\":0,\"ticks\":\"\"},\"colorscale\":[[0.0,\"#0d0887\"],[0.1111111111111111,\"#46039f\"],[0.2222222222222222,\"#7201a8\"],[0.3333333333333333,\"#9c179e\"],[0.4444444444444444,\"#bd3786\"],[0.5555555555555556,\"#d8576b\"],[0.6666666666666666,\"#ed7953\"],[0.7777777777777778,\"#fb9f3a\"],[0.8888888888888888,\"#fdca26\"],[1.0,\"#f0f921\"]],\"type\":\"heatmap\"}],\"heatmapgl\":[{\"colorbar\":{\"outlinewidth\":0,\"ticks\":\"\"},\"colorscale\":[[0.0,\"#0d0887\"],[0.1111111111111111,\"#46039f\"],[0.2222222222222222,\"#7201a8\"],[0.3333333333333333,\"#9c179e\"],[0.4444444444444444,\"#bd3786\"],[0.5555555555555556,\"#d8576b\"],[0.6666666666666666,\"#ed7953\"],[0.7777777777777778,\"#fb9f3a\"],[0.8888888888888888,\"#fdca26\"],[1.0,\"#f0f921\"]],\"type\":\"heatmapgl\"}],\"histogram\":[{\"marker\":{\"pattern\":{\"fillmode\":\"overlay\",\"size\":10,\"solidity\":0.2}},\"type\":\"histogram\"}],\"histogram2d\":[{\"colorbar\":{\"outlinewidth\":0,\"ticks\":\"\"},\"colorscale\":[[0.0,\"#0d0887\"],[0.1111111111111111,\"#46039f\"],[0.2222222222222222,\"#7201a8\"],[0.3333333333333333,\"#9c179e\"],[0.4444444444444444,\"#bd3786\"],[0.5555555555555556,\"#d8576b\"],[0.6666666666666666,\"#ed7953\"],[0.7777777777777778,\"#fb9f3a\"],[0.8888888888888888,\"#fdca26\"],[1.0,\"#f0f921\"]],\"type\":\"histogram2d\"}],\"histogram2dcontour\":[{\"colorbar\":{\"outlinewidth\":0,\"ticks\":\"\"},\"colorscale\":[[0.0,\"#0d0887\"],[0.1111111111111111,\"#46039f\"],[0.2222222222222222,\"#7201a8\"],[0.3333333333333333,\"#9c179e\"],[0.4444444444444444,\"#bd3786\"],[0.5555555555555556,\"#d8576b\"],[0.6666666666666666,\"#ed7953\"],[0.7777777777777778,\"#fb9f3a\"],[0.8888888888888888,\"#fdca26\"],[1.0,\"#f0f921\"]],\"type\":\"histogram2dcontour\"}],\"mesh3d\":[{\"colorbar\":{\"outlinewidth\":0,\"ticks\":\"\"},\"type\":\"mesh3d\"}],\"parcoords\":[{\"line\":{\"colorbar\":{\"outlinewidth\":0,\"ticks\":\"\"}},\"type\":\"parcoords\"}],\"pie\":[{\"automargin\":true,\"type\":\"pie\"}],\"scatter\":[{\"marker\":{\"colorbar\":{\"outlinewidth\":0,\"ticks\":\"\"}},\"type\":\"scatter\"}],\"scatter3d\":[{\"line\":{\"colorbar\":{\"outlinewidth\":0,\"ticks\":\"\"}},\"marker\":{\"colorbar\":{\"outlinewidth\":0,\"ticks\":\"\"}},\"type\":\"scatter3d\"}],\"scattercarpet\":[{\"marker\":{\"colorbar\":{\"outlinewidth\":0,\"ticks\":\"\"}},\"type\":\"scattercarpet\"}],\"scattergeo\":[{\"marker\":{\"colorbar\":{\"outlinewidth\":0,\"ticks\":\"\"}},\"type\":\"scattergeo\"}],\"scattergl\":[{\"marker\":{\"colorbar\":{\"outlinewidth\":0,\"ticks\":\"\"}},\"type\":\"scattergl\"}],\"scattermapbox\":[{\"marker\":{\"colorbar\":{\"outlinewidth\":0,\"ticks\":\"\"}},\"type\":\"scattermapbox\"}],\"scatterpolar\":[{\"marker\":{\"colorbar\":{\"outlinewidth\":0,\"ticks\":\"\"}},\"type\":\"scatterpolar\"}],\"scatterpolargl\":[{\"marker\":{\"colorbar\":{\"outlinewidth\":0,\"ticks\":\"\"}},\"type\":\"scatterpolargl\"}],\"scatterternary\":[{\"marker\":{\"colorbar\":{\"outlinewidth\":0,\"ticks\":\"\"}},\"type\":\"scatterternary\"}],\"surface\":[{\"colorbar\":{\"outlinewidth\":0,\"ticks\":\"\"},\"colorscale\":[[0.0,\"#0d0887\"],[0.1111111111111111,\"#46039f\"],[0.2222222222222222,\"#7201a8\"],[0.3333333333333333,\"#9c179e\"],[0.4444444444444444,\"#bd3786\"],[0.5555555555555556,\"#d8576b\"],[0.6666666666666666,\"#ed7953\"],[0.7777777777777778,\"#fb9f3a\"],[0.8888888888888888,\"#fdca26\"],[1.0,\"#f0f921\"]],\"type\":\"surface\"}],\"table\":[{\"cells\":{\"fill\":{\"color\":\"#EBF0F8\"},\"line\":{\"color\":\"white\"}},\"header\":{\"fill\":{\"color\":\"#C8D4E3\"},\"line\":{\"color\":\"white\"}},\"type\":\"table\"}]},\"layout\":{\"annotationdefaults\":{\"arrowcolor\":\"#2a3f5f\",\"arrowhead\":0,\"arrowwidth\":1},\"autotypenumbers\":\"strict\",\"coloraxis\":{\"colorbar\":{\"outlinewidth\":0,\"ticks\":\"\"}},\"colorscale\":{\"diverging\":[[0,\"#8e0152\"],[0.1,\"#c51b7d\"],[0.2,\"#de77ae\"],[0.3,\"#f1b6da\"],[0.4,\"#fde0ef\"],[0.5,\"#f7f7f7\"],[0.6,\"#e6f5d0\"],[0.7,\"#b8e186\"],[0.8,\"#7fbc41\"],[0.9,\"#4d9221\"],[1,\"#276419\"]],\"sequential\":[[0.0,\"#0d0887\"],[0.1111111111111111,\"#46039f\"],[0.2222222222222222,\"#7201a8\"],[0.3333333333333333,\"#9c179e\"],[0.4444444444444444,\"#bd3786\"],[0.5555555555555556,\"#d8576b\"],[0.6666666666666666,\"#ed7953\"],[0.7777777777777778,\"#fb9f3a\"],[0.8888888888888888,\"#fdca26\"],[1.0,\"#f0f921\"]],\"sequentialminus\":[[0.0,\"#0d0887\"],[0.1111111111111111,\"#46039f\"],[0.2222222222222222,\"#7201a8\"],[0.3333333333333333,\"#9c179e\"],[0.4444444444444444,\"#bd3786\"],[0.5555555555555556,\"#d8576b\"],[0.6666666666666666,\"#ed7953\"],[0.7777777777777778,\"#fb9f3a\"],[0.8888888888888888,\"#fdca26\"],[1.0,\"#f0f921\"]]},\"colorway\":[\"#636efa\",\"#EF553B\",\"#00cc96\",\"#ab63fa\",\"#FFA15A\",\"#19d3f3\",\"#FF6692\",\"#B6E880\",\"#FF97FF\",\"#FECB52\"],\"font\":{\"color\":\"#2a3f5f\"},\"geo\":{\"bgcolor\":\"white\",\"lakecolor\":\"white\",\"landcolor\":\"#E5ECF6\",\"showlakes\":true,\"showland\":true,\"subunitcolor\":\"white\"},\"hoverlabel\":{\"align\":\"left\"},\"hovermode\":\"closest\",\"mapbox\":{\"style\":\"light\"},\"paper_bgcolor\":\"white\",\"plot_bgcolor\":\"#E5ECF6\",\"polar\":{\"angularaxis\":{\"gridcolor\":\"white\",\"linecolor\":\"white\",\"ticks\":\"\"},\"bgcolor\":\"#E5ECF6\",\"radialaxis\":{\"gridcolor\":\"white\",\"linecolor\":\"white\",\"ticks\":\"\"}},\"scene\":{\"xaxis\":{\"backgroundcolor\":\"#E5ECF6\",\"gridcolor\":\"white\",\"gridwidth\":2,\"linecolor\":\"white\",\"showbackground\":true,\"ticks\":\"\",\"zerolinecolor\":\"white\"},\"yaxis\":{\"backgroundcolor\":\"#E5ECF6\",\"gridcolor\":\"white\",\"gridwidth\":2,\"linecolor\":\"white\",\"showbackground\":true,\"ticks\":\"\",\"zerolinecolor\":\"white\"},\"zaxis\":{\"backgroundcolor\":\"#E5ECF6\",\"gridcolor\":\"white\",\"gridwidth\":2,\"linecolor\":\"white\",\"showbackground\":true,\"ticks\":\"\",\"zerolinecolor\":\"white\"}},\"shapedefaults\":{\"line\":{\"color\":\"#2a3f5f\"}},\"ternary\":{\"aaxis\":{\"gridcolor\":\"white\",\"linecolor\":\"white\",\"ticks\":\"\"},\"baxis\":{\"gridcolor\":\"white\",\"linecolor\":\"white\",\"ticks\":\"\"},\"bgcolor\":\"#E5ECF6\",\"caxis\":{\"gridcolor\":\"white\",\"linecolor\":\"white\",\"ticks\":\"\"}},\"title\":{\"x\":0.05},\"xaxis\":{\"automargin\":true,\"gridcolor\":\"white\",\"linecolor\":\"white\",\"ticks\":\"\",\"title\":{\"standoff\":15},\"zerolinecolor\":\"white\",\"zerolinewidth\":2},\"yaxis\":{\"automargin\":true,\"gridcolor\":\"white\",\"linecolor\":\"white\",\"ticks\":\"\",\"title\":{\"standoff\":15},\"zerolinecolor\":\"white\",\"zerolinewidth\":2}}},\"xaxis\":{\"anchor\":\"y\",\"domain\":[0.0,1.0],\"title\":{\"text\":\"x\"}},\"yaxis\":{\"anchor\":\"x\",\"domain\":[0.0,1.0],\"title\":{\"text\":\"y\"}}},                        {\"responsive\": true}                    ).then(function(){\n",
       "                            \n",
       "var gd = document.getElementById('5c89f515-9c84-458f-8e75-388858dd6b47');\n",
       "var x = new MutationObserver(function (mutations, observer) {{\n",
       "        var display = window.getComputedStyle(gd).display;\n",
       "        if (!display || display === 'none') {{\n",
       "            console.log([gd, 'removed!']);\n",
       "            Plotly.purge(gd);\n",
       "            observer.disconnect();\n",
       "        }}\n",
       "}});\n",
       "\n",
       "// Listen for the removal of the full notebook cells\n",
       "var notebookContainer = gd.closest('#notebook-container');\n",
       "if (notebookContainer) {{\n",
       "    x.observe(notebookContainer, {childList: true});\n",
       "}}\n",
       "\n",
       "// Listen for the clearing of the current output cell\n",
       "var outputEl = gd.closest('.output');\n",
       "if (outputEl) {{\n",
       "    x.observe(outputEl, {childList: true});\n",
       "}}\n",
       "\n",
       "                        })                };                });            </script>        </div>"
      ]
     },
     "metadata": {},
     "output_type": "display_data"
    }
   ],
   "source": [
    "df = pd.DataFrame({\"Word\": vocabulary, \"Cluster ID\": cluster_labels, \n",
    "                   \"x\": reduced_vectors[:, 0], \"y\": reduced_vectors[:, 1]})\n",
    "fig = px.scatter(df, x=\"x\", y=\"y\", color=\"Cluster ID\", text=\"Word\")\n",
    "fig.update_traces(textposition=\"bottom right\")\n",
    "fig.show()"
   ]
  },
  {
   "cell_type": "code",
   "execution_count": null,
   "id": "a7b7cd03",
   "metadata": {},
   "outputs": [],
   "source": []
  }
 ],
 "metadata": {
  "kernelspec": {
   "display_name": "Python 3 (ipykernel)",
   "language": "python",
   "name": "python3"
  },
  "language_info": {
   "codemirror_mode": {
    "name": "ipython",
    "version": 3
   },
   "file_extension": ".py",
   "mimetype": "text/x-python",
   "name": "python",
   "nbconvert_exporter": "python",
   "pygments_lexer": "ipython3",
   "version": "3.8.12"
  }
 },
 "nbformat": 4,
 "nbformat_minor": 5
}
