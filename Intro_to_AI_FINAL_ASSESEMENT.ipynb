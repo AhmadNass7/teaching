{
  "cells": [
    {
      "cell_type": "markdown",
      "metadata": {
        "id": "view-in-github",
        "colab_type": "text"
      },
      "source": [
        "<a href=\"https://colab.research.google.com/github/AhmadNass7/teaching/blob/main/Intro_to_AI_FINAL_ASSESEMENT.ipynb\" target=\"_parent\"><img src=\"https://colab.research.google.com/assets/colab-badge.svg\" alt=\"Open In Colab\"/></a>"
      ]
    },
    {
      "cell_type": "markdown",
      "source": [
        "## A brief summary of the Data Set that has been collected here\n",
        "\n",
        "* This data set basically discusses the factors that lead to lung cancer and how they effectively affect human beings. Its shown here that there are plenty of features that are increasing the death of human beings. As a data scientist, my purpose is to create a pipeline that predicts if a person is affected by lung cancer or not by using the stated features /factors.\n",
        "\n",
        "* This Data Set is taken from kaggle , a well known site that contains different types of Data Sets and below a brief summary of the Data Set.\n",
        "\n",
        "\n",
        "\n",
        "\n",
        "\n",
        "\n",
        "* Quality Information:\n",
        "\n",
        "1.Gender: M(male), F(female)\n",
        "\n",
        "2.Age: Age of the patient\n",
        "\n",
        "3.Smoking: YES=2 , NO=1.\n",
        "\n",
        "4.Yellow fingers: YES=2 , NO=1.\n",
        "\n",
        "5.Anxiety: YES=2 , NO=1.\n",
        "\n",
        "6.Peer_pressure: YES=2 , NO=1.\n",
        "\n",
        "7.Chronic Disease: YES=2 , NO=1.\n",
        "\n",
        "8.Fatigue: YES=2 , NO=1.\n",
        "\n",
        "9.Allergy: YES=2 , NO=1.\n",
        "\n",
        "10.Wheezing: YES=2 , NO=1.\n",
        "\n",
        "11.Alcohol: YES=2 , NO=1.\n",
        "\n",
        "12.Coughing: YES=2 , NO=1.\n",
        "\n",
        "13.Shortness of Breath: YES=2 , NO=1.\n",
        "\n",
        "14.Swallowing Difficulty: YES=2 , NO=1.\n",
        "\n",
        "15.Chest pain: YES=2 , NO=1.\n",
        "\n",
        "16.Lung Cancer: YES , NO.\n",
        "\n",
        "\n",
        "Data Set Reference: https://www.kaggle.com/datasets/mysarahmadbhat/lung-cancer "
      ],
      "metadata": {
        "id": "2uzVoTyPw9qm"
      },
      "id": "2uzVoTyPw9qm"
    },
    {
      "cell_type": "markdown",
      "metadata": {
        "id": "ikPBjnWKOokl"
      },
      "source": [
        "## Importing Libraries"
      ],
      "id": "ikPBjnWKOokl"
    },
    {
      "cell_type": "markdown",
      "source": [
        "**Here we imported specific libraries to be able to run our codes, and these libraries were imported succesfully.**"
      ],
      "metadata": {
        "id": "uJl45rPc19b-"
      },
      "id": "uJl45rPc19b-"
    },
    {
      "cell_type": "code",
      "execution_count": null,
      "metadata": {
        "id": "WrdSoVdJOozo"
      },
      "outputs": [],
      "source": [
        "\n",
        "\n",
        "\n",
        "import pandas as pd \n",
        "import sklearn.model_selection\n",
        "import sklearn.preprocessing\n",
        "import imblearn.over_sampling\n",
        "import sklearn.svm\n",
        "import sklearn.tree\n",
        "import sklearn.neighbors\n",
        "import sklearn.linear_model\n",
        "import sklearn.metrics\n"
      ],
      "id": "WrdSoVdJOozo"
    },
    {
      "cell_type": "markdown",
      "metadata": {
        "id": "JFBONwdyOpES"
      },
      "source": [
        "## Loading the Data Sets"
      ],
      "id": "JFBONwdyOpES"
    },
    {
      "cell_type": "markdown",
      "source": [
        "**The second step is loading the Data Set where we upload the Data Set taken and implement it in our machine learning pipeline, so it will be shown clearly with all its given features. In addition to that, I printed the first 5 samples of this Data Set.  **"
      ],
      "metadata": {
        "id": "nQaDaMCx3Ocx"
      },
      "id": "nQaDaMCx3Ocx"
    },
    {
      "cell_type": "code",
      "execution_count": null,
      "metadata": {
        "colab": {
          "base_uri": "https://localhost:8080/",
          "height": 287
        },
        "id": "CQWEhIkMOpU8",
        "outputId": "8f2b19eb-9cb7-483c-ca1f-3f0d13e6bf00"
      },
      "outputs": [
        {
          "output_type": "execute_result",
          "data": {
            "text/plain": [
              "  GENDER  AGE  SMOKING  YELLOW_FINGERS  ANXIETY  PEER_PRESSURE  \\\n",
              "0      M   69        1               2        2              1   \n",
              "1      M   74        2               1        1              1   \n",
              "2      F   59        1               1        1              2   \n",
              "3      M   63        2               2        2              1   \n",
              "4      F   63        1               2        1              1   \n",
              "\n",
              "   CHRONIC DISEASE  FATIGUE   ALLERGY   WHEEZING  ALCOHOL CONSUMING  COUGHING  \\\n",
              "0                1         2         1         2                  2         2   \n",
              "1                2         2         2         1                  1         1   \n",
              "2                1         2         1         2                  1         2   \n",
              "3                1         1         1         1                  2         1   \n",
              "4                1         1         1         2                  1         2   \n",
              "\n",
              "   SHORTNESS OF BREATH  SWALLOWING DIFFICULTY  CHEST PAIN LUNG_CANCER  \n",
              "0                    2                      2           2         YES  \n",
              "1                    2                      2           2         YES  \n",
              "2                    2                      1           2          NO  \n",
              "3                    1                      2           2          NO  \n",
              "4                    2                      1           1          NO  "
            ],
            "text/html": [
              "\n",
              "  <div id=\"df-19a87f8d-bf38-4351-9a19-44385383d367\">\n",
              "    <div class=\"colab-df-container\">\n",
              "      <div>\n",
              "<style scoped>\n",
              "    .dataframe tbody tr th:only-of-type {\n",
              "        vertical-align: middle;\n",
              "    }\n",
              "\n",
              "    .dataframe tbody tr th {\n",
              "        vertical-align: top;\n",
              "    }\n",
              "\n",
              "    .dataframe thead th {\n",
              "        text-align: right;\n",
              "    }\n",
              "</style>\n",
              "<table border=\"1\" class=\"dataframe\">\n",
              "  <thead>\n",
              "    <tr style=\"text-align: right;\">\n",
              "      <th></th>\n",
              "      <th>GENDER</th>\n",
              "      <th>AGE</th>\n",
              "      <th>SMOKING</th>\n",
              "      <th>YELLOW_FINGERS</th>\n",
              "      <th>ANXIETY</th>\n",
              "      <th>PEER_PRESSURE</th>\n",
              "      <th>CHRONIC DISEASE</th>\n",
              "      <th>FATIGUE</th>\n",
              "      <th>ALLERGY</th>\n",
              "      <th>WHEEZING</th>\n",
              "      <th>ALCOHOL CONSUMING</th>\n",
              "      <th>COUGHING</th>\n",
              "      <th>SHORTNESS OF BREATH</th>\n",
              "      <th>SWALLOWING DIFFICULTY</th>\n",
              "      <th>CHEST PAIN</th>\n",
              "      <th>LUNG_CANCER</th>\n",
              "    </tr>\n",
              "  </thead>\n",
              "  <tbody>\n",
              "    <tr>\n",
              "      <th>0</th>\n",
              "      <td>M</td>\n",
              "      <td>69</td>\n",
              "      <td>1</td>\n",
              "      <td>2</td>\n",
              "      <td>2</td>\n",
              "      <td>1</td>\n",
              "      <td>1</td>\n",
              "      <td>2</td>\n",
              "      <td>1</td>\n",
              "      <td>2</td>\n",
              "      <td>2</td>\n",
              "      <td>2</td>\n",
              "      <td>2</td>\n",
              "      <td>2</td>\n",
              "      <td>2</td>\n",
              "      <td>YES</td>\n",
              "    </tr>\n",
              "    <tr>\n",
              "      <th>1</th>\n",
              "      <td>M</td>\n",
              "      <td>74</td>\n",
              "      <td>2</td>\n",
              "      <td>1</td>\n",
              "      <td>1</td>\n",
              "      <td>1</td>\n",
              "      <td>2</td>\n",
              "      <td>2</td>\n",
              "      <td>2</td>\n",
              "      <td>1</td>\n",
              "      <td>1</td>\n",
              "      <td>1</td>\n",
              "      <td>2</td>\n",
              "      <td>2</td>\n",
              "      <td>2</td>\n",
              "      <td>YES</td>\n",
              "    </tr>\n",
              "    <tr>\n",
              "      <th>2</th>\n",
              "      <td>F</td>\n",
              "      <td>59</td>\n",
              "      <td>1</td>\n",
              "      <td>1</td>\n",
              "      <td>1</td>\n",
              "      <td>2</td>\n",
              "      <td>1</td>\n",
              "      <td>2</td>\n",
              "      <td>1</td>\n",
              "      <td>2</td>\n",
              "      <td>1</td>\n",
              "      <td>2</td>\n",
              "      <td>2</td>\n",
              "      <td>1</td>\n",
              "      <td>2</td>\n",
              "      <td>NO</td>\n",
              "    </tr>\n",
              "    <tr>\n",
              "      <th>3</th>\n",
              "      <td>M</td>\n",
              "      <td>63</td>\n",
              "      <td>2</td>\n",
              "      <td>2</td>\n",
              "      <td>2</td>\n",
              "      <td>1</td>\n",
              "      <td>1</td>\n",
              "      <td>1</td>\n",
              "      <td>1</td>\n",
              "      <td>1</td>\n",
              "      <td>2</td>\n",
              "      <td>1</td>\n",
              "      <td>1</td>\n",
              "      <td>2</td>\n",
              "      <td>2</td>\n",
              "      <td>NO</td>\n",
              "    </tr>\n",
              "    <tr>\n",
              "      <th>4</th>\n",
              "      <td>F</td>\n",
              "      <td>63</td>\n",
              "      <td>1</td>\n",
              "      <td>2</td>\n",
              "      <td>1</td>\n",
              "      <td>1</td>\n",
              "      <td>1</td>\n",
              "      <td>1</td>\n",
              "      <td>1</td>\n",
              "      <td>2</td>\n",
              "      <td>1</td>\n",
              "      <td>2</td>\n",
              "      <td>2</td>\n",
              "      <td>1</td>\n",
              "      <td>1</td>\n",
              "      <td>NO</td>\n",
              "    </tr>\n",
              "  </tbody>\n",
              "</table>\n",
              "</div>\n",
              "      <button class=\"colab-df-convert\" onclick=\"convertToInteractive('df-19a87f8d-bf38-4351-9a19-44385383d367')\"\n",
              "              title=\"Convert this dataframe to an interactive table.\"\n",
              "              style=\"display:none;\">\n",
              "        \n",
              "  <svg xmlns=\"http://www.w3.org/2000/svg\" height=\"24px\"viewBox=\"0 0 24 24\"\n",
              "       width=\"24px\">\n",
              "    <path d=\"M0 0h24v24H0V0z\" fill=\"none\"/>\n",
              "    <path d=\"M18.56 5.44l.94 2.06.94-2.06 2.06-.94-2.06-.94-.94-2.06-.94 2.06-2.06.94zm-11 1L8.5 8.5l.94-2.06 2.06-.94-2.06-.94L8.5 2.5l-.94 2.06-2.06.94zm10 10l.94 2.06.94-2.06 2.06-.94-2.06-.94-.94-2.06-.94 2.06-2.06.94z\"/><path d=\"M17.41 7.96l-1.37-1.37c-.4-.4-.92-.59-1.43-.59-.52 0-1.04.2-1.43.59L10.3 9.45l-7.72 7.72c-.78.78-.78 2.05 0 2.83L4 21.41c.39.39.9.59 1.41.59.51 0 1.02-.2 1.41-.59l7.78-7.78 2.81-2.81c.8-.78.8-2.07 0-2.86zM5.41 20L4 18.59l7.72-7.72 1.47 1.35L5.41 20z\"/>\n",
              "  </svg>\n",
              "      </button>\n",
              "      \n",
              "  <style>\n",
              "    .colab-df-container {\n",
              "      display:flex;\n",
              "      flex-wrap:wrap;\n",
              "      gap: 12px;\n",
              "    }\n",
              "\n",
              "    .colab-df-convert {\n",
              "      background-color: #E8F0FE;\n",
              "      border: none;\n",
              "      border-radius: 50%;\n",
              "      cursor: pointer;\n",
              "      display: none;\n",
              "      fill: #1967D2;\n",
              "      height: 32px;\n",
              "      padding: 0 0 0 0;\n",
              "      width: 32px;\n",
              "    }\n",
              "\n",
              "    .colab-df-convert:hover {\n",
              "      background-color: #E2EBFA;\n",
              "      box-shadow: 0px 1px 2px rgba(60, 64, 67, 0.3), 0px 1px 3px 1px rgba(60, 64, 67, 0.15);\n",
              "      fill: #174EA6;\n",
              "    }\n",
              "\n",
              "    [theme=dark] .colab-df-convert {\n",
              "      background-color: #3B4455;\n",
              "      fill: #D2E3FC;\n",
              "    }\n",
              "\n",
              "    [theme=dark] .colab-df-convert:hover {\n",
              "      background-color: #434B5C;\n",
              "      box-shadow: 0px 1px 3px 1px rgba(0, 0, 0, 0.15);\n",
              "      filter: drop-shadow(0px 1px 2px rgba(0, 0, 0, 0.3));\n",
              "      fill: #FFFFFF;\n",
              "    }\n",
              "  </style>\n",
              "\n",
              "      <script>\n",
              "        const buttonEl =\n",
              "          document.querySelector('#df-19a87f8d-bf38-4351-9a19-44385383d367 button.colab-df-convert');\n",
              "        buttonEl.style.display =\n",
              "          google.colab.kernel.accessAllowed ? 'block' : 'none';\n",
              "\n",
              "        async function convertToInteractive(key) {\n",
              "          const element = document.querySelector('#df-19a87f8d-bf38-4351-9a19-44385383d367');\n",
              "          const dataTable =\n",
              "            await google.colab.kernel.invokeFunction('convertToInteractive',\n",
              "                                                     [key], {});\n",
              "          if (!dataTable) return;\n",
              "\n",
              "          const docLinkHtml = 'Like what you see? Visit the ' +\n",
              "            '<a target=\"_blank\" href=https://colab.research.google.com/notebooks/data_table.ipynb>data table notebook</a>'\n",
              "            + ' to learn more about interactive tables.';\n",
              "          element.innerHTML = '';\n",
              "          dataTable['output_type'] = 'display_data';\n",
              "          await google.colab.output.renderOutput(dataTable, element);\n",
              "          const docLink = document.createElement('div');\n",
              "          docLink.innerHTML = docLinkHtml;\n",
              "          element.appendChild(docLink);\n",
              "        }\n",
              "      </script>\n",
              "    </div>\n",
              "  </div>\n",
              "  "
            ]
          },
          "metadata": {},
          "execution_count": 2
        }
      ],
      "source": [
        "\n",
        "\n",
        "\n",
        "df=pd.read_csv(\"slc.csv\")\n",
        "df.head()"
      ],
      "id": "CQWEhIkMOpU8"
    },
    {
      "cell_type": "markdown",
      "metadata": {
        "id": "FeSOHKO5OpkF"
      },
      "source": [
        "## Splitting The Data Sets into Training and Testing"
      ],
      "id": "FeSOHKO5OpkF"
    },
    {
      "cell_type": "markdown",
      "source": [
        " **Splitting the Data Sets into training and testing is basically to determine the effectiveness of the machine learning pipeline and be able to match our predictions to prevent Data leakage. Its shown here that 231 of the Data Set were trained and 78 of the Data Set were basically tested. **"
      ],
      "metadata": {
        "id": "VUGh_ed_4o-H"
      },
      "id": "VUGh_ed_4o-H"
    },
    {
      "cell_type": "code",
      "execution_count": null,
      "metadata": {
        "colab": {
          "base_uri": "https://localhost:8080/"
        },
        "id": "DJMRpNIqOpyp",
        "outputId": "37e30f2d-5433-4da3-bd63-9dabb438ece9"
      },
      "outputs": [
        {
          "output_type": "stream",
          "name": "stdout",
          "text": [
            "df_train size: (231, 16)\n",
            "df_test size: (78, 16)\n"
          ]
        }
      ],
      "source": [
        "\n",
        "\n",
        "\n",
        "\n",
        "df_train, df_test= sklearn.model_selection.train_test_split(df, random_state=20)\n",
        "\n",
        "\n",
        "print(\"df_train size:\", df_train.shape)\n",
        "print(\"df_test size:\", df_test.shape) "
      ],
      "id": "DJMRpNIqOpyp"
    },
    {
      "cell_type": "markdown",
      "metadata": {
        "id": "DfYB08fhOqTY"
      },
      "source": [
        "## Data Exploration\n"
      ],
      "id": "DfYB08fhOqTY"
    },
    {
      "cell_type": "markdown",
      "source": [
        "**Data exploration is basically the technique or method used to make the Data Set simmplier and easy to understand inorder to get a good data analysis and explore deeper visualization of the Data Set they are working with. **"
      ],
      "metadata": {
        "id": "_rk9nt2i6j4F"
      },
      "id": "_rk9nt2i6j4F"
    },
    {
      "cell_type": "markdown",
      "source": [
        "# **Its shown here that i used unique function to look for implicit missing values. Implicit missing values are basically represented by unique elements that indicates missing data. Its important to figure out implicit missing values since they have a huge effect on predictions and conclusions. PS: Renaming columns is used here because Fatigue and Allergy was indicated unproperly having a space thats why i renamed the column to fit them correctly and precisely. It should be both renamed in training and testing.**"
      ],
      "metadata": {
        "id": "foHBX-Sh8AZ5"
      },
      "id": "foHBX-Sh8AZ5"
    },
    {
      "cell_type": "code",
      "execution_count": null,
      "metadata": {
        "colab": {
          "base_uri": "https://localhost:8080/"
        },
        "id": "HFBHpV0PSIYf",
        "outputId": "424488e6-2d7a-4596-94bc-f38aea0a2cc3"
      },
      "outputs": [
        {
          "output_type": "execute_result",
          "data": {
            "text/plain": [
              "array(['YES', 'NO'], dtype=object)"
            ]
          },
          "metadata": {},
          "execution_count": 4
        }
      ],
      "source": [
        "## Training Section:\n",
        "\n",
        "df_train[\"AGE\"].unique()\n",
        "\n",
        "df_train[\"SMOKING\"].unique()\n",
        "\n",
        "df_train[\"YELLOW_FINGERS\"].unique()\n",
        "\n",
        "df_train[\"ANXIETY\"].unique()\n",
        "\n",
        "df_train[\"PEER_PRESSURE\"].unique()\n",
        "\n",
        "df_train[\"CHRONIC DISEASE\"].unique()\n",
        "\n",
        "df_train = df_train.rename(columns={'FATIGUE ' : 'FATIGUE', 'ALLERGY ' : 'ALLERGY'})\n",
        "## Renaming the columns \n",
        "\n",
        "\n",
        "df_train[\"FATIGUE\"].unique()\n",
        "\n",
        "df_train[\"ALLERGY\"].unique()\n",
        "\n",
        "df_train[\"WHEEZING\"].unique()\n",
        "\n",
        "df_train[\"ALCOHOL CONSUMING\"].unique()\n",
        "\n",
        "df_train[\"COUGHING\"].unique()\n",
        "\n",
        "df_train[\"SHORTNESS OF BREATH\"].unique()\n",
        "\n",
        "df_train[\"SWALLOWING DIFFICULTY\"].unique()\n",
        "\n",
        "df_train[\"CHEST PAIN\"].unique()\n",
        "\n",
        "df_train[\"LUNG_CANCER\"].unique()\n",
        "\n",
        "\n",
        "\n",
        "\n",
        "## Testing Section:\n",
        "\n",
        "\n",
        "df_test[\"AGE\"].unique()\n",
        "\n",
        "df_test[\"SMOKING\"].unique()\n",
        "\n",
        "df_test[\"YELLOW_FINGERS\"].unique()\n",
        "\n",
        "df_test[\"ANXIETY\"].unique()\n",
        "\n",
        "df_test[\"PEER_PRESSURE\"].unique()\n",
        "\n",
        "df_test[\"CHRONIC DISEASE\"].unique()\n",
        "\n",
        "df_test = df_test.rename(columns={'FATIGUE ' : 'FATIGUE', 'ALLERGY ' : 'ALLERGY'}) \n",
        "## Renaming the columm\n",
        "\n",
        "\n",
        "df_test[\"FATIGUE\"].unique()\n",
        "\n",
        "df_test[\"ALLERGY\"].unique()\n",
        "\n",
        "df_test[\"WHEEZING\"].unique()\n",
        "\n",
        "df_test[\"ALCOHOL CONSUMING\"].unique()\n",
        "\n",
        "df_test[\"COUGHING\"].unique()\n",
        "\n",
        "df_test[\"SHORTNESS OF BREATH\"].unique()\n",
        "\n",
        "df_test[\"SWALLOWING DIFFICULTY\"].unique()\n",
        "\n",
        "df_test[\"CHEST PAIN\"].unique()\n",
        "\n",
        "df_test[\"LUNG_CANCER\"].unique()\n",
        "\n",
        "\n",
        "\n",
        "\n",
        "\n",
        "\n"
      ],
      "id": "HFBHpV0PSIYf"
    },
    {
      "cell_type": "code",
      "execution_count": null,
      "metadata": {
        "colab": {
          "base_uri": "https://localhost:8080/"
        },
        "id": "GBPAcoAASLPr",
        "outputId": "7b548283-767b-4842-feef-bbbad9ad076a"
      },
      "outputs": [
        {
          "output_type": "execute_result",
          "data": {
            "text/plain": [
              "YES    64\n",
              "NO     14\n",
              "Name: LUNG_CANCER, dtype: int64"
            ]
          },
          "metadata": {},
          "execution_count": 5
        }
      ],
      "source": [
        "df_test[\"LUNG_CANCER\"].value_counts()  "
      ],
      "id": "GBPAcoAASLPr"
    },
    {
      "cell_type": "markdown",
      "source": [
        "**This means the data set should be balanced theres is a huge difference between the 'Yes' and 'No' values hence, to be able to fix this problem we should use 'SMOTE'to make them balanced.**"
      ],
      "metadata": {
        "id": "5tPciiLnNb7H"
      },
      "id": "5tPciiLnNb7H"
    },
    {
      "cell_type": "markdown",
      "metadata": {
        "id": "RgO9uC--lPQJ"
      },
      "source": [
        "## Data Processing and Feature Engineering"
      ],
      "id": "RgO9uC--lPQJ"
    },
    {
      "cell_type": "code",
      "execution_count": null,
      "metadata": {
        "colab": {
          "base_uri": "https://localhost:8080/"
        },
        "id": "Zu5aiy03ZLfs",
        "outputId": "4e18629b-d2c6-4ea3-fb3e-6c42a42d0d21"
      },
      "outputs": [
        {
          "output_type": "execute_result",
          "data": {
            "text/plain": [
              "GENDER                   0\n",
              "AGE                      0\n",
              "SMOKING                  0\n",
              "YELLOW_FINGERS           0\n",
              "ANXIETY                  0\n",
              "PEER_PRESSURE            0\n",
              "CHRONIC DISEASE          0\n",
              "FATIGUE                  0\n",
              "ALLERGY                  0\n",
              "WHEEZING                 0\n",
              "ALCOHOL CONSUMING        0\n",
              "COUGHING                 0\n",
              "SHORTNESS OF BREATH      0\n",
              "SWALLOWING DIFFICULTY    0\n",
              "CHEST PAIN               0\n",
              "LUNG_CANCER              0\n",
              "dtype: int64"
            ]
          },
          "metadata": {},
          "execution_count": 6
        }
      ],
      "source": [
        "## My Data Set doesnt have any missing values\n",
        "\n",
        "\n",
        "df_train.isnull().sum() "
      ],
      "id": "Zu5aiy03ZLfs"
    },
    {
      "cell_type": "markdown",
      "metadata": {
        "id": "-m5wUdnGlxtg"
      },
      "source": [
        "## Seperating The Features and The Target Label"
      ],
      "id": "-m5wUdnGlxtg"
    },
    {
      "cell_type": "markdown",
      "source": [
        "**Seperating the Features from the Target label is an important step in machine learning pipeline. It is  clearly observed by differentiating the features(input) from the target label(output)that the model is trying to predict.we can  simply determine it by asking whats the purpose of using this Data Set ? What is our target?  What should we predict ?. It is shown here that our aim is to determine if a person has a lung cancer or not by the help of the given features.**"
      ],
      "metadata": {
        "id": "VtOx9budAYwa"
      },
      "id": "VtOx9budAYwa"
    },
    {
      "cell_type": "code",
      "execution_count": null,
      "metadata": {
        "colab": {
          "base_uri": "https://localhost:8080/"
        },
        "id": "uKxO-O5Zl4mh",
        "outputId": "909307b6-6831-4414-c17d-de69ba605683"
      },
      "outputs": [
        {
          "output_type": "stream",
          "name": "stdout",
          "text": [
            "x_train size: (231, 15)\n",
            "x_test size: (78, 15)\n",
            "y_train size: (231,)\n",
            "y_test size: (78,)\n"
          ]
        }
      ],
      "source": [
        "x_train= df_train.drop([\"LUNG_CANCER\"], axis=1)\n",
        "y_train= df_train[\"LUNG_CANCER\"]\n",
        "\n",
        "x_test= df_test.drop([\"LUNG_CANCER\"], axis=1)\n",
        "y_test= df_test[\"LUNG_CANCER\"]\n",
        "\n",
        "\n",
        "\n",
        "\n",
        "print(\"x_train size:\",x_train.shape)\n",
        "print(\"x_test size:\",x_test.shape)\n",
        "print(\"y_train size:\",y_train.shape)\n",
        "print(\"y_test size:\",y_test.shape)"
      ],
      "id": "uKxO-O5Zl4mh"
    },
    {
      "cell_type": "code",
      "source": [],
      "metadata": {
        "id": "msVZFe2LOdcs"
      },
      "id": "msVZFe2LOdcs",
      "execution_count": null,
      "outputs": []
    },
    {
      "cell_type": "markdown",
      "metadata": {
        "id": "_hb2qQesn_RT"
      },
      "source": [
        "## Encoding Categorical Attributes"
      ],
      "id": "_hb2qQesn_RT"
    },
    {
      "cell_type": "markdown",
      "source": [
        "**Implementing** \"The Hot Encoder\" is because machine learning pipelines  only understands binary values '0' and '1'. Thats why it I use it to encode  the  values so that the model can understand it clearly. Encoding the attributes inorder to transform the  data into binary values that is applied on training and testing sets."
      ],
      "metadata": {
        "id": "-OtAPR0SDNNG"
      },
      "id": "-OtAPR0SDNNG"
    },
    {
      "cell_type": "code",
      "execution_count": null,
      "metadata": {
        "colab": {
          "base_uri": "https://localhost:8080/"
        },
        "id": "aGuCvXR4oBN7",
        "outputId": "b39bb78c-f549-4dfb-e4ef-787cf3ecd86d"
      },
      "outputs": [
        {
          "output_type": "stream",
          "name": "stdout",
          "text": [
            "x_train: (231, 65)\n",
            "x_test: (78, 65)\n"
          ]
        }
      ],
      "source": [
        "# Implenting \"The Hot Encoder\"  \n",
        "\n",
        "man= sklearn.preprocessing.OneHotEncoder(handle_unknown=\"ignore\") ## creating encoding object\n",
        "man.fit(x_train) ## fitting the econdinng on training data\n",
        "\n",
        "\n",
        "#Encoding the categorical attributes of training Data\n",
        "x_train= man.transform(x_train)\n",
        "\n",
        "#Encoding the categorical attributes of test data\n",
        "x_test= man.transform(x_test)\n",
        "\n",
        "print(\"x_train:\", x_train.shape)\n",
        "print(\"x_test:\", x_test.shape)"
      ],
      "id": "aGuCvXR4oBN7"
    },
    {
      "cell_type": "markdown",
      "metadata": {
        "id": "IMwc_iegs8Xx"
      },
      "source": [
        "## Standardlization"
      ],
      "id": "IMwc_iegs8Xx"
    },
    {
      "cell_type": "markdown",
      "source": [
        "S**tandardlization is the process of retreiving the features to the same scale inorder to improve the performance of the machine learning pipeline.**\n",
        "\n",
        "\n"
      ],
      "metadata": {
        "id": "4MMcYlG4HtE0"
      },
      "id": "4MMcYlG4HtE0"
    },
    {
      "cell_type": "code",
      "execution_count": null,
      "metadata": {
        "colab": {
          "base_uri": "https://localhost:8080/"
        },
        "id": "vmnmBIsns-n8",
        "outputId": "f80a3f38-3274-43d5-e439-3223bcd35567"
      },
      "outputs": [
        {
          "output_type": "stream",
          "name": "stdout",
          "text": [
            "x_train: (231, 65)\n",
            "x_test: (78, 65)\n"
          ]
        }
      ],
      "source": [
        "# Building a standardization model\n",
        "scaler= sklearn.preprocessing.StandardScaler(with_mean=False)\n",
        "scaler.fit(x_train)\n",
        "\n",
        "# Scaling the training features\n",
        "x_train= scaler.transform(x_train)\n",
        "\n",
        "#Reducing the number of test features\n",
        "x_test= scaler.transform(x_test)\n",
        "\n",
        "print(\"x_train:\", x_train.shape)\n",
        "print(\"x_test:\", x_test.shape)"
      ],
      "id": "vmnmBIsns-n8"
    },
    {
      "cell_type": "markdown",
      "metadata": {
        "id": "i_nLNTjYtGxl"
      },
      "source": [
        "## Imbalanced Classes "
      ],
      "id": "i_nLNTjYtGxl"
    },
    {
      "cell_type": "markdown",
      "source": [
        "***SMOTE is basically an important algorithm in machine learning pipeline since it is used to balance the number of samples of all classes. This will definetly increases the perfomance of the Data Set effectively. It is clearly shown here that they are balanced after implementing the method \"SMOTE\". ***"
      ],
      "metadata": {
        "id": "oqKdvWOhNIs7"
      },
      "id": "oqKdvWOhNIs7"
    },
    {
      "cell_type": "code",
      "execution_count": null,
      "metadata": {
        "colab": {
          "base_uri": "https://localhost:8080/"
        },
        "id": "xQ6WNcvstQRc",
        "outputId": "cf7928d5-907d-4a32-e184-3281b0a13e70"
      },
      "outputs": [
        {
          "output_type": "stream",
          "name": "stdout",
          "text": [
            "x_train_resampled size (412, 65)\n",
            "y_train_resampled size (412,)\n"
          ]
        }
      ],
      "source": [
        "sm = imblearn.over_sampling.SMOTE(random_state=20) \n",
        "x_train_resampled, y_train_resampled = sm.fit_resample(x_train, y_train)\n",
        "print(\"x_train_resampled size\", x_train_resampled.shape)\n",
        "print(\"y_train_resampled size\", y_train_resampled.shape)"
      ],
      "id": "xQ6WNcvstQRc"
    },
    {
      "cell_type": "markdown",
      "metadata": {
        "id": "oruCHEtRy2Yl"
      },
      "source": [
        "## Choosing The algorithms"
      ],
      "id": "oruCHEtRy2Yl"
    },
    {
      "cell_type": "markdown",
      "source": [
        "I have implemented 4 different types of machine algorithms to percieve the effect of each algorithm on this Data Set. These 4 different algorithms are : Support Machine vector - Decision Trees- Logistic Regression- K Nearest Neighbor."
      ],
      "metadata": {
        "id": "wJfccs9wIbWJ"
      },
      "id": "wJfccs9wIbWJ"
    },
    {
      "cell_type": "code",
      "execution_count": null,
      "metadata": {
        "id": "Qe_O-ZnUzNxk"
      },
      "outputs": [],
      "source": [
        "model_svm= sklearn.svm.SVC()\n",
        "model_decision_trees= sklearn.tree.DecisionTreeClassifier()\n",
        "model_logistic_regression= sklearn.linear_model.LogisticRegression()\n",
        "model_KNN=sklearn.neighbors.KNeighborsClassifier()"
      ],
      "id": "Qe_O-ZnUzNxk"
    },
    {
      "cell_type": "markdown",
      "metadata": {
        "id": "JHaT0OBlzXfc"
      },
      "source": [
        "## Defining a Grid"
      ],
      "id": "JHaT0OBlzXfc"
    },
    {
      "cell_type": "markdown",
      "source": [
        "**Implmenting SVM model algorithm with its unique hyperparameters to determine the accuracy using the \"GRIDSEARCH CV\" .**"
      ],
      "metadata": {
        "id": "CfbeF9IxJNKn"
      },
      "id": "CfbeF9IxJNKn"
    },
    {
      "cell_type": "code",
      "execution_count": null,
      "metadata": {
        "colab": {
          "base_uri": "https://localhost:8080/"
        },
        "id": "vxP5_ipjzfd8",
        "outputId": "176d2ef0-d73e-4007-beb2-666fd5647a14"
      },
      "outputs": [
        {
          "output_type": "stream",
          "name": "stdout",
          "text": [
            "The best score of our tunned model is 0.9684396121069645\n",
            "The best hyperparameter of our tunned model is {'C': 2, 'kernel': 'rbf'}\n"
          ]
        }
      ],
      "source": [
        "parameters_svm= {'kernel':( 'linear', 'rbf') , 'C':[0.1,1,2]}\n",
        "model_svm=sklearn.svm.SVC()\n",
        "clf_svm= sklearn.model_selection.GridSearchCV(model_svm,parameters_svm,  scoring='accuracy', cv= 5, n_jobs=-1)\n",
        "clf_svm.fit(x_train_resampled, y_train_resampled)\n",
        "print(\"The best score of our tunned model is\",clf_svm.best_score_)\n",
        "print(\"The best hyperparameter of our tunned model is\",clf_svm.best_params_)"
      ],
      "id": "vxP5_ipjzfd8"
    },
    {
      "cell_type": "markdown",
      "source": [
        "**On the other hand, Decision Trees model algorthims is implmeneted with its unique hypermarameters to determine the accuracy using the \"GRIDSEARCH CV\" .**"
      ],
      "metadata": {
        "id": "vLgWQPCpJc3b"
      },
      "id": "vLgWQPCpJc3b"
    },
    {
      "cell_type": "code",
      "execution_count": null,
      "metadata": {
        "id": "2tDykWDl1u7U",
        "colab": {
          "base_uri": "https://localhost:8080/"
        },
        "outputId": "85043071-d908-4db2-c30d-8daf44a20f77"
      },
      "outputs": [
        {
          "output_type": "stream",
          "name": "stdout",
          "text": [
            "The best score of our tunned model is 0.9516015280634733\n",
            "The best score of our tunned model is {'criterion': 'entropy', 'max_depth': 7}\n"
          ]
        }
      ],
      "source": [
        "parameters_decision_trees= {'criterion':('entropy','gini'), 'max_depth':[2,4,7]}\n",
        "model_decision_trees= sklearn.tree.DecisionTreeClassifier()\n",
        "clf_decision_trees=sklearn.model_selection.GridSearchCV(model_decision_trees,parameters_decision_trees, scoring='accuracy', cv= 5, n_jobs=-1)\n",
        "clf_decision_trees.fit(x_train_resampled, y_train_resampled)\n",
        "print(\"The best score of our tunned model is\",clf_decision_trees.best_score_)\n",
        "print(\"The best score of our tunned model is\",clf_decision_trees.best_params_)"
      ],
      "id": "2tDykWDl1u7U"
    },
    {
      "cell_type": "markdown",
      "source": [
        "**Logistic regeression model algorthim is implemend with its unique hyperparameters to determin the accuracy using the \"GRIDSEARCH CV\" .**"
      ],
      "metadata": {
        "id": "Dfa9hZYQJoCC"
      },
      "id": "Dfa9hZYQJoCC"
    },
    {
      "cell_type": "code",
      "execution_count": null,
      "metadata": {
        "id": "CsIDrvUm2kDx",
        "colab": {
          "base_uri": "https://localhost:8080/"
        },
        "outputId": "07d60e48-948c-4c3e-bc9e-c350cd0e08fe"
      },
      "outputs": [
        {
          "output_type": "stream",
          "name": "stdout",
          "text": [
            "The best score of our tunned model is 0.934410813987658\n",
            "The best score of our tunned model is {'C': 3, 'random_state': 20}\n"
          ]
        }
      ],
      "source": [
        "parameters_logistic_regression={ 'C' :[0.1,1.0,3], 'random_state' : [20]}\n",
        "\n",
        "model_logistic_regression= sklearn.linear_model.LogisticRegression(max_iter=500)\n",
        "\n",
        "clf_logistic_regression=sklearn.model_selection.GridSearchCV(model_logistic_regression,parameters_logistic_regression, scoring='accuracy', cv= 5, n_jobs=-1)\n",
        "\n",
        "clf_logistic_regression.fit(x_train_resampled, y_train_resampled)\n",
        "print(\"The best score of our tunned model is\",clf_logistic_regression.best_score_)\n",
        "print(\"The best score of our tunned model is\",clf_logistic_regression.best_params_)"
      ],
      "id": "CsIDrvUm2kDx"
    },
    {
      "cell_type": "markdown",
      "source": [
        " **K Nearest Neighbor model algorthim implemented  with its unique hyperparameters to determine the accuracy using the \" GRIDSEARCH CV\" .**"
      ],
      "metadata": {
        "id": "lMpn1gQyJzDu"
      },
      "id": "lMpn1gQyJzDu"
    },
    {
      "cell_type": "code",
      "execution_count": null,
      "metadata": {
        "id": "GQTc8UBiNdFI",
        "colab": {
          "base_uri": "https://localhost:8080/"
        },
        "outputId": "20d7b686-5a8a-46ce-9715-0fa0bd1c45b0"
      },
      "outputs": [
        {
          "output_type": "stream",
          "name": "stdout",
          "text": [
            "The best score of our tunned model is 0.8640611225389362\n",
            "The best score of our tunned model is {'n_neighbors': 2, 'weights': 'uniform'}\n"
          ]
        }
      ],
      "source": [
        "parameters_KNN= {'weights':['uniform'], 'n_neighbors':[2,5]}\n",
        "model_KNN= sklearn.neighbors.KNeighborsClassifier()\n",
        "clf_KNN=sklearn.model_selection.GridSearchCV(model_KNN,parameters_KNN, scoring='accuracy', cv= 5, n_jobs=-1)\n",
        "clf_KNN.fit(x_train_resampled, y_train_resampled)\n",
        "print(\"The best score of our tunned model is\",clf_KNN.best_score_)\n",
        "print(\"The best score of our tunned model is\",clf_KNN.best_params_)"
      ],
      "id": "GQTc8UBiNdFI"
    },
    {
      "cell_type": "markdown",
      "source": [
        "**Upon implementing  the 4 different model algorithms and comparing their accuracy it is shown that Logistic Regression gained the highest accuracy of 91 thats why I planned on working on Logistic Regression.**"
      ],
      "metadata": {
        "id": "V49UmMRVJ_sC"
      },
      "id": "V49UmMRVJ_sC"
    },
    {
      "cell_type": "markdown",
      "metadata": {
        "id": "t7pqCOuPaDuR"
      },
      "source": [
        "## Support Machine Vector /Tuning The Hyperparameters"
      ],
      "id": "t7pqCOuPaDuR"
    },
    {
      "cell_type": "markdown",
      "source": [
        "**Since we chose to work with Supoort Machine Vector , we implemented GridSearch to find its tuned hyperparameters.**"
      ],
      "metadata": {
        "id": "YtJDA9k5TdUi"
      },
      "id": "YtJDA9k5TdUi"
    },
    {
      "cell_type": "code",
      "execution_count": null,
      "metadata": {
        "id": "FoSw51bzdjOv",
        "colab": {
          "base_uri": "https://localhost:8080/"
        },
        "outputId": "75590ef4-283a-46ea-b148-07aa60a2cd32"
      },
      "outputs": [
        {
          "output_type": "stream",
          "name": "stdout",
          "text": [
            "The accuracy of out final predictions using logistic regression is 0.9358974358974359\n"
          ]
        }
      ],
      "source": [
        "y_pred_final= clf_svm.predict(x_test)\n",
        "accuracy = sklearn.metrics.accuracy_score(y_pred_final, y_test)\n",
        "print(f\"The accuracy of our final predictions using logistic regression is {accuracy}\")"
      ],
      "id": "FoSw51bzdjOv"
    },
    {
      "cell_type": "markdown",
      "source": [
        "**As in conclusion, it has been determined that  implementing  machine algorthim pipeline will definetly help us predcit accurate assumptions  which makes it much easier and  understandable. As a data scientist , our main goal is to interpret and analyze correctly any data set given inorder to maintain good results. According to this data, and upon the usage of different algortithms it is shown clearly which features leads to lung cancer. **     \n",
        "\n",
        "***                     !!!! STOP SMOKING!!!***\n",
        "\n",
        "\n",
        "\n",
        "\n",
        "\n"
      ],
      "metadata": {
        "id": "x-YBL6YuFzVd"
      },
      "id": "x-YBL6YuFzVd"
    },
    {
      "cell_type": "code",
      "source": [
        "import IPython.display\n",
        "image_address = \"https://www.oregoncancer.com/hubfs/Top%205%20Lung%20Cancer%20Causes%20in%20NonSmokers%20-%20willamette%20valley%20cancer.jpg\"\n",
        "IPython.display.Image(image_address)"
      ],
      "metadata": {
        "colab": {
          "base_uri": "https://localhost:8080/",
          "height": 617
        },
        "id": "6lqrxbMmIYif",
        "outputId": "9688dbb4-38d3-4810-8a35-e1ab48ab9242"
      },
      "id": "6lqrxbMmIYif",
      "execution_count": 1,
      "outputs": [
        {
          "output_type": "execute_result",
          "data": {
            "image/jpeg": "[encoded data removed]",
            "text/plain": [
              "<IPython.core.display.Image object>"
            ]
          },
          "metadata": {},
          "execution_count": 1
        }
      ]
    },
    {
      "cell_type": "markdown",
      "source": [
        "Done by: Ahmad Nasser\n",
        "Student Id: GH1024106"
      ],
      "metadata": {
        "id": "u0MIG3uqLSje"
      },
      "id": "u0MIG3uqLSje"
    },
    {
      "cell_type": "code",
      "source": [
        "!jupyter nbconvert --to html Intro_to_AI_FINAL_ASSESEMENT.ipynb"
      ],
      "metadata": {
        "colab": {
          "base_uri": "https://localhost:8080/"
        },
        "id": "u0VkoewyHe9U",
        "outputId": "d44351db-75a5-4204-8713-75b108e8c6dc"
      },
      "id": "u0VkoewyHe9U",
      "execution_count": 11,
      "outputs": [
        {
          "output_type": "stream",
          "name": "stdout",
          "text": [
            "[NbConvertApp] Converting notebook Intro_to_AI_FINAL_ASSESEMENT.ipynb to html\n",
            "[NbConvertApp] Writing 745394 bytes to Intro_to_AI_FINAL_ASSESEMENT.html\n"
          ]
        }
      ]
    },
    {
      "cell_type": "code",
      "source": [],
      "metadata": {
        "id": "MAIEdgb9MicY"
      },
      "id": "MAIEdgb9MicY",
      "execution_count": null,
      "outputs": []
    }
  ],
  "metadata": {
    "colab": {
      "provenance": [],
      "include_colab_link": true
    },
    "kernelspec": {
      "display_name": "Python 3",
      "language": "python",
      "name": "python3"
    },
    "language_info": {
      "codemirror_mode": {
        "name": "ipython",
        "version": 3
      },
      "file_extension": ".py",
      "mimetype": "text/x-python",
      "name": "python",
      "nbconvert_exporter": "python",
      "pygments_lexer": "ipython3",
      "version": "3.8.5"
    },
    "gpuClass": "standard"
  },
  "nbformat": 4,
  "nbformat_minor": 5
}