{
 "cells": [
  {
   "cell_type": "markdown",
   "id": "f053a289",
   "metadata": {},
   "source": [
    "# Information Extraction\n",
    "Evaluate some information extraction approaches in action. In particular, you should do the followings:\n",
    "- Define a string variable that contains a piece of text as your document.\n",
    "- Extract the keyphrases of your document using some unsupervised algorithms, such as `TextRank` and `SGRank`. These algorithms are already implemented in some Python libraries, such as [`textaCy`](https://textacy.readthedocs.io/en/0.11.0/api_reference/extract.html).\n",
    "- Recognize named entities of your document using a library, such as `spaCy`."
   ]
  },
  {
   "cell_type": "code",
   "execution_count": null,
   "id": "99221de9",
   "metadata": {},
   "outputs": [],
   "source": []
  }
 ],
 "metadata": {
  "kernelspec": {
   "display_name": "Python 3 (ipykernel)",
   "language": "python",
   "name": "python3"
  },
  "language_info": {
   "codemirror_mode": {
    "name": "ipython",
    "version": 3
   },
   "file_extension": ".py",
   "mimetype": "text/x-python",
   "name": "python",
   "nbconvert_exporter": "python",
   "pygments_lexer": "ipython3",
   "version": "3.8.12"
  }
 },
 "nbformat": 4,
 "nbformat_minor": 5
}
