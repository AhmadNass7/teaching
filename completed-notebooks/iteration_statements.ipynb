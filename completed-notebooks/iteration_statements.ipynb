{
 "cells": [
  {
   "cell_type": "markdown",
   "id": "british-payroll",
   "metadata": {},
   "source": [
    "# Iteration Statements"
   ]
  },
  {
   "cell_type": "markdown",
   "id": "stupid-distinction",
   "metadata": {},
   "source": [
    "## Find All Divisors\n",
    "Write a Python prgoram that find all divisors of a given positive integer and store them in a list. For example, given 10, the resulting list should be [1, 2, 4, 5, 10]."
   ]
  },
  {
   "cell_type": "code",
   "execution_count": 5,
   "id": "77ca3922",
   "metadata": {},
   "outputs": [
    {
     "data": {
      "text/plain": [
       "[1, 2, 5, 10]"
      ]
     },
     "execution_count": 5,
     "metadata": {},
     "output_type": "execute_result"
    }
   ],
   "source": [
    "# Take/define the input value\n",
    "value = 10\n",
    "\n",
    "# Define an empty list\n",
    "divisors = []\n",
    "\n",
    "# Iterate over all the values between 1 and the input value\n",
    "for i in range(1, 11, 1):\n",
    "    \n",
    "    # Check wehther the value is dividable by i\n",
    "    if value % i == 0:\n",
    "        divisors.append(i)\n",
    "        \n",
    "divisors\n",
    "\n"
   ]
  },
  {
   "cell_type": "code",
   "execution_count": 7,
   "id": "9420992f",
   "metadata": {},
   "outputs": [
    {
     "data": {
      "text/plain": [
       "[1, 2, 3, 4, 5, 6, 7, 8, 9, 10]"
      ]
     },
     "execution_count": 7,
     "metadata": {},
     "output_type": "execute_result"
    }
   ],
   "source": [
    "list(range(1, 11, 1))"
   ]
  },
  {
   "cell_type": "code",
   "execution_count": 3,
   "id": "deadly-heritage",
   "metadata": {},
   "outputs": [
    {
     "data": {
      "text/plain": [
       "'My value is 3.12'"
      ]
     },
     "execution_count": 3,
     "metadata": {},
     "output_type": "execute_result"
    }
   ],
   "source": [
    "\"My value is {:.2f}\".format(3.12345)"
   ]
  },
  {
   "cell_type": "markdown",
   "id": "invisible-summit",
   "metadata": {},
   "source": [
    "## Find the Largest Word\n",
    "Write a Python program that finds the largest word in a given input string. For example, given the string \"hello how are you\", the program should print \"hello\"."
   ]
  },
  {
   "cell_type": "code",
   "execution_count": null,
   "id": "stuffed-clerk",
   "metadata": {},
   "outputs": [],
   "source": []
  },
  {
   "cell_type": "markdown",
   "id": "absolute-bristol",
   "metadata": {},
   "source": [
    "## Count the Frequency of List Elements\n",
    "Write a Python program that counts the frequency of each element in a given list and store them in a dictionary. For example, given the list [111, \"hello\", 222, \"hello\", 111], the program should define a dictionary {111: 2, \"hello\": 2, 222: 1}."
   ]
  },
  {
   "cell_type": "code",
   "execution_count": 4,
   "id": "industrial-tucson",
   "metadata": {},
   "outputs": [
    {
     "data": {
      "text/plain": [
       "{111: 2, 'hello': 2, 222: 1}"
      ]
     },
     "execution_count": 4,
     "metadata": {},
     "output_type": "execute_result"
    }
   ],
   "source": [
    "# Take/Define the list\n",
    "input_list = [111, \"hello\", 222, \"hello\", 111]\n",
    "\n",
    "# Create an empty \n",
    "d = {}\n",
    "\n",
    "# Iterate over all the elements inside our original list\n",
    "for element in input_list:\n",
    "    \n",
    "    # Add the value into the dictionary\n",
    "    if element in d:\n",
    "        d[element] += 1\n",
    "    else:\n",
    "        d[element] = 1\n",
    "\n",
    "\n",
    "d\n",
    "\n",
    "{111: 1}\n",
    "{111: 1, \"hello\": 1}\n",
    "{111: 1, \"hello\": 1, 222: 1}\n",
    "{111: 1, \"hello\": 2, 222: 1}\n",
    "{111: 2, \"hello\": 2, 222: 1}\n",
    "\n",
    "#input_list.count()\n",
    "# O(n^2)\n",
    "# O(n)\n",
    "\n",
    "\n",
    "\n"
   ]
  },
  {
   "cell_type": "markdown",
   "id": "different-palmer",
   "metadata": {},
   "source": [
    "## Convert a List of Integers to an Integer (With a New Algorithm)\n",
    "Write a Python program to convert a given list of integers to an integer. For example, given [11, 2, 54], the program should assign 11254 into an integer variable."
   ]
  },
  {
   "cell_type": "code",
   "execution_count": null,
   "id": "dense-reaction",
   "metadata": {},
   "outputs": [],
   "source": []
  },
  {
   "cell_type": "markdown",
   "id": "improved-valley",
   "metadata": {},
   "source": [
    "## Capitalize the Words\n",
    "Write a Python program that takes a string containing whitespace-separated words, capitalizes the first character of each word, and print the result. For example, given the string \"hello how are you\", the program should print \"Hello How Are You\"."
   ]
  },
  {
   "cell_type": "code",
   "execution_count": null,
   "id": "recreational-intelligence",
   "metadata": {},
   "outputs": [],
   "source": []
  }
 ],
 "metadata": {
  "kernelspec": {
   "display_name": "Python 3 (ipykernel)",
   "language": "python",
   "name": "python3"
  },
  "language_info": {
   "codemirror_mode": {
    "name": "ipython",
    "version": 3
   },
   "file_extension": ".py",
   "mimetype": "text/x-python",
   "name": "python",
   "nbconvert_exporter": "python",
   "pygments_lexer": "ipython3",
   "version": "3.8.11"
  }
 },
 "nbformat": 4,
 "nbformat_minor": 5
}
