{
 "cells": [
  {
   "cell_type": "markdown",
   "metadata": {},
   "source": [
    "#### Author: Reza Babaei"
   ]
  },
  {
   "cell_type": "markdown",
   "metadata": {},
   "source": [
    "# Graph\n"
   ]
  },
  {
   "cell_type": "markdown",
   "metadata": {},
   "source": [
    "* Graph is a data structure that consists of following two components:\n",
    "    1. A finite set of vertices also called as **nodes.**\n",
    "    2. A finite set of ordered pair of the form (u, v) called as **edge**. The pair is ordered because (u, v) is not same as (v, u) in case of directed graph(di-graph). The pair of form (u, v) indicates that there is an edge from vertex u to vertex v. The edges may contain weight/value/cost.\n",

    "       Representation of a simple graph using an adjacency map. There exist nested Classes for Vertex and Edge objects and useful methods for vertex and edge, edge incidence and vertex degree retrieval plus edge and vertex insertion\n"
   ]
  },
  
  {
   "cell_type": "code",
   "execution_count": 1,
   "metadata": {},
   "outputs": [
    {
     "name": "stdout",
     "output_type": "stream",
     "text": [
      "0 -> 1 -> 4\n",
      "1 -> 0 -> 4 -> 3 -> 2\n",
      "2 -> 3\n",
      "3 -> 4\n",
      "4 -> 1 -> 3\n"
     ]
    }
   ],
   "source": [
    "class Graph:\n",

    "    class Vertex:\n",
    "        #Class for representing vertex structure for a graph. \n",
    "        __slots__ = '_element'\n",
    "        \n",
    "        def __init__(self, x)::\n",
    "            # Do not call constructor directly. Use Graph's insert_vertex(x).\n",
    "            self._element = x\n",
    "        \n",
    "        def element(self):\n",
    "            #Return element associated with this vertex.\n",
    "            return self._element\n",
    "                \n",
    
    "        def __hash__(self):\n",
    "            #will allow vertex to be a map/set key\n",
    "            return hash(id(self))\n",
    "\n",
    "\n",
    "\n",
    "\n",
    "\n",
    
    "al.printList()"
   ]
  },
  {
   "cell_type": "markdown",
   "metadata": {},
   "source": [
    "### Application of Graphs:"
   ]
  },
  {
   "cell_type": "markdown",
   "metadata": {},
   "source": [
    "* In computer science, graphs are used to represent networks of communication, data organization, computational devices.\n",
    "* Graph theory is also used to study molecules in chemistry and physics.\n",
    "* In mathematics, graphs are useful in geometry.\n",
    "* Weighted graphs, are used to represent structures in which pairwise connections have some numerical values. Ex: Road Network.\n",
    "* Graph algorithms are useful for calculating the shortest path in Routing .\n",
    "* Maps – finding the shortest/cheapest path for a car from one city to another, by using given roads."
   ]
  }
 ],
 "metadata": {
  "kernelspec": {
   "display_name": "Python 3",
   "language": "python",
   "name": "python3"
  },
  "language_info": {
   "codemirror_mode": {
    "name": "ipython",
    "version": 3
   },
   "file_extension": ".py",
   "mimetype": "text/x-python",
   "name": "python",
   "nbconvert_exporter": "python",
   "pygments_lexer": "ipython3",
   "version": "3.5.2"
  }
 },
 "nbformat": 4,
 "nbformat_minor": 2
}
