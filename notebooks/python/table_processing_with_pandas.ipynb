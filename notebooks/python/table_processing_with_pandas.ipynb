{
 "cells": [
  {
   "cell_type": "markdown",
   "id": "treated-organ",
   "metadata": {},
   "source": [
    "# Table Processing with Pandas\n",
    "Some of the exercises are taken from https://pynative.com/python-pandas-exercise/.\n",
    "Here, we use an Automobile Dataset that contains different characteristics of an automobile such as body-style, wheel-base, engine-type, price, mileage, horsepower, etc."
   ]
  },
  {
   "cell_type": "code",
   "execution_count": null,
   "id": "exposed-approach",
   "metadata": {},
   "outputs": [],
   "source": [
    "import pandas as pd"
   ]
  },
  {
   "cell_type": "markdown",
   "id": "apart-reception",
   "metadata": {},
   "source": [
    "# Load and Show the Dataset\n",
    "Write a Python program to load the dataset from the `data.csv` file, show the data types of its columns, and also show the first rows of the dataset."
   ]
  },
  {
   "cell_type": "code",
   "execution_count": null,
   "id": "secure-cliff",
   "metadata": {},
   "outputs": [],
   "source": []
  },
  {
   "cell_type": "markdown",
   "id": "continental-corrections",
   "metadata": {},
   "source": [
    "## Clean the Dataset\n",
    "Write a Python program to remove all rows whose price value is missing."
   ]
  },
  {
   "cell_type": "code",
   "execution_count": null,
   "id": "champion-niger",
   "metadata": {},
   "outputs": [],
   "source": []
  },
  {
   "cell_type": "markdown",
   "id": "antique-cylinder",
   "metadata": {},
   "source": [
    "## Find the Maximum\n",
    "Write a Python program to find the name of the company whose car is the most expensive one."
   ]
  },
  {
   "cell_type": "code",
   "execution_count": null,
   "id": "proved-village",
   "metadata": {},
   "outputs": [],
   "source": []
  },
  {
   "cell_type": "markdown",
   "id": "marked-medicaid",
   "metadata": {},
   "source": [
    "## Select Specific Rows\n",
    "Write a Python program to show all Toyota cars whose number of cylinders is equal to four."
   ]
  },
  {
   "cell_type": "code",
   "execution_count": null,
   "id": "medieval-departure",
   "metadata": {},
   "outputs": [],
   "source": []
  },
  {
   "cell_type": "markdown",
   "id": "surface-closure",
   "metadata": {},
   "source": [
    "## Count per Category\n",
    "Write a Python program to count the number of cars that each company has."
   ]
  },
  {
   "cell_type": "code",
   "execution_count": null,
   "id": "valid-australian",
   "metadata": {},
   "outputs": [],
   "source": []
  },
  {
   "cell_type": "markdown",
   "id": "sustainable-behavior",
   "metadata": {},
   "source": [
    "## Aggregate per Category\n",
    "Write a Python program to find each company's highest car price."
   ]
  },
  {
   "cell_type": "code",
   "execution_count": null,
   "id": "valuable-representation",
   "metadata": {},
   "outputs": [],
   "source": []
  },
  {
   "cell_type": "markdown",
   "id": "other-desktop",
   "metadata": {},
   "source": [
    "## Sort by Columns\n",
    "Write a Python program to sort the cars by their price, from the highest to lowest."
   ]
  },
  {
   "cell_type": "code",
   "execution_count": null,
   "id": "comparable-essex",
   "metadata": {},
   "outputs": [],
   "source": []
  },
  {
   "cell_type": "markdown",
   "id": "detected-reality",
   "metadata": {},
   "source": [
    "## Merge two Datasets\n",
    "Write a Python program to merge the previous dataset with a new given dataset to add a country column to our dataset."
   ]
  },
  {
   "cell_type": "code",
   "execution_count": null,
   "id": "elect-meter",
   "metadata": {},
   "outputs": [],
   "source": [
    "countries = pd.DataFrame({\"producer\": ['alfa-romero', 'audi', 'bmw', 'chevrolet', 'dodge', 'honda', \n",
    "                                       'isuzu', 'jaguar', 'mazda', 'mercedes-benz', 'mitsubishi', \n",
    "                                       'nissan', 'porsche', 'toyota', 'volkswagen', 'volvo'],\n",
    "                          \"country\": [\"Italy\", \"Germany\", \"Germany\", \"US\", \"US\", \"Japan\", \"Japan\", \n",
    "                                     \"UK\", \"Japan\", \"Germany\", \"Japan\", \"Japan\", \"Germany\", \"Japan\", \n",
    "                                      \"Germany\", \"Sweden\"]\n",
    "                         })\n",
    "countries.head()"
   ]
  },
  {
   "cell_type": "code",
   "execution_count": null,
   "id": "curious-focus",
   "metadata": {},
   "outputs": [],
   "source": []
  },
  {
   "cell_type": "markdown",
   "id": "material-czech",
   "metadata": {},
   "source": [
    "## Apply a Function\n",
    "Write a Python program that transforms the column \"num-of-cylinders\" from strig to integer. For example, all the \"four\" values in this column should be changed to 4."
   ]
  },
  {
   "cell_type": "code",
   "execution_count": null,
   "id": "tight-deficit",
   "metadata": {},
   "outputs": [],
   "source": []
  }
 ],
 "metadata": {
  "kernelspec": {
   "display_name": "Python 3",
   "language": "python",
   "name": "python3"
  },
  "language_info": {
   "codemirror_mode": {
    "name": "ipython",
    "version": 3
   },
   "file_extension": ".py",
   "mimetype": "text/x-python",
   "name": "python",
   "nbconvert_exporter": "python",
   "pygments_lexer": "ipython3",
   "version": "3.8.5"
  }
 },
 "nbformat": 4,
 "nbformat_minor": 5
}
