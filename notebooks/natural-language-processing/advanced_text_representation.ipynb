{
 "cells": [
  {
   "cell_type": "markdown",
   "source": [
    "# Advanced Text Representation\n",
    "We want to examine some pre-trained word embedding models. In particular, you should do the followings:\n",
    "- Find a pre-trained word embedding model, such as [Google's word2vec model](https://code.google.com/archive/p/word2vec/).\n",
    "- Load the pre-trained model using a library, such as gensim.\n",
    "- Examine the word vectors.\n",
    "- Visualize a sample of words using necessary libraries, such as t-SNE."
   ],
   "metadata": {}
  }
 ],
 "metadata": {
  "kernelspec": {
   "display_name": "Python 3 (ipykernel)",
   "language": "python",
   "name": "python3"
  },
  "language_info": {
   "codemirror_mode": {
    "name": "ipython",
    "version": 3
   },
   "file_extension": ".py",
   "mimetype": "text/x-python",
   "name": "python",
   "nbconvert_exporter": "python",
   "pygments_lexer": "ipython3",
   "version": "3.8.11"
  }
 },
 "nbformat": 4,
 "nbformat_minor": 5
}