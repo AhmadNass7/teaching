{
 "cells": [
  {
   "attachments": {},
   "cell_type": "markdown",
   "id": "820b9137",
   "metadata": {},
   "source": [
    "# Beyond Classical Search\n",
    "Consider the 8-queens problem, where the goal is to place eight queens on a chessboard such that no queen attacks any other. We encode states of this problem using a list of 8 digits, where the i-th digit represents the row index of a queen in column i of the chessboard. For example, `[7, 2, 6, 3, 1, 4, 0, 5]` represents the following state of the problem. Note that indices of rows and columns start from 0.      \n",
    "![](8-queens_state.png)\n",
    "\n",
    "The following `count_the_number_of_attacks` function computes the number of attacks between each pair of queens in any given state. For any valid state, it will return a value between 0 and 28 (when all pairs of queens attack each other).\n",
    "\n",
    "\n",
    "## Tasks\n",
    "- Implement the following local search algorithms to solve the above 8-queens problem.\n",
    "    - Hill climbing.\n",
    "    - Random-restart hill climbing.\n",
    "    - Simulated annealing.\n",
    "    - Local beam.\n",
    "    - Genetic algorithm.\n",
    "- Compare the solutions of the above local search algorithms in terms of optimality and efficiency. "
   ]
  },
  {
   "cell_type": "code",
   "execution_count": null,
   "id": "788a67d7",
   "metadata": {
    "vscode": {
     "languageId": "plaintext"
    }
   },
   "outputs": [],
   "source": [
    "def count_the_number_of_attacks(state):\n",
    "    \"\"\"\n",
    "    ctr = The total number of attacks (a value between 0 and 28).\n",
    "    For each pair of 2 queens:\n",
    "       i1 = The row index of queen 1.\n",
    "       i2 = The row index of queen 2.\n",
    "       j1 = The column index of queen 1.\n",
    "       j2 = The column index of queen 2.\n",
    "    \"\"\"\n",
    "    ctr = 0\n",
    "    for j1 in range(len(state)):\n",
    "        for j2 in range(j1 + 1, len(state)):\n",
    "            i1 = state[j1]\n",
    "            i2 = state[j2]\n",
    "            if i1 == i2 or j1 == j2 or (abs(i1 - i2) == abs(j1 - j2)):\n",
    "                ctr += 1\n",
    "    return ctr\n",
    "\n",
    "\n",
    "state = [7, 2, 6, 3, 1, 4, 0, 5]\n",
    "count_the_number_of_attacks(state)"
   ]
  }
 ],
 "metadata": {
  "kernelspec": {
   "display_name": "Python 3",
   "language": "python",
   "name": "python3"
  },
  "language_info": {
   "codemirror_mode": {
    "name": "ipython",
    "version": 3
   },
   "file_extension": ".py",
   "mimetype": "text/x-python",
   "name": "python",
   "nbconvert_exporter": "python",
   "pygments_lexer": "ipython3",
   "version": "3.8.5"
  }
 },
 "nbformat": 4,
 "nbformat_minor": 5
}
