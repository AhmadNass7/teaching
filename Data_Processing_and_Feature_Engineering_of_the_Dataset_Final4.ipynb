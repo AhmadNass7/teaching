{
  "cells": [
    {
      "cell_type": "markdown",
      "metadata": {
        "id": "view-in-github",
        "colab_type": "text"
      },
      "source": [
        "<a href=\"https://colab.research.google.com/github/AhmadNass7/teaching/blob/main/Data_Processing_and_Feature_Engineering_of_the_Dataset_Final4.ipynb\" target=\"_parent\"><img src=\"https://colab.research.google.com/assets/colab-badge.svg\" alt=\"Open In Colab\"/></a>"
      ]
    },
    {
      "cell_type": "markdown",
      "metadata": {
        "id": "korean-wednesday"
      },
      "source": [
        "# Data Preprocessing and Feature Engineering\n",
        "You should build a machine learning pipeline with a data preprocessing and feature engineering step. In particular, you should do the following:\n",
        "- Load the `adult` dataset using [Pandas](https://pandas.pydata.org/docs/reference/api/pandas.read_csv.html). You can find this dataset in the datasets folder.\n",
        "- Split the dataset into training and test sets using [Scikit-Learn](https://scikit-learn.org/stable/modules/generated/sklearn.model_selection.train_test_split.html). \n",
        "- Conduct data preprocessing and feature engineering by \n",
        "    - removing missing values using [Pandas](https://pandas.pydata.org/docs/reference/api/pandas.DataFrame.dropna.html);\n",
        "    - encoding categorical attributes using [Scikit-Learn](https://scikit-learn.org/stable/modules/generated/sklearn.preprocessing.OneHotEncoder.html);\n",
        "    - normalizing/scaling features using [Scikit-Learn](https://scikit-learn.org/stable/modules/generated/sklearn.preprocessing.StandardScaler.html);\n",
        "    - handling imbalanced classes using [Imbalanced-Learn](https://imbalanced-learn.org/stable/references/generated/imblearn.over_sampling.SMOTE.html);\n",
        "    - and reducing the dimensionality of the dataset using [Scikit-Learn](https://scikit-learn.org/stable/modules/generated/sklearn.decomposition.PCA.html).\n",
        "- Train and test a support vector machine model using [Scikit-Learn](https://scikit-learn.org/stable/modules/generated/sklearn.svm.SVC.html).\n",
        "- Evaluate the impact of the data preprocessing and feature engineering techniques on the effectiveness and efficiency of the model.\n",
        "- Check the documentation to identify the most important hyperparameters, attributes, and methods. Use them in practice."
      ],
      "id": "korean-wednesday"
    },
    {
      "cell_type": "markdown",
      "metadata": {
        "id": "ikPBjnWKOokl"
      },
      "source": [
        "## Importing Libraries"
      ],
      "id": "ikPBjnWKOokl"
    },
    {
      "cell_type": "code",
      "execution_count": 1,
      "metadata": {
        "id": "WrdSoVdJOozo"
      },
      "outputs": [],
      "source": [
        "import pandas as pd \n",
        "import sklearn.model_selection\n",
        "import sklearn.preprocessing\n",
        "import imblearn.over_sampling\n",
        "import sklearn.svm\n",
        "import sklearn.tree\n",
        "import sklearn.linear_model\n",
        "import sklearn.metrics\n",
        "import sklearn.neighbors"
      ],
      "id": "WrdSoVdJOozo"
    },
    {
      "cell_type": "markdown",
      "metadata": {
        "id": "JFBONwdyOpES"
      },
      "source": [
        "## Loading the Data Sets"
      ],
      "id": "JFBONwdyOpES"
    },
    {
      "cell_type": "code",
      "execution_count": 2,
      "metadata": {
        "colab": {
          "base_uri": "https://localhost:8080/",
          "height": 287
        },
        "id": "CQWEhIkMOpU8",
        "outputId": "d4ffea6c-079a-4941-8e72-f79e69a93e2d"
      },
      "outputs": [
        {
          "output_type": "execute_result",
          "data": {
            "text/plain": [
              "  GENDER  AGE  SMOKING  YELLOW_FINGERS  ANXIETY  PEER_PRESSURE  \\\n",
              "0      M   69        1               2        2              1   \n",
              "1      M   74        2               1        1              1   \n",
              "2      F   59        1               1        1              2   \n",
              "3      M   63        2               2        2              1   \n",
              "4      F   63        1               2        1              1   \n",
              "\n",
              "   CHRONIC DISEASE  FATIGUE   ALLERGY   WHEEZING  ALCOHOL CONSUMING  COUGHING  \\\n",
              "0                1         2         1         2                  2         2   \n",
              "1                2         2         2         1                  1         1   \n",
              "2                1         2         1         2                  1         2   \n",
              "3                1         1         1         1                  2         1   \n",
              "4                1         1         1         2                  1         2   \n",
              "\n",
              "   SHORTNESS OF BREATH  SWALLOWING DIFFICULTY  CHEST PAIN LUNG_CANCER  \n",
              "0                    2                      2           2         YES  \n",
              "1                    2                      2           2         YES  \n",
              "2                    2                      1           2          NO  \n",
              "3                    1                      2           2          NO  \n",
              "4                    2                      1           1          NO  "
            ],
            "text/html": [
              "\n",
              "  <div id=\"df-f66e42ce-0b61-4cdd-aea8-7635709461ec\">\n",
              "    <div class=\"colab-df-container\">\n",
              "      <div>\n",
              "<style scoped>\n",
              "    .dataframe tbody tr th:only-of-type {\n",
              "        vertical-align: middle;\n",
              "    }\n",
              "\n",
              "    .dataframe tbody tr th {\n",
              "        vertical-align: top;\n",
              "    }\n",
              "\n",
              "    .dataframe thead th {\n",
              "        text-align: right;\n",
              "    }\n",
              "</style>\n",
              "<table border=\"1\" class=\"dataframe\">\n",
              "  <thead>\n",
              "    <tr style=\"text-align: right;\">\n",
              "      <th></th>\n",
              "      <th>GENDER</th>\n",
              "      <th>AGE</th>\n",
              "      <th>SMOKING</th>\n",
              "      <th>YELLOW_FINGERS</th>\n",
              "      <th>ANXIETY</th>\n",
              "      <th>PEER_PRESSURE</th>\n",
              "      <th>CHRONIC DISEASE</th>\n",
              "      <th>FATIGUE</th>\n",
              "      <th>ALLERGY</th>\n",
              "      <th>WHEEZING</th>\n",
              "      <th>ALCOHOL CONSUMING</th>\n",
              "      <th>COUGHING</th>\n",
              "      <th>SHORTNESS OF BREATH</th>\n",
              "      <th>SWALLOWING DIFFICULTY</th>\n",
              "      <th>CHEST PAIN</th>\n",
              "      <th>LUNG_CANCER</th>\n",
              "    </tr>\n",
              "  </thead>\n",
              "  <tbody>\n",
              "    <tr>\n",
              "      <th>0</th>\n",
              "      <td>M</td>\n",
              "      <td>69</td>\n",
              "      <td>1</td>\n",
              "      <td>2</td>\n",
              "      <td>2</td>\n",
              "      <td>1</td>\n",
              "      <td>1</td>\n",
              "      <td>2</td>\n",
              "      <td>1</td>\n",
              "      <td>2</td>\n",
              "      <td>2</td>\n",
              "      <td>2</td>\n",
              "      <td>2</td>\n",
              "      <td>2</td>\n",
              "      <td>2</td>\n",
              "      <td>YES</td>\n",
              "    </tr>\n",
              "    <tr>\n",
              "      <th>1</th>\n",
              "      <td>M</td>\n",
              "      <td>74</td>\n",
              "      <td>2</td>\n",
              "      <td>1</td>\n",
              "      <td>1</td>\n",
              "      <td>1</td>\n",
              "      <td>2</td>\n",
              "      <td>2</td>\n",
              "      <td>2</td>\n",
              "      <td>1</td>\n",
              "      <td>1</td>\n",
              "      <td>1</td>\n",
              "      <td>2</td>\n",
              "      <td>2</td>\n",
              "      <td>2</td>\n",
              "      <td>YES</td>\n",
              "    </tr>\n",
              "    <tr>\n",
              "      <th>2</th>\n",
              "      <td>F</td>\n",
              "      <td>59</td>\n",
              "      <td>1</td>\n",
              "      <td>1</td>\n",
              "      <td>1</td>\n",
              "      <td>2</td>\n",
              "      <td>1</td>\n",
              "      <td>2</td>\n",
              "      <td>1</td>\n",
              "      <td>2</td>\n",
              "      <td>1</td>\n",
              "      <td>2</td>\n",
              "      <td>2</td>\n",
              "      <td>1</td>\n",
              "      <td>2</td>\n",
              "      <td>NO</td>\n",
              "    </tr>\n",
              "    <tr>\n",
              "      <th>3</th>\n",
              "      <td>M</td>\n",
              "      <td>63</td>\n",
              "      <td>2</td>\n",
              "      <td>2</td>\n",
              "      <td>2</td>\n",
              "      <td>1</td>\n",
              "      <td>1</td>\n",
              "      <td>1</td>\n",
              "      <td>1</td>\n",
              "      <td>1</td>\n",
              "      <td>2</td>\n",
              "      <td>1</td>\n",
              "      <td>1</td>\n",
              "      <td>2</td>\n",
              "      <td>2</td>\n",
              "      <td>NO</td>\n",
              "    </tr>\n",
              "    <tr>\n",
              "      <th>4</th>\n",
              "      <td>F</td>\n",
              "      <td>63</td>\n",
              "      <td>1</td>\n",
              "      <td>2</td>\n",
              "      <td>1</td>\n",
              "      <td>1</td>\n",
              "      <td>1</td>\n",
              "      <td>1</td>\n",
              "      <td>1</td>\n",
              "      <td>2</td>\n",
              "      <td>1</td>\n",
              "      <td>2</td>\n",
              "      <td>2</td>\n",
              "      <td>1</td>\n",
              "      <td>1</td>\n",
              "      <td>NO</td>\n",
              "    </tr>\n",
              "  </tbody>\n",
              "</table>\n",
              "</div>\n",
              "      <button class=\"colab-df-convert\" onclick=\"convertToInteractive('df-f66e42ce-0b61-4cdd-aea8-7635709461ec')\"\n",
              "              title=\"Convert this dataframe to an interactive table.\"\n",
              "              style=\"display:none;\">\n",
              "        \n",
              "  <svg xmlns=\"http://www.w3.org/2000/svg\" height=\"24px\"viewBox=\"0 0 24 24\"\n",
              "       width=\"24px\">\n",
              "    <path d=\"M0 0h24v24H0V0z\" fill=\"none\"/>\n",
              "    <path d=\"M18.56 5.44l.94 2.06.94-2.06 2.06-.94-2.06-.94-.94-2.06-.94 2.06-2.06.94zm-11 1L8.5 8.5l.94-2.06 2.06-.94-2.06-.94L8.5 2.5l-.94 2.06-2.06.94zm10 10l.94 2.06.94-2.06 2.06-.94-2.06-.94-.94-2.06-.94 2.06-2.06.94z\"/><path d=\"M17.41 7.96l-1.37-1.37c-.4-.4-.92-.59-1.43-.59-.52 0-1.04.2-1.43.59L10.3 9.45l-7.72 7.72c-.78.78-.78 2.05 0 2.83L4 21.41c.39.39.9.59 1.41.59.51 0 1.02-.2 1.41-.59l7.78-7.78 2.81-2.81c.8-.78.8-2.07 0-2.86zM5.41 20L4 18.59l7.72-7.72 1.47 1.35L5.41 20z\"/>\n",
              "  </svg>\n",
              "      </button>\n",
              "      \n",
              "  <style>\n",
              "    .colab-df-container {\n",
              "      display:flex;\n",
              "      flex-wrap:wrap;\n",
              "      gap: 12px;\n",
              "    }\n",
              "\n",
              "    .colab-df-convert {\n",
              "      background-color: #E8F0FE;\n",
              "      border: none;\n",
              "      border-radius: 50%;\n",
              "      cursor: pointer;\n",
              "      display: none;\n",
              "      fill: #1967D2;\n",
              "      height: 32px;\n",
              "      padding: 0 0 0 0;\n",
              "      width: 32px;\n",
              "    }\n",
              "\n",
              "    .colab-df-convert:hover {\n",
              "      background-color: #E2EBFA;\n",
              "      box-shadow: 0px 1px 2px rgba(60, 64, 67, 0.3), 0px 1px 3px 1px rgba(60, 64, 67, 0.15);\n",
              "      fill: #174EA6;\n",
              "    }\n",
              "\n",
              "    [theme=dark] .colab-df-convert {\n",
              "      background-color: #3B4455;\n",
              "      fill: #D2E3FC;\n",
              "    }\n",
              "\n",
              "    [theme=dark] .colab-df-convert:hover {\n",
              "      background-color: #434B5C;\n",
              "      box-shadow: 0px 1px 3px 1px rgba(0, 0, 0, 0.15);\n",
              "      filter: drop-shadow(0px 1px 2px rgba(0, 0, 0, 0.3));\n",
              "      fill: #FFFFFF;\n",
              "    }\n",
              "  </style>\n",
              "\n",
              "      <script>\n",
              "        const buttonEl =\n",
              "          document.querySelector('#df-f66e42ce-0b61-4cdd-aea8-7635709461ec button.colab-df-convert');\n",
              "        buttonEl.style.display =\n",
              "          google.colab.kernel.accessAllowed ? 'block' : 'none';\n",
              "\n",
              "        async function convertToInteractive(key) {\n",
              "          const element = document.querySelector('#df-f66e42ce-0b61-4cdd-aea8-7635709461ec');\n",
              "          const dataTable =\n",
              "            await google.colab.kernel.invokeFunction('convertToInteractive',\n",
              "                                                     [key], {});\n",
              "          if (!dataTable) return;\n",
              "\n",
              "          const docLinkHtml = 'Like what you see? Visit the ' +\n",
              "            '<a target=\"_blank\" href=https://colab.research.google.com/notebooks/data_table.ipynb>data table notebook</a>'\n",
              "            + ' to learn more about interactive tables.';\n",
              "          element.innerHTML = '';\n",
              "          dataTable['output_type'] = 'display_data';\n",
              "          await google.colab.output.renderOutput(dataTable, element);\n",
              "          const docLink = document.createElement('div');\n",
              "          docLink.innerHTML = docLinkHtml;\n",
              "          element.appendChild(docLink);\n",
              "        }\n",
              "      </script>\n",
              "    </div>\n",
              "  </div>\n",
              "  "
            ]
          },
          "metadata": {},
          "execution_count": 2
        }
      ],
      "source": [
        "## The Following Data Set is basically about lung cancer stating:\n",
        "\n",
        "\n",
        "\n",
        "## Gender: M(male), F(female)\n",
        "\n",
        "## Age: Age of the patient\n",
        "\n",
        "## Smoking: YES=2 , NO=1.\n",
        "\n",
        "## Yellow fingers: YES=2 , NO=1.\n",
        "\n",
        "## Anxiety: YES=2 , NO=1.\n",
        "\n",
        "## Peer_pressure: YES=2 , NO=1.\n",
        "\n",
        "## Chronic Disease: YES=2 , NO=1.\n",
        "\n",
        "## Fatigue: YES=2 , NO=1.\n",
        "\n",
        "## Allergy: YES=2 , NO=1.\n",
        "\n",
        "## Wheezing: YES=2 , NO=1.\n",
        "\n",
        "## Alcohol: YES=2 , NO=1.\n",
        "\n",
        "## Coughing: YES=2 , NO=1.\n",
        "\n",
        "## Shortness of Breath: YES=2 , NO=1.\n",
        "\n",
        "## Swallowing Difficulty: YES=2 , NO=1.\n",
        "\n",
        "## Chest pain: YES=2 , NO=1.\n",
        "\n",
        "## Lung Cancer: YES , NO.\n",
        "\n",
        "\n",
        "\n",
        "df=pd.read_csv(\"slc.csv\")\n",
        "df.head()"
      ],
      "id": "CQWEhIkMOpU8"
    },
    {
      "cell_type": "markdown",
      "metadata": {
        "id": "FeSOHKO5OpkF"
      },
      "source": [
        "## Splitting The Data Sets into Training and Testing"
      ],
      "id": "FeSOHKO5OpkF"
    },
    {
      "cell_type": "code",
      "execution_count": 3,
      "metadata": {
        "colab": {
          "base_uri": "https://localhost:8080/"
        },
        "id": "DJMRpNIqOpyp",
        "outputId": "9e391de9-aa1f-4e7b-ccdd-dcaa5d693404"
      },
      "outputs": [
        {
          "output_type": "stream",
          "name": "stdout",
          "text": [
            "df_train size: (231, 16)\n",
            "df_test size: (78, 16)\n"
          ]
        }
      ],
      "source": [
        "df_train, df_test= sklearn.model_selection.train_test_split(df, random_state=20)\n",
        "\n",
        "\n",
        "print(\"df_train size:\", df_train.shape)\n",
        "print(\"df_test size:\", df_test.shape)"
      ],
      "id": "DJMRpNIqOpyp"
    },
    {
      "cell_type": "markdown",
      "metadata": {
        "id": "DfYB08fhOqTY"
      },
      "source": [
        "## Data Exploration\n"
      ],
      "id": "DfYB08fhOqTY"
    },
    {
      "cell_type": "code",
      "execution_count": 4,
      "metadata": {
        "colab": {
          "base_uri": "https://localhost:8080/"
        },
        "id": "HFBHpV0PSIYf",
        "outputId": "95417662-cb1e-4087-c7e5-289d42de63cd"
      },
      "outputs": [
        {
          "output_type": "execute_result",
          "data": {
            "text/plain": [
              "array([70, 58, 71, 64, 39, 72, 62, 60, 47, 77, 51, 52, 59, 53, 49, 68, 69,\n",
              "       61, 67, 48, 55, 75, 63, 74, 56, 65, 76, 66, 57, 44, 81, 73, 78, 54,\n",
              "       79, 21, 46])"
            ]
          },
          "metadata": {},
          "execution_count": 4
        }
      ],
      "source": [
        "## Training\n",
        "df_train[\"AGE\"].unique()\n"
      ],
      "id": "HFBHpV0PSIYf"
    },
    {
      "cell_type": "code",
      "execution_count": 5,
      "metadata": {
        "colab": {
          "base_uri": "https://localhost:8080/"
        },
        "id": "GBPAcoAASLPr",
        "outputId": "d982a75e-3b56-49ad-bd49-e90a4e2c0449"
      },
      "outputs": [
        {
          "output_type": "execute_result",
          "data": {
            "text/plain": [
              "array([2, 1])"
            ]
          },
          "metadata": {},
          "execution_count": 5
        }
      ],
      "source": [
        "df_train[\"SMOKING\"].unique()"
      ],
      "id": "GBPAcoAASLPr"
    },
    {
      "cell_type": "code",
      "execution_count": 6,
      "metadata": {
        "colab": {
          "base_uri": "https://localhost:8080/"
        },
        "id": "NtBXsdOLVLzB",
        "outputId": "91c3f300-c7c9-42c3-feaf-78752626ee32"
      },
      "outputs": [
        {
          "output_type": "execute_result",
          "data": {
            "text/plain": [
              "array([1, 2])"
            ]
          },
          "metadata": {},
          "execution_count": 6
        }
      ],
      "source": [
        "df_train[\"YELLOW_FINGERS\"].unique()"
      ],
      "id": "NtBXsdOLVLzB"
    },
    {
      "cell_type": "code",
      "execution_count": 7,
      "metadata": {
        "colab": {
          "base_uri": "https://localhost:8080/"
        },
        "id": "d7QLTRPPVLyW",
        "outputId": "65a0a112-a8a2-42eb-8cc5-90c6b5d4b159"
      },
      "outputs": [
        {
          "output_type": "execute_result",
          "data": {
            "text/plain": [
              "array([1, 2])"
            ]
          },
          "metadata": {},
          "execution_count": 7
        }
      ],
      "source": [
        "df_train[\"ANXIETY\"].unique()"
      ],
      "id": "d7QLTRPPVLyW"
    },
    {
      "cell_type": "code",
      "execution_count": 8,
      "metadata": {
        "colab": {
          "base_uri": "https://localhost:8080/"
        },
        "id": "WSl2i-yxVLvh",
        "outputId": "e5f0d0b8-3703-4ed5-b8fc-61d0303f7b60"
      },
      "outputs": [
        {
          "output_type": "execute_result",
          "data": {
            "text/plain": [
              "array([1, 2])"
            ]
          },
          "metadata": {},
          "execution_count": 8
        }
      ],
      "source": [
        "df_train[\"PEER_PRESSURE\"].unique()"
      ],
      "id": "WSl2i-yxVLvh"
    },
    {
      "cell_type": "code",
      "execution_count": 9,
      "metadata": {
        "colab": {
          "base_uri": "https://localhost:8080/"
        },
        "id": "E3NHnnHuVLu6",
        "outputId": "8da96a63-642d-473f-c733-704cd4fd9ca5"
      },
      "outputs": [
        {
          "output_type": "execute_result",
          "data": {
            "text/plain": [
              "array([1, 2])"
            ]
          },
          "metadata": {},
          "execution_count": 9
        }
      ],
      "source": [
        "df_train[\"CHRONIC DISEASE\"].unique()"
      ],
      "id": "E3NHnnHuVLu6"
    },
    {
      "cell_type": "code",
      "execution_count": 10,
      "metadata": {
        "id": "JKyoFSunXsyc"
      },
      "outputs": [],
      "source": [
        "df_train = df_train.rename(columns={'FATIGUE ' : 'FATIGUE', 'ALLERGY ' : 'ALLERGY'})"
      ],
      "id": "JKyoFSunXsyc"
    },
    {
      "cell_type": "code",
      "execution_count": 11,
      "metadata": {
        "colab": {
          "base_uri": "https://localhost:8080/"
        },
        "id": "Qe3VCzkkVLoL",
        "outputId": "024d22d7-a5bc-474a-bafa-d02f948e47a4"
      },
      "outputs": [
        {
          "output_type": "execute_result",
          "data": {
            "text/plain": [
              "array([2, 1])"
            ]
          },
          "metadata": {},
          "execution_count": 11
        }
      ],
      "source": [
        "df_train[\"FATIGUE\"].unique()"
      ],
      "id": "Qe3VCzkkVLoL"
    },
    {
      "cell_type": "code",
      "execution_count": 12,
      "metadata": {
        "colab": {
          "base_uri": "https://localhost:8080/"
        },
        "id": "eSkEhYB3VLkO",
        "outputId": "9ab8b003-b8b2-4e73-997d-aace7d40f48e"
      },
      "outputs": [
        {
          "output_type": "execute_result",
          "data": {
            "text/plain": [
              "array([1, 2])"
            ]
          },
          "metadata": {},
          "execution_count": 12
        }
      ],
      "source": [
        "df_train[\"ALLERGY\"].unique()"
      ],
      "id": "eSkEhYB3VLkO"
    },
    {
      "cell_type": "code",
      "execution_count": 13,
      "metadata": {
        "colab": {
          "base_uri": "https://localhost:8080/"
        },
        "id": "ZBPSGOY8VLjQ",
        "outputId": "cfda9d4b-aab6-4b52-c9ec-32b626e812ad"
      },
      "outputs": [
        {
          "output_type": "execute_result",
          "data": {
            "text/plain": [
              "array([1, 2])"
            ]
          },
          "metadata": {},
          "execution_count": 13
        }
      ],
      "source": [
        "df_train[\"WHEEZING\"].unique()"
      ],
      "id": "ZBPSGOY8VLjQ"
    },
    {
      "cell_type": "code",
      "execution_count": 14,
      "metadata": {
        "colab": {
          "base_uri": "https://localhost:8080/"
        },
        "id": "Il53HaiPVLgN",
        "outputId": "bf445a62-9374-4ee5-b9fa-8eaf377aefd8"
      },
      "outputs": [
        {
          "output_type": "execute_result",
          "data": {
            "text/plain": [
              "array([1, 2])"
            ]
          },
          "metadata": {},
          "execution_count": 14
        }
      ],
      "source": [
        "df_train[\"ALCOHOL CONSUMING\"].unique()"
      ],
      "id": "Il53HaiPVLgN"
    },
    {
      "cell_type": "code",
      "execution_count": 15,
      "metadata": {
        "colab": {
          "base_uri": "https://localhost:8080/"
        },
        "id": "hM7xxUFUVLfi",
        "outputId": "eb12bca2-3e56-4539-e631-742db88103d6"
      },
      "outputs": [
        {
          "output_type": "execute_result",
          "data": {
            "text/plain": [
              "array([1, 2])"
            ]
          },
          "metadata": {},
          "execution_count": 15
        }
      ],
      "source": [
        "df_train[\"COUGHING\"].unique()"
      ],
      "id": "hM7xxUFUVLfi"
    },
    {
      "cell_type": "code",
      "execution_count": 16,
      "metadata": {
        "colab": {
          "base_uri": "https://localhost:8080/"
        },
        "id": "RKMMBpeMVLbQ",
        "outputId": "7bf8b189-e7c6-4fef-abc5-54cb160d42fa"
      },
      "outputs": [
        {
          "output_type": "execute_result",
          "data": {
            "text/plain": [
              "array([2, 1])"
            ]
          },
          "metadata": {},
          "execution_count": 16
        }
      ],
      "source": [
        "df_train[\"SHORTNESS OF BREATH\"].unique()"
      ],
      "id": "RKMMBpeMVLbQ"
    },
    {
      "cell_type": "code",
      "execution_count": 17,
      "metadata": {
        "colab": {
          "base_uri": "https://localhost:8080/"
        },
        "id": "palTcjxKVLao",
        "outputId": "f70d9566-06f7-44a1-8e35-0de5c0d41eb0"
      },
      "outputs": [
        {
          "output_type": "execute_result",
          "data": {
            "text/plain": [
              "array([1, 2])"
            ]
          },
          "metadata": {},
          "execution_count": 17
        }
      ],
      "source": [
        "df_train[\"SWALLOWING DIFFICULTY\"].unique()"
      ],
      "id": "palTcjxKVLao"
    },
    {
      "cell_type": "code",
      "execution_count": 18,
      "metadata": {
        "colab": {
          "base_uri": "https://localhost:8080/"
        },
        "id": "99ORJzh0VLTB",
        "outputId": "99f8e499-c972-4e68-e69e-82fdc4dd5bbf"
      },
      "outputs": [
        {
          "output_type": "execute_result",
          "data": {
            "text/plain": [
              "array([1, 2])"
            ]
          },
          "metadata": {},
          "execution_count": 18
        }
      ],
      "source": [
        "df_train[\"CHEST PAIN\"].unique()"
      ],
      "id": "99ORJzh0VLTB"
    },
    {
      "cell_type": "code",
      "execution_count": 19,
      "metadata": {
        "colab": {
          "base_uri": "https://localhost:8080/"
        },
        "id": "A8NKgunRVLGR",
        "outputId": "fc0bc00e-6c70-45f6-b1a8-a197c81bec58"
      },
      "outputs": [
        {
          "output_type": "execute_result",
          "data": {
            "text/plain": [
              "array(['NO', 'YES'], dtype=object)"
            ]
          },
          "metadata": {},
          "execution_count": 19
        }
      ],
      "source": [
        "df_train[\"LUNG_CANCER\"].unique()"
      ],
      "id": "A8NKgunRVLGR"
    },
    {
      "cell_type": "code",
      "execution_count": 20,
      "metadata": {
        "colab": {
          "base_uri": "https://localhost:8080/"
        },
        "id": "PFvOPH--VK5h",
        "outputId": "912d9855-a296-4c0a-ca79-c9891e89e105"
      },
      "outputs": [
        {
          "output_type": "execute_result",
          "data": {
            "text/plain": [
              "array([70, 56, 63, 51, 68, 54, 61, 67, 55, 69, 53, 73, 64, 59, 47, 57, 74,\n",
              "       77, 58, 49, 44, 76, 60, 75, 81, 62, 72, 87, 38])"
            ]
          },
          "metadata": {},
          "execution_count": 20
        }
      ],
      "source": [
        "## Testing\n",
        "\n",
        "df_test[\"AGE\"].unique()"
      ],
      "id": "PFvOPH--VK5h"
    },
    {
      "cell_type": "code",
      "execution_count": 21,
      "metadata": {
        "colab": {
          "base_uri": "https://localhost:8080/"
        },
        "id": "dUbZn44cZMBJ",
        "outputId": "26b718ad-a001-4b8f-d524-96c5570565b1"
      },
      "outputs": [
        {
          "output_type": "execute_result",
          "data": {
            "text/plain": [
              "array([1, 2])"
            ]
          },
          "metadata": {},
          "execution_count": 21
        }
      ],
      "source": [
        "df_test[\"SMOKING\"].unique()"
      ],
      "id": "dUbZn44cZMBJ"
    },
    {
      "cell_type": "code",
      "execution_count": 22,
      "metadata": {
        "colab": {
          "base_uri": "https://localhost:8080/"
        },
        "id": "mm0_OteiZL7k",
        "outputId": "4e3e8fcd-f405-46c2-baa2-28f79286832d"
      },
      "outputs": [
        {
          "output_type": "execute_result",
          "data": {
            "text/plain": [
              "array([2, 1])"
            ]
          },
          "metadata": {},
          "execution_count": 22
        }
      ],
      "source": [
        "df_test[\"YELLOW_FINGERS\"].unique()"
      ],
      "id": "mm0_OteiZL7k"
    },
    {
      "cell_type": "code",
      "execution_count": 23,
      "metadata": {
        "colab": {
          "base_uri": "https://localhost:8080/"
        },
        "id": "CxtfXxTnZL6f",
        "outputId": "555ef404-1353-4b46-c468-dcfa27c7b8a8"
      },
      "outputs": [
        {
          "output_type": "execute_result",
          "data": {
            "text/plain": [
              "array([1, 2])"
            ]
          },
          "metadata": {},
          "execution_count": 23
        }
      ],
      "source": [
        "df_test[\"ANXIETY\"].unique()"
      ],
      "id": "CxtfXxTnZL6f"
    },
    {
      "cell_type": "code",
      "execution_count": 24,
      "metadata": {
        "colab": {
          "base_uri": "https://localhost:8080/"
        },
        "id": "vwcn0b8LZL3o",
        "outputId": "f4441a25-4aaa-408b-9e96-eea2ed22975e"
      },
      "outputs": [
        {
          "output_type": "execute_result",
          "data": {
            "text/plain": [
              "array([2, 1])"
            ]
          },
          "metadata": {},
          "execution_count": 24
        }
      ],
      "source": [
        "df_test[\"PEER_PRESSURE\"].unique()"
      ],
      "id": "vwcn0b8LZL3o"
    },
    {
      "cell_type": "code",
      "execution_count": 25,
      "metadata": {
        "colab": {
          "base_uri": "https://localhost:8080/"
        },
        "id": "qMLJubc6ZL21",
        "outputId": "d02abbe4-32ba-427f-e118-5fd5a75e71ce"
      },
      "outputs": [
        {
          "output_type": "execute_result",
          "data": {
            "text/plain": [
              "array([1, 2])"
            ]
          },
          "metadata": {},
          "execution_count": 25
        }
      ],
      "source": [
        "df_test[\"CHRONIC DISEASE\"].unique()"
      ],
      "id": "qMLJubc6ZL21"
    },
    {
      "cell_type": "code",
      "execution_count": 26,
      "metadata": {
        "id": "F_Qj8GtFZL0A"
      },
      "outputs": [],
      "source": [
        "## A mistake is recognized here stating that \"Fatigue\" and \"Allergy\" had a space in the data set thats why we renamed the column.\n",
        "\n",
        "\n",
        "df_test = df_test.rename(columns={'FATIGUE ' : 'FATIGUE', 'ALLERGY ' : 'ALLERGY'}) "
      ],
      "id": "F_Qj8GtFZL0A"
    },
    {
      "cell_type": "code",
      "execution_count": 27,
      "metadata": {
        "colab": {
          "base_uri": "https://localhost:8080/"
        },
        "id": "8XWbw7cvZLzL",
        "outputId": "3213c95f-5cc8-40fb-8f8d-c3927fcc0460"
      },
      "outputs": [
        {
          "output_type": "execute_result",
          "data": {
            "text/plain": [
              "array([2, 1])"
            ]
          },
          "metadata": {},
          "execution_count": 27
        }
      ],
      "source": [
        "df_test[\"FATIGUE\"].unique()"
      ],
      "id": "8XWbw7cvZLzL"
    },
    {
      "cell_type": "code",
      "execution_count": 28,
      "metadata": {
        "colab": {
          "base_uri": "https://localhost:8080/"
        },
        "id": "GecqXKa7ZLwL",
        "outputId": "06685cdb-4418-4366-cefd-e0bf1c8c2b8c"
      },
      "outputs": [
        {
          "output_type": "execute_result",
          "data": {
            "text/plain": [
              "array([2, 1])"
            ]
          },
          "metadata": {},
          "execution_count": 28
        }
      ],
      "source": [
        "df_test[\"ALLERGY\"].unique()"
      ],
      "id": "GecqXKa7ZLwL"
    },
    {
      "cell_type": "code",
      "execution_count": 29,
      "metadata": {
        "colab": {
          "base_uri": "https://localhost:8080/"
        },
        "id": "2gXvpnYwZLvY",
        "outputId": "81de447c-624c-4334-8762-b2f5055c4d44"
      },
      "outputs": [
        {
          "output_type": "execute_result",
          "data": {
            "text/plain": [
              "array([2, 1])"
            ]
          },
          "metadata": {},
          "execution_count": 29
        }
      ],
      "source": [
        "df_test[\"WHEEZING\"].unique()"
      ],
      "id": "2gXvpnYwZLvY"
    },
    {
      "cell_type": "code",
      "execution_count": 30,
      "metadata": {
        "colab": {
          "base_uri": "https://localhost:8080/"
        },
        "id": "Wme_BbtbZLsg",
        "outputId": "3df43c5b-9d95-49bd-fee0-c6ba7d74a5dd"
      },
      "outputs": [
        {
          "output_type": "execute_result",
          "data": {
            "text/plain": [
              "array([2, 1])"
            ]
          },
          "metadata": {},
          "execution_count": 30
        }
      ],
      "source": [
        "df_test[\"ALCOHOL CONSUMING\"].unique()"
      ],
      "id": "Wme_BbtbZLsg"
    },
    {
      "cell_type": "code",
      "execution_count": 31,
      "metadata": {
        "colab": {
          "base_uri": "https://localhost:8080/"
        },
        "id": "mrm8NTR0ZLrs",
        "outputId": "cb0bbdab-a8d8-425a-a4fd-8c176c779a82"
      },
      "outputs": [
        {
          "output_type": "execute_result",
          "data": {
            "text/plain": [
              "array([2, 1])"
            ]
          },
          "metadata": {},
          "execution_count": 31
        }
      ],
      "source": [
        "df_test[\"COUGHING\"].unique()"
      ],
      "id": "mrm8NTR0ZLrs"
    },
    {
      "cell_type": "code",
      "execution_count": 32,
      "metadata": {
        "colab": {
          "base_uri": "https://localhost:8080/"
        },
        "id": "v5o-7Mb4ZLoi",
        "outputId": "a376076f-902c-490a-a3bd-f30f7f13f692"
      },
      "outputs": [
        {
          "output_type": "execute_result",
          "data": {
            "text/plain": [
              "array([1, 2])"
            ]
          },
          "metadata": {},
          "execution_count": 32
        }
      ],
      "source": [
        "df_test[\"SHORTNESS OF BREATH\"].unique()"
      ],
      "id": "v5o-7Mb4ZLoi"
    },
    {
      "cell_type": "code",
      "execution_count": 33,
      "metadata": {
        "colab": {
          "base_uri": "https://localhost:8080/"
        },
        "id": "hKB8Tx2uZLnt",
        "outputId": "4ea55e28-60f9-40d2-898f-75dbfe642060"
      },
      "outputs": [
        {
          "output_type": "execute_result",
          "data": {
            "text/plain": [
              "array([1, 2])"
            ]
          },
          "metadata": {},
          "execution_count": 33
        }
      ],
      "source": [
        "df_test[\"SWALLOWING DIFFICULTY\"].unique()"
      ],
      "id": "hKB8Tx2uZLnt"
    },
    {
      "cell_type": "code",
      "execution_count": 34,
      "metadata": {
        "colab": {
          "base_uri": "https://localhost:8080/"
        },
        "id": "cfGxYU90ZLkq",
        "outputId": "b4997a0c-e828-4806-9ae8-2cae258336db"
      },
      "outputs": [
        {
          "output_type": "execute_result",
          "data": {
            "text/plain": [
              "array([1, 2])"
            ]
          },
          "metadata": {},
          "execution_count": 34
        }
      ],
      "source": [
        "df_test[\"CHEST PAIN\"].unique()"
      ],
      "id": "cfGxYU90ZLkq"
    },
    {
      "cell_type": "code",
      "execution_count": 35,
      "metadata": {
        "colab": {
          "base_uri": "https://localhost:8080/"
        },
        "id": "jtY0QOVEZLj4",
        "outputId": "db32dc5a-da6f-4068-cef5-8afe7d3704b4"
      },
      "outputs": [
        {
          "output_type": "execute_result",
          "data": {
            "text/plain": [
              "array(['YES', 'NO'], dtype=object)"
            ]
          },
          "metadata": {},
          "execution_count": 35
        }
      ],
      "source": [
        "df_test[\"LUNG_CANCER\"].unique()"
      ],
      "id": "jtY0QOVEZLj4"
    },
    {
      "cell_type": "code",
      "execution_count": 36,
      "metadata": {
        "colab": {
          "base_uri": "https://localhost:8080/"
        },
        "id": "GD1xPfQQofVc",
        "outputId": "f703946c-2532-4764-8fe8-37a70de77f66"
      },
      "outputs": [
        {
          "output_type": "execute_result",
          "data": {
            "text/plain": [
              "YES    64\n",
              "NO     14\n",
              "Name: LUNG_CANCER, dtype: int64"
            ]
          },
          "metadata": {},
          "execution_count": 36
        }
      ],
      "source": [
        "df_test[\"LUNG_CANCER\"].value_counts() # this means the data set should be balanced theres is a huge difference hence we should use SMOTE"
      ],
      "id": "GD1xPfQQofVc"
    },
    {
      "cell_type": "markdown",
      "metadata": {
        "id": "RgO9uC--lPQJ"
      },
      "source": [
        "## Data Processing and Feature Engineering"
      ],
      "id": "RgO9uC--lPQJ"
    },
    {
      "cell_type": "code",
      "execution_count": 37,
      "metadata": {
        "colab": {
          "base_uri": "https://localhost:8080/"
        },
        "id": "Zu5aiy03ZLfs",
        "outputId": "53ace32d-1616-4e58-c599-ecbdd8927558"
      },
      "outputs": [
        {
          "output_type": "execute_result",
          "data": {
            "text/plain": [
              "GENDER                   0\n",
              "AGE                      0\n",
              "SMOKING                  0\n",
              "YELLOW_FINGERS           0\n",
              "ANXIETY                  0\n",
              "PEER_PRESSURE            0\n",
              "CHRONIC DISEASE          0\n",
              "FATIGUE                  0\n",
              "ALLERGY                  0\n",
              "WHEEZING                 0\n",
              "ALCOHOL CONSUMING        0\n",
              "COUGHING                 0\n",
              "SHORTNESS OF BREATH      0\n",
              "SWALLOWING DIFFICULTY    0\n",
              "CHEST PAIN               0\n",
              "LUNG_CANCER              0\n",
              "dtype: int64"
            ]
          },
          "metadata": {},
          "execution_count": 37
        }
      ],
      "source": [
        "df_train.isnull().sum() ## My Data Set doesnt have any missing values"
      ],
      "id": "Zu5aiy03ZLfs"
    },
    {
      "cell_type": "markdown",
      "metadata": {
        "id": "-m5wUdnGlxtg"
      },
      "source": [
        "## Seperating The Features and The Target Label"
      ],
      "id": "-m5wUdnGlxtg"
    },
    {
      "cell_type": "code",
      "execution_count": 38,
      "metadata": {
        "colab": {
          "base_uri": "https://localhost:8080/"
        },
        "id": "uKxO-O5Zl4mh",
        "outputId": "d59a9244-c1ff-4a75-95b3-8833d189dc96"
      },
      "outputs": [
        {
          "output_type": "stream",
          "name": "stdout",
          "text": [
            "x_train size: (231, 15)\n",
            "x_test size: (78, 15)\n",
            "y_train size: (231,)\n",
            "y_test size: (78,)\n"
          ]
        }
      ],
      "source": [
        "x_train= df_train.drop([\"LUNG_CANCER\"], axis=1)\n",
        "y_train= df_train[\"LUNG_CANCER\"]\n",
        "\n",
        "x_test= df_test.drop([\"LUNG_CANCER\"], axis=1)\n",
        "y_test= df_test[\"LUNG_CANCER\"]\n",
        "\n",
        "\n",
        "\n",
        "\n",
        "print(\"x_train size:\",x_train.shape)\n",
        "print(\"x_test size:\",x_test.shape)\n",
        "print(\"y_train size:\",y_train.shape)\n",
        "print(\"y_test size:\",y_test.shape)"
      ],
      "id": "uKxO-O5Zl4mh"
    },
    {
      "cell_type": "markdown",
      "metadata": {
        "id": "_hb2qQesn_RT"
      },
      "source": [
        "## Encoding Categorical Attributes"
      ],
      "id": "_hb2qQesn_RT"
    },
    {
      "cell_type": "code",
      "execution_count": 39,
      "metadata": {
        "colab": {
          "base_uri": "https://localhost:8080/"
        },
        "id": "aGuCvXR4oBN7",
        "outputId": "961194fe-89fc-401e-e21f-bb29a6395083"
      },
      "outputs": [
        {
          "output_type": "stream",
          "name": "stdout",
          "text": [
            "x_train: (231, 65)\n",
            "x_test: (78, 65)\n"
          ]
        }
      ],
      "source": [
        "# Implenting \"The Hot Encoder\"  \n",
        "\n",
        "man= sklearn.preprocessing.OneHotEncoder(handle_unknown=\"ignore\") ## creating encoding object\n",
        "man.fit(x_train) ## fitting the econdinng on training data\n",
        "\n",
        "\n",
        "#Encoding the categorical attributes of training Data\n",
        "x_train= man.transform(x_train)\n",
        "\n",
        "#Encoding the categorical attributes of test data\n",
        "x_test= man.transform(x_test)\n",
        "\n",
        "print(\"x_train:\", x_train.shape)\n",
        "print(\"x_test:\", x_test.shape)"
      ],
      "id": "aGuCvXR4oBN7"
    },
    {
      "cell_type": "markdown",
      "metadata": {
        "id": "IMwc_iegs8Xx"
      },
      "source": [
        "## Standardlization"
      ],
      "id": "IMwc_iegs8Xx"
    },
    {
      "cell_type": "code",
      "execution_count": 40,
      "metadata": {
        "colab": {
          "base_uri": "https://localhost:8080/"
        },
        "id": "vmnmBIsns-n8",
        "outputId": "e0e46c22-fb4e-4870-92e3-cf76e20989dd"
      },
      "outputs": [
        {
          "output_type": "stream",
          "name": "stdout",
          "text": [
            "x_train: (231, 65)\n",
            "x_test: (78, 65)\n"
          ]
        }
      ],
      "source": [
        "# Building a standardization model\n",
        "scaler= sklearn.preprocessing.StandardScaler(with_mean=False)\n",
        "scaler.fit(x_train)\n",
        "\n",
        "# Scaling the training features\n",
        "x_train= scaler.transform(x_train)\n",
        "\n",
        "#Reducing the number of test features\n",
        "x_test= scaler.transform(x_test)\n",
        "\n",
        "print(\"x_train:\", x_train.shape)\n",
        "print(\"x_test:\", x_test.shape)"
      ],
      "id": "vmnmBIsns-n8"
    },
    {
      "cell_type": "markdown",
      "metadata": {
        "id": "i_nLNTjYtGxl"
      },
      "source": [
        "## Imbalanced Classes in pca the most imp component is n_"
      ],
      "id": "i_nLNTjYtGxl"
    },
    {
      "cell_type": "code",
      "execution_count": 41,
      "metadata": {
        "colab": {
          "base_uri": "https://localhost:8080/"
        },
        "id": "xQ6WNcvstQRc",
        "outputId": "23bf83a2-cc2d-47ff-8bdd-b4ff4e591ef6"
      },
      "outputs": [
        {
          "output_type": "stream",
          "name": "stdout",
          "text": [
            "x_train_resampled size (412, 65)\n",
            "y_train_resampled size (412,)\n"
          ]
        }
      ],
      "source": [
        "sm = imblearn.over_sampling.SMOTE(random_state=7) # dont do it in final assignemnet the random state\n",
        "x_train_resampled, y_train_resampled = sm.fit_resample(x_train, y_train)\n",
        "print(\"x_train_resampled size\", x_train_resampled.shape)\n",
        "print(\"y_train_resampled size\", y_train_resampled.shape)"
      ],
      "id": "xQ6WNcvstQRc"
    },
    {
      "cell_type": "markdown",
      "metadata": {
        "id": "oruCHEtRy2Yl"
      },
      "source": [
        "## Choosing The algorithms"
      ],
      "id": "oruCHEtRy2Yl"
    },
    {
      "cell_type": "code",
      "execution_count": 42,
      "metadata": {
        "id": "Qe_O-ZnUzNxk"
      },
      "outputs": [],
      "source": [
        "model_svm= sklearn.svm.SVC()\n",
        "model_decision_trees= sklearn.tree.DecisionTreeClassifier()\n",
        "model_logistic_regression= sklearn.linear_model.LogisticRegression()\n",
        "model_KNN=sklearn.neighbors.KNeighborsClassifier()"
      ],
      "id": "Qe_O-ZnUzNxk"
    },
    {
      "cell_type": "markdown",
      "metadata": {
        "id": "JHaT0OBlzXfc"
      },
      "source": [
        "## Defining a Grid"
      ],
      "id": "JHaT0OBlzXfc"
    },
    {
      "cell_type": "code",
      "execution_count": 43,
      "metadata": {
        "colab": {
          "base_uri": "https://localhost:8080/",
          "height": 117
        },
        "id": "vxP5_ipjzfd8",
        "outputId": "0f800d45-7b9b-42b9-eabe-a648e20eb1b3"
      },
      "outputs": [
        {
          "output_type": "execute_result",
          "data": {
            "text/plain": [
              "GridSearchCV(cv=5, estimator=SVC(), n_jobs=-1,\n",
              "             param_grid={'C': [0.1, 1, 2], 'kernel': ('linear', 'rbf')},\n",
              "             scoring='accuracy')"
            ],
            "text/html": [
              "<style>#sk-container-id-1 {color: black;background-color: white;}#sk-container-id-1 pre{padding: 0;}#sk-container-id-1 div.sk-toggleable {background-color: white;}#sk-container-id-1 label.sk-toggleable__label {cursor: pointer;display: block;width: 100%;margin-bottom: 0;padding: 0.3em;box-sizing: border-box;text-align: center;}#sk-container-id-1 label.sk-toggleable__label-arrow:before {content: \"▸\";float: left;margin-right: 0.25em;color: #696969;}#sk-container-id-1 label.sk-toggleable__label-arrow:hover:before {color: black;}#sk-container-id-1 div.sk-estimator:hover label.sk-toggleable__label-arrow:before {color: black;}#sk-container-id-1 div.sk-toggleable__content {max-height: 0;max-width: 0;overflow: hidden;text-align: left;background-color: #f0f8ff;}#sk-container-id-1 div.sk-toggleable__content pre {margin: 0.2em;color: black;border-radius: 0.25em;background-color: #f0f8ff;}#sk-container-id-1 input.sk-toggleable__control:checked~div.sk-toggleable__content {max-height: 200px;max-width: 100%;overflow: auto;}#sk-container-id-1 input.sk-toggleable__control:checked~label.sk-toggleable__label-arrow:before {content: \"▾\";}#sk-container-id-1 div.sk-estimator input.sk-toggleable__control:checked~label.sk-toggleable__label {background-color: #d4ebff;}#sk-container-id-1 div.sk-label input.sk-toggleable__control:checked~label.sk-toggleable__label {background-color: #d4ebff;}#sk-container-id-1 input.sk-hidden--visually {border: 0;clip: rect(1px 1px 1px 1px);clip: rect(1px, 1px, 1px, 1px);height: 1px;margin: -1px;overflow: hidden;padding: 0;position: absolute;width: 1px;}#sk-container-id-1 div.sk-estimator {font-family: monospace;background-color: #f0f8ff;border: 1px dotted black;border-radius: 0.25em;box-sizing: border-box;margin-bottom: 0.5em;}#sk-container-id-1 div.sk-estimator:hover {background-color: #d4ebff;}#sk-container-id-1 div.sk-parallel-item::after {content: \"\";width: 100%;border-bottom: 1px solid gray;flex-grow: 1;}#sk-container-id-1 div.sk-label:hover label.sk-toggleable__label {background-color: #d4ebff;}#sk-container-id-1 div.sk-serial::before {content: \"\";position: absolute;border-left: 1px solid gray;box-sizing: border-box;top: 0;bottom: 0;left: 50%;z-index: 0;}#sk-container-id-1 div.sk-serial {display: flex;flex-direction: column;align-items: center;background-color: white;padding-right: 0.2em;padding-left: 0.2em;position: relative;}#sk-container-id-1 div.sk-item {position: relative;z-index: 1;}#sk-container-id-1 div.sk-parallel {display: flex;align-items: stretch;justify-content: center;background-color: white;position: relative;}#sk-container-id-1 div.sk-item::before, #sk-container-id-1 div.sk-parallel-item::before {content: \"\";position: absolute;border-left: 1px solid gray;box-sizing: border-box;top: 0;bottom: 0;left: 50%;z-index: -1;}#sk-container-id-1 div.sk-parallel-item {display: flex;flex-direction: column;z-index: 1;position: relative;background-color: white;}#sk-container-id-1 div.sk-parallel-item:first-child::after {align-self: flex-end;width: 50%;}#sk-container-id-1 div.sk-parallel-item:last-child::after {align-self: flex-start;width: 50%;}#sk-container-id-1 div.sk-parallel-item:only-child::after {width: 0;}#sk-container-id-1 div.sk-dashed-wrapped {border: 1px dashed gray;margin: 0 0.4em 0.5em 0.4em;box-sizing: border-box;padding-bottom: 0.4em;background-color: white;}#sk-container-id-1 div.sk-label label {font-family: monospace;font-weight: bold;display: inline-block;line-height: 1.2em;}#sk-container-id-1 div.sk-label-container {text-align: center;}#sk-container-id-1 div.sk-container {/* jupyter's `normalize.less` sets `[hidden] { display: none; }` but bootstrap.min.css set `[hidden] { display: none !important; }` so we also need the `!important` here to be able to override the default hidden behavior on the sphinx rendered scikit-learn.org. See: https://github.com/scikit-learn/scikit-learn/issues/21755 */display: inline-block !important;position: relative;}#sk-container-id-1 div.sk-text-repr-fallback {display: none;}</style><div id=\"sk-container-id-1\" class=\"sk-top-container\"><div class=\"sk-text-repr-fallback\"><pre>GridSearchCV(cv=5, estimator=SVC(), n_jobs=-1,\n",
              "             param_grid={&#x27;C&#x27;: [0.1, 1, 2], &#x27;kernel&#x27;: (&#x27;linear&#x27;, &#x27;rbf&#x27;)},\n",
              "             scoring=&#x27;accuracy&#x27;)</pre><b>In a Jupyter environment, please rerun this cell to show the HTML representation or trust the notebook. <br />On GitHub, the HTML representation is unable to render, please try loading this page with nbviewer.org.</b></div><div class=\"sk-container\" hidden><div class=\"sk-item sk-dashed-wrapped\"><div class=\"sk-label-container\"><div class=\"sk-label sk-toggleable\"><input class=\"sk-toggleable__control sk-hidden--visually\" id=\"sk-estimator-id-1\" type=\"checkbox\" ><label for=\"sk-estimator-id-1\" class=\"sk-toggleable__label sk-toggleable__label-arrow\">GridSearchCV</label><div class=\"sk-toggleable__content\"><pre>GridSearchCV(cv=5, estimator=SVC(), n_jobs=-1,\n",
              "             param_grid={&#x27;C&#x27;: [0.1, 1, 2], &#x27;kernel&#x27;: (&#x27;linear&#x27;, &#x27;rbf&#x27;)},\n",
              "             scoring=&#x27;accuracy&#x27;)</pre></div></div></div><div class=\"sk-parallel\"><div class=\"sk-parallel-item\"><div class=\"sk-item\"><div class=\"sk-label-container\"><div class=\"sk-label sk-toggleable\"><input class=\"sk-toggleable__control sk-hidden--visually\" id=\"sk-estimator-id-2\" type=\"checkbox\" ><label for=\"sk-estimator-id-2\" class=\"sk-toggleable__label sk-toggleable__label-arrow\">estimator: SVC</label><div class=\"sk-toggleable__content\"><pre>SVC()</pre></div></div></div><div class=\"sk-serial\"><div class=\"sk-item\"><div class=\"sk-estimator sk-toggleable\"><input class=\"sk-toggleable__control sk-hidden--visually\" id=\"sk-estimator-id-3\" type=\"checkbox\" ><label for=\"sk-estimator-id-3\" class=\"sk-toggleable__label sk-toggleable__label-arrow\">SVC</label><div class=\"sk-toggleable__content\"><pre>SVC()</pre></div></div></div></div></div></div></div></div></div></div>"
            ]
          },
          "metadata": {},
          "execution_count": 43
        }
      ],
      "source": [
        "parameters_svm= {'kernel':( 'linear', 'rbf') , 'C':[0.1,1,2]}\n",
        "model_svm=sklearn.svm.SVC()\n",
        "clf_svm= sklearn.model_selection.GridSearchCV(model_svm,parameters_svm,  scoring='accuracy', cv= 5, n_jobs=-1)\n",
        "clf_svm.fit(x_train, y_train)"
      ],
      "id": "vxP5_ipjzfd8"
    },
    {
      "cell_type": "code",
      "execution_count": 44,
      "metadata": {
        "id": "8tS5gmYez-At"
      },
      "outputs": [],
      "source": [
        "y_preds = clf_svm.predict(x_test)"
      ],
      "id": "8tS5gmYez-At"
    },
    {
      "cell_type": "code",
      "execution_count": 45,
      "metadata": {
        "id": "73NWsLFq0ade"
      },
      "outputs": [],
      "source": [
        "\n",
        "accuracy = sklearn.metrics.accuracy_score(y_preds, y_test)"
      ],
      "id": "73NWsLFq0ade"
    },
    {
      "cell_type": "code",
      "execution_count": 46,
      "metadata": {
        "colab": {
          "base_uri": "https://localhost:8080/"
        },
        "id": "6ymsAft_1jwr",
        "outputId": "16e6dff5-1632-421b-fa5c-0b9c50a6e519"
      },
      "outputs": [
        {
          "output_type": "stream",
          "name": "stdout",
          "text": [
            "0.8205128205128205\n"
          ]
        }
      ],
      "source": [
        "print(accuracy)"
      ],
      "id": "6ymsAft_1jwr"
    },
    {
      "cell_type": "code",
      "execution_count": 47,
      "metadata": {
        "id": "2tDykWDl1u7U"
      },
      "outputs": [],
      "source": [
        "parameters_decision_trees= {'criterion':('entropy','gini'), 'max_depth':[2,4,7]}\n",
        "model_decision_trees= sklearn.tree.DecisionTreeClassifier()\n",
        "clf_decision_trees=sklearn.model_selection.GridSearchCV(model_decision_trees,parameters_decision_trees, scoring='accuracy', cv= 5, n_jobs=-1)\n",
        "clf_decision_trees.fit(x_train, y_train)\n",
        "y_preds_decision_trees= clf_decision_trees.predict(x_test)"
      ],
      "id": "2tDykWDl1u7U"
    },
    {
      "cell_type": "code",
      "execution_count": 48,
      "metadata": {
        "id": "tLfYhPf118lN"
      },
      "outputs": [],
      "source": [
        "y_preds= clf_decision_trees.predict(x_test)"
      ],
      "id": "tLfYhPf118lN"
    },
    {
      "cell_type": "code",
      "execution_count": 49,
      "metadata": {
        "colab": {
          "base_uri": "https://localhost:8080/"
        },
        "id": "Jw-h4jiO2BeO",
        "outputId": "b1b3324a-bf73-48de-816c-582d97f1bb75"
      },
      "outputs": [
        {
          "output_type": "stream",
          "name": "stdout",
          "text": [
            "0.8205128205128205\n"
          ]
        }
      ],
      "source": [
        "\n",
        "accuracy = sklearn.metrics.accuracy_score(y_preds, y_test)\n",
        "print(accuracy)"
      ],
      "id": "Jw-h4jiO2BeO"
    },
    {
      "cell_type": "code",
      "execution_count": 50,
      "metadata": {
        "id": "CsIDrvUm2kDx"
      },
      "outputs": [],
      "source": [
        "parameters_logistic_regression={ 'C' :[0.1,1.0,3], 'random_state' : [20]}\n",
        "\n",
        "model_logistic_regression= sklearn.linear_model.LogisticRegression()\n",
        "\n",
        "clf_logistic_regression=sklearn.model_selection.GridSearchCV(model_logistic_regression,parameters_logistic_regression, scoring='accuracy', cv= 5, n_jobs=-1)\n"
      ],
      "id": "CsIDrvUm2kDx"
    },
    {
      "cell_type": "code",
      "execution_count": 51,
      "metadata": {
        "colab": {
          "base_uri": "https://localhost:8080/",
          "height": 117
        },
        "id": "HOM4dQsO6s-2",
        "outputId": "a89fa07a-a89a-4707-e981-589bbc55a097"
      },
      "outputs": [
        {
          "output_type": "execute_result",
          "data": {
            "text/plain": [
              "GridSearchCV(cv=5, estimator=LogisticRegression(), n_jobs=-1,\n",
              "             param_grid={'C': [0.1, 1.0, 3], 'random_state': [20]},\n",
              "             scoring='accuracy')"
            ],
            "text/html": [
              "<style>#sk-container-id-2 {color: black;background-color: white;}#sk-container-id-2 pre{padding: 0;}#sk-container-id-2 div.sk-toggleable {background-color: white;}#sk-container-id-2 label.sk-toggleable__label {cursor: pointer;display: block;width: 100%;margin-bottom: 0;padding: 0.3em;box-sizing: border-box;text-align: center;}#sk-container-id-2 label.sk-toggleable__label-arrow:before {content: \"▸\";float: left;margin-right: 0.25em;color: #696969;}#sk-container-id-2 label.sk-toggleable__label-arrow:hover:before {color: black;}#sk-container-id-2 div.sk-estimator:hover label.sk-toggleable__label-arrow:before {color: black;}#sk-container-id-2 div.sk-toggleable__content {max-height: 0;max-width: 0;overflow: hidden;text-align: left;background-color: #f0f8ff;}#sk-container-id-2 div.sk-toggleable__content pre {margin: 0.2em;color: black;border-radius: 0.25em;background-color: #f0f8ff;}#sk-container-id-2 input.sk-toggleable__control:checked~div.sk-toggleable__content {max-height: 200px;max-width: 100%;overflow: auto;}#sk-container-id-2 input.sk-toggleable__control:checked~label.sk-toggleable__label-arrow:before {content: \"▾\";}#sk-container-id-2 div.sk-estimator input.sk-toggleable__control:checked~label.sk-toggleable__label {background-color: #d4ebff;}#sk-container-id-2 div.sk-label input.sk-toggleable__control:checked~label.sk-toggleable__label {background-color: #d4ebff;}#sk-container-id-2 input.sk-hidden--visually {border: 0;clip: rect(1px 1px 1px 1px);clip: rect(1px, 1px, 1px, 1px);height: 1px;margin: -1px;overflow: hidden;padding: 0;position: absolute;width: 1px;}#sk-container-id-2 div.sk-estimator {font-family: monospace;background-color: #f0f8ff;border: 1px dotted black;border-radius: 0.25em;box-sizing: border-box;margin-bottom: 0.5em;}#sk-container-id-2 div.sk-estimator:hover {background-color: #d4ebff;}#sk-container-id-2 div.sk-parallel-item::after {content: \"\";width: 100%;border-bottom: 1px solid gray;flex-grow: 1;}#sk-container-id-2 div.sk-label:hover label.sk-toggleable__label {background-color: #d4ebff;}#sk-container-id-2 div.sk-serial::before {content: \"\";position: absolute;border-left: 1px solid gray;box-sizing: border-box;top: 0;bottom: 0;left: 50%;z-index: 0;}#sk-container-id-2 div.sk-serial {display: flex;flex-direction: column;align-items: center;background-color: white;padding-right: 0.2em;padding-left: 0.2em;position: relative;}#sk-container-id-2 div.sk-item {position: relative;z-index: 1;}#sk-container-id-2 div.sk-parallel {display: flex;align-items: stretch;justify-content: center;background-color: white;position: relative;}#sk-container-id-2 div.sk-item::before, #sk-container-id-2 div.sk-parallel-item::before {content: \"\";position: absolute;border-left: 1px solid gray;box-sizing: border-box;top: 0;bottom: 0;left: 50%;z-index: -1;}#sk-container-id-2 div.sk-parallel-item {display: flex;flex-direction: column;z-index: 1;position: relative;background-color: white;}#sk-container-id-2 div.sk-parallel-item:first-child::after {align-self: flex-end;width: 50%;}#sk-container-id-2 div.sk-parallel-item:last-child::after {align-self: flex-start;width: 50%;}#sk-container-id-2 div.sk-parallel-item:only-child::after {width: 0;}#sk-container-id-2 div.sk-dashed-wrapped {border: 1px dashed gray;margin: 0 0.4em 0.5em 0.4em;box-sizing: border-box;padding-bottom: 0.4em;background-color: white;}#sk-container-id-2 div.sk-label label {font-family: monospace;font-weight: bold;display: inline-block;line-height: 1.2em;}#sk-container-id-2 div.sk-label-container {text-align: center;}#sk-container-id-2 div.sk-container {/* jupyter's `normalize.less` sets `[hidden] { display: none; }` but bootstrap.min.css set `[hidden] { display: none !important; }` so we also need the `!important` here to be able to override the default hidden behavior on the sphinx rendered scikit-learn.org. See: https://github.com/scikit-learn/scikit-learn/issues/21755 */display: inline-block !important;position: relative;}#sk-container-id-2 div.sk-text-repr-fallback {display: none;}</style><div id=\"sk-container-id-2\" class=\"sk-top-container\"><div class=\"sk-text-repr-fallback\"><pre>GridSearchCV(cv=5, estimator=LogisticRegression(), n_jobs=-1,\n",
              "             param_grid={&#x27;C&#x27;: [0.1, 1.0, 3], &#x27;random_state&#x27;: [20]},\n",
              "             scoring=&#x27;accuracy&#x27;)</pre><b>In a Jupyter environment, please rerun this cell to show the HTML representation or trust the notebook. <br />On GitHub, the HTML representation is unable to render, please try loading this page with nbviewer.org.</b></div><div class=\"sk-container\" hidden><div class=\"sk-item sk-dashed-wrapped\"><div class=\"sk-label-container\"><div class=\"sk-label sk-toggleable\"><input class=\"sk-toggleable__control sk-hidden--visually\" id=\"sk-estimator-id-4\" type=\"checkbox\" ><label for=\"sk-estimator-id-4\" class=\"sk-toggleable__label sk-toggleable__label-arrow\">GridSearchCV</label><div class=\"sk-toggleable__content\"><pre>GridSearchCV(cv=5, estimator=LogisticRegression(), n_jobs=-1,\n",
              "             param_grid={&#x27;C&#x27;: [0.1, 1.0, 3], &#x27;random_state&#x27;: [20]},\n",
              "             scoring=&#x27;accuracy&#x27;)</pre></div></div></div><div class=\"sk-parallel\"><div class=\"sk-parallel-item\"><div class=\"sk-item\"><div class=\"sk-label-container\"><div class=\"sk-label sk-toggleable\"><input class=\"sk-toggleable__control sk-hidden--visually\" id=\"sk-estimator-id-5\" type=\"checkbox\" ><label for=\"sk-estimator-id-5\" class=\"sk-toggleable__label sk-toggleable__label-arrow\">estimator: LogisticRegression</label><div class=\"sk-toggleable__content\"><pre>LogisticRegression()</pre></div></div></div><div class=\"sk-serial\"><div class=\"sk-item\"><div class=\"sk-estimator sk-toggleable\"><input class=\"sk-toggleable__control sk-hidden--visually\" id=\"sk-estimator-id-6\" type=\"checkbox\" ><label for=\"sk-estimator-id-6\" class=\"sk-toggleable__label sk-toggleable__label-arrow\">LogisticRegression</label><div class=\"sk-toggleable__content\"><pre>LogisticRegression()</pre></div></div></div></div></div></div></div></div></div></div>"
            ]
          },
          "metadata": {},
          "execution_count": 51
        }
      ],
      "source": [
        "clf_logistic_regression.fit(x_train, y_train)"
      ],
      "id": "HOM4dQsO6s-2"
    },
    {
      "cell_type": "code",
      "execution_count": 52,
      "metadata": {
        "id": "fiNc_pt049Sd"
      },
      "outputs": [],
      "source": [
        "y_preds= clf_logistic_regression.predict(x_test)"
      ],
      "id": "fiNc_pt049Sd"
    },
    {
      "cell_type": "code",
      "execution_count": 53,
      "metadata": {
        "colab": {
          "base_uri": "https://localhost:8080/"
        },
        "id": "FHfmKHvN5TnE",
        "outputId": "21d23655-b537-4882-b56e-a2f7bd1b92c2"
      },
      "outputs": [
        {
          "output_type": "stream",
          "name": "stdout",
          "text": [
            "0.9102564102564102\n"
          ]
        }
      ],
      "source": [
        "accuracy = sklearn.metrics.accuracy_score(y_preds, y_test)\n",
        "print(accuracy)"
      ],
      "id": "FHfmKHvN5TnE"
    },
    {
      "cell_type": "code",
      "execution_count": 54,
      "metadata": {
        "id": "GQTc8UBiNdFI"
      },
      "outputs": [],
      "source": [
        "parameters_KNN= {'weights':['uniform'], 'n_neighbors':[2,5]}\n",
        "model_KNN= sklearn.neighbors.KNeighborsClassifier()\n",
        "clf_KNN=sklearn.model_selection.GridSearchCV(model_KNN,parameters_KNN, scoring='accuracy', cv= 5, n_jobs=-1)\n",
        "clf_KNN.fit(x_train, y_train)\n",
        "y_preds_KNN= clf_KNN.predict(x_test)"
      ],
      "id": "GQTc8UBiNdFI"
    },
    {
      "cell_type": "code",
      "execution_count": 55,
      "metadata": {
        "id": "UzMP8E5vNdq4"
      },
      "outputs": [],
      "source": [
        "y_preds= clf_KNN.predict(x_test)"
      ],
      "id": "UzMP8E5vNdq4"
    },
    {
      "cell_type": "code",
      "execution_count": 56,
      "metadata": {
        "colab": {
          "base_uri": "https://localhost:8080/"
        },
        "id": "Sj_5kGf9OdcN",
        "outputId": "085b1c67-1d90-44dc-f379-003de075df1c"
      },
      "outputs": [
        {
          "output_type": "stream",
          "name": "stdout",
          "text": [
            "0.8461538461538461\n"
          ]
        }
      ],
      "source": [
        "accuracy = sklearn.metrics.accuracy_score(y_preds, y_test)\n",
        "print(accuracy)"
      ],
      "id": "Sj_5kGf9OdcN"
    },
    {
      "cell_type": "code",
      "execution_count": 57,
      "metadata": {
        "id": "bwrbZHosUMCq"
      },
      "outputs": [],
      "source": [
        "## Upon trying different method algorithms it is shown that the logistic and svm algorthim methods were the highest,\n",
        "## but i will stick with logistic regression since its less complicated than svm algorithm method."
      ],
      "id": "bwrbZHosUMCq"
    },
    {
      "cell_type": "markdown",
      "metadata": {
        "id": "t7pqCOuPaDuR"
      },
      "source": [
        "## Logistic Regression"
      ],
      "id": "t7pqCOuPaDuR"
    },
    {
      "cell_type": "code",
      "execution_count": 58,
      "metadata": {
        "colab": {
          "base_uri": "https://localhost:8080/"
        },
        "id": "mq_CqkppaNx_",
        "outputId": "6aecb3be-bc6b-4a83-fea9-634ea34ac816"
      },
      "outputs": [
        {
          "output_type": "stream",
          "name": "stdout",
          "text": [
            "The best hyperparameters of logistic regression algorithm= {'C': 1.0, 'random_state': 20}\n",
            "0.9102564102564102\n"
          ]
        }
      ],
      "source": [
        "parameters_logistic_regression={ 'C' :[0.1,1.0,3] ,'random_state' : [20]}\n",
        "\n",
        "model_logistic_regression= sklearn.linear_model.LogisticRegression()\n",
        "\n",
        "clf_logistic_regression=sklearn.model_selection.GridSearchCV(model_logistic_regression,parameters_logistic_regression, scoring='accuracy', cv= 5, n_jobs=-1)\n",
        "\n",
        "clf_logistic_regression.fit(x_train, y_train)\n",
        "y_pred_final= clf_logistic_regression.predict(x_test)\n",
        "print(\"The best hyperparameters of logistic regression algorithm= {}\".format(clf_logistic_regression.best_params_))\n",
        "accuracy = sklearn.metrics.accuracy_score(y_pred_final, y_test)\n",
        "print(accuracy)"
      ],
      "id": "mq_CqkppaNx_"
    },
    {
      "cell_type": "code",
      "execution_count": 65,
      "metadata": {
        "colab": {
          "base_uri": "https://localhost:8080/"
        },
        "id": "xVUEyEQNcr42",
        "outputId": "fb8551fb-f241-4fe6-f1cc-23be0ca2b323"
      },
      "outputs": [
        {
          "output_type": "stream",
          "name": "stdout",
          "text": [
            "The best hyperparameters of logistic regression algorithm= {'C': 0.5, 'random_state': 20}\n",
            "0.9230769230769231\n"
          ]
        }
      ],
      "source": [
        "parameters_logistic_regression={ 'C' :[0.1,0.18, 0.2,0.5], 'random_state' : [20]}\n",
        "\n",
        "model_logistic_regression= sklearn.linear_model.LogisticRegression()\n",
        "\n",
        "clf_logistic_regression=sklearn.model_selection.GridSearchCV(model_logistic_regression,parameters_logistic_regression, scoring='accuracy', cv= 5, n_jobs=-1)\n",
        "\n",
        "clf_logistic_regression.fit(x_train, y_train)\n",
        "y_pred_final= clf_logistic_regression.predict(x_test)\n",
        "\n",
        "print(\"The best hyperparameters of logistic regression algorithm= {}\".format(clf_logistic_regression.best_params_))\n",
        "\n",
        "accuracy = sklearn.metrics.accuracy_score(y_pred_final, y_test)\n",
        "print(accuracy)\n"
      ],
      "id": "xVUEyEQNcr42"
    },
    {
      "cell_type": "code",
      "source": [
        "parameters_logistic_regression={ 'C' :[ 0.5,0.7, 0.8,0.9, 1, 1.3], 'random_state' : [20],'multi_class':['auto','ovr','multinomial'] }\n",
        "\n",
        "model_logistic_regression= sklearn.linear_model.LogisticRegression()\n",
        "\n",
        "clf_logistic_regression=sklearn.model_selection.GridSearchCV(model_logistic_regression,parameters_logistic_regression, scoring='accuracy', cv= 5, n_jobs=-1)\n",
        "\n",
        "clf_logistic_regression.fit(x_train, y_train)\n",
        "y_pred_final= clf_logistic_regression.predict(x_test)\n",
        "\n",
        "print(\"The best hyperparameters of logistic regression algorithm= {}\".format(clf_logistic_regression.best_params_))\n",
        "\n",
        "accuracy = sklearn.metrics.accuracy_score(y_pred_final, y_test)\n",
        "print(accuracy)\n"
      ],
      "metadata": {
        "colab": {
          "base_uri": "https://localhost:8080/"
        },
        "id": "kjGGB_eromZJ",
        "outputId": "8e458a5a-e81f-4b7e-8b11-22c4f0b4c9b3"
      },
      "id": "kjGGB_eromZJ",
      "execution_count": 71,
      "outputs": [
        {
          "output_type": "stream",
          "name": "stdout",
          "text": [
            "The best hyperparameters of logistic regression algorithm= {'C': 0.5, 'multi_class': 'multinomial', 'random_state': 20}\n",
            "0.9102564102564102\n"
          ]
        }
      ]
    },
    {
      "cell_type": "code",
      "execution_count": 59,
      "metadata": {
        "id": "FoSw51bzdjOv"
      },
      "outputs": [],
      "source": [],
      "id": "FoSw51bzdjOv"
    }
  ],
  "metadata": {
    "colab": {
      "provenance": [],
      "include_colab_link": true
    },
    "kernelspec": {
      "display_name": "Python 3",
      "language": "python",
      "name": "python3"
    },
    "language_info": {
      "codemirror_mode": {
        "name": "ipython",
        "version": 3
      },
      "file_extension": ".py",
      "mimetype": "text/x-python",
      "name": "python",
      "nbconvert_exporter": "python",
      "pygments_lexer": "ipython3",
      "version": "3.8.5"
    }
  },
  "nbformat": 4,
  "nbformat_minor": 5
}