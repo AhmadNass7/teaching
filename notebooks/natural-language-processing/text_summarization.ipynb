{
 "cells": [
  {
   "cell_type": "markdown",
   "id": "f053a289",
   "metadata": {},
   "source": [
    "# Text Summarization\n",
    "Evaluate some text summarization approaches in action. In particular, you should do the followings:\n",
    "- Define a string variable that contains a piece of text as your document.\n",
    "- Run unsupervised extractive text summarization algorithms to extract key sentences of your document using a library, such as `Sumy`.\n",
    "- Run pre-trained extractive/abstractive text summarization models to generate an abstract of your document using a library, such as `Transformers` and `bert-extractive-summarizer`.\n",
    "- Compare and evalaute different summaries and analyze the effect of hyperparameters on the final result quality."
   ]
  },
  {
   "cell_type": "code",
   "execution_count": null,
   "id": "99221de9",
   "metadata": {},
   "outputs": [],
   "source": []
  }
 ],
 "metadata": {
  "kernelspec": {
   "display_name": "Python 3 (ipykernel)",
   "language": "python",
   "name": "python3"
  },
  "language_info": {
   "codemirror_mode": {
    "name": "ipython",
    "version": 3
   },
   "file_extension": ".py",
   "mimetype": "text/x-python",
   "name": "python",
   "nbconvert_exporter": "python",
   "pygments_lexer": "ipython3",
   "version": "3.8.12"
  }
 },
 "nbformat": 4,
 "nbformat_minor": 5
}
