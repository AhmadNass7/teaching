{
 "cells": [
  {
   "cell_type": "markdown",
   "id": "broad-significance",
   "metadata": {},
   "source": [
    "# Control Statements"
   ]
  },
  {
   "cell_type": "markdown",
   "id": "mighty-picnic",
   "metadata": {},
   "source": [
    "## Check 2 Numbers are Dividable\n",
    "Write a Python prgoram that takes 2 numbers from the user and prints whether the first one is dividable by the second one or not. For example, if the user inputs 10 and 5, the program should print (\"10 is dividable by 5\"). "
   ]
  },
  {
   "cell_type": "code",
   "execution_count": 4,
   "id": "everyday-league",
   "metadata": {},
   "outputs": [
    {
     "name": "stdout",
     "output_type": "stream",
     "text": [
      "10\n",
      "5\n",
      "10 is dividable by 5\n"
     ]
    }
   ],
   "source": [
    "# Take 2 numbers from the user\n",
    "first_number = int(input())\n",
    "second_number = int(input())\n",
    "\n",
    "# Check the reminder with %\n",
    "if first_number % second_number == 0:\n",
    "    #print(first_number, \" is dividable by \", second_number)\n",
    "    #print(str(first_number) + \" is dividable by \" + str(second_number))\n",
    "    print(\"{} is dividable by {}\".format(first_number, second_number))\n",
    "\n"
   ]
  },
  {
   "cell_type": "code",
   "execution_count": 8,
   "id": "73c4cff7",
   "metadata": {},
   "outputs": [
    {
     "name": "stdout",
     "output_type": "stream",
     "text": [
      "my value is 3.4444\n"
     ]
    }
   ],
   "source": [
    "print(\"my value is {:.5}\".format(3.44443545456456))"
   ]
  },
  {
   "cell_type": "markdown",
   "id": "certified-smell",
   "metadata": {},
   "source": [
    "## Check a Website Address Has .com\n",
    "Write a Python program that takes a website address from the user and prints out whether it ends with \".com\" or not. For example, given the string \"www.google.com\", the program should print \"www.google.com ends with .com\"."
   ]
  },
  {
   "cell_type": "code",
   "execution_count": 11,
   "id": "framed-index",
   "metadata": {},
   "outputs": [],
   "source": [
    "# Taking a url from the user\n",
    "url = \"www.google.com\"\n",
    "\n",
    "# checking \".com\" in the input url\n",
    "if url.endswith(\".com\"):\n",
    "    print(\"{} ends with .com\".format(url))\n"
   ]
  },
  {
   "cell_type": "markdown",
   "id": "lonely-hollow",
   "metadata": {},
   "source": [
    "## Remove Non-String List Elements\n",
    "Write a Python program that takes a list and create another list that only contains string elements of the first list. For example, given the list [1, \"hello\", 4.3, True, \"bye\"], the program should define a list [\"hello\", \"bye\"]."
   ]
  },
  {
   "cell_type": "code",
   "execution_count": 13,
   "id": "compound-commissioner",
   "metadata": {},
   "outputs": [
    {
     "data": {
      "text/plain": [
       "['hello', 'bye']"
      ]
     },
     "execution_count": 13,
     "metadata": {},
     "output_type": "execute_result"
    }
   ],
   "source": [
    "# Taking/Defining a list\n",
    "input_list = [1, \"hello\", 4.3, True, \"bye\"]\n",
    "\n",
    "# Define an empty list\n",
    "string_list = []\n",
    "\n",
    "# Iterating on the given list\n",
    "for element in input_list:\n",
    "    \n",
    "    # Check the type of the elemnt\n",
    "    #if isinstance(element, str):\n",
    "    if type(element) == str:\n",
    "        string_list.append(element)\n",
    "        \n",
    "string_list\n",
    "        \n"
   ]
  },
  {
   "cell_type": "markdown",
   "id": "conceptual-lobby",
   "metadata": {},
   "source": [
    "## Compare Numbers\n",
    "Write a Python program that takes a integer from the user, compare it to a predefined number, and tell the user to guess a larger or smaller number. For example, suppose the predefined number is 10 and the user inputs 7. The program should print \"7 is too small!\"."
   ]
  },
  {
   "cell_type": "code",
   "execution_count": null,
   "id": "religious-leonard",
   "metadata": {},
   "outputs": [],
   "source": []
  },
  {
   "cell_type": "markdown",
   "id": "gorgeous-knitting",
   "metadata": {},
   "source": [
    "## Sum Even Numbers\n",
    "Write a Python program that compute the sum of even numbers in a given list of integers. "
   ]
  },
  {
   "cell_type": "code",
   "execution_count": null,
   "id": "artificial-professor",
   "metadata": {},
   "outputs": [],
   "source": []
  }
 ],
 "metadata": {
  "kernelspec": {
   "display_name": "Python 3 (ipykernel)",
   "language": "python",
   "name": "python3"
  },
  "language_info": {
   "codemirror_mode": {
    "name": "ipython",
    "version": 3
   },
   "file_extension": ".py",
   "mimetype": "text/x-python",
   "name": "python",
   "nbconvert_exporter": "python",
   "pygments_lexer": "ipython3",
   "version": "3.8.11"
  }
 },
 "nbformat": 4,
 "nbformat_minor": 5
}
