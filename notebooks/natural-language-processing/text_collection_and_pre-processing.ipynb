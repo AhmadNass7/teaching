{
 "cells": [
  {
   "cell_type": "markdown",
   "id": "b1c67ea6",
   "metadata": {},
   "source": [
    "# Text Collection and Pre-Processing\n",
    "We want to collect and pre-process some textual data. In particular, you should do the followings:\n",
    "- Scrape the Wikipedia page of [Christopher Nolan](https://en.wikipedia.org/wiki/Christopher_Nolan) using the `requests` library.\n",
    "- Extract and clean up the title and first few paragraphs of the web page using the `Beautiful Soup` library.\n",
    "- Tokenize sentences and words using either the `NLTK` or `spaCy` library.  \n",
    "- Stem and Lematize words using either the `NLTK` or `spaCy` library. \n"
   ]
  },
  {
   "cell_type": "code",
   "execution_count": null,
   "id": "0296001e",
   "metadata": {},
   "outputs": [],
   "source": []
  }
 ],
 "metadata": {
  "kernelspec": {
   "display_name": "Python 3 (ipykernel)",
   "language": "python",
   "name": "python3"
  },
  "language_info": {
   "codemirror_mode": {
    "name": "ipython",
    "version": 3
   },
   "file_extension": ".py",
   "mimetype": "text/x-python",
   "name": "python",
   "nbconvert_exporter": "python",
   "pygments_lexer": "ipython3",
   "version": "3.8.11"
  }
 },
 "nbformat": 4,
 "nbformat_minor": 5
}
