{
 "cells": [
  {
   "cell_type": "markdown",
   "id": "be9b1dcd",
   "metadata": {},
   "source": [
    "# Introduction\n",
    "Use `NLTK` or `spaCy`, as the main NLP libraries, to process some texts. In particular, you can design a very simple language model as follows: \n",
    "- Choose a piece of text as your training data.\n",
    "- Tokenize sentences and words of the training data.\n",
    "- Count the frequency of each word and store it in a dictionary.\n",
    "- Count the frequency of each bigram and store it in a dictionary. A bigram is the combination of two consecutive words.\n",
    "- Now, you can predict the next word of each sentence using the below probabilistic formula: $$ argmax_w Pr(w|w_{last}) = \\frac{\\text{Frequency of Bigram } (w_{last}, w)}{\\text{Frequency of Word } w_{last}}, $$ where $ w_{last} $ is the last word in the given sentence."
   ]
  }
 ],
 "metadata": {
  "kernelspec": {
   "display_name": "Python 3 (ipykernel)",
   "language": "python",
   "name": "python3"
  },
  "language_info": {
   "codemirror_mode": {
    "name": "ipython",
    "version": 3
   },
   "file_extension": ".py",
   "mimetype": "text/x-python",
   "name": "python",
   "nbconvert_exporter": "python",
   "pygments_lexer": "ipython3",
   "version": "3.8.12"
  }
 },
 "nbformat": 4,
 "nbformat_minor": 5
}
