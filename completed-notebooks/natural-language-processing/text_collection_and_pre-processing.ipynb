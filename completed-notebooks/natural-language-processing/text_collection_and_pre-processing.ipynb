{
 "cells": [
  {
   "cell_type": "markdown",
   "id": "b1c67ea6",
   "metadata": {},
   "source": [
    "# Text Collection and Pre-Processing\n",
    "We want to collect and pre-process some textual data. In particular, you should do the followings:\n",
    "- Scrape the Wikipedia page of [Christopher Nolan](https://en.wikipedia.org/wiki/Christopher_Nolan) using the `requests` library.\n",
    "- Extract and clean up the title and first few paragraphs of the web page using the `Beautiful Soup` library.\n",
    "- Tokenize sentences and words using either the `NLTK` or `spaCy` library.  \n",
    "- Stem and Lematize words using either the `NLTK` or `spaCy` library. \n"
   ]
  },
  {
   "cell_type": "markdown",
   "id": "80b73696",
   "metadata": {},
   "source": [
    "## Importing Modules"
   ]
  },
  {
   "cell_type": "code",
   "execution_count": 1,
   "id": "0296001e",
   "metadata": {},
   "outputs": [],
   "source": [
    "import bs4\n",
    "import nltk\n",
    "import requests"
   ]
  },
  {
   "cell_type": "markdown",
   "id": "c9ab291b",
   "metadata": {},
   "source": [
    "## Getting the HTML Page"
   ]
  },
  {
   "cell_type": "code",
   "execution_count": 2,
   "id": "6c930ddb",
   "metadata": {},
   "outputs": [
    {
     "data": {
      "text/plain": [
       "200"
      ]
     },
     "execution_count": 2,
     "metadata": {},
     "output_type": "execute_result"
    }
   ],
   "source": [
    "url = \"https://en.wikipedia.org/wiki/Christopher_Nolan\"\n",
    "r = requests.get(url)\n",
    "r.status_code"
   ]
  },
  {
   "cell_type": "markdown",
   "id": "60f49222",
   "metadata": {},
   "source": [
    "## Parsing the HTML Page"
   ]
  },
  {
   "cell_type": "code",
   "execution_count": 4,
   "id": "9523d3d5",
   "metadata": {},
   "outputs": [
    {
     "name": "stdout",
     "output_type": "stream",
     "text": [
      "\n",
      "\n",
      "--------------\n",
      "Christopher Edward Nolan CBE (/ˈnoʊlən/; born 30 July 1970) is a British-American film director, producer, and screenwriter. His films have grossed more than US$5 billion worldwide, and have garnered 11 Academy Awards from 36 nominations. \n",
      "\n",
      "--------------\n",
      "Born and raised in London, Nolan developed an interest in filmmaking from a young age. After studying English literature at University College London, he made his feature debut with Following (1998). Nolan gained international recognition with his second film, Memento (2000), for which he was nominated for the Academy Award for Best Original Screenplay. He transitioned from independent to studio filmmaking with Insomnia (2002), and found further critical and commercial success with The Dark Knight Trilogy (2005–2012), The Prestige (2006), and Inception (2010), which received eight Oscar nominations, including for Best Picture and Best Original Screenplay. This was followed by Interstellar (2014), Dunkirk (2017), and Tenet (2020). He earned Academy Award nominations for Best Picture and Best Director for his work on Dunkirk.\n",
      "\n",
      "--------------\n",
      "Nolan's films are typically rooted in epistemological and metaphysical themes, exploring human morality, the construction of time, and the malleable nature of memory and personal identity. His work is permeated by mathematically inspired images and concepts, unconventional narrative structures, practical special effects, experimental soundscapes, large-format film photography, and materialistic perspectives. He has co-written several of his films with his brother Jonathan, and runs the production company Syncopy Inc. with his wife Emma Thomas.\n",
      "\n",
      "--------------\n",
      "Nolan has received many awards and honours. Time named him one of the 100 most influential people in the world in 2015, and in 2019, he was appointed Commander of the Order of the British Empire for his services to film.\n",
      "\n",
      "--------------\n",
      "Nolan was born in Westminster, London, and grew up in Highgate.[1][2] He was raised a Catholic.[3] His father, Brendan James Nolan, was a British advertising executive who worked as a creative director.[4] His mother, Christina (née Jensen), was an American flight attendant who would later work as an English teacher.[4][5][6] Nolan's childhood was split between London and Evanston, Illinois, and he has both British and US citizenship.[7][8][9] He has an elder brother, Matthew,[10] and a younger brother, Jonathan, also a filmmaker.[11] Growing up, Nolan was particularly influenced by the work of Ridley Scott, and the science fiction films 2001: A Space Odyssey (1968) and Star Wars (1977).[12][13] He began making films at age seven, borrowing his father's Super 8 camera and shooting short films with his action figures.[14][15] These films included a stop motion animation homage to Star Wars called Space Wars. He cast his brother Jonathan and built sets from \"clay, flour, egg boxes and toilet rolls.\"[12] His uncle, who worked at NASA building guidance systems for the Apollo rockets, sent him some launch footage: \"I re-filmed them off the screen and cut them in, thinking no-one would notice\", Nolan later remarked.[5][16][17] From the age of eleven, he aspired to be a professional filmmaker.[11] Between 1981 and 1983, Nolan enrolled at Barrow Hills, a Catholic prep school in Weybridge, Surrey, run by Josephite priests.[18] In his teenage years, Nolan started making films with Adrien and Roko Belic. Nolan and Roko co–directed the surreal 8 mm Tarantella (1989), which was shown on Image Union, an independent film and video showcase on the Public Broadcasting Service.[note 1][22][23]\n",
      "\n",
      "--------------\n",
      "Nolan was educated at Haileybury and Imperial Service College, an independent school in Hertford Heath, Hertfordshire, and later read English literature at University College London (UCL). Opting out of a traditional film education, he pursued \"a degree in something unrelated ... because it gives a different take on things.\"[25] He chose UCL specifically for its filmmaking facilities, which comprised a Steenbeck editing suite and 16 mm film cameras.[26] Nolan was president of the Union's Film Society,[26] and with Emma Thomas (his girlfriend and future wife) he screened 35 mm feature films during the school year and used the money earned to produce 16 mm films over the summers.[27]\n",
      "\n",
      "--------------\n",
      "After earning his bachelor's degree in English literature in 1993, Nolan worked as a script reader, camera operator, and director of corporate videos and industrial films.[6][26][28] In 1995, he began work on the short film Larceny, which was filmed over a weekend in black and white with limited equipment and a small cast and crew.[22][29] Funded by Nolan and shot with the UCLU Film society's equipment, it appeared at the Cambridge Film Festival in 1996 and is considered one of UCL's best shorts.[30] He filmed a third short, Doodlebug (1997), about a man seemingly chasing an insect with his shoe, only to discover that it is a miniature of himself.[25][31] Nolan and Thomas made their first attempt at a feature in the mid-90s with a project called Larry Mahoney, which was scrapped and never released.[32] During this period in his career, Nolan had little or no success getting his projects off the ground; he later recalled the \"stack of rejection letters\" that greeted his early forays into making films, adding \"there's a very limited pool of finance in the UK. To be honest, it's a very clubby kind of place ... Never had any support whatsoever from the British film industry.\"[33]\n",
      "\n",
      "--------------\n",
      "In 1998, Nolan released his first feature, Following, which he wrote, directed, photographed and edited. It depicts an unemployed young writer (Jeremy Theobald) who trails strangers through London, hoping they will provide material for his first novel, but is drawn into a criminal underworld when he fails to keep his distance. From Nolan's experience of living in London and having his apartment burgled, he observed that the common attribute between larceny and pursuing someone through a crowd was that they \"both take you beyond the boundaries of ordinary social relations\".[34] Co-produced by Nolan with Thomas and Theobald,[35] it was made on a budget of £3,000.[36][37] Most of the cast and crew were friends of the director, and shooting took place on weekends over the course of a year.[37]  To conserve film stock, each scene was rehearsed extensively to ensure that the first or second take could be used in the final edit.[25][38] Following won several awards during its festival run[39][40] and was well received by critics; The New Yorker wrote that it \"echoed Hitchcock classics\", but was \"leaner and meaner\".[14] Janet Maslin of The New York Times was impressed with its \"spare look\" and agile hand-held camerawork, saying, \"As a result, the actors convincingly carry off the before, during and after modes that the film eventually, and artfully, weaves together.\"[41] On 11 December 2012, it was released on DVD and Blu-ray as part of The Criterion Collection.[42]\n",
      "\n",
      "--------------\n",
      "[The] difference between shooting Following with a group of friends wearing our own clothes and my mum making sandwiches to spending $4 million of somebody else's money on Memento and having a crew of a hundred people is, to this day, by far the biggest leap I've ever made.\n",
      "\n",
      "--------------\n",
      "—Nolan (in 2012) on the jump from his first film to his second.[37]\n",
      "\n",
      "--------------\n",
      "Following's success afforded Nolan the opportunity to make Memento (2000), which became his breakthrough film. His brother Jonathan pitched the idea to him, about a man with anterograde amnesia who uses notes and tattoos to hunt for his wife's murderer. Jonathan worked the idea into a short story, \"Memento Mori\" (2001), while Nolan developed it into a screenplay that told the story in reverse. Aaron Ryder, an executive for Newmarket Films, said it was \"perhaps the most innovative script I had ever seen\".[43] The film was optioned and given a budget of $4.5 million, with Guy Pearce and Carrie-Anne Moss in the starring roles.[44] Memento premiered at the Venice International Film Festival in September 2000 to critical acclaim.[45] Joe Morgenstern of The Wall Street Journal wrote in his review, \"I can't remember when a movie has seemed so clever, strangely affecting and slyly funny at the very same time.\"[46] Basil Smith, in the book The Philosophy of Neo-Noir, draws a comparison with John Locke's An Essay Concerning Human Understanding, which argues that conscious memories constitute our identities, a theme that Nolan explores in the film.[47] The film was a box-office success[48] and received many accolades, including Academy Award and Golden Globe Award nominations for its screenplay, Independent Spirit Awards for Best Director and Best Screenplay, and a Directors Guild of America (DGA) Award nomination.[49][50] Memento was considered by numerous critics to be one of the best films of the 2000s.[51] In 2017, the film was selected by the Library of Congress for preservation in the United States National Film Registry, being deemed \"culturally, historically, or aesthetically significant\".[52]\n",
      "\n",
      "--------------\n",
      "Impressed by his work on Memento, Steven Soderbergh recruited Nolan to direct the psychological thriller Insomnia (2002), starring Academy Award winners Al Pacino, Robin Williams, and Hilary Swank.[53] Warner Bros. initially wanted a more seasoned director, but Soderbergh and his Section Eight Productions fought for Nolan, as well as his choice of cinematographer (Wally Pfister) and editor (Dody Dorn).[54] With a $46 million budget, it was described as \"a much more conventional Hollywood film than anything [Nolan had] done before\".[53] A remake of the 1997 Norwegian film of the same name, Insomnia is about two Los Angeles detectives sent to a northern Alaskan town to investigate the murder of a local teenager. It received positive reviews from critics and performed well at the box office, earning $113 million worldwide.[55][56] Film critic Roger Ebert praised the film for introducing new perspectives and ideas on the issues of morality and guilt, stating that \"Unlike most remakes, the Nolan Insomnia is not a pale retread, but a re-examination of the material, like a new production of a good play.\"[57] Richard Schickel of Time deemed Insomnia a \"worthy successor\" to Memento, and \"a triumph of atmosphere over a none-too-mysterious mystery\".[58]\n",
      "\n",
      "--------------\n",
      "After Insomnia, Nolan planned a Howard Hughes biographical film starring Jim Carrey. He wrote a screenplay, which he said was \"the best script I've ever written\", but when he learned that Martin Scorsese was making a Hughes biopic (2004's The Aviator), he reluctantly tabled his script and moved on to other projects.[59][60] Having turned down an offer to direct the historical epic Troy (2004),[61] Nolan worked on adapting Ruth Rendell's crime novel The Keys to the Street into a screenplay that he planned to direct for Fox Searchlight Pictures, but eventually left the project, citing the similarities to his previous films.[62] Nolan was also adapting a film version of The Prisoner,[63] but later dropped out of the project.[64]\n",
      "\n",
      "--------------\n",
      "In early 2003, Nolan approached Warner Bros. with the idea of making a new Batman film, based on the character's origin story.[65] Nolan was fascinated by the notion of grounding it in a world more reminiscent of classical drama than comic-book fantasy.[66] He relied heavily on traditional stunts and miniature effects during filming, with minimal use of computer-generated imagery.[65] Batman Begins, the biggest project Nolan had undertaken to that point,[66] premiered in June 2005 to critical acclaim and commercial success.[67] Starring Christian Bale in the title role, along with Michael Caine, Gary Oldman, Morgan Freeman, and Liam Neeson, the film revived the franchise, heralding a trend towards darker films that rebooted (or retold) backstories.[68][69] Praised for its psychological depth and contemporary relevance,[70] Kyle Smith of the New York Post called it \"a wake-up call to the people who keep giving us cute capers about men in tights. It wipes the smirk off the face of the superhero movie.\"[71] Batman Begins was the eighth-highest-grossing film of 2005 in the United States and the year's ninth-highest-grossing film worldwide.[72] It was nominated for the Academy Award for Best Cinematography, and has been cited as one of the most influential films of the 2000s.[73][74]\n",
      "\n",
      "--------------\n",
      "Before returning to the Batman franchise for a sequel, Nolan directed, co-wrote, and produced The Prestige (2006), an adaptation of the Christopher Priest novel about two rival 19th-century magicians.[75] The screenplay was the result of an intermittent, five-year collaboration between him and his brother Jonathan, who had begun writing it already in 2001.[76] Nolan initially intended to make the film as early as 2003, but had postponed the project after agreeing to make Batman Begins.[77] Starring Hugh Jackman and Christian Bale in the lead roles, The Prestige received critical acclaim and earned over $109 million worldwide.[78][79] Roger Ebert described it as \"quite a movie – atmospheric, obsessive, almost satanic\",[80] and Kenneth Turan of the Los Angeles Times called it an \"ambitious, unnerving melodrama\".[81] Philip French wrote in his review for The Guardian: \"In addition to the intellectual or philosophical excitement it engenders, The Prestige is gripping, suspenseful, mysterious, moving and often darkly funny.\"[82] The Prestige also received Academy Award nominations for Best Cinematography and Best Art Direction.[83]\n",
      "\n",
      "--------------\n",
      "In 2006, Nolan announced that the follow-up to Batman Begins would be called The Dark Knight.[84] Approaching the sequel, Nolan wanted to expand on the noirish quality of the first film by broadening the canvas and taking on \"the dynamic of a story of the city, a large crime story ... where you're looking at the police, the justice system, the vigilante, the poor people, the rich people, the criminals\".[85] Released in July 2008 to great critical acclaim, The Dark Knight has been cited as one of the best films of the 2000s and one of the best superhero films ever made.[51][86][87] Manohla Dargis of The New York Times found the film to be of higher artistic merit than many Hollywood blockbusters: \"Pitched at the divide between art and industry, poetry and entertainment, it goes darker and deeper than any Hollywood movie of its comic-book kind.\"[88] Ebert expressed a similar point of view, describing it as a \"haunted film that leaps beyond its origins and becomes an engrossing tragedy.\"[89] The Dark Knight set many box-office records during its theatrical run,[90] earning over $1 billion worldwide.[91] At the 81st Academy Awards, the film was nominated for eight Oscars, winning two: the Academy Award for Best Sound Editing and a posthumous Academy Award for Best Supporting Actor for Heath Ledger.[92] Nolan received many awards and nominations for his work on the film.[49] It was designated as \"culturally, historically or aesthetically significant\" by the Library of Congress in 2020 and selected for preservation in the National Film Registry.[93]\n",
      "\n",
      "--------------\n",
      "After The Dark Knight's success, Warner Bros. signed Nolan to direct Inception (2010). Nolan also wrote and co-produced the film, described as \"a contemporary sci-fi actioner set within the architecture of the mind\".[94] Starring a large ensemble cast led by Leonardo DiCaprio, the film became a critical and commercial success upon its release in July 2010.[95] Richard Roeper of the Chicago Sun-Times awarded the film a perfect score of \"A+\" and called it \"one of the best movies of the [21st] century\".[96] Mark Kermode named it the best film of 2010, stating \"Inception is proof that people are not stupid, that cinema is not trash, and that it is possible for blockbusters and art to be the same thing.\"[97][98] The film ended up grossing over $836 million worldwide[99] and was nominated for eight Academy Awards, including Best Picture and Best Original Screenplay; it won the award for Best Cinematography, Best Sound Mixing, Best Sound Editing and Best Visual Effects.[100] Nolan was also nominated for BAFTA and Golden Globe awards, among other accolades.[49]\n",
      "\n",
      "--------------\n",
      "In 2012, Nolan directed his third and final Batman film, The Dark Knight Rises, with Christian Bale reprising the title role. Although Nolan was initially hesitant about returning to the series, he agreed to come back after developing a story with his brother and David S. Goyer that he felt would end the series on a high note.[101][102] The film was released in July 2012 to positive reviews; Andrew O'Hehir of Salon called it \"auteurist spectacle on a scale never before possible and never before attempted\".[103][104] Christy Lemire of The Associated Press wrote in her review that Nolan concluded his trilogy in a \"typically spectacular, ambitious fashion\", but disliked the \"overloaded\" story and excessive grimness.[105] Like its predecessor, the film was a box office success, becoming the thirteenth film to reach the billion-dollar mark.[106] During a midnight showing of the film at the Century 16 cinema in Aurora, Colorado, a gunman opened fire inside the theatre, killing 12 people and injuring 58 others.[107] Nolan released a statement to the press expressing his condolences for the victims of what he described as a senseless tragedy.[108]\n",
      "\n",
      "--------------\n",
      "During story discussions for The Dark Knight Rises in 2010, Goyer told Nolan of his idea to present Superman in a modern context.[109] Impressed with Goyer's first contact concept, Nolan pitched the idea for Man of Steel (2013) to Warner Bros, who hired Nolan to produce and Zack Snyder to direct.[110][109] Starring Henry Cavill, Amy Adams, Kevin Costner, Russell Crowe, and Michael Shannon, Man of Steel grossed more than $660 million at the worldwide box office, but received a divided critical reaction.[111] Despite the mixed reviews, Nolan was thoroughly impressed by Snyder's work, saying that the director \"knocked it out of the park\", and that he believed the film would have the same potential to excite audiences as when he himself saw the Christopher Reeve version in 1978.[112]\n",
      "\n",
      "--------------\n",
      "Nolan next directed, wrote, and produced the science-fiction film Interstellar (2014). The first drafts of the script were written by Jonathan Nolan, and it was originally to be directed by Steven Spielberg.[113] Based on the scientific theories of theoretical physicist Kip Thorne, the film follows a group of astronauts who travel through a wormhole in search of a new home for humanity.[114] Starring Matthew McConaughey, Anne Hathaway, Jessica Chastain, Bill Irwin, Michael Caine, and Ellen Burstyn, Interstellar was released in November 2014 to largely positive reviews and strong box office results, grossing over $700 million worldwide.[115][116][117] A. O. Scott wrote, in his review for The New York Times, \"Interstellar, full of visual dazzle, thematic ambition ... is a sweeping, futuristic adventure driven by grief, dread and regret.\"[118] Documentary filmmaker Toni Myers said of the film, \"I loved it because it tackled the most difficult part of human exploration, which is that it's a multi-generational journey. It was a real work of art.\"[119] Interstellar was particularly praised for its scientific accuracy, which led to the publication of two scientific papers[120] and the American Journal of Physics calling for it to be shown in school science lessons.[121][122] At the 87th Academy Awards, the film won Best Visual Effects and received four other nominations – Best Original Score, Best Sound Mixing, Best Sound Editing and Best Production Design.[123] In 2014, Nolan and Emma Thomas also served as executive producers on Transcendence, the directorial debut of Nolan's longtime cinematographer Wally Pfister.[124]\n",
      "\n",
      "--------------\n",
      "In the mid-2010s, Nolan took part in several ventures for film preservation and distribution of the films of lesser-known filmmakers. His production company, Syncopy, formed a joint venture with Zeitgeist Films to release Blu-ray editions of Zeitgeist's prestige titles.[125] As part of the Blu-ray release of the animation films of the Brothers Quay, Nolan directed the documentary short Quay (2015). He also initiated a theatrical tour, showcasing the Quays' In Absentia, The Comb, and Street of Crocodiles. The program and Nolan's short received critical acclaim, with IndieWire writing in their review that the brothers \"will undoubtedly have hundreds, if not thousands more fans because of Nolan, and for that The Quay Brothers in 35mm will always be one of latter's most important contributions to cinema\".[126][127] An advocate for the survival of the analogue medium, Nolan and visual artist Tacita Dean invited representatives from leading American film archives, laboratories, and presenting institutions to participate in an informal summit entitled Reframing the Future of Film at the Getty Museum in March 2015.[128][129] Subsequent events were held at Tate Modern in London, Museo Tamayo in Mexico City, and Tata Theatre in Mumbai.[130] In 2015, Nolan also joined the board of directors of The Film Foundation, a US-based non-profitable organisation dedicated to film preservation,[131] and was appointed, along with Martin Scorsese, by the Library of Congress to serve on the National Film Preservation Board (NFPB) as DGA representatives.[132]\n",
      "\n",
      "--------------\n",
      "After serving as an executive producer alongside Thomas on Zack Snyder's Batman v Superman: Dawn of Justice (2016) and Justice League (2017),[133][134] Nolan returned to directing with Dunkirk (2017). Based on his own original screenplay and co-produced with Thomas, the story is set amid World War II and the evacuation of Allied soldiers from the beaches of Dunkirk, France, in 1940. Describing the film as a survival tale with a triptych structure, Nolan wanted to make a \"sensory, almost experimental movie\" with minimal dialogue.[135] He said he waited to make Dunkirk until he had earned the trust of a major studio to let him make it as a British film, but with an American budget.[136] Before filming, Nolan sought advice from Spielberg, who later said in an interview with Variety, \"knowing and respecting that Chris [Nolan] is one of the world's most imaginative filmmakers, my advice to him was to leave his imagination, as I did on Ryan, in second position to the research he was doing to authentically acquit this historical drama.\"[137] Starring Fionn Whitehead, Jack Lowden, Aneurin Barnard, Harry Styles, Tom Hardy, Mark Rylance, Cillian Murphy, and Kenneth Branagh,[138] Dunkirk was released in theatres in July 2017 to widespread critical acclaim and strong box office results.[139][140][141] It grossed over $526 million worldwide, which made it the highest-grossing World War II film of all time.[142] In his review, Mick LaSalle of the San Francisco Chronicle wrote: \"It's one of the best war films ever made, distinct in its look, in its approach and in the effect it has on viewers. There are movies—they are rare—that lift you out of your present circumstances and immerse you so fully in another experience that you watch in a state of jaw-dropped awe. Dunkirk is that kind of movie.\"[143] The film received many accolades, including Nolan's first Oscar nomination for Best Director.[144]\n",
      "\n",
      "--------------\n",
      "In 2018, Nolan supervised a new 70mm print of Stanley Kubrick's 2001: A Space Odyssey (1968), made from the original camera negative; he presented it at the 2018 Cannes Film Festival.[145] USA Today observed that festival-goers greeted the director \"like a rock star with a standing ovation.\"[146] A year later, Nolan and Thomas received executive producer credits on The Doll's Breath (2019), an animated short directed by the Quay brothers.[147] By the end of the decade, Nolan had established a reputation as a \"Hollywood auteur\" and \"star director\".[148][149] The Cinemaholic wrote, \"A celebrity in his own right, he is one of the most recognizable names in the directing world. He has seen unprecedented success both in commercial and critical space—a rare feat to achieve by all means. There are legions of fans across the globe—and not just in America—who worship him and follow his every move.\"[150]\n",
      "\n",
      "--------------\n",
      "Nolan's next directorial effort was the spy film Tenet (2020), a project The Sunday Times described as \"a globe−spinning riff on all things Nolanesque\".[151] He had worked on the screenplay for more than five years after deliberating about its central ideas for over a decade.[152] Delayed three times due to the COVID-19 pandemic, Tenet was released in August 2020, and was the first Hollywood tent-pole to open in theaters after the pandemic shutdown.[153]  Starring John David Washington, Robert Pattinson, Elizabeth Debicki, Dimple Kapadia, Michael Caine, and Kenneth Branagh, the film grossed $363 million worldwide against a production budget of $200 million.[154][155] Tenet received generally positive reviews from critics,[156] but was also described as the most polarizing effort of his career.[157] Peter Bradshaw of The Guardian awarded the film a full five stars, calling it \"preposterous in the tradition of Boorman's Point Blank, or even Antonioni's Zabriskie Point, a deadpan jeu d'esprit, a cerebral cadenza, a deadpan flourish of crazy implausibility—but supercharged with steroidal energy and imagination.\"[158] Leslie Felperin of The Hollywood Reporter described it as \"a chilly, cerebral film—easy to admire, especially since it's so rich in audacity and originality, but almost impossible to love, lacking as it is in a certain humanity.\"[159] The film won Best Visual Effects at the 93rd Academy Awards, and was also nominated for Best Production Design.[160]\n",
      "\n",
      "--------------\n",
      "Following the release of Tenet, Nolan joined the Advisory Board of the Society of Motion Picture and Television Engineers,[161] and Tom Shone's book about Nolan's work, The Nolan Variations: The Movies, Mysteries, and Marvels of Christopher Nolan (2020), was released to critical acclaim.[162][163] Sam Mendes called it \"Erudite, complex, labyrinthine and mind-expanding—it's as close as you're ever going to get to the Escher drawing that is Christopher Nolan's remarkable brain.\"[162] Nolan and Thomas served as executive producers on Zack Snyder's Justice League (2021), a director's cut of 2017's Justice League.[164]\n",
      "\n",
      "--------------\n",
      "In September 2021, it was announced that Nolan's twelfth film would be a biopic based on J. Robert Oppenheimer and his role in the development of the atom bomb.[165] The film will be financed and distributed by Universal Pictures, marking the first time since Memento that the director has not made a film for Warner Bros.[166] The deal with Universal was secured when, having met with other studios, Nolan was promised a production budget of around $100 million with an equal marketing budget, total creative control, 20 percent of first-dollar gross, a 100-day theatrical window, and a blackout period from the studio wherein the company would not release another movie three weeks before or three weeks after his release.[167] In October 2021, it was announced the film, titled Oppenheimer and shot in IMAX and 65mm film, would release on July 21, 2023. The film stars Cillian Murphy in the title role, with Hoyte van Hoytema, Jennifer Lame, and Ludwig Göransson all returning in their respective technical roles.[168] Emily Blunt was also confirmed to star in the film as Katherine Oppenheimer.[169]\n",
      "\n",
      "--------------\n",
      "Nolan is married to Emma Thomas, whom he met at University College London when he was 19.[11][27] She has worked as a producer on all of his films, and together they founded the production company Syncopy Inc.[170] The couple have four children and reside in Los Angeles, California.[171][172] Protective of his privacy, he rarely discusses his personal life in interviews.[173] However, he has publicly shared some of his sociopolitical concerns for the future, such as the current conditions of nuclear weapons and environmental issues that he says need to be addressed.[174] He has also expressed an admiration for scientific objectivity, wishing it were applied \"in every aspect of our civilization.\"[175] Nolan made a donation to Barack Obama's presidential campaign in 2012,[176] and he serves on the Motion Picture & Television Fund (MPTF) Board of Governors.[177]\n",
      "\n",
      "--------------\n",
      "Nolan prefers not to use a mobile phone or an email address,[178] saying, \"It's not that I'm a Luddite and don't like technology; I've just never been interested ... When I moved to Los Angeles in 1997, nobody really had cell phones, and I just never went down that path.\"[179] In an interview with People in December 2020, Nolan confirmed he does not have an email or a smartphone, but has a \"little flip phone\" that he takes with him from time to time.[180]\n",
      "\n",
      "--------------\n",
      "Nolan's films are often grounded in existential and epistemological themes, exploring the concepts of time, memory, and identity.[181][182][183] His work is characterised by mathematically inspired ideas and images, unconventional narrative structures, materialistic perspectives, and evocative use of music and sound.[174][184][5][185] Guillermo del Toro called Nolan \"an emotional mathematician\".[186] BBC's arts editor Will Gompertz described the director as \"an art house auteur making intellectually ambitious blockbuster movies that can leave your pulse racing and your head spinning.\"[187] Film theorist David Bordwell opined that Nolan has been able to blend his \"experimental impulses\" with the demands of mainstream entertainment, further describing his oeuvre as, \"experiments with cinematic time by means of techniques of subjective viewpoint and crosscutting.\"[188] Nolan's use of practical, in-camera effects, miniatures and models, as well as shooting on celluloid film, has been highly influential in early 21st century cinema.[189] IndieWire wrote in 2019 that the director \"kept a viable alternate model of big-budget filmmaking alive\" in an era where blockbuster filmmaking has become \"a largely computer-generated art form.\"[189]\n",
      "\n",
      "--------------\n",
      "Having made some of the most influential and popular films of his time,[190][191][192][193] Nolan's work has been as \"intensely embraced, analyzed and debated by ordinary film fans as by critics and film academics\".[173][194] Several of his films have been regarded by critics as among the best of their respective decades,[195][196][197] and according to The Wall Street Journal, his \"ability to combine box-office success with artistic ambition has given him an extraordinary amount of clout in the industry.\"[198] Tom Shone deemed Nolan \"the most successful filmmaker to come out of the British Isles since Alfred Hitchcock.\"[199] In 2016, Memento, The Dark Knight, and Inception appeared in BBC's 100 Greatest Films of the 21st Century list.[200] In the following year, five of his (then nine) films featured in Empire magazine's poll of \"The 100 Greatest Movies\".[201] Nolan has been described as \"American cinema's most experimental blockbuster auteur\"[202] and a \"franchise unto himself.\"[203]\n",
      "\n",
      "--------------\n",
      "Geoff Andrew of the British Film Institute and Sight & Sound magazine, called Nolan \"a persuasively inventive storyteller\", singling him out as one of the few contemporary filmmakers producing highly personal films within the Hollywood mainstream. He also pointed out that his films are as notable for their \"considerable technical virtuosity and visual flair\" as for their \"brilliant narrative ingenuity and their unusually adult interest in complex philosophical questions\".[204][205] David Bordwell observed that Nolan is \"considered one of the most accomplished living filmmakers\", citing his ability to turn genre movies into both art and event films, as well as his box office numbers, critical acclaim, and popularity among cinemagoers.[188][206] In 2008, film critic Philip French deemed Nolan \"The first major talent to emerge this [21st] century\",[207] while Forbes called him \"one of the most successful and acclaimed filmmakers of our time\" in 2015.[208] Film critic Mark Kermode complimented the director for bringing \"the discipline and ethics of art-house independent moviemaking\" to Hollywood blockbusters, calling him \"living proof that you don't have to appeal to the lowest common denominator to be profitable\".[209] The Observer described Nolan as a \"skilful, stylish storyteller, capable of combining the spectacle of Spielberg with the intellectual intricacy of Nicolas Roeg or Alain Resnais\".[210] Mark Cousins applauded the director for embracing big ideas, \"Hollywood filmmakers generally shy away from ideas—but not Christopher Nolan\".[211] Scott Foundas of Variety declared Nolan \"the premier big-canvas storyteller of his generation\",[212] while Justin Chang of the Los Angeles Times called him \"the great proceduralist of 21st century blockbuster filmmaking, a lover of nuts-and-bolts minutiae.\"[213]\n",
      "\n",
      "--------------\n",
      "The filmmaker has been praised by many of his contemporaries, and some have cited his work as influencing their own.[214][215][216] Rupert Wyatt said in an interview that he thinks of Nolan as a \"trailblazer ... he is to be hugely admired as a master filmmaker, but also someone who has given others behind him a stick to beat back the naysayers who never thought a modern mass audience would be willing to embrace story and character as much as spectacle\".[217] Kenneth Branagh called Nolan's approach to large-scale filmmaking \"unique in modern cinema\", adding \"regardless of how popular his movies become, he remains an artist and an auteur. I think for that reason he has become a heroic figure for both the audience and the people working behind the camera.\"[218] Michael Mann complimented Nolan for his \"singular vision\" and called him \"a complete auteur\".[219] Nicolas Roeg said of Nolan, \"[His] films have a magic to them ... People talk about 'commercial art' and the term is usually self-negating; Nolan works in the commercial arena and yet there's something very poetic about his work.\"[219] Martin Scorsese identified Nolan as a filmmaker creating \"beautifully made films on a big scale\",[220]\n",
      "and Luca Guadagnino called him \"one of the ultimate auteurs.\"[221] Damien Chazelle said of Nolan, \"This is a filmmaker who has managed, time and again, to make the most seemingly impersonal projects—superhero epics, deep-space mind-benders—feel deeply personal\".[222] Olivier Assayas said he admired Nolan for \"making movies that are really unlike anything else. The way I see it, he has a really authentic voice.\"[223] Discussing the difference between art films and big studio blockbusters, Steven Spielberg referred to Nolan's Dark Knight series as an example of both;[224] he has described Memento and Inception as \"masterworks\".[225] Denis Villeneuve said of Nolan, \"[He] is a very impressive filmmaker, because he is able to keep his identity and create his own universe in that large scope ... To bring intellectual concepts and to bring them in that scope to the screen right now—it's very rare. Every movie that he comes out with, I have more admiration for his work.\"[226]\n",
      "\n",
      "--------------\n",
      "As of 2021, Nolan has been nominated for five Academy Awards, five British Academy Film Awards and five Golden Globe Awards. His films have received a total of 36 Oscar nominations and 11 wins. Nolan was named an Honorary Fellow of UCL in 2006,[227] and conferred an honorary doctorate in literature (DLit) in 2017.[228] In 2012, he became the youngest director to receive a hand-and-footprint ceremony at Grauman's Chinese Theatre in Los Angeles.[229] Nolan appeared in Time's 100 most influential people in the world in 2015.[230]\n",
      "\n",
      "--------------\n",
      "Nolan was appointed Commander of the Order of the British Empire (CBE) in the 2019 New Year Honours for services to film.[231]\n",
      "\n",
      "--------------\n",
      "\n",
      "\n",
      "--------------\n"
     ]
    }
   ],
   "source": [
    "parsed_html = bs4.BeautifulSoup(r.text, \"html.parser\")\n",
    "title = parsed_html.find(\"h1\", {\"class\": \"firstHeading\"}).get_text()\n",
    "paragraphs = parsed_html.find(\"div\", {\"class\": \"mw-parser-output\"}).find_all(\"p\")\n",
    "for p in paragraphs:\n",
    "    print(p.get_text())\n",
    "    print(\"--------------\")"
   ]
  },
  {
   "cell_type": "markdown",
   "id": "1968f3af",
   "metadata": {},
   "source": [
    "## Sentence Segmentation and Word Tokenization"
   ]
  },
  {
   "cell_type": "code",
   "execution_count": 6,
   "id": "13ce3ed3",
   "metadata": {},
   "outputs": [
    {
     "name": "stdout",
     "output_type": "stream",
     "text": [
      "['Christopher Edward Nolan CBE (/ˈnoʊlən/; born 30 July 1970) is a British-American film director, producer, and screenwriter.', 'His films have grossed more than US$5\\xa0billion worldwide, and have garnered 11 Academy Awards from 36 nominations.']\n",
      "['Christopher', 'Edward', 'Nolan', 'CBE', '(', '/ˈnoʊlən/', ';', 'born', '30', 'July', '1970', ')', 'is', 'a', 'British-American', 'film', 'director', ',', 'producer', ',', 'and', 'screenwriter', '.']\n"
     ]
    }
   ],
   "source": [
    "text = paragraphs[1].get_text()\n",
    "sentences = nltk.tokenize.sent_tokenize(text)\n",
    "words = nltk.tokenize.word_tokenize(sentences[0])\n",
    "print(sentences)\n",
    "print(words)"
   ]
  },
  {
   "cell_type": "markdown",
   "id": "924075b7",
   "metadata": {},
   "source": [
    "## Stemming"
   ]
  },
  {
   "cell_type": "code",
   "execution_count": 7,
   "id": "a2283245",
   "metadata": {},
   "outputs": [
    {
     "data": {
      "text/plain": [
       "['christoph',\n",
       " 'edward',\n",
       " 'nolan',\n",
       " 'cbe',\n",
       " '(',\n",
       " '/ˈnoʊlən/',\n",
       " ';',\n",
       " 'born',\n",
       " '30',\n",
       " 'juli',\n",
       " '1970',\n",
       " ')',\n",
       " 'is',\n",
       " 'a',\n",
       " 'british-american',\n",
       " 'film',\n",
       " 'director',\n",
       " ',',\n",
       " 'produc',\n",
       " ',',\n",
       " 'and',\n",
       " 'screenwrit',\n",
       " '.']"
      ]
     },
     "execution_count": 7,
     "metadata": {},
     "output_type": "execute_result"
    }
   ],
   "source": [
    "stemmer = nltk.stem.PorterStemmer()\n",
    "stemmed_words = [stemmer.stem(word) for word in words]\n",
    "stemmed_words"
   ]
  },
  {
   "cell_type": "markdown",
   "id": "b6fbb7b6",
   "metadata": {},
   "source": [
    "## Lematization"
   ]
  },
  {
   "cell_type": "code",
   "execution_count": 8,
   "id": "6ccfcaa2",
   "metadata": {},
   "outputs": [
    {
     "data": {
      "text/plain": [
       "['Christopher',\n",
       " 'Edward',\n",
       " 'Nolan',\n",
       " 'CBE',\n",
       " '(',\n",
       " '/ˈnoʊlən/',\n",
       " ';',\n",
       " 'born',\n",
       " '30',\n",
       " 'July',\n",
       " '1970',\n",
       " ')',\n",
       " 'is',\n",
       " 'a',\n",
       " 'British-American',\n",
       " 'film',\n",
       " 'director',\n",
       " ',',\n",
       " 'producer',\n",
       " ',',\n",
       " 'and',\n",
       " 'screenwriter',\n",
       " '.']"
      ]
     },
     "execution_count": 8,
     "metadata": {},
     "output_type": "execute_result"
    }
   ],
   "source": [
    "lemmatizer = nltk.stem.WordNetLemmatizer()\n",
    "lematized_words = [lemmatizer.lemmatize(word) for word in words]\n",
    "lematized_words"
   ]
  },
  {
   "cell_type": "markdown",
   "id": "0cf628e6",
   "metadata": {},
   "source": [
    "## POS Tagging"
   ]
  },
  {
   "cell_type": "code",
   "execution_count": 12,
   "id": "342db61b",
   "metadata": {},
   "outputs": [
    {
     "data": {
      "text/plain": [
       "[('Christopher', 'NNP'),\n",
       " ('Edward', 'NNP'),\n",
       " ('Nolan', 'NNP'),\n",
       " ('CBE', 'NNP'),\n",
       " ('(', '('),\n",
       " ('/ˈnoʊlən/', 'NNP'),\n",
       " (';', ':'),\n",
       " ('born', 'VBD'),\n",
       " ('30', 'CD'),\n",
       " ('July', 'NNP'),\n",
       " ('1970', 'CD'),\n",
       " (')', ')'),\n",
       " ('is', 'VBZ'),\n",
       " ('a', 'DT'),\n",
       " ('British-American', 'JJ'),\n",
       " ('film', 'NN'),\n",
       " ('director', 'NN'),\n",
       " (',', ','),\n",
       " ('producer', 'NN'),\n",
       " (',', ','),\n",
       " ('and', 'CC'),\n",
       " ('screenwriter', 'NN'),\n",
       " ('.', '.')]"
      ]
     },
     "execution_count": 12,
     "metadata": {},
     "output_type": "execute_result"
    }
   ],
   "source": [
    "pos_tags = nltk.pos_tag(words)\n",
    "pos_tags"
   ]
  },
  {
   "cell_type": "code",
   "execution_count": null,
   "id": "6d146dd0",
   "metadata": {},
   "outputs": [],
   "source": []
  }
 ],
 "metadata": {
  "kernelspec": {
   "display_name": "Python 3 (ipykernel)",
   "language": "python",
   "name": "python3"
  },
  "language_info": {
   "codemirror_mode": {
    "name": "ipython",
    "version": 3
   },
   "file_extension": ".py",
   "mimetype": "text/x-python",
   "name": "python",
   "nbconvert_exporter": "python",
   "pygments_lexer": "ipython3",
   "version": "3.8.12"
  }
 },
 "nbformat": 4,
 "nbformat_minor": 5
}
