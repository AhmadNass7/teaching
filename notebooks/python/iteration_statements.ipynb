{
 "cells": [
  {
   "cell_type": "markdown",
   "id": "british-payroll",
   "metadata": {},
   "source": [
    "# Iteration Statements"
   ]
  },
  {
   "cell_type": "markdown",
   "id": "stupid-distinction",
   "metadata": {},
   "source": [
    "## Find All Divisors\n",
    "Write a Python prgoram that find all divisors of a given positive integer and store them in a list. For example, given 10, the resulting list should be [1, 2, 4, 5, 10]."
   ]
  },
  {
   "cell_type": "code",
   "execution_count": null,
   "id": "deadly-heritage",
   "metadata": {},
   "outputs": [],
   "source": []
  },
  {
   "cell_type": "markdown",
   "id": "invisible-summit",
   "metadata": {},
   "source": [
    "## Find the Largest Word\n",
    "Write a Python program that finds the largest word in a given input string. For example, given the string \"hello how are you\", the program should print \"hello\"."
   ]
  },
  {
   "cell_type": "code",
   "execution_count": null,
   "id": "stuffed-clerk",
   "metadata": {},
   "outputs": [],
   "source": []
  },
  {
   "cell_type": "markdown",
   "id": "absolute-bristol",
   "metadata": {},
   "source": [
    "## Count the Frequency of List Elements\n",
    "Write a Python program that counts the frequency of each element in a given list and store them in a dictionary. For example, given the list [111, \"hello\", 222, \"hello\", 111], the program should define a dictionary {111: 2, \"hello\": 2, 222: 1}."
   ]
  },
  {
   "cell_type": "code",
   "execution_count": null,
   "id": "industrial-tucson",
   "metadata": {},
   "outputs": [],
   "source": []
  },
  {
   "cell_type": "markdown",
   "id": "different-palmer",
   "metadata": {},
   "source": [
    "## Convert a List of Integers to an Integer (With a New Algorithm)\n",
    "Write a Python program to convert a given list of integers to an integer. For example, given [11, 2, 54], the program should assign 11254 into an integer variable."
   ]
  },
  {
   "cell_type": "code",
   "execution_count": null,
   "id": "dense-reaction",
   "metadata": {},
   "outputs": [],
   "source": []
  },
  {
   "cell_type": "markdown",
   "id": "improved-valley",
   "metadata": {},
   "source": [
    "## Capitalize the Words\n",
    "Write a Python program that takes a string containing whitespace-separated words, capitalizes the first character of each word, and print the result. For example, given the string \"hello how are you\", the program should print \"Hello How Are You\"."
   ]
  },
  {
   "cell_type": "code",
   "execution_count": null,
   "id": "recreational-intelligence",
   "metadata": {},
   "outputs": [],
   "source": []
  }
 ],
 "metadata": {
  "kernelspec": {
   "display_name": "Python 3",
   "language": "python",
   "name": "python3"
  },
  "language_info": {
   "codemirror_mode": {
    "name": "ipython",
    "version": 3
   },
   "file_extension": ".py",
   "mimetype": "text/x-python",
   "name": "python",
   "nbconvert_exporter": "python",
   "pygments_lexer": "ipython3",
   "version": "3.8.5"
  }
 },
 "nbformat": 4,
 "nbformat_minor": 5
}
