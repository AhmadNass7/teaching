{
 "cells": [
  {
   "cell_type": "markdown",
   "id": "f053a289",
   "metadata": {},
   "source": [
    "# Text Summarization\n",
    "Evaluate some text summarization approaches in action. In particular, you should do the followings:\n",
    "- Define a string variable that contains a piece of text as your document.\n",
    "- Run unsupervised extractive text summarization algorithms to extract key sentences of your document using a library, such as `Sumy`.\n",
    "- Run pre-trained extractive/abstractive text summarization models to generate an abstract of your document using a library, such as `Transformers` and `bert-extractive-summarizer`.\n",
    "- Compare and evalaute different summaries and analyze the effect of hyperparameters on the final result quality."
   ]
  },
  {
   "cell_type": "markdown",
   "id": "d82503a2",
   "metadata": {},
   "source": [
    "## Defining a Text"
   ]
  },
  {
   "cell_type": "code",
   "execution_count": 3,
   "id": "7f421111",
   "metadata": {},
   "outputs": [
    {
     "name": "stdout",
     "output_type": "stream",
     "text": [
      "\n",
      "Alec Baldwin says he \"didn't pull the trigger\" of the gun that fatally wounded cinematographer Halyna Hutchins on the set of his film, Rust.\n",
      "\n",
      "The star made the claim in his first sit-down interview since the incident in October.\n",
      "\n",
      "\"I would never point a gun at anyone and pull a trigger at them. Never,\" he told George Stephanopoulos of ABC News.\n",
      "\n",
      "The interview was recorded on Tuesday, and is due to be broadcast in the US on Thursday evening.\n",
      "\n",
      "Mr Stephanopoulos described their 80-minute discussion as \"raw\" and \"intense.\n",
      "\n",
      "The journalist described Mr Baldwin, 63, as \"devastated\" yet \"very candid\" and \"forthcoming\", while previewing the interview on Wednesday's Good Morning America.\n",
      "\n",
      "\"I've done thousands of interviews in the last 20 years at ABC,\" he said. \"This was the most intense I've ever experienced.\"\n",
      "\n",
      "Mr Baldwin is best-known for his performances in films like Glengarry Glen Ross and The Hunt For Red October, as well as his impersonation of Donald Trump on US sketch show Saturday Night Live.\n",
      "\n",
      "The interview marks the first time Mr Baldwin has spoken about the incident on camera, except for a brief interview he gave to TMZ in October, in a bid to stop the paparazzi from following him and his family.\n",
      "\n",
      "In that appearance, he described the incident as a \"one in a trillion episode\" and said accidents of this nature very rarely happened on film sets.\n",
      "\n",
      "Ms Hutchins was shot and killed as Mr Baldwin rehearsed with what he believed to be a \"cold\" - or safe - gun on the set of Rust in New Mexico.\n",
      "\n",
      "It is believed to have discharged when he removed it from a holster during rehearsals for a forthcoming scene.\n",
      "\n",
      "Ms Hutchins was flown to hospital by helicopter after the shooting but later died of her injuries. Director Joel Souza, 48, was also injured.\n",
      "\n",
      "According to court records, Mr Baldwin was handed the weapon by the film's assistant director, Dave Halls, who did not know it contained live ammunition and indicated it was unloaded by shouting \"cold gun\".\n",
      "\n",
      "Mr Halls had been given the gun by Hannah Gutierrez-Reed, the 24-year-old armorer on the film.\n",
      "\n",
      "Asked by Mr Stephanopoulos how a live bullet had made its way on to the set, Mr Baldwin replied, \"I have no idea.\n",
      "\n",
      "\"Someone put a live bullet into a gun. A bullet that wasn't even supposed to be on the property.\"\n",
      "\n",
      "Lawyers for Ms Gutierrez-Reed have said she did not know where \"the live rounds came from\". That question is now at the centre of a police investigation in the US.\n",
      "\n",
      "Earlier this week, the investigators obtained a warrant to search the premises of an arms supplier in the US.\n",
      "\n",
      "An affidavit with the warrant said police were told ammunition for the film had come from several sources, including PDQ Arm & Prop.\n",
      "\n",
      "The affidavit said the ammunition supplier's owner, Seth Kenney, had told investigators the live round might have been from some \"reloaded ammunition\".\n",
      "\n",
      "He said the ammunition he supplied for the film consisted of dummy rounds and blanks, according to the affidavit.\n",
      "\n"
     ]
    }
   ],
   "source": [
    "text = \"\"\"\n",
    "Alec Baldwin says he \"didn't pull the trigger\" of the gun that fatally wounded cinematographer Halyna Hutchins on the set of his film, Rust.\n",
    "\n",
    "The star made the claim in his first sit-down interview since the incident in October.\n",
    "\n",
    "\"I would never point a gun at anyone and pull a trigger at them. Never,\" he told George Stephanopoulos of ABC News.\n",
    "\n",
    "The interview was recorded on Tuesday, and is due to be broadcast in the US on Thursday evening.\n",
    "\n",
    "Mr Stephanopoulos described their 80-minute discussion as \"raw\" and \"intense.\n",
    "\n",
    "The journalist described Mr Baldwin, 63, as \"devastated\" yet \"very candid\" and \"forthcoming\", while previewing the interview on Wednesday's Good Morning America.\n",
    "\n",
    "\"I've done thousands of interviews in the last 20 years at ABC,\" he said. \"This was the most intense I've ever experienced.\"\n",
    "\n",
    "Mr Baldwin is best-known for his performances in films like Glengarry Glen Ross and The Hunt For Red October, as well as his impersonation of Donald Trump on US sketch show Saturday Night Live.\n",
    "\n",
    "The interview marks the first time Mr Baldwin has spoken about the incident on camera, except for a brief interview he gave to TMZ in October, in a bid to stop the paparazzi from following him and his family.\n",
    "\n",
    "In that appearance, he described the incident as a \"one in a trillion episode\" and said accidents of this nature very rarely happened on film sets.\n",
    "\n",
    "Ms Hutchins was shot and killed as Mr Baldwin rehearsed with what he believed to be a \"cold\" - or safe - gun on the set of Rust in New Mexico.\n",
    "\n",
    "It is believed to have discharged when he removed it from a holster during rehearsals for a forthcoming scene.\n",
    "\n",
    "Ms Hutchins was flown to hospital by helicopter after the shooting but later died of her injuries. Director Joel Souza, 48, was also injured.\n",
    "\n",
    "According to court records, Mr Baldwin was handed the weapon by the film's assistant director, Dave Halls, who did not know it contained live ammunition and indicated it was unloaded by shouting \"cold gun\".\n",
    "\n",
    "Mr Halls had been given the gun by Hannah Gutierrez-Reed, the 24-year-old armorer on the film.\n",
    "\n",
    "Asked by Mr Stephanopoulos how a live bullet had made its way on to the set, Mr Baldwin replied, \"I have no idea.\n",
    "\n",
    "\"Someone put a live bullet into a gun. A bullet that wasn't even supposed to be on the property.\"\n",
    "\n",
    "Lawyers for Ms Gutierrez-Reed have said she did not know where \"the live rounds came from\". That question is now at the centre of a police investigation in the US.\n",
    "\n",
    "Earlier this week, the investigators obtained a warrant to search the premises of an arms supplier in the US.\n",
    "\n",
    "An affidavit with the warrant said police were told ammunition for the film had come from several sources, including PDQ Arm & Prop.\n",
    "\n",
    "The affidavit said the ammunition supplier's owner, Seth Kenney, had told investigators the live round might have been from some \"reloaded ammunition\".\n",
    "\n",
    "He said the ammunition he supplied for the film consisted of dummy rounds and blanks, according to the affidavit.\n",
    "\"\"\"\n",
    "print(text)"
   ]
  },
  {
   "cell_type": "markdown",
   "id": "885f02a9",
   "metadata": {},
   "source": [
    "## Extractive Text Summarization"
   ]
  },
  {
   "cell_type": "markdown",
   "id": "66831c1d",
   "metadata": {},
   "source": [
    "### Using Sumy"
   ]
  },
  {
   "cell_type": "code",
   "execution_count": 5,
   "id": "7e170e1e",
   "metadata": {},
   "outputs": [
    {
     "name": "stdout",
     "output_type": "stream",
     "text": [
      "According to court records, Mr Baldwin was handed the weapon by the film's assistant director, Dave Halls, who did not know it contained live ammunition and indicated it was unloaded by shouting \"cold gun\".\n",
      "Asked by Mr Stephanopoulos how a live bullet had made its way on to the set, Mr Baldwin replied, \"I have no idea.\n"
     ]
    }
   ],
   "source": [
    "import sumy.utils\n",
    "import sumy.nlp.stemmers\n",
    "import sumy.nlp.tokenizers\n",
    "import sumy.summarizers.lsa\n",
    "import sumy.parsers.plaintext\n",
    "import sumy.summarizers.text_rank\n",
    "\n",
    "LANGUAGE = \"english\"\n",
    "SENTENCE_COUNT = 2\n",
    "\n",
    "tokenizer = sumy.nlp.tokenizers.Tokenizer(LANGUAGE)\n",
    "parser = sumy.parsers.plaintext.PlaintextParser.from_string(text, tokenizer)\n",
    "stemmer = sumy.nlp.stemmers.Stemmer(LANGUAGE)\n",
    "summarizer = sumy.summarizers.text_rank.TextRankSummarizer(stemmer)\n",
    "summarizer.stop_words = sumy.utils.get_stop_words(LANGUAGE)\n",
    "\n",
    "summary_list = [str(s) for s in summarizer(parser.document, SENTENCE_COUNT)]\n",
    "summary = \"\\n\".join(summary_list)\n",
    "print(summary)"
   ]
  },
  {
   "cell_type": "markdown",
   "id": "76936ee3",
   "metadata": {},
   "source": [
    "### Using bert-extractive-summarizer"
   ]
  },
  {
   "cell_type": "code",
   "execution_count": 7,
   "id": "75588202",
   "metadata": {},
   "outputs": [
    {
     "name": "stderr",
     "output_type": "stream",
     "text": [
      "2021-12-02 10:31:28.533624: W tensorflow/stream_executor/platform/default/dso_loader.cc:64] Could not load dynamic library 'libcudart.so.11.0'; dlerror: libcudart.so.11.0: cannot open shared object file: No such file or directory\n",
      "2021-12-02 10:31:28.533651: I tensorflow/stream_executor/cuda/cudart_stub.cc:29] Ignore above cudart dlerror if you do not have a GPU set up on your machine.\n"
     ]
    },
    {
     "data": {
      "application/vnd.jupyter.widget-view+json": {
       "model_id": "25c50aa92cd644ddb9834153cb505f39",
       "version_major": 2,
       "version_minor": 0
      },
      "text/plain": [
       "Downloading:   0%|          | 0.00/571 [00:00<?, ?B/s]"
      ]
     },
     "metadata": {},
     "output_type": "display_data"
    },
    {
     "data": {
      "application/vnd.jupyter.widget-view+json": {
       "model_id": "52b6399b1aab47c4b3dbf4ff01b1c795",
       "version_major": 2,
       "version_minor": 0
      },
      "text/plain": [
       "Downloading:   0%|          | 0.00/1.25G [00:00<?, ?B/s]"
      ]
     },
     "metadata": {},
     "output_type": "display_data"
    },
    {
     "name": "stderr",
     "output_type": "stream",
     "text": [
      "Some weights of the model checkpoint at bert-large-uncased were not used when initializing BertModel: ['cls.predictions.transform.LayerNorm.weight', 'cls.predictions.transform.dense.weight', 'cls.predictions.decoder.weight', 'cls.predictions.transform.LayerNorm.bias', 'cls.seq_relationship.bias', 'cls.seq_relationship.weight', 'cls.predictions.transform.dense.bias', 'cls.predictions.bias']\n",
      "- This IS expected if you are initializing BertModel from the checkpoint of a model trained on another task or with another architecture (e.g. initializing a BertForSequenceClassification model from a BertForPreTraining model).\n",
      "- This IS NOT expected if you are initializing BertModel from the checkpoint of a model that you expect to be exactly identical (initializing a BertForSequenceClassification model from a BertForSequenceClassification model).\n"
     ]
    },
    {
     "data": {
      "application/vnd.jupyter.widget-view+json": {
       "model_id": "63b45accce3c4e969e373fb182ab3a7b",
       "version_major": 2,
       "version_minor": 0
      },
      "text/plain": [
       "Downloading:   0%|          | 0.00/226k [00:00<?, ?B/s]"
      ]
     },
     "metadata": {},
     "output_type": "display_data"
    },
    {
     "data": {
      "application/vnd.jupyter.widget-view+json": {
       "model_id": "85947ec200a14eecb22c924ddb333c96",
       "version_major": 2,
       "version_minor": 0
      },
      "text/plain": [
       "Downloading:   0%|          | 0.00/28.0 [00:00<?, ?B/s]"
      ]
     },
     "metadata": {},
     "output_type": "display_data"
    },
    {
     "data": {
      "application/vnd.jupyter.widget-view+json": {
       "model_id": "f9970e283dd748799516ab591d232a13",
       "version_major": 2,
       "version_minor": 0
      },
      "text/plain": [
       "Downloading:   0%|          | 0.00/455k [00:00<?, ?B/s]"
      ]
     },
     "metadata": {},
     "output_type": "display_data"
    },
    {
     "name": "stdout",
     "output_type": "stream",
     "text": [
      "Alec Baldwin says he \"didn't pull the trigger\" of the gun that fatally wounded cinematographer Halyna Hutchins on the set of his film, Rust. Never,\" he told George Stephanopoulos of ABC News.\n"
     ]
    }
   ],
   "source": [
    "import summarizer\n",
    "\n",
    "model = summarizer.Summarizer()\n",
    "\n",
    "# RATIO = 0.2\n",
    "#summary = model(text, ratio=RATIO)\n",
    "\n",
    "SENTENCE_COUNT = 2\n",
    "summary = model(text, num_sentences=SENTENCE_COUNT)\n",
    "print(summary)"
   ]
  },
  {
   "cell_type": "markdown",
   "id": "58939769",
   "metadata": {},
   "source": [
    "## Abstractive Text Summarization"
   ]
  },
  {
   "cell_type": "markdown",
   "id": "9768be1c",
   "metadata": {},
   "source": [
    "### Using Transformers 1"
   ]
  },
  {
   "cell_type": "code",
   "execution_count": 9,
   "id": "abf83260",
   "metadata": {},
   "outputs": [
    {
     "name": "stdout",
     "output_type": "stream",
     "text": [
      " Alec Baldwin made the claim in his first sit-down interview since the incident in October . Halyna Hutchins was shot and killed as he rehearsed with a gun on the set of Rust . It is believed to have discharged when he\n"
     ]
    }
   ],
   "source": [
    "import transformers\n",
    "transformers.logging.set_verbosity_error()\n",
    "\n",
    "MAX_TOKENS = 50\n",
    "MIN_TOKENS = 10\n",
    "\n",
    "pipeline = transformers.pipeline(\"summarization\")\n",
    "summary = pipeline(text, max_length=MAX_TOKENS, min_length=MIN_TOKENS, truncation=False)[0][\"summary_text\"]\n",
    "print(summary)"
   ]
  },
  {
   "cell_type": "markdown",
   "id": "8932e2fc",
   "metadata": {},
   "source": [
    "### Using Transformers 2"
   ]
  },
  {
   "cell_type": "code",
   "execution_count": 10,
   "id": "91c55022",
   "metadata": {},
   "outputs": [
    {
     "data": {
      "application/vnd.jupyter.widget-view+json": {
       "model_id": "86541c22e27c4a718886fdb62ab3e3b6",
       "version_major": 2,
       "version_minor": 0
      },
      "text/plain": [
       "Downloading:   0%|          | 0.00/1.55k [00:00<?, ?B/s]"
      ]
     },
     "metadata": {},
     "output_type": "display_data"
    },
    {
     "data": {
      "application/vnd.jupyter.widget-view+json": {
       "model_id": "2aa890c392934a4b955583303bb608c0",
       "version_major": 2,
       "version_minor": 0
      },
      "text/plain": [
       "Downloading:   0%|          | 0.00/1.51G [00:00<?, ?B/s]"
      ]
     },
     "metadata": {},
     "output_type": "display_data"
    },
    {
     "data": {
      "application/vnd.jupyter.widget-view+json": {
       "model_id": "ec31fd03d96e4a91ae2c56aeb5683bcd",
       "version_major": 2,
       "version_minor": 0
      },
      "text/plain": [
       "Downloading:   0%|          | 0.00/878k [00:00<?, ?B/s]"
      ]
     },
     "metadata": {},
     "output_type": "display_data"
    },
    {
     "data": {
      "application/vnd.jupyter.widget-view+json": {
       "model_id": "2e2f3d3597794faea93cfa9eb2e779c8",
       "version_major": 2,
       "version_minor": 0
      },
      "text/plain": [
       "Downloading:   0%|          | 0.00/446k [00:00<?, ?B/s]"
      ]
     },
     "metadata": {},
     "output_type": "display_data"
    },
    {
     "data": {
      "application/vnd.jupyter.widget-view+json": {
       "model_id": "fd9c3ab4dc054c3ca09f7128e15bf45c",
       "version_major": 2,
       "version_minor": 0
      },
      "text/plain": [
       "Downloading:   0%|          | 0.00/1.29M [00:00<?, ?B/s]"
      ]
     },
     "metadata": {},
     "output_type": "display_data"
    },
    {
     "name": "stdout",
     "output_type": "stream",
     "text": [
      "Alec Baldwin says he 'didn't pull the trigger' of the gun that fatally wounded cinematographer Halyna Hutchins on the set of his film, Rust. The star made the claim in his first sit-down interview since\n"
     ]
    }
   ],
   "source": [
    "import transformers\n",
    "transformers.logging.set_verbosity_error()\n",
    "\n",
    "MAX_TOKENS = 50\n",
    "MIN_TOKENS = 10\n",
    "METHOD = \"facebook/bart-large-cnn\"\n",
    "\n",
    "model = transformers.BartForConditionalGeneration.from_pretrained(METHOD)\n",
    "tokenizer = transformers.BartTokenizer.from_pretrained(METHOD)\n",
    "\n",
    "inputs = tokenizer.batch_encode_plus([text], return_tensors=\"pt\", truncation=False)          \n",
    "summary_ids = model.generate(inputs[\"input_ids\"], early_stopping=True, max_length=MAX_TOKENS, min_length=MIN_TOKENS)\n",
    "summary = tokenizer.decode(summary_ids[0], skip_special_tokens=True, clean_up_tokenization_spaces=True)\n",
    "print(summary)"
   ]
  },
  {
   "cell_type": "code",
   "execution_count": null,
   "id": "07263bd7",
   "metadata": {},
   "outputs": [],
   "source": []
  }
 ],
 "metadata": {
  "kernelspec": {
   "display_name": "Python 3 (ipykernel)",
   "language": "python",
   "name": "python3"
  },
  "language_info": {
   "codemirror_mode": {
    "name": "ipython",
    "version": 3
   },
   "file_extension": ".py",
   "mimetype": "text/x-python",
   "name": "python",
   "nbconvert_exporter": "python",
   "pygments_lexer": "ipython3",
   "version": "3.8.12"
  }
 },
 "nbformat": 4,
 "nbformat_minor": 5
}
