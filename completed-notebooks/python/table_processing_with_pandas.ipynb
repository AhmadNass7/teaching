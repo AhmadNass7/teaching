{
 "cells": [
  {
   "cell_type": "markdown",
   "source": [
    "# Table Processing with Pandas\n",
    "Some of the exercises are taken from https://pynative.com/python-pandas-exercise/.\n",
    "Here, we use an Automobile Dataset that contains different characteristics of an automobile such as body-style, wheel-base, engine-type, price, mileage, horsepower, etc."
   ],
   "metadata": {}
  },
  {
   "cell_type": "code",
   "execution_count": null,
   "source": [
    "import pandas as pd"
   ],
   "outputs": [],
   "metadata": {}
  },
  {
   "cell_type": "markdown",
   "source": [
    "# Load and Show the Dataset\r\n",
    "Write a Python program to load the dataset from the `automobile.csv` file, show the data types of its columns, and also show the first rows of the dataset."
   ],
   "metadata": {}
  },
  {
   "cell_type": "code",
   "execution_count": null,
   "source": [],
   "outputs": [],
   "metadata": {}
  },
  {
   "cell_type": "markdown",
   "source": [
    "## Clean the Dataset\n",
    "Write a Python program to remove all rows whose price value is missing."
   ],
   "metadata": {}
  },
  {
   "cell_type": "code",
   "execution_count": null,
   "source": [],
   "outputs": [],
   "metadata": {}
  },
  {
   "cell_type": "markdown",
   "source": [
    "## Find the Maximum\n",
    "Write a Python program to find the name of the company whose car is the most expensive one."
   ],
   "metadata": {}
  },
  {
   "cell_type": "code",
   "execution_count": null,
   "source": [],
   "outputs": [],
   "metadata": {}
  },
  {
   "cell_type": "markdown",
   "source": [
    "## Select Specific Rows\n",
    "Write a Python program to show all Toyota cars whose number of cylinders is equal to four."
   ],
   "metadata": {}
  },
  {
   "cell_type": "code",
   "execution_count": null,
   "source": [],
   "outputs": [],
   "metadata": {}
  },
  {
   "cell_type": "markdown",
   "source": [
    "## Count per Category\n",
    "Write a Python program to count the number of cars that each company has."
   ],
   "metadata": {}
  },
  {
   "cell_type": "code",
   "execution_count": null,
   "source": [],
   "outputs": [],
   "metadata": {}
  },
  {
   "cell_type": "markdown",
   "source": [
    "## Aggregate per Category\n",
    "Write a Python program to find each company's highest car price."
   ],
   "metadata": {}
  },
  {
   "cell_type": "code",
   "execution_count": null,
   "source": [],
   "outputs": [],
   "metadata": {}
  },
  {
   "cell_type": "markdown",
   "source": [
    "## Sort by Columns\n",
    "Write a Python program to sort the cars by their price, from the highest to lowest."
   ],
   "metadata": {}
  },
  {
   "cell_type": "code",
   "execution_count": null,
   "source": [],
   "outputs": [],
   "metadata": {}
  },
  {
   "cell_type": "markdown",
   "source": [
    "## Merge two Datasets\n",
    "Write a Python program to merge the previous dataset with a new given dataset to add a country column to our dataset."
   ],
   "metadata": {}
  },
  {
   "cell_type": "code",
   "execution_count": null,
   "source": [
    "countries = pd.DataFrame({\"producer\": ['alfa-romero', 'audi', 'bmw', 'chevrolet', 'dodge', 'honda', \n",
    "                                       'isuzu', 'jaguar', 'mazda', 'mercedes-benz', 'mitsubishi', \n",
    "                                       'nissan', 'porsche', 'toyota', 'volkswagen', 'volvo'],\n",
    "                          \"country\": [\"Italy\", \"Germany\", \"Germany\", \"US\", \"US\", \"Japan\", \"Japan\", \n",
    "                                     \"UK\", \"Japan\", \"Germany\", \"Japan\", \"Japan\", \"Germany\", \"Japan\", \n",
    "                                      \"Germany\", \"Sweden\"]\n",
    "                         })\n",
    "countries.head()"
   ],
   "outputs": [],
   "metadata": {}
  },
  {
   "cell_type": "code",
   "execution_count": null,
   "source": [],
   "outputs": [],
   "metadata": {}
  },
  {
   "cell_type": "markdown",
   "source": [
    "## Apply a Function\n",
    "Write a Python program that transforms the column \"num-of-cylinders\" from strig to integer. For example, all the \"four\" values in this column should be changed to 4."
   ],
   "metadata": {}
  },
  {
   "cell_type": "code",
   "execution_count": null,
   "source": [],
   "outputs": [],
   "metadata": {}
  }
 ],
 "metadata": {
  "kernelspec": {
   "display_name": "Python 3",
   "language": "python",
   "name": "python3"
  },
  "language_info": {
   "codemirror_mode": {
    "name": "ipython",
    "version": 3
   },
   "file_extension": ".py",
   "mimetype": "text/x-python",
   "name": "python",
   "nbconvert_exporter": "python",
   "pygments_lexer": "ipython3",
   "version": "3.8.5"
  }
 },
 "nbformat": 4,
 "nbformat_minor": 5
}