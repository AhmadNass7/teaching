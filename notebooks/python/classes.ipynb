{
 "cells": [
  {
   "cell_type": "markdown",
   "id": "isolated-catholic",
   "metadata": {},
   "source": [
    "# Classes"
   ]
  },
  {
   "cell_type": "markdown",
   "id": "valuable-coupon",
   "metadata": {},
   "source": [
    "## Student Class\n",
    "Define a student class with the followings:\n",
    "- A first_name attribute.\n",
    "- A last_name attribute.\n",
    "- An id attribute.\n",
    "- A courses attribute that stores all passed courses and the grades in dictionary.\n",
    "- An \\_\\_init\\_\\_ method.\n",
    "- A \\_\\_str\\_\\_ method.\n",
    "- A get\\_gpa method.\n",
    "- A set\\_course_grade method."
   ]
  },
  {
   "cell_type": "code",
   "execution_count": null,
   "id": "according-purse",
   "metadata": {},
   "outputs": [],
   "source": []
  },
  {
   "cell_type": "markdown",
   "id": "palestinian-expert",
   "metadata": {},
   "source": [
    "## University Class\n",
    "Define a university class with the followings:\n",
    "- A name attribute.\n",
    "- A students attribute that stores a list of students.\n",
    "- An \\_\\_init\\_\\_ method.\n",
    "- A \\_\\_str\\_\\_ method.\n",
    "- A register\\_student method.\n",
    "- A graduate\\_student method."
   ]
  },
  {
   "cell_type": "code",
   "execution_count": null,
   "id": "going-custom",
   "metadata": {},
   "outputs": [],
   "source": []
  }
 ],
 "metadata": {
  "kernelspec": {
   "display_name": "Python 3",
   "language": "python",
   "name": "python3"
  },
  "language_info": {
   "codemirror_mode": {
    "name": "ipython",
    "version": 3
   },
   "file_extension": ".py",
   "mimetype": "text/x-python",
   "name": "python",
   "nbconvert_exporter": "python",
   "pygments_lexer": "ipython3",
   "version": "3.8.5"
  }
 },
 "nbformat": 4,
 "nbformat_minor": 5
}
