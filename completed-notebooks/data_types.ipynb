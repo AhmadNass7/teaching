{
 "cells": [
  {
   "cell_type": "markdown",
   "id": "novel-stream",
   "metadata": {},
   "source": [
    "# Data Types"
   ]
  },
  {
   "cell_type": "markdown",
   "id": "finite-albania",
   "metadata": {},
   "source": [
    "## Remove Vowels\n",
    "Write a Python program that takes a string from the user, makes the character lowercase, removes its vowel characters (\"a\", \"e\", \"i\", \"o\", and \"u\") and prints the resulting string. For example, given the string \"Hello\", the program should print \"hll\"."
   ]
  },
  {
   "cell_type": "code",
   "execution_count": 7,
   "id": "human-century",
   "metadata": {},
   "outputs": [
    {
     "data": {
      "text/plain": [
       "'hll'"
      ]
     },
     "execution_count": 7,
     "metadata": {},
     "output_type": "execute_result"
    }
   ],
   "source": [
    "# Define string\n",
    "s = \"Hello\"\n",
    "\n",
    "# Make the string lower\n",
    "s = s.lower()\n",
    "\n",
    "# Replace multiple times\n",
    "s = s.replace(\"a\", \"\")\n",
    "s = s.replace(\"e\", \"\")\n",
    "s = s.replace(\"i\", \"\")\n",
    "s = s.replace(\"o\", \"\")\n",
    "s = s.replace(\"u\", \"\")\n",
    "\n",
    "s"
   ]
  },
  {
   "cell_type": "markdown",
   "id": "formed-candy",
   "metadata": {},
   "source": [
    "## Reverse the Words\n",
    "Write a Python program that takes a string containing whitespace-separated words, reverses the words in the string, and prints the result. For example, given the string \"hello how are you\", the program should print \"you are how hello\". "
   ]
  },
  {
   "cell_type": "code",
   "execution_count": 14,
   "id": "forward-berry",
   "metadata": {},
   "outputs": [
    {
     "data": {
      "text/plain": [
       "'you are how hello'"
      ]
     },
     "execution_count": 14,
     "metadata": {},
     "output_type": "execute_result"
    }
   ],
   "source": [
    "# Define string\n",
    "s = \"hello how are you\"\n",
    "\n",
    "# Split the string by spaces \n",
    "l = s.split(\" \")\n",
    "\n",
    "# Reverse the list\n",
    "l.reverse()\n",
    "\n",
    "# Join the list \n",
    "s = \" \".join(l)\n",
    "s"
   ]
  },
  {
   "cell_type": "markdown",
   "id": "after-radius",
   "metadata": {},
   "source": [
    "## Count Common Elements of 2 Lists\n",
    "Write a Python program that prints the number of common elements in two given lists. For example, given [1, 2, 3] and [5, 1, 3], the program should print 2."
   ]
  },
  {
   "cell_type": "code",
   "execution_count": 16,
   "id": "adverse-berkeley",
   "metadata": {},
   "outputs": [
    {
     "data": {
      "text/plain": [
       "2"
      ]
     },
     "execution_count": 16,
     "metadata": {},
     "output_type": "execute_result"
    }
   ],
   "source": [
    "# Define two lists\n",
    "a = [1, 2, 3]\n",
    "b = [5, 1, 3]\n",
    "\n",
    "# Convert your lists into sets\n",
    "s1 = set(a)\n",
    "s2 = set(b)\n",
    "\n",
    "# Calculate the intersection of two sets\n",
    "s3 = s1.intersection(s2)\n",
    "\n",
    "# Calculate the size of the set\n",
    "len(s3)"
   ]
  },
  {
   "cell_type": "markdown",
   "id": "secret-theme",
   "metadata": {},
   "source": [
    "## Print Sorted Unique Words\n",
    "Write a Python program that takes a sequence of whitespace-separated words from the user and prints the words after removing all duplicate words and sorting them alphanumerically. For example, given the string \"hello world and practice makes perfect and hello world again\", the program should print \"again and hello makes perfect practice world\"."
   ]
  },
  {
   "cell_type": "code",
   "execution_count": 17,
   "id": "requested-rapid",
   "metadata": {},
   "outputs": [
    {
     "data": {
      "text/plain": [
       "'again and hello makes perfect practice world'"
      ]
     },
     "execution_count": 17,
     "metadata": {},
     "output_type": "execute_result"
    }
   ],
   "source": [
    "# Define a string\n",
    "s = \"hello world and practice makes perfect and hello world again\"\n",
    "\n",
    "# Split it into a list\n",
    "l = s.split(\" \")\n",
    "\n",
    "# Convert the list into a set to get rid of duplicates\n",
    "s = set(l)\n",
    "\n",
    "# Convert set to a list again\n",
    "l = list(s)\n",
    "\n",
    "# Sort the list\n",
    "l.sort()\n",
    "\n",
    "# Concatenate elements of the list to generate a string\n",
    "s = \" \".join(l)\n",
    "s"
   ]
  },
  {
   "cell_type": "markdown",
   "id": "matched-address",
   "metadata": {},
   "source": [
    "## Choose Randomly from a List\n",
    "Write a Python program that randomly choose and print an element from a given list. Hint: Check out the documentation of the random.choice() function."
   ]
  },
  {
   "cell_type": "code",
   "execution_count": 6,
   "id": "atlantic-learning",
   "metadata": {},
   "outputs": [
    {
     "data": {
      "text/plain": [
       "1"
      ]
     },
     "execution_count": 6,
     "metadata": {},
     "output_type": "execute_result"
    }
   ],
   "source": []
  },
  {
   "cell_type": "markdown",
   "id": "satellite-residence",
   "metadata": {},
   "source": [
    "## Convert a List of Integers to an Integer\n",
    "Write a Python program to convert a given list of integers to an integer. For example, given [11, 2, 54], the program should assign 11254 into an integer variable."
   ]
  },
  {
   "cell_type": "code",
   "execution_count": null,
   "id": "excessive-spectrum",
   "metadata": {},
   "outputs": [],
   "source": []
  }
 ],
 "metadata": {
  "kernelspec": {
   "display_name": "Python 3 (ipykernel)",
   "language": "python",
   "name": "python3"
  },
  "language_info": {
   "codemirror_mode": {
    "name": "ipython",
    "version": 3
   },
   "file_extension": ".py",
   "mimetype": "text/x-python",
   "name": "python",
   "nbconvert_exporter": "python",
   "pygments_lexer": "ipython3",
   "version": "3.8.11"
  }
 },
 "nbformat": 4,
 "nbformat_minor": 5
}
