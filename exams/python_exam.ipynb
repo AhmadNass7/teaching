{
 "cells": [
  {
   "cell_type": "markdown",
   "id": "a7b8605a",
   "metadata": {},
   "source": [
    "# Python Exam\n",
    "- You must not consult/chat/discuss with any other person in any way. Any violation of this rule results in failing the exam.\n",
    "- The submitted Jupyter Notebook should contain both textual sections and runnable codes in a rational structure. \n",
    "- Your code style will be also evaluated.\n",
    "- Mind the time and make sure to submit your work on Canvas by the deadline.\n",
    "- This assignment must be submitted as a Jupyter Notebook (both the *.ipynb and *.html files) in the corresponding submission folder to be found on Canvas.\n",
    "- If you have any questions, send them to me by email. "
   ]
  },
  {
   "cell_type": "markdown",
   "id": "c6387b93",
   "metadata": {},
   "source": [
    "## Most Frequent Character (10 Points)\n",
    "Write a function that takes a string and returns the most frequent character in that string. Run this function on your full name. For example, if the function takes the string `\"John Doe\"`, it must return the character `\"o\"` as the most frequent character. Note that the case of letters does not matter. "
   ]
  },
  {
   "cell_type": "code",
   "execution_count": null,
   "id": "09371b27",
   "metadata": {},
   "outputs": [],
   "source": []
  },
  {
   "cell_type": "markdown",
   "id": "c731bb7d",
   "metadata": {},
   "source": [
    "## Calculating a Fraction (10 Points)\n",
    "Define a function that takes a list of integers as input and returns the sum of even numbers divided by the sum of odd numbers. For example, for the input list `[1, 2, 4, 3]`, the function should return `(2 + 4) / (1 + 3) = 1.5`."
   ]
  },
  {
   "cell_type": "code",
   "execution_count": null,
   "id": "2283b918",
   "metadata": {},
   "outputs": [],
   "source": [
    " "
   ]
  },
  {
   "cell_type": "markdown",
   "id": "4b81d28d",
   "metadata": {},
   "source": [
    "## Number of Days (10 Points)\n",
    "Define a variable `my_birthday` to store your birthday in the format `\"dd.mm.yyyy\"` (For example, `\"16.04.1982\"`). Write a Python program to calculate the number of days that you have lived using the `my_birthday` variable."
   ]
  },
  {
   "cell_type": "code",
   "execution_count": null,
   "id": "b3c1f847",
   "metadata": {},
   "outputs": [],
   "source": []
  },
  {
   "cell_type": "markdown",
   "id": "0a85f2c8",
   "metadata": {},
   "source": [
    "## Probabilistic Selection (10 Points)\n",
    "Suppose you have a dictionary that shows the number of animals you have on your ranch. Write a function that takes such a dictionary as input and returns an animal from your dictionary with a probability proportional to the distribution of your animals. For example below, you see such a dictionary. Taking this dictionary, your function should return \"cat\" with 20%, \"dog\" with 30%, and \"cow\" with 50% probability. "
   ]
  },
  {
   "cell_type": "code",
   "execution_count": null,
   "id": "461c452c",
   "metadata": {},
   "outputs": [],
   "source": [
    "animals = {\n",
    "    \"cat\": 2,\n",
    "    \"dog\": 3,\n",
    "    \"cow\": 5\n",
    "}  "
   ]
  },
  {
   "cell_type": "markdown",
   "id": "9f946562",
   "metadata": {},
   "source": [
    "## Hotel Class Design (30 Points)\n",
    "Your client is a Hotel owner. She needs you to design software for their hotel business. Design and implement a class to represent a hotel. Your class should contain at least the followings:\n",
    "- 3 properties. \n",
    "    - At least one of these properties must be private with corresponding setter and getter methods.\n",
    "    - At least one of these properties must be a class-side property to keep the number of hotel objects. \n",
    "- 3 methods.\n",
    "- 1 customized exception to be raised if something goes wrong.\n",
    "\n",
    "Instantiate your hotel class and test its properties and methods. Show when exceptions can happen and how you can capture them. "
   ]
  },
  {
   "cell_type": "code",
   "execution_count": null,
   "id": "195efb7b",
   "metadata": {},
   "outputs": [],
   "source": []
  }
 ],
 "metadata": {
  "kernelspec": {
   "display_name": "Python 3 (ipykernel)",
   "language": "python",
   "name": "python3"
  },
  "language_info": {
   "codemirror_mode": {
    "name": "ipython",
    "version": 3
   },
   "file_extension": ".py",
   "mimetype": "text/x-python",
   "name": "python",
   "nbconvert_exporter": "python",
   "pygments_lexer": "ipython3",
   "version": "3.8.12"
  }
 },
 "nbformat": 4,
 "nbformat_minor": 5
}
