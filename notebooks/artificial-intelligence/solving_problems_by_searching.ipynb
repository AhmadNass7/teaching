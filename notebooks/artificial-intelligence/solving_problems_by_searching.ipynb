{
 "cells": [
  {
   "attachments": {},
   "cell_type": "markdown",
   "id": "820b9137",
   "metadata": {},
   "source": [
    "# Solving Problems by Searching\n",
    "Consider the following search state space graph.   \n",
    "![](search_state_space.png)\n",
    "\n",
    "\n",
    "## Uninformed Search\n",
    "- Find the solution path for breadth-first search, uniform cost search, and depth-first search.\n",
    "- Draw how the content of the queue/priority queue/stack will be changed in each step to find the next expanded node.\n",
    "- Discuss whether these solutions are optimal or not. \n",
    "- Implement these search strategies on the given graph and check their solution paths in action.  \n",
    "\n",
    "\n",
    "## Informed Search\n",
    "- Find the solution path for greedy best-first search and A* search.\n",
    "- Draw how the content of the queue/priority queue/stack will be changed in each step to find the next expanded node.\n",
    "- Discuss whether these solutions are optimal or not. \n",
    "- Implement these search strategies on the given graph and check their solution paths in action.  "
   ]
  }
 ],
 "metadata": {
  "kernelspec": {
   "display_name": "Python 3",
   "language": "python",
   "name": "python3"
  },
  "language_info": {
   "codemirror_mode": {
    "name": "ipython",
    "version": 3
   },
   "file_extension": ".py",
   "mimetype": "text/x-python",
   "name": "python",
   "nbconvert_exporter": "python",
   "pygments_lexer": "ipython3",
   "version": "3.8.5"
  }
 },
 "nbformat": 4,
 "nbformat_minor": 5
}
