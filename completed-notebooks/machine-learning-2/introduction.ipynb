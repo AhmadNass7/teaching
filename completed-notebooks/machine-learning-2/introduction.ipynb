{
 "cells": [
  {
   "cell_type": "markdown",
   "id": "2a168cd4",
   "metadata": {},
   "source": [
    "# Introduction\n",
    "Load the `churn modeling` dataset. [This dataset](https://www.kaggle.com/shrutimechlearn/churn-modelling) contains details of a bank's customers and the target variable is a binary variable reflecting the fact whether the customer left the bank (closed his account) or he/she continues to be a customer. Build an end-to-end machine learning pipeline to predict which customers are going to leave the company. "
   ]
  },
  {
   "cell_type": "markdown",
   "id": "a91b3903",
   "metadata": {},
   "source": [
    "## Importing Modules"
   ]
  },
  {
   "cell_type": "code",
   "execution_count": 1,
   "id": "a6d2b6c4",
   "metadata": {},
   "outputs": [],
   "source": [
    "import pandas as pd\n",
    "import sklearn.model_selection\n",
    "import sklearn.metrics\n",
    "import sklearn.svm\n",
    "import sklearn.tree\n",
    "import plotly.express as px"
   ]
  },
  {
   "cell_type": "markdown",
   "id": "1b325454",
   "metadata": {},
   "source": [
    "## Loading the Dataset"
   ]
  },
  {
   "cell_type": "code",
   "execution_count": 3,
   "id": "20e32e8d",
   "metadata": {},
   "outputs": [
    {
     "data": {
      "text/html": [
       "<div>\n",
       "<style scoped>\n",
       "    .dataframe tbody tr th:only-of-type {\n",
       "        vertical-align: middle;\n",
       "    }\n",
       "\n",
       "    .dataframe tbody tr th {\n",
       "        vertical-align: top;\n",
       "    }\n",
       "\n",
       "    .dataframe thead th {\n",
       "        text-align: right;\n",
       "    }\n",
       "</style>\n",
       "<table border=\"1\" class=\"dataframe\">\n",
       "  <thead>\n",
       "    <tr style=\"text-align: right;\">\n",
       "      <th></th>\n",
       "      <th>CreditScore</th>\n",
       "      <th>Geography</th>\n",
       "      <th>Gender</th>\n",
       "      <th>Age</th>\n",
       "      <th>Tenure</th>\n",
       "      <th>Balance</th>\n",
       "      <th>NumOfProducts</th>\n",
       "      <th>HasCrCard</th>\n",
       "      <th>IsActiveMember</th>\n",
       "      <th>EstimatedSalary</th>\n",
       "      <th>Exited</th>\n",
       "    </tr>\n",
       "    <tr>\n",
       "      <th>RowNumber</th>\n",
       "      <th></th>\n",
       "      <th></th>\n",
       "      <th></th>\n",
       "      <th></th>\n",
       "      <th></th>\n",
       "      <th></th>\n",
       "      <th></th>\n",
       "      <th></th>\n",
       "      <th></th>\n",
       "      <th></th>\n",
       "      <th></th>\n",
       "    </tr>\n",
       "  </thead>\n",
       "  <tbody>\n",
       "    <tr>\n",
       "      <th>1</th>\n",
       "      <td>619</td>\n",
       "      <td>France</td>\n",
       "      <td>Female</td>\n",
       "      <td>42</td>\n",
       "      <td>2</td>\n",
       "      <td>0.00</td>\n",
       "      <td>1</td>\n",
       "      <td>1</td>\n",
       "      <td>1</td>\n",
       "      <td>101348.88</td>\n",
       "      <td>1</td>\n",
       "    </tr>\n",
       "    <tr>\n",
       "      <th>2</th>\n",
       "      <td>608</td>\n",
       "      <td>Spain</td>\n",
       "      <td>Female</td>\n",
       "      <td>41</td>\n",
       "      <td>1</td>\n",
       "      <td>83807.86</td>\n",
       "      <td>1</td>\n",
       "      <td>0</td>\n",
       "      <td>1</td>\n",
       "      <td>112542.58</td>\n",
       "      <td>0</td>\n",
       "    </tr>\n",
       "    <tr>\n",
       "      <th>3</th>\n",
       "      <td>502</td>\n",
       "      <td>France</td>\n",
       "      <td>Female</td>\n",
       "      <td>42</td>\n",
       "      <td>8</td>\n",
       "      <td>159660.80</td>\n",
       "      <td>3</td>\n",
       "      <td>1</td>\n",
       "      <td>0</td>\n",
       "      <td>113931.57</td>\n",
       "      <td>1</td>\n",
       "    </tr>\n",
       "  </tbody>\n",
       "</table>\n",
       "</div>"
      ],
      "text/plain": [
       "           CreditScore Geography  Gender  Age  Tenure    Balance  \\\n",
       "RowNumber                                                          \n",
       "1                  619    France  Female   42       2       0.00   \n",
       "2                  608     Spain  Female   41       1   83807.86   \n",
       "3                  502    France  Female   42       8  159660.80   \n",
       "\n",
       "           NumOfProducts  HasCrCard  IsActiveMember  EstimatedSalary  Exited  \n",
       "RowNumber                                                                     \n",
       "1                      1          1               1        101348.88       1  \n",
       "2                      1          0               1        112542.58       0  \n",
       "3                      3          1               0        113931.57       1  "
      ]
     },
     "execution_count": 3,
     "metadata": {},
     "output_type": "execute_result"
    }
   ],
   "source": [
    "df = pd.read_csv(\"../../datasets/churn_modeling.csv\")\n",
    "df = df.drop([\"CustomerId\", \"Surname\"], axis=1)\n",
    "df = df.set_index(\"RowNumber\")\n",
    "df.head(3)"
   ]
  },
  {
   "cell_type": "markdown",
   "id": "b7f8719d",
   "metadata": {},
   "source": [
    "## Splitting the Data into Training and Test Sets"
   ]
  },
  {
   "cell_type": "code",
   "execution_count": 4,
   "id": "d91ebd6b",
   "metadata": {},
   "outputs": [],
   "source": [
    "x = df.drop([\"Exited\"], axis=1)\n",
    "y = df[\"Exited\"]\n",
    "x_train, x_test, y_train, y_test = sklearn.model_selection.train_test_split(x, y)"
   ]
  },
  {
   "cell_type": "markdown",
   "id": "ac963aa4",
   "metadata": {},
   "source": [
    "## Encoding Categoritical Attributes"
   ]
  },
  {
   "cell_type": "code",
   "execution_count": 5,
   "id": "56a287ab",
   "metadata": {},
   "outputs": [
    {
     "name": "stdout",
     "output_type": "stream",
     "text": [
      "x_train: (7500, 12840)\n",
      "x_test: (2500, 12840)\n"
     ]
    }
   ],
   "source": [
    "# Building the one-hot encoder model\n",
    "enc = sklearn.preprocessing.OneHotEncoder(handle_unknown=\"ignore\")\n",
    "enc.fit(x_train)\n",
    "\n",
    "# Encoding the categorical attriutes of training data\n",
    "x_train = enc.transform(x_train)\n",
    "\n",
    "# Encoding the categorical attriutes of test data\n",
    "x_test = enc.transform(x_test)\n",
    "\n",
    "print(\"x_train:\", x_train.shape)\n",
    "print(\"x_test:\", x_test.shape)"
   ]
  },
  {
   "cell_type": "markdown",
   "id": "1b32350a",
   "metadata": {},
   "source": [
    "## Model Selection and Hyperparameter Tuning"
   ]
  },
  {
   "cell_type": "code",
   "execution_count": 6,
   "id": "403b64d0",
   "metadata": {},
   "outputs": [
    {
     "name": "stdout",
     "output_type": "stream",
     "text": [
      "Accuracy of best decision tree classfier = 0.84\n",
      "Best found hyperparameters of decision tree classfier = {'criterion': 'gini', 'max_depth': 16, 'min_samples_split': 2}\n",
      "Accuracy of best SVM classfier = 0.86\n",
      "Best found hyperparameters of SVM classifier = {'C': 10, 'kernel': 'rbf'}\n"
     ]
    }
   ],
   "source": [
    "# Decistion Tree --------------------\n",
    "parameters_grid = {\n",
    "    \"criterion\": [\"gini\", \"entropy\"], \n",
    "    \"max_depth\": range(1, 20, 3),   # [1, 4, 7, ...]\n",
    "    \"min_samples_split\": range(2, 20, 3)\n",
    "}\n",
    "model_1 = sklearn.model_selection.GridSearchCV(sklearn.tree.DecisionTreeClassifier(), \n",
    "                                               parameters_grid, scoring=\"accuracy\", cv=5, n_jobs=-1)\n",
    "model_1.fit(x_train, y_train)\n",
    "print(\"Accuracy of best decision tree classfier = {:.2f}\".format(model_1.best_score_))\n",
    "print(\"Best found hyperparameters of decision tree classfier = {}\".format(model_1.best_params_))\n",
    "# -----------------------------------\n",
    "\n",
    "# SVM -------------------------------\n",
    "parameters_grid = {\n",
    "    \"kernel\": [\"linear\", \"rbf\", \"poly\"], \n",
    "    \"C\": [0.001, 0.01, 0.1, 1, 10, 100]\n",
    "}\n",
    "model_2 = sklearn.model_selection.GridSearchCV(sklearn.svm.SVC(), \n",
    "                                               parameters_grid, scoring=\"accuracy\", cv=5, n_jobs=-1)\n",
    "model_2.fit(x_train, y_train)\n",
    "print(\"Accuracy of best SVM classfier = {:.2f}\".format(model_2.best_score_))\n",
    "print(\"Best found hyperparameters of SVM classifier = {}\".format(model_2.best_params_))\n",
    "# -----------------------------------"
   ]
  },
  {
   "cell_type": "markdown",
   "id": "0cde97f3",
   "metadata": {},
   "source": [
    "## Testing the Best Model"
   ]
  },
  {
   "cell_type": "code",
   "execution_count": 7,
   "id": "89ffff9f",
   "metadata": {},
   "outputs": [
    {
     "name": "stdout",
     "output_type": "stream",
     "text": [
      "Accuracy = 0.846\n",
      "Precision = [0.86200635 0.72727273]\n",
      "Recall = [0.95909091 0.41538462]\n",
      "F1-Score = [0.90796079 0.52876377]\n",
      "Confusion Matrix:\n",
      " [[1899   81]\n",
      " [ 304  216]]\n"
     ]
    }
   ],
   "source": [
    "y_predicted = model_2.predict(x_test)\n",
    "accuracy = sklearn.metrics.accuracy_score(y_test, y_predicted)\n",
    "cm = sklearn.metrics.confusion_matrix(y_test, y_predicted)\n",
    "precision, recall, f1, support = sklearn.metrics.precision_recall_fscore_support(y_test, y_predicted)\n",
    "\n",
    "print(\"Accuracy =\", accuracy)\n",
    "print(\"Precision =\", precision)\n",
    "print(\"Recall =\", recall)\n",
    "print(\"F1-Score =\", f1)\n",
    "print(\"Confusion Matrix:\\n\", cm)"
   ]
  },
  {
   "cell_type": "code",
   "execution_count": null,
   "id": "c289419c",
   "metadata": {},
   "outputs": [],
   "source": []
  }
 ],
 "metadata": {
  "kernelspec": {
   "display_name": "Python 3 (ipykernel)",
   "language": "python",
   "name": "python3"
  },
  "language_info": {
   "codemirror_mode": {
    "name": "ipython",
    "version": 3
   },
   "file_extension": ".py",
   "mimetype": "text/x-python",
   "name": "python",
   "nbconvert_exporter": "python",
   "pygments_lexer": "ipython3",
   "version": "3.8.12"
  }
 },
 "nbformat": 4,
 "nbformat_minor": 5
}
