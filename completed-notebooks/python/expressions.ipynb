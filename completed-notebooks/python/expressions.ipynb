{
 "cells": [
  {
   "cell_type": "markdown",
   "id": "loved-gallery",
   "metadata": {},
   "source": [
    "# Expressions"
   ]
  },
  {
   "cell_type": "markdown",
   "id": "false-documentary",
   "metadata": {},
   "source": [
    "## Count Seconds in a Decade\n",
    "Write a Python program to calculate the number of seconds in 10 years. Assume that we have 2 leap years in this period. Assign the result into a variable named seconds_in_10_years."
   ]
  },
  {
   "cell_type": "code",
   "execution_count": null,
   "id": "prescribed-faculty",
   "metadata": {},
   "outputs": [],
   "source": []
  },
  {
   "cell_type": "markdown",
   "id": "sealed-mouth",
   "metadata": {},
   "source": [
    "## Compute the Area of a Circle\n",
    "Write a Python program that computes the area of a circle based on a given radius (area = $ \\pi r^2 $)."
   ]
  },
  {
   "cell_type": "code",
   "execution_count": null,
   "id": "amber-macedonia",
   "metadata": {},
   "outputs": [],
   "source": []
  },
  {
   "cell_type": "markdown",
   "id": "imported-yeast",
   "metadata": {},
   "source": [
    "## Print User's Name\n",
    "Write a Python program which accepts the user's first and last name and print them in reverse order with a space between them. Note that you can use the input() function to take user's inputs."
   ]
  },
  {
   "cell_type": "code",
   "execution_count": null,
   "id": "inner-arabic",
   "metadata": {},
   "outputs": [],
   "source": []
  },
  {
   "cell_type": "markdown",
   "id": "attached-cleaning",
   "metadata": {},
   "source": [
    "## Compute Maximum of Numbers\n",
    "Write a program that computes the maximum of two elements: (1) absolute of -4 and (2) minimum of -3 and the length of the string \"abc\"."
   ]
  },
  {
   "cell_type": "code",
   "execution_count": null,
   "id": "aware-resort",
   "metadata": {},
   "outputs": [],
   "source": []
  },
  {
   "cell_type": "markdown",
   "id": "cooperative-request",
   "metadata": {},
   "source": [
    "## Compute Euclidean Distance\n",
    "Write a Python program to compute the Euclidean distance between two given points $ (x_1, y_1) $ and $ (x_2, y_2) $, which is $ \\sqrt{(x_1 - x_2)^2 + (y_1 - y_2)^2} $."
   ]
  },
  {
   "cell_type": "code",
   "execution_count": null,
   "id": "killing-shore",
   "metadata": {},
   "outputs": [],
   "source": []
  },
  {
   "cell_type": "markdown",
   "id": "color-texas",
   "metadata": {},
   "source": [
    "## Convert Fahrenheit to Celsius \n",
    "Write a Python program to convert fahrenheit to celsius based on the the formula $ C = (F - 32) \\times \\frac{5}{9}. $"
   ]
  },
  {
   "cell_type": "code",
   "execution_count": null,
   "id": "broad-ordinary",
   "metadata": {},
   "outputs": [],
   "source": []
  }
 ],
 "metadata": {
  "kernelspec": {
   "display_name": "Python 3",
   "language": "python",
   "name": "python3"
  },
  "language_info": {
   "codemirror_mode": {
    "name": "ipython",
    "version": 3
   },
   "file_extension": ".py",
   "mimetype": "text/x-python",
   "name": "python",
   "nbconvert_exporter": "python",
   "pygments_lexer": "ipython3",
   "version": "3.8.5"
  }
 },
 "nbformat": 4,
 "nbformat_minor": 5
}
