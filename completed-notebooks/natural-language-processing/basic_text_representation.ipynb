{
 "cells": [
  {
   "cell_type": "markdown",
   "id": "7bab6edd",
   "metadata": {},
   "source": [
    "# Basic Text Representation\n",
    "The Twitter dataset (`tweets.csv`) was scraped from February of 2015. Contributors were asked to first classify positive, negative, and neutral tweets, followed by categorizing negative reasons (such as \"late flight\" or \"rude service\"). The dataset can be found [here.](https://www.kaggle.com/crowdflower/twitter-airline-sentiment)\n",
    "\n",
    "We are looking for all the tweets that are related to `bad catering service`. Use basic vectorization approaches and a similarity measure like cosine similarity to rank tweets based on their closeness to this topic. Check scikit-learn documentations."
   ]
  },
  {
   "cell_type": "markdown",
   "id": "3e42896a",
   "metadata": {},
   "source": [
    "## Importing Modules"
   ]
  },
  {
   "cell_type": "code",
   "execution_count": 36,
   "id": "26b2eb31",
   "metadata": {},
   "outputs": [],
   "source": [
    "import pandas\n",
    "pandas.set_option(\"max_colwidth\", None)\n",
    "import sklearn.feature_extraction.text\n",
    "import sklearn.metrics.pairwise"
   ]
  },
  {
   "cell_type": "markdown",
   "id": "22e07d68",
   "metadata": {},
   "source": [
    "## Loading the Dataset"
   ]
  },
  {
   "cell_type": "code",
   "execution_count": 37,
   "id": "a5f091f7",
   "metadata": {},
   "outputs": [
    {
     "data": {
      "text/html": [
       "<div>\n",
       "<style scoped>\n",
       "    .dataframe tbody tr th:only-of-type {\n",
       "        vertical-align: middle;\n",
       "    }\n",
       "\n",
       "    .dataframe tbody tr th {\n",
       "        vertical-align: top;\n",
       "    }\n",
       "\n",
       "    .dataframe thead th {\n",
       "        text-align: right;\n",
       "    }\n",
       "</style>\n",
       "<table border=\"1\" class=\"dataframe\">\n",
       "  <thead>\n",
       "    <tr style=\"text-align: right;\">\n",
       "      <th></th>\n",
       "      <th>tweet_id</th>\n",
       "      <th>airline_sentiment</th>\n",
       "      <th>airline_sentiment_confidence</th>\n",
       "      <th>negativereason</th>\n",
       "      <th>negativereason_confidence</th>\n",
       "      <th>airline</th>\n",
       "      <th>airline_sentiment_gold</th>\n",
       "      <th>name</th>\n",
       "      <th>negativereason_gold</th>\n",
       "      <th>retweet_count</th>\n",
       "      <th>text</th>\n",
       "      <th>tweet_coord</th>\n",
       "      <th>tweet_created</th>\n",
       "      <th>tweet_location</th>\n",
       "      <th>user_timezone</th>\n",
       "    </tr>\n",
       "  </thead>\n",
       "  <tbody>\n",
       "    <tr>\n",
       "      <th>0</th>\n",
       "      <td>570306133677760513</td>\n",
       "      <td>neutral</td>\n",
       "      <td>1.0000</td>\n",
       "      <td>NaN</td>\n",
       "      <td>NaN</td>\n",
       "      <td>Virgin America</td>\n",
       "      <td>NaN</td>\n",
       "      <td>cairdin</td>\n",
       "      <td>NaN</td>\n",
       "      <td>0</td>\n",
       "      <td>@VirginAmerica What @dhepburn said.</td>\n",
       "      <td>NaN</td>\n",
       "      <td>2015-02-24 11:35:52 -0800</td>\n",
       "      <td>NaN</td>\n",
       "      <td>Eastern Time (US &amp; Canada)</td>\n",
       "    </tr>\n",
       "    <tr>\n",
       "      <th>1</th>\n",
       "      <td>570301130888122368</td>\n",
       "      <td>positive</td>\n",
       "      <td>0.3486</td>\n",
       "      <td>NaN</td>\n",
       "      <td>0.0000</td>\n",
       "      <td>Virgin America</td>\n",
       "      <td>NaN</td>\n",
       "      <td>jnardino</td>\n",
       "      <td>NaN</td>\n",
       "      <td>0</td>\n",
       "      <td>@VirginAmerica plus you've added commercials to the experience... tacky.</td>\n",
       "      <td>NaN</td>\n",
       "      <td>2015-02-24 11:15:59 -0800</td>\n",
       "      <td>NaN</td>\n",
       "      <td>Pacific Time (US &amp; Canada)</td>\n",
       "    </tr>\n",
       "    <tr>\n",
       "      <th>2</th>\n",
       "      <td>570301083672813571</td>\n",
       "      <td>neutral</td>\n",
       "      <td>0.6837</td>\n",
       "      <td>NaN</td>\n",
       "      <td>NaN</td>\n",
       "      <td>Virgin America</td>\n",
       "      <td>NaN</td>\n",
       "      <td>yvonnalynn</td>\n",
       "      <td>NaN</td>\n",
       "      <td>0</td>\n",
       "      <td>@VirginAmerica I didn't today... Must mean I need to take another trip!</td>\n",
       "      <td>NaN</td>\n",
       "      <td>2015-02-24 11:15:48 -0800</td>\n",
       "      <td>Lets Play</td>\n",
       "      <td>Central Time (US &amp; Canada)</td>\n",
       "    </tr>\n",
       "    <tr>\n",
       "      <th>3</th>\n",
       "      <td>570301031407624196</td>\n",
       "      <td>negative</td>\n",
       "      <td>1.0000</td>\n",
       "      <td>Bad Flight</td>\n",
       "      <td>0.7033</td>\n",
       "      <td>Virgin America</td>\n",
       "      <td>NaN</td>\n",
       "      <td>jnardino</td>\n",
       "      <td>NaN</td>\n",
       "      <td>0</td>\n",
       "      <td>@VirginAmerica it's really aggressive to blast obnoxious \"entertainment\" in your guests' faces &amp;amp; they have little recourse</td>\n",
       "      <td>NaN</td>\n",
       "      <td>2015-02-24 11:15:36 -0800</td>\n",
       "      <td>NaN</td>\n",
       "      <td>Pacific Time (US &amp; Canada)</td>\n",
       "    </tr>\n",
       "    <tr>\n",
       "      <th>4</th>\n",
       "      <td>570300817074462722</td>\n",
       "      <td>negative</td>\n",
       "      <td>1.0000</td>\n",
       "      <td>Can't Tell</td>\n",
       "      <td>1.0000</td>\n",
       "      <td>Virgin America</td>\n",
       "      <td>NaN</td>\n",
       "      <td>jnardino</td>\n",
       "      <td>NaN</td>\n",
       "      <td>0</td>\n",
       "      <td>@VirginAmerica and it's a really big bad thing about it</td>\n",
       "      <td>NaN</td>\n",
       "      <td>2015-02-24 11:14:45 -0800</td>\n",
       "      <td>NaN</td>\n",
       "      <td>Pacific Time (US &amp; Canada)</td>\n",
       "    </tr>\n",
       "  </tbody>\n",
       "</table>\n",
       "</div>"
      ],
      "text/plain": [
       "             tweet_id airline_sentiment  airline_sentiment_confidence negativereason  negativereason_confidence         airline airline_sentiment_gold        name negativereason_gold  retweet_count                                                                                                                            text tweet_coord              tweet_created tweet_location               user_timezone\n",
       "0  570306133677760513           neutral                        1.0000            NaN                        NaN  Virgin America                    NaN     cairdin                 NaN              0                                                                                             @VirginAmerica What @dhepburn said.         NaN  2015-02-24 11:35:52 -0800            NaN  Eastern Time (US & Canada)\n",
       "1  570301130888122368          positive                        0.3486            NaN                     0.0000  Virgin America                    NaN    jnardino                 NaN              0                                                        @VirginAmerica plus you've added commercials to the experience... tacky.         NaN  2015-02-24 11:15:59 -0800            NaN  Pacific Time (US & Canada)\n",
       "2  570301083672813571           neutral                        0.6837            NaN                        NaN  Virgin America                    NaN  yvonnalynn                 NaN              0                                                         @VirginAmerica I didn't today... Must mean I need to take another trip!         NaN  2015-02-24 11:15:48 -0800      Lets Play  Central Time (US & Canada)\n",
       "3  570301031407624196          negative                        1.0000     Bad Flight                     0.7033  Virgin America                    NaN    jnardino                 NaN              0  @VirginAmerica it's really aggressive to blast obnoxious \"entertainment\" in your guests' faces &amp; they have little recourse         NaN  2015-02-24 11:15:36 -0800            NaN  Pacific Time (US & Canada)\n",
       "4  570300817074462722          negative                        1.0000     Can't Tell                     1.0000  Virgin America                    NaN    jnardino                 NaN              0                                                                         @VirginAmerica and it's a really big bad thing about it         NaN  2015-02-24 11:14:45 -0800            NaN  Pacific Time (US & Canada)"
      ]
     },
     "execution_count": 37,
     "metadata": {},
     "output_type": "execute_result"
    }
   ],
   "source": [
    "df = pandas.read_csv(\"../../datasets/tweets.csv\")\n",
    "df.head()"
   ]
  },
  {
   "cell_type": "markdown",
   "id": "676e164b",
   "metadata": {},
   "source": [
    "## Representing Texts"
   ]
  },
  {
   "cell_type": "markdown",
   "id": "51a149e6",
   "metadata": {},
   "source": [
    "### Bag of Words"
   ]
  },
  {
   "cell_type": "code",
   "execution_count": 25,
   "id": "3f12009c",
   "metadata": {},
   "outputs": [],
   "source": [
    "vectorizer = sklearn.feature_extraction.text.CountVectorizer(ngram_range=(1, 1), min_df=100)\n",
    "vectorizer.fit(df[\"text\"])\n",
    "documents = vectorizer.transform(df[\"text\"])\n",
    "query = vectorizer.transform([\"bad catering service\"])"
   ]
  },
  {
   "cell_type": "markdown",
   "id": "2cd5a5ae",
   "metadata": {},
   "source": [
    "### Bag of N-Grams"
   ]
  },
  {
   "cell_type": "code",
   "execution_count": 22,
   "id": "ffb0640a",
   "metadata": {},
   "outputs": [],
   "source": [
    "vectorizer = sklearn.feature_extraction.text.CountVectorizer(ngram_range=(1, 3), min_df=100)\n",
    "vectorizer.fit(df[\"text\"])\n",
    "documents = vectorizer.transform(df[\"text\"])\n",
    "query = vectorizer.transform([\"bad catering service\"])"
   ]
  },
  {
   "cell_type": "markdown",
   "id": "d2577461",
   "metadata": {},
   "source": [
    "### TF-IDF"
   ]
  },
  {
   "cell_type": "code",
   "execution_count": 38,
   "id": "2704f8d8",
   "metadata": {},
   "outputs": [],
   "source": [
    "vectorizer = sklearn.feature_extraction.text.TfidfVectorizer(min_df=100)\n",
    "vectorizer.fit(df[\"text\"])\n",
    "documents = vectorizer.transform(df[\"text\"])\n",
    "query = vectorizer.transform([\"bad catering service\"])"
   ]
  },
  {
   "cell_type": "markdown",
   "id": "b873b171",
   "metadata": {},
   "source": [
    "## Ranking Documents"
   ]
  },
  {
   "cell_type": "code",
   "execution_count": 42,
   "id": "08aa062e",
   "metadata": {},
   "outputs": [
    {
     "data": {
      "text/html": [
       "<div>\n",
       "<style scoped>\n",
       "    .dataframe tbody tr th:only-of-type {\n",
       "        vertical-align: middle;\n",
       "    }\n",
       "\n",
       "    .dataframe tbody tr th {\n",
       "        vertical-align: top;\n",
       "    }\n",
       "\n",
       "    .dataframe thead th {\n",
       "        text-align: right;\n",
       "    }\n",
       "</style>\n",
       "<table border=\"1\" class=\"dataframe\">\n",
       "  <thead>\n",
       "    <tr style=\"text-align: right;\">\n",
       "      <th></th>\n",
       "      <th>Tweets</th>\n",
       "      <th>Similarity</th>\n",
       "    </tr>\n",
       "  </thead>\n",
       "  <tbody>\n",
       "    <tr>\n",
       "      <th>11635</th>\n",
       "      <td>@USAirways bad weather shouldn't mean bad service</td>\n",
       "      <td>0.867440</td>\n",
       "    </tr>\n",
       "    <tr>\n",
       "      <th>10923</th>\n",
       "      <td>@USAirways has completely wasted my work day! Thank you for the bad service and bad Friday!</td>\n",
       "      <td>0.691778</td>\n",
       "    </tr>\n",
       "    <tr>\n",
       "      <th>12737</th>\n",
       "      <td>@AmericanAir SO BAD service in Miami, AirPort..</td>\n",
       "      <td>0.673601</td>\n",
       "    </tr>\n",
       "    <tr>\n",
       "      <th>5932</th>\n",
       "      <td>@SouthwestAir following!! My bad.</td>\n",
       "      <td>0.670176</td>\n",
       "    </tr>\n",
       "    <tr>\n",
       "      <th>7909</th>\n",
       "      <td>@JetBlue oh. Makes sense. My bad.</td>\n",
       "      <td>0.666328</td>\n",
       "    </tr>\n",
       "    <tr>\n",
       "      <th>6116</th>\n",
       "      <td>@SouthwestAir I receive bad customer service and ended up spending several hundred dollars to accommodate my family during each cxl flight</td>\n",
       "      <td>0.640216</td>\n",
       "    </tr>\n",
       "    <tr>\n",
       "      <th>2571</th>\n",
       "      <td>@united bad customer service  to NYC a few weeks ago. Thinking of moving on</td>\n",
       "      <td>0.612229</td>\n",
       "    </tr>\n",
       "    <tr>\n",
       "      <th>11123</th>\n",
       "      <td>@USAirways your app is bad, and you should feel bad.</td>\n",
       "      <td>0.610956</td>\n",
       "    </tr>\n",
       "    <tr>\n",
       "      <th>9199</th>\n",
       "      <td>@USAirways cust svc means nothing! So disappointed. Trying since 730a to speak to a human I get bad weather not bad service.\\n#socialtantrum</td>\n",
       "      <td>0.605915</td>\n",
       "    </tr>\n",
       "    <tr>\n",
       "      <th>10928</th>\n",
       "      <td>@USAirways that the flight was delayed &amp;amp; closed the doors only to tell us we would not be leaving for an hour and a half. Bad, bad service</td>\n",
       "      <td>0.554856</td>\n",
       "    </tr>\n",
       "  </tbody>\n",
       "</table>\n",
       "</div>"
      ],
      "text/plain": [
       "                                                                                                                                               Tweets  Similarity\n",
       "11635                                                                                               @USAirways bad weather shouldn't mean bad service    0.867440\n",
       "10923                                                     @USAirways has completely wasted my work day! Thank you for the bad service and bad Friday!    0.691778\n",
       "12737                                                                                                 @AmericanAir SO BAD service in Miami, AirPort..    0.673601\n",
       "5932                                                                                                                @SouthwestAir following!! My bad.    0.670176\n",
       "7909                                                                                                                @JetBlue oh. Makes sense. My bad.    0.666328\n",
       "6116       @SouthwestAir I receive bad customer service and ended up spending several hundred dollars to accommodate my family during each cxl flight    0.640216\n",
       "2571                                                                      @united bad customer service  to NYC a few weeks ago. Thinking of moving on    0.612229\n",
       "11123                                                                                            @USAirways your app is bad, and you should feel bad.    0.610956\n",
       "9199     @USAirways cust svc means nothing! So disappointed. Trying since 730a to speak to a human I get bad weather not bad service.\\n#socialtantrum    0.605915\n",
       "10928  @USAirways that the flight was delayed &amp; closed the doors only to tell us we would not be leaving for an hour and a half. Bad, bad service    0.554856"
      ]
     },
     "execution_count": 42,
     "metadata": {},
     "output_type": "execute_result"
    }
   ],
   "source": [
    "similarities = sklearn.metrics.pairwise.cosine_similarity(query, documents)[0]\n",
    "result = pandas.DataFrame({\"Tweets\": df[\"text\"], \"Similarity\": similarities})\n",
    "result.sort_values(by=\"Similarity\", ascending=False).head(10)"
   ]
  },
  {
   "cell_type": "code",
   "execution_count": null,
   "id": "b7e82aa0",
   "metadata": {},
   "outputs": [],
   "source": []
  }
 ],
 "metadata": {
  "kernelspec": {
   "display_name": "Python 3 (ipykernel)",
   "language": "python",
   "name": "python3"
  },
  "language_info": {
   "codemirror_mode": {
    "name": "ipython",
    "version": 3
   },
   "file_extension": ".py",
   "mimetype": "text/x-python",
   "name": "python",
   "nbconvert_exporter": "python",
   "pygments_lexer": "ipython3",
   "version": "3.8.12"
  }
 },
 "nbformat": 4,
 "nbformat_minor": 5
}
