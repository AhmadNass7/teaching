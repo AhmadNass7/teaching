{
 "cells": [
  {
   "cell_type": "markdown",
   "id": "820b9137",
   "metadata": {},
   "source": [
    "# Fairness\n",
    "The Adult dataset contains a total of 45,222 subjects, each with 14 features (e.g., age, educational level) and a binary label, which indicates whether a subject’s incomes is above (positive class)or below (negative class) 50K USD. \n For this dataset, we consider gender and race, respectively, as binary and non-binary (polyvalent) sensitiv \n",
"Downlowd adult.data from here https://archive.ics.uci.edu/ml/machine-learning-databases/adult/ \n \n",
"add .txt at the end of the name and then you can open it \n \n",
"Apply logistic linear or SVM to classify the data \n \n",
"Discuss if there is discrimination and if yes which type of discrimination?"
   ]
  },
  {
   "cell_type": "code",
   "execution_count": null,
   "id": "12c0ac58",
   "metadata": {},
   "outputs": [],
   "source": []
  }
 ],
 "metadata": {
  "kernelspec": {
   "display_name": "Python 3",
   "language": "python",
   "name": "python3"
  },
  "language_info": {
   "codemirror_mode": {
    "name": "ipython",
    "version": 3
   },
   "file_extension": ".py",
   "mimetype": "text/x-python",
   "name": "python",
   "nbconvert_exporter": "python",
   "pygments_lexer": "ipython3",
   "version": "3.8.5"
  }
 },
 "nbformat": 4,
 "nbformat_minor": 5
}
