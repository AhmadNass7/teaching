{
 "cells": [
  {
   "cell_type": "markdown",
   "id": "isolated-catholic",
   "metadata": {},
   "source": [
    "# Classes"
   ]
  },
  {
   "cell_type": "code",
   "execution_count": 8,
   "id": "1a6b60be",
   "metadata": {},
   "outputs": [
    {
     "name": "stdout",
     "output_type": "stream",
     "text": [
      "Hey! I am John Doe with 30 years old.\n",
      "Hey! I am Alice sdfsd with 33 years old.\n"
     ]
    }
   ],
   "source": [
    "class Person:\n",
    "    \"\"\"\n",
    "    This is a class to represent persons. It has...\n",
    "    \"\"\"\n",
    "    def __init__(self, fname, lname, age):\n",
    "        self.first_name = fname\n",
    "        self.last_name = lname\n",
    "        self.age = age\n",
    "    \n",
    "    def __str__(self):\n",
    "        return \"Hey! I am {} {} with {} years old.\".format(self.first_name, self.last_name, self.age)\n",
    "    \n",
    "p1 = Person(\"John\", \"Doe\", 30)\n",
    "print(p1) \n",
    "p2 = Person(\"Alice\", \"sdfsd\", 33)\n",
    "print(p2)"
   ]
  },
  {
   "cell_type": "markdown",
   "id": "valuable-coupon",
   "metadata": {},
   "source": [
    "## Student Class\n",
    "Define a student class with the followings:\n",
    "- A first_name attribute.\n",
    "- A last_name attribute.\n",
    "- An id attribute.\n",
    "- A courses attribute that stores all passed courses and the grades in dictionary.\n",
    "- An \\_\\_init\\_\\_ method.\n",
    "- A \\_\\_str\\_\\_ method.\n",
    "- A get\\_gpa method.\n",
    "- A set\\_course_grade method."
   ]
  },
  {
   "cell_type": "code",
   "execution_count": 4,
   "id": "according-purse",
   "metadata": {},
   "outputs": [
    {
     "name": "stdout",
     "output_type": "stream",
     "text": [
      "This is John Doe with ID = 111.\n"
     ]
    }
   ],
   "source": []
  },
  {
   "cell_type": "markdown",
   "id": "palestinian-expert",
   "metadata": {},
   "source": [
    "## University Class\n",
    "Define a university class with the followings:\n",
    "- A name attribute.\n",
    "- A students attribute that stores a list of students.\n",
    "- An \\_\\_init\\_\\_ method.\n",
    "- A \\_\\_str\\_\\_ method.\n",
    "- A register\\_student method.\n",
    "- A graduate\\_student method."
   ]
  },
  {
   "cell_type": "code",
   "execution_count": null,
   "id": "going-custom",
   "metadata": {},
   "outputs": [],
   "source": []
  }
 ],
 "metadata": {
  "kernelspec": {
   "display_name": "Python 3 (ipykernel)",
   "language": "python",
   "name": "python3"
  },
  "language_info": {
   "codemirror_mode": {
    "name": "ipython",
    "version": 3
   },
   "file_extension": ".py",
   "mimetype": "text/x-python",
   "name": "python",
   "nbconvert_exporter": "python",
   "pygments_lexer": "ipython3",
   "version": "3.8.11"
  }
 },
 "nbformat": 4,
 "nbformat_minor": 5
}
