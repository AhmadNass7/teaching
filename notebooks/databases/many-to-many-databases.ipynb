Assignment Specifications: Many-to-Many Databases


Tables for the Assignment
Create the following tables in a database named "roster". Make sure that your database and tables are named exactly as follows including matching case.
