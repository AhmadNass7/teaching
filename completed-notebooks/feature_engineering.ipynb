{
  "nbformat": 4,
  "nbformat_minor": 5,
  "metadata": {
    "kernelspec": {
      "display_name": "Python 3 (ipykernel)",
      "language": "python",
      "name": "python3"
    },
    "language_info": {
      "codemirror_mode": {
        "name": "ipython",
        "version": 3
      },
      "file_extension": ".py",
      "mimetype": "text/x-python",
      "name": "python",
      "nbconvert_exporter": "python",
      "pygments_lexer": "ipython3",
      "version": "3.8.11"
    },
    "colab": {
      "name": "feature_engineering.ipynb",
      "provenance": []
    }
  },
  "cells": [
    {
      "cell_type": "markdown",
      "metadata": {
        "id": "korean-wednesday"
      },
      "source": [
        "# Feature Engineering\n",
        "Load the `adult` dataset. Preprocess the dataset by removing missing values, encoding categorical attributes, normalizing/scaling the features, and reducing the dimensionality of the dataset. Split the dataset into training and test sets. Train and test a support vector machine model using scikit-learn. Evaluate the impact of the feature engineering step on the effectiveness and efficiency of the model."
      ],
      "id": "korean-wednesday"
    },
    {
      "cell_type": "markdown",
      "metadata": {
        "id": "6d78509d"
      },
      "source": [
        "## Loading Modules"
      ],
      "id": "6d78509d"
    },
    {
      "cell_type": "code",
      "metadata": {
        "id": "infrared-copper"
      },
      "source": [
        "import numpy as np\n",
        "import pandas as pd\n",
        "import sklearn.model_selection\n",
        "import sklearn.svm\n",
        "import sklearn.metrics\n",
        "import sklearn.preprocessing\n",
        "import sklearn.decomposition\n",
        "import plotly.express as px"
      ],
      "id": "infrared-copper",
      "execution_count": null,
      "outputs": []
    },
    {
      "cell_type": "markdown",
      "metadata": {
        "id": "13d4cc83"
      },
      "source": [
        "## Loading the Dataset"
      ],
      "id": "13d4cc83"
    },
    {
      "cell_type": "code",
      "metadata": {
        "colab": {
          "base_uri": "https://localhost:8080/",
          "height": 415
        },
        "id": "154e2e2d",
        "outputId": "f33984dc-db87-4b6c-a387-b11826897a34"
      },
      "source": [
        "df = pd.read_csv(\"adult.csv\")\n",
        "print(df.shape)\n",
        "df.head()"
      ],
      "id": "154e2e2d",
      "execution_count": null,
      "outputs": [
        {
          "output_type": "stream",
          "name": "stdout",
          "text": [
            "(17923, 15)\n"
          ]
        },
        {
          "output_type": "execute_result",
          "data": {
            "text/html": [
              "<div>\n",
              "<style scoped>\n",
              "    .dataframe tbody tr th:only-of-type {\n",
              "        vertical-align: middle;\n",
              "    }\n",
              "\n",
              "    .dataframe tbody tr th {\n",
              "        vertical-align: top;\n",
              "    }\n",
              "\n",
              "    .dataframe thead th {\n",
              "        text-align: right;\n",
              "    }\n",
              "</style>\n",
              "<table border=\"1\" class=\"dataframe\">\n",
              "  <thead>\n",
              "    <tr style=\"text-align: right;\">\n",
              "      <th></th>\n",
              "      <th>age</th>\n",
              "      <th>workclass</th>\n",
              "      <th>fnlwgt</th>\n",
              "      <th>education</th>\n",
              "      <th>education-num</th>\n",
              "      <th>marital-status</th>\n",
              "      <th>occupation</th>\n",
              "      <th>relationship</th>\n",
              "      <th>race</th>\n",
              "      <th>sex</th>\n",
              "      <th>capital-gain</th>\n",
              "      <th>capital-loss</th>\n",
              "      <th>hours-per-week</th>\n",
              "      <th>native-country</th>\n",
              "      <th>target</th>\n",
              "    </tr>\n",
              "  </thead>\n",
              "  <tbody>\n",
              "    <tr>\n",
              "      <th>0</th>\n",
              "      <td>39</td>\n",
              "      <td>State-gov</td>\n",
              "      <td>77516</td>\n",
              "      <td>Bachelors</td>\n",
              "      <td>13</td>\n",
              "      <td>Never-married</td>\n",
              "      <td>Adm-clerical</td>\n",
              "      <td>Not-in-family</td>\n",
              "      <td>White</td>\n",
              "      <td>Male</td>\n",
              "      <td>2174.0</td>\n",
              "      <td>0.0</td>\n",
              "      <td>40.0</td>\n",
              "      <td>United-States</td>\n",
              "      <td>&lt;=50K</td>\n",
              "    </tr>\n",
              "    <tr>\n",
              "      <th>1</th>\n",
              "      <td>50</td>\n",
              "      <td>Self-emp-not-inc</td>\n",
              "      <td>83311</td>\n",
              "      <td>Bachelors</td>\n",
              "      <td>13</td>\n",
              "      <td>Married-civ-spouse</td>\n",
              "      <td>Exec-managerial</td>\n",
              "      <td>Husband</td>\n",
              "      <td>White</td>\n",
              "      <td>Male</td>\n",
              "      <td>0.0</td>\n",
              "      <td>0.0</td>\n",
              "      <td>13.0</td>\n",
              "      <td>United-States</td>\n",
              "      <td>&lt;=50K</td>\n",
              "    </tr>\n",
              "    <tr>\n",
              "      <th>2</th>\n",
              "      <td>38</td>\n",
              "      <td>Private</td>\n",
              "      <td>215646</td>\n",
              "      <td>HS-grad</td>\n",
              "      <td>9</td>\n",
              "      <td>Divorced</td>\n",
              "      <td>Handlers-cleaners</td>\n",
              "      <td>Not-in-family</td>\n",
              "      <td>White</td>\n",
              "      <td>Male</td>\n",
              "      <td>0.0</td>\n",
              "      <td>0.0</td>\n",
              "      <td>40.0</td>\n",
              "      <td>United-States</td>\n",
              "      <td>&lt;=50K</td>\n",
              "    </tr>\n",
              "    <tr>\n",
              "      <th>3</th>\n",
              "      <td>53</td>\n",
              "      <td>Private</td>\n",
              "      <td>234721</td>\n",
              "      <td>11th</td>\n",
              "      <td>7</td>\n",
              "      <td>Married-civ-spouse</td>\n",
              "      <td>Handlers-cleaners</td>\n",
              "      <td>Husband</td>\n",
              "      <td>Black</td>\n",
              "      <td>Male</td>\n",
              "      <td>0.0</td>\n",
              "      <td>0.0</td>\n",
              "      <td>40.0</td>\n",
              "      <td>United-States</td>\n",
              "      <td>&lt;=50K</td>\n",
              "    </tr>\n",
              "    <tr>\n",
              "      <th>4</th>\n",
              "      <td>28</td>\n",
              "      <td>Private</td>\n",
              "      <td>338409</td>\n",
              "      <td>Bachelors</td>\n",
              "      <td>13</td>\n",
              "      <td>Married-civ-spouse</td>\n",
              "      <td>Prof-specialty</td>\n",
              "      <td>Wife</td>\n",
              "      <td>Black</td>\n",
              "      <td>Female</td>\n",
              "      <td>0.0</td>\n",
              "      <td>0.0</td>\n",
              "      <td>40.0</td>\n",
              "      <td>Cuba</td>\n",
              "      <td>&lt;=50K</td>\n",
              "    </tr>\n",
              "  </tbody>\n",
              "</table>\n",
              "</div>"
            ],
            "text/plain": [
              "   age          workclass  fnlwgt  ... hours-per-week  native-country  target\n",
              "0   39          State-gov   77516  ...           40.0   United-States   <=50K\n",
              "1   50   Self-emp-not-inc   83311  ...           13.0   United-States   <=50K\n",
              "2   38            Private  215646  ...           40.0   United-States   <=50K\n",
              "3   53            Private  234721  ...           40.0   United-States   <=50K\n",
              "4   28            Private  338409  ...           40.0            Cuba   <=50K\n",
              "\n",
              "[5 rows x 15 columns]"
            ]
          },
          "metadata": {},
          "execution_count": 2
        }
      ]
    },
    {
      "cell_type": "markdown",
      "metadata": {
        "id": "i7zaGlg3dLPT"
      },
      "source": [
        "## Removing Missing Values"
      ],
      "id": "i7zaGlg3dLPT"
    },
    {
      "cell_type": "code",
      "metadata": {
        "colab": {
          "base_uri": "https://localhost:8080/"
        },
        "id": "ncjsYeF-dKbN",
        "outputId": "c33717c7-a5dd-43fa-a468-a80630bcbf22"
      },
      "source": [
        "# print(df.columns)\n",
        "# df[\"workclass\"].value_counts()\n",
        "df = df.replace(' ?', np.NaN) # None\n",
        "df = df.dropna()   # fillna(0)\n",
        "df.shape"
      ],
      "id": "ncjsYeF-dKbN",
      "execution_count": null,
      "outputs": [
        {
          "output_type": "execute_result",
          "data": {
            "text/plain": [
              "(16607, 15)"
            ]
          },
          "metadata": {},
          "execution_count": 3
        }
      ]
    },
    {
      "cell_type": "markdown",
      "metadata": {
        "id": "e3a9d69a"
      },
      "source": [
        "## Splitting the Data into Training and Test Sets"
      ],
      "id": "e3a9d69a"
    },
    {
      "cell_type": "code",
      "metadata": {
        "colab": {
          "base_uri": "https://localhost:8080/"
        },
        "id": "5e39bf14",
        "outputId": "a5fa83e1-6ccc-43d6-9f48-d0b3358207a3"
      },
      "source": [
        "x = df.drop([\"target\"], axis=1)\n",
        "y = df[\"target\"]\n",
        "x_train, x_test, y_train, y_test = sklearn.model_selection.train_test_split(x, y)\n",
        "\n",
        "print(\"df:\", df.shape)\n",
        "print(\"x_train:\", x_train.shape)\n",
        "print(\"x_test:\", x_test.shape)\n",
        "print(\"y_train:\", y_train.shape)\n",
        "print(\"y_test:\", y_test.shape)"
      ],
      "id": "5e39bf14",
      "execution_count": null,
      "outputs": [
        {
          "output_type": "stream",
          "name": "stdout",
          "text": [
            "df: (16607, 15)\n",
            "x_train: (12455, 14)\n",
            "x_test: (4152, 14)\n",
            "y_train: (12455,)\n",
            "y_test: (4152,)\n"
          ]
        }
      ]
    },
    {
      "cell_type": "markdown",
      "metadata": {
        "id": "a43bce56"
      },
      "source": [
        "## One-Hot Encoding"
      ],
      "id": "a43bce56"
    },
    {
      "cell_type": "code",
      "metadata": {
        "colab": {
          "base_uri": "https://localhost:8080/"
        },
        "id": "20d51d72",
        "outputId": "03925faf-ce40-40a7-f573-4228a1a82a01"
      },
      "source": [
        "# Building the one-hot encoder model\n",
        "enc = sklearn.preprocessing.OneHotEncoder(handle_unknown=\"ignore\")\n",
        "enc.fit(x_train)\n",
        "\n",
        "# Encoding the categorical attriutes of training data\n",
        "x_train = enc.transform(x_train)\n",
        "\n",
        "# Encoding the categorical attriutes of test data\n",
        "x_test = enc.transform(x_test)\n",
        "\n",
        "print(\"x_train:\", x_train.shape)\n",
        "print(\"x_test:\", x_test.shape)"
      ],
      "id": "20d51d72",
      "execution_count": null,
      "outputs": [
        {
          "output_type": "stream",
          "name": "stdout",
          "text": [
            "x_train: (12455, 10610)\n",
            "x_test: (4152, 10610)\n"
          ]
        }
      ]
    },
    {
      "cell_type": "markdown",
      "metadata": {
        "id": "6b27febb"
      },
      "source": [
        "## Standardization"
      ],
      "id": "6b27febb"
    },
    {
      "cell_type": "code",
      "metadata": {
        "colab": {
          "base_uri": "https://localhost:8080/"
        },
        "id": "f528113b",
        "outputId": "ef31a6e5-fbf4-4c7c-9c9a-0c73a5a60c18"
      },
      "source": [
        "# Building a standardization model\n",
        "scaler = sklearn.preprocessing.StandardScaler(with_mean=False)\n",
        "scaler.fit(x_train)\n",
        "\n",
        "# scaling the training features\n",
        "x_train = scaler.transform(x_train)\n",
        "\n",
        "# Reducing the number of test features\n",
        "x_test = scaler.transform(x_test)\n",
        "\n",
        "print(\"x_train:\", x_train.shape)\n",
        "print(\"x_test:\", x_test.shape)"
      ],
      "id": "f528113b",
      "execution_count": null,
      "outputs": [
        {
          "output_type": "stream",
          "name": "stdout",
          "text": [
            "x_train: (12455, 10610)\n",
            "x_test: (4152, 10610)\n"
          ]
        }
      ]
    },
    {
      "cell_type": "markdown",
      "metadata": {
        "id": "YTzo_q4x25dv"
      },
      "source": [
        "## Feature Reduction"
      ],
      "id": "YTzo_q4x25dv"
    },
    {
      "cell_type": "code",
      "metadata": {
        "colab": {
          "base_uri": "https://localhost:8080/"
        },
        "id": "YqvSO_aA24vl",
        "outputId": "e710bd44-c413-4541-abe2-01db37259f28"
      },
      "source": [
        "# Building a PCA model\n",
        "pca = sklearn.decomposition.PCA(n_components=1000)\n",
        "pca.fit(x_train.toarray())\n",
        "\n",
        "# Reducing the number of training features\n",
        "x_train = pca.transform(x_train.toarray())\n",
        "\n",
        "# Reducing the number of test features\n",
        "x_test = pca.transform(x_test.toarray())\n",
        "\n",
        "print(\"x_train:\", x_train.shape)\n",
        "print(\"x_test:\", x_test.shape)"
      ],
      "id": "YqvSO_aA24vl",
      "execution_count": null,
      "outputs": [
        {
          "output_type": "stream",
          "name": "stdout",
          "text": [
            "x_train: (12455, 1000)\n",
            "x_test: (4152, 1000)\n"
          ]
        }
      ]
    },
    {
      "cell_type": "markdown",
      "metadata": {
        "id": "f480b519"
      },
      "source": [
        "## Training a Model"
      ],
      "id": "f480b519"
    },
    {
      "cell_type": "code",
      "metadata": {
        "id": "1f162ed4"
      },
      "source": [
        "model = sklearn.svm.SVC()\n",
        "model.fit(x_train, y_train);"
      ],
      "id": "1f162ed4",
      "execution_count": null,
      "outputs": []
    },
    {
      "cell_type": "markdown",
      "metadata": {
        "id": "7dbbedce"
      },
      "source": [
        "## Test the Model"
      ],
      "id": "7dbbedce"
    },
    {
      "cell_type": "code",
      "metadata": {
        "colab": {
          "base_uri": "https://localhost:8080/"
        },
        "id": "ea86073f",
        "outputId": "558b55e2-afd1-4d0a-e306-230b4ffa1f9f"
      },
      "source": [
        "y_predicted = model.predict(x_test)\n",
        "accuracy = sklearn.metrics.accuracy_score(y_test, y_predicted)\n",
        "accuracy"
      ],
      "id": "ea86073f",
      "execution_count": null,
      "outputs": [
        {
          "output_type": "execute_result",
          "data": {
            "text/plain": [
              "0.8542870905587668"
            ]
          },
          "metadata": {},
          "execution_count": 11
        }
      ]
    },
    {
      "cell_type": "markdown",
      "metadata": {
        "id": "OHOeOGB34r_g"
      },
      "source": [
        "## Hyperparameter Tuning"
      ],
      "id": "OHOeOGB34r_g"
    },
    {
      "cell_type": "code",
      "metadata": {
        "colab": {
          "base_uri": "https://localhost:8080/"
        },
        "id": "sqlmnrtt4wQF",
        "outputId": "59b59330-7db3-463e-8ade-6a22beb76729"
      },
      "source": [
        "n_component_list = [10, 1000, 10000]\n",
        "result_df = pd.DataFrame(columns=[\"N\", \"Accuracy\"])\n",
        "\n",
        "x = df.drop([\"target\"], axis=1)\n",
        "y = df[\"target\"]\n",
        "x_train, x_test, y_train, y_test = sklearn.model_selection.train_test_split(x, y)\n",
        "\n",
        "# Building the one-hot encoder model\n",
        "enc = sklearn.preprocessing.OneHotEncoder(handle_unknown=\"ignore\")\n",
        "enc.fit(x_train)\n",
        "\n",
        "# Encoding the categorical attriutes of training data\n",
        "x_train = enc.transform(x_train).toarray()\n",
        "\n",
        "# Encoding the categorical attriutes of test data\n",
        "x_test = enc.transform(x_test).toarray()\n",
        "\n",
        "for n in n_component_list:\n",
        "  \n",
        "  # Building a PCA model\n",
        "  pca = sklearn.decomposition.PCA(n_components=n)\n",
        "  pca.fit(x_train)\n",
        "\n",
        "  # Reducing the number of training features\n",
        "  x_train_ = pca.transform(x_train)\n",
        "\n",
        "  # Reducing the number of test features\n",
        "  x_test_ = pca.transform(x_test)\n",
        "\n",
        "  # Training a model\n",
        "  model = sklearn.svm.SVC()\n",
        "  model.fit(x_train_, y_train);\n",
        "\n",
        "  # Testing the Model\n",
        "  y_predicted = model.predict(x_test_)\n",
        "  accuracy = sklearn.metrics.accuracy_score(y_test, y_predicted)\n",
        "\n",
        "  result_df = result_df.append({\"N\": n, \"Accuracy\": accuracy}, ignore_index=True)\n",
        "\n",
        "result_df"
      ],
      "id": "sqlmnrtt4wQF",
      "execution_count": null,
      "outputs": [
        {
          "output_type": "execute_result",
          "data": {
            "text/html": [
              "<div>\n",
              "<style scoped>\n",
              "    .dataframe tbody tr th:only-of-type {\n",
              "        vertical-align: middle;\n",
              "    }\n",
              "\n",
              "    .dataframe tbody tr th {\n",
              "        vertical-align: top;\n",
              "    }\n",
              "\n",
              "    .dataframe thead th {\n",
              "        text-align: right;\n",
              "    }\n",
              "</style>\n",
              "<table border=\"1\" class=\"dataframe\">\n",
              "  <thead>\n",
              "    <tr style=\"text-align: right;\">\n",
              "      <th></th>\n",
              "      <th>N</th>\n",
              "      <th>Accuracy</th>\n",
              "    </tr>\n",
              "  </thead>\n",
              "  <tbody>\n",
              "    <tr>\n",
              "      <th>0</th>\n",
              "      <td>10.0</td>\n",
              "      <td>0.823699</td>\n",
              "    </tr>\n",
              "    <tr>\n",
              "      <th>1</th>\n",
              "      <td>1000.0</td>\n",
              "      <td>0.857177</td>\n",
              "    </tr>\n",
              "    <tr>\n",
              "      <th>2</th>\n",
              "      <td>10000.0</td>\n",
              "      <td>0.858382</td>\n",
              "    </tr>\n",
              "  </tbody>\n",
              "</table>\n",
              "</div>"
            ],
            "text/plain": [
              "         N  Accuracy\n",
              "0     10.0  0.823699\n",
              "1   1000.0  0.857177\n",
              "2  10000.0  0.858382"
            ]
          },
          "metadata": {},
          "execution_count": 18
        }
      ]
    }
  ]
}