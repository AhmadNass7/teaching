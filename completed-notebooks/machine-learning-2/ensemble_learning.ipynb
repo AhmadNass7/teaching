{
 "cells": [
  {
   "cell_type": "markdown",
   "id": "6dd604a0",
   "metadata": {},
   "source": [
    "# Ensemble Learning\n",
    "Load the `mnist` dataset. Split it into training and test sets. Train and test an ensemble method, such as random forest or a gradient boosting model, using scikit-learn. Check the documentation to identify the most important hyperparameters, attributes, and methods of the model. Use them in practice."
   ]
  },
  {
   "cell_type": "markdown",
   "id": "b3da31bf",
   "metadata": {},
   "source": [
    "## Importing Modules"
   ]
  },
  {
   "cell_type": "code",
   "execution_count": 1,
   "id": "5b4a1207",
   "metadata": {},
   "outputs": [],
   "source": [
    "import pandas as pd\n",
    "import sklearn.metrics\n",
    "import sklearn.ensemble\n",
    "import sklearn.model_selection\n",
    "import plotly.express as px"
   ]
  },
  {
   "cell_type": "markdown",
   "id": "c75a3284",
   "metadata": {},
   "source": [
    "## Loading the Dataset"
   ]
  },
  {
   "cell_type": "code",
   "execution_count": 2,
   "id": "5f0d6745",
   "metadata": {},
   "outputs": [
    {
     "data": {
      "text/html": [
       "<div>\n",
       "<style scoped>\n",
       "    .dataframe tbody tr th:only-of-type {\n",
       "        vertical-align: middle;\n",
       "    }\n",
       "\n",
       "    .dataframe tbody tr th {\n",
       "        vertical-align: top;\n",
       "    }\n",
       "\n",
       "    .dataframe thead th {\n",
       "        text-align: right;\n",
       "    }\n",
       "</style>\n",
       "<table border=\"1\" class=\"dataframe\">\n",
       "  <thead>\n",
       "    <tr style=\"text-align: right;\">\n",
       "      <th></th>\n",
       "      <th>class</th>\n",
       "      <th>pixel1</th>\n",
       "      <th>pixel2</th>\n",
       "      <th>pixel3</th>\n",
       "      <th>pixel4</th>\n",
       "      <th>pixel5</th>\n",
       "      <th>pixel6</th>\n",
       "      <th>pixel7</th>\n",
       "      <th>pixel8</th>\n",
       "      <th>pixel9</th>\n",
       "      <th>...</th>\n",
       "      <th>pixel775</th>\n",
       "      <th>pixel776</th>\n",
       "      <th>pixel777</th>\n",
       "      <th>pixel778</th>\n",
       "      <th>pixel779</th>\n",
       "      <th>pixel780</th>\n",
       "      <th>pixel781</th>\n",
       "      <th>pixel782</th>\n",
       "      <th>pixel783</th>\n",
       "      <th>pixel784</th>\n",
       "    </tr>\n",
       "    <tr>\n",
       "      <th>id</th>\n",
       "      <th></th>\n",
       "      <th></th>\n",
       "      <th></th>\n",
       "      <th></th>\n",
       "      <th></th>\n",
       "      <th></th>\n",
       "      <th></th>\n",
       "      <th></th>\n",
       "      <th></th>\n",
       "      <th></th>\n",
       "      <th></th>\n",
       "      <th></th>\n",
       "      <th></th>\n",
       "      <th></th>\n",
       "      <th></th>\n",
       "      <th></th>\n",
       "      <th></th>\n",
       "      <th></th>\n",
       "      <th></th>\n",
       "      <th></th>\n",
       "      <th></th>\n",
       "    </tr>\n",
       "  </thead>\n",
       "  <tbody>\n",
       "    <tr>\n",
       "      <th>31953</th>\n",
       "      <td>5</td>\n",
       "      <td>0</td>\n",
       "      <td>0</td>\n",
       "      <td>0</td>\n",
       "      <td>0</td>\n",
       "      <td>0</td>\n",
       "      <td>0</td>\n",
       "      <td>0</td>\n",
       "      <td>0</td>\n",
       "      <td>0</td>\n",
       "      <td>...</td>\n",
       "      <td>0</td>\n",
       "      <td>0</td>\n",
       "      <td>0</td>\n",
       "      <td>0</td>\n",
       "      <td>0</td>\n",
       "      <td>0</td>\n",
       "      <td>0</td>\n",
       "      <td>0</td>\n",
       "      <td>0</td>\n",
       "      <td>0</td>\n",
       "    </tr>\n",
       "    <tr>\n",
       "      <th>34452</th>\n",
       "      <td>8</td>\n",
       "      <td>0</td>\n",
       "      <td>0</td>\n",
       "      <td>0</td>\n",
       "      <td>0</td>\n",
       "      <td>0</td>\n",
       "      <td>0</td>\n",
       "      <td>0</td>\n",
       "      <td>0</td>\n",
       "      <td>0</td>\n",
       "      <td>...</td>\n",
       "      <td>0</td>\n",
       "      <td>0</td>\n",
       "      <td>0</td>\n",
       "      <td>0</td>\n",
       "      <td>0</td>\n",
       "      <td>0</td>\n",
       "      <td>0</td>\n",
       "      <td>0</td>\n",
       "      <td>0</td>\n",
       "      <td>0</td>\n",
       "    </tr>\n",
       "    <tr>\n",
       "      <th>60897</th>\n",
       "      <td>5</td>\n",
       "      <td>0</td>\n",
       "      <td>0</td>\n",
       "      <td>0</td>\n",
       "      <td>0</td>\n",
       "      <td>0</td>\n",
       "      <td>0</td>\n",
       "      <td>0</td>\n",
       "      <td>0</td>\n",
       "      <td>0</td>\n",
       "      <td>...</td>\n",
       "      <td>0</td>\n",
       "      <td>0</td>\n",
       "      <td>0</td>\n",
       "      <td>0</td>\n",
       "      <td>0</td>\n",
       "      <td>0</td>\n",
       "      <td>0</td>\n",
       "      <td>0</td>\n",
       "      <td>0</td>\n",
       "      <td>0</td>\n",
       "    </tr>\n",
       "  </tbody>\n",
       "</table>\n",
       "<p>3 rows × 785 columns</p>\n",
       "</div>"
      ],
      "text/plain": [
       "       class  pixel1  pixel2  pixel3  pixel4  pixel5  pixel6  pixel7  pixel8  \\\n",
       "id                                                                             \n",
       "31953      5       0       0       0       0       0       0       0       0   \n",
       "34452      8       0       0       0       0       0       0       0       0   \n",
       "60897      5       0       0       0       0       0       0       0       0   \n",
       "\n",
       "       pixel9  ...  pixel775  pixel776  pixel777  pixel778  pixel779  \\\n",
       "id             ...                                                     \n",
       "31953       0  ...         0         0         0         0         0   \n",
       "34452       0  ...         0         0         0         0         0   \n",
       "60897       0  ...         0         0         0         0         0   \n",
       "\n",
       "       pixel780  pixel781  pixel782  pixel783  pixel784  \n",
       "id                                                       \n",
       "31953         0         0         0         0         0  \n",
       "34452         0         0         0         0         0  \n",
       "60897         0         0         0         0         0  \n",
       "\n",
       "[3 rows x 785 columns]"
      ]
     },
     "execution_count": 2,
     "metadata": {},
     "output_type": "execute_result"
    }
   ],
   "source": [
    "df = pd.read_csv(\"../../datasets/mnist.csv\")\n",
    "df = df.set_index(\"id\")\n",
    "df.head(3)"
   ]
  },
  {
   "cell_type": "markdown",
   "id": "470d4f77",
   "metadata": {},
   "source": [
    "## Splitting the Data into Training and Test Sets"
   ]
  },
  {
   "cell_type": "code",
   "execution_count": 3,
   "id": "7496959e",
   "metadata": {},
   "outputs": [],
   "source": [
    "x = df.drop([\"class\"], axis=1)\n",
    "y = df[\"class\"]\n",
    "x_train, x_test, y_train, y_test = sklearn.model_selection.train_test_split(x, y)"
   ]
  },
  {
   "cell_type": "markdown",
   "id": "27ae7813",
   "metadata": {},
   "source": [
    "## Model Selection and Hyperparameter Tuning"
   ]
  },
  {
   "cell_type": "code",
   "execution_count": 4,
   "id": "bbd1254d",
   "metadata": {},
   "outputs": [
    {
     "name": "stdout",
     "output_type": "stream",
     "text": [
      "Accuracy of best Random Forest classfier = 0.93\n",
      "Best found hyperparameters of Random Forest classfier = {'criterion': 'gini', 'n_estimators': 250}\n",
      "Accuracy of best Gradient Boosting classfier = 0.92\n",
      "Best found hyperparameters of Gradient Boosting classifier = {'learning_rate': 0.2, 'n_estimators': 250}\n"
     ]
    }
   ],
   "source": [
    "# Random Forest --------------------\n",
    "parameters_grid = {\n",
    "    \"criterion\": [\"gini\", \"entropy\"], \n",
    "    \"n_estimators\": range(50, 260, 50), # [50, 100, 150, 200, 250]\n",
    "}\n",
    "model_1 = sklearn.model_selection.GridSearchCV(sklearn.ensemble.RandomForestClassifier(), \n",
    "                                               parameters_grid, scoring=\"accuracy\", cv=5, n_jobs=-1)\n",
    "model_1.fit(x_train, y_train)\n",
    "print(\"Accuracy of best Random Forest classfier = {:.2f}\".format(model_1.best_score_))\n",
    "print(\"Best found hyperparameters of Random Forest classfier = {}\".format(model_1.best_params_))\n",
    "# -----------------------------------\n",
    "\n",
    "# Gradient Boosting -------------------------------\n",
    "parameters_grid = {\n",
    "    \"learning_rate\": [0.01, 0.05, 0.1, 0.15, 0.2], \n",
    "    \"n_estimators\": range(50, 260, 50),\n",
    "}\n",
    "model_2 = sklearn.model_selection.GridSearchCV(sklearn.ensemble.GradientBoostingClassifier(), \n",
    "                                               parameters_grid, scoring=\"accuracy\", cv=5, n_jobs=-1)\n",
    "model_2.fit(x_train, y_train)\n",
    "print(\"Accuracy of best Gradient Boosting classfier = {:.2f}\".format(model_2.best_score_))\n",
    "print(\"Best found hyperparameters of Gradient Boosting classifier = {}\".format(model_2.best_params_))\n",
    "# -----------------------------------"
   ]
  },
  {
   "cell_type": "markdown",
   "id": "69d637e3",
   "metadata": {},
   "source": [
    "## Testing the Best Model"
   ]
  },
  {
   "cell_type": "code",
   "execution_count": 5,
   "id": "0daae7d3",
   "metadata": {},
   "outputs": [
    {
     "name": "stdout",
     "output_type": "stream",
     "text": [
      "Accuracy = 0.932\n",
      "Precision = [0.98019802 0.95833333 0.94565217 0.89690722 0.94791667 0.89583333\n",
      " 0.9375     0.91891892 0.93617021 0.89690722]\n",
      "Recall = [0.99       0.97457627 0.92553191 0.89690722 0.91919192 0.86\n",
      " 0.92783505 0.94444444 0.91666667 0.95604396]\n",
      "F1-Score = [0.98507463 0.96638655 0.93548387 0.89690722 0.93333333 0.87755102\n",
      " 0.93264249 0.93150685 0.92631579 0.92553191]\n",
      "Confusion Matrix:\n",
      " [[ 99   0   0   0   0   0   0   0   1   0]\n",
      " [  0 115   0   0   0   2   0   0   1   0]\n",
      " [  0   0  87   1   1   0   1   4   0   0]\n",
      " [  1   0   2  87   0   3   1   1   1   1]\n",
      " [  0   0   0   0  91   0   0   1   1   6]\n",
      " [  1   1   0   6   1  86   3   1   0   1]\n",
      " [  0   1   1   0   0   4  90   0   1   0]\n",
      " [  0   1   1   0   2   0   0 102   1   1]\n",
      " [  0   2   1   2   0   1   1   0  88   1]\n",
      " [  0   0   0   1   1   0   0   2   0  87]]\n"
     ]
    }
   ],
   "source": [
    "y_predicted = model_1.predict(x_test)\n",
    "accuracy = sklearn.metrics.accuracy_score(y_test, y_predicted)\n",
    "cm = sklearn.metrics.confusion_matrix(y_test, y_predicted)\n",
    "precision, recall, f1, support = sklearn.metrics.precision_recall_fscore_support(y_test, y_predicted)\n",
    "\n",
    "print(\"Accuracy =\", accuracy)\n",
    "print(\"Precision =\", precision)\n",
    "print(\"Recall =\", recall)\n",
    "print(\"F1-Score =\", f1)\n",
    "print(\"Confusion Matrix:\\n\", cm)"
   ]
  },
  {
   "cell_type": "code",
   "execution_count": null,
   "id": "b878dbd3",
   "metadata": {},
   "outputs": [],
   "source": []
  }
 ],
 "metadata": {
  "kernelspec": {
   "display_name": "Python 3 (ipykernel)",
   "language": "python",
   "name": "python3"
  },
  "language_info": {
   "codemirror_mode": {
    "name": "ipython",
    "version": 3
   },
   "file_extension": ".py",
   "mimetype": "text/x-python",
   "name": "python",
   "nbconvert_exporter": "python",
   "pygments_lexer": "ipython3",
   "version": "3.8.12"
  }
 },
 "nbformat": 4,
 "nbformat_minor": 5
}
