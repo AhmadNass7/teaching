{
 "cells": [
  {
   "cell_type": "markdown",
   "id": "korean-wednesday",
   "metadata": {},
   "source": [
    "# Deep Neural Networks\n",
    "Load the `mnist` dataset. Split it into training and test sets. Train and test a deep neural network model using Keras and TensorFlow. Check the documentation and sample codes to identify the most promising architectures and hyperparameters. Tune your model."
   ]
  },
  {
   "cell_type": "markdown",
   "id": "efcc6464",
   "metadata": {},
   "source": [
    "## Importing Modules"
   ]
  },
  {
   "cell_type": "code",
   "execution_count": 15,
   "id": "1f8112af",
   "metadata": {},
   "outputs": [],
   "source": [
    "import numpy as np\n",
    "import pandas as pd\n",
    "import sklearn.metrics\n",
    "import sklearn.model_selection\n",
    "from tensorflow import keras\n",
    "from tensorflow.keras import layers"
   ]
  },
  {
   "cell_type": "markdown",
   "id": "c3e4c46d",
   "metadata": {},
   "source": [
    "## Loading the Dataset"
   ]
  },
  {
   "cell_type": "code",
   "execution_count": 16,
   "id": "58f8aebd",
   "metadata": {},
   "outputs": [
    {
     "data": {
      "text/html": [
       "<div>\n",
       "<style scoped>\n",
       "    .dataframe tbody tr th:only-of-type {\n",
       "        vertical-align: middle;\n",
       "    }\n",
       "\n",
       "    .dataframe tbody tr th {\n",
       "        vertical-align: top;\n",
       "    }\n",
       "\n",
       "    .dataframe thead th {\n",
       "        text-align: right;\n",
       "    }\n",
       "</style>\n",
       "<table border=\"1\" class=\"dataframe\">\n",
       "  <thead>\n",
       "    <tr style=\"text-align: right;\">\n",
       "      <th></th>\n",
       "      <th>class</th>\n",
       "      <th>pixel1</th>\n",
       "      <th>pixel2</th>\n",
       "      <th>pixel3</th>\n",
       "      <th>pixel4</th>\n",
       "      <th>pixel5</th>\n",
       "      <th>pixel6</th>\n",
       "      <th>pixel7</th>\n",
       "      <th>pixel8</th>\n",
       "      <th>pixel9</th>\n",
       "      <th>...</th>\n",
       "      <th>pixel775</th>\n",
       "      <th>pixel776</th>\n",
       "      <th>pixel777</th>\n",
       "      <th>pixel778</th>\n",
       "      <th>pixel779</th>\n",
       "      <th>pixel780</th>\n",
       "      <th>pixel781</th>\n",
       "      <th>pixel782</th>\n",
       "      <th>pixel783</th>\n",
       "      <th>pixel784</th>\n",
       "    </tr>\n",
       "    <tr>\n",
       "      <th>id</th>\n",
       "      <th></th>\n",
       "      <th></th>\n",
       "      <th></th>\n",
       "      <th></th>\n",
       "      <th></th>\n",
       "      <th></th>\n",
       "      <th></th>\n",
       "      <th></th>\n",
       "      <th></th>\n",
       "      <th></th>\n",
       "      <th></th>\n",
       "      <th></th>\n",
       "      <th></th>\n",
       "      <th></th>\n",
       "      <th></th>\n",
       "      <th></th>\n",
       "      <th></th>\n",
       "      <th></th>\n",
       "      <th></th>\n",
       "      <th></th>\n",
       "      <th></th>\n",
       "    </tr>\n",
       "  </thead>\n",
       "  <tbody>\n",
       "    <tr>\n",
       "      <th>31953</th>\n",
       "      <td>5</td>\n",
       "      <td>0</td>\n",
       "      <td>0</td>\n",
       "      <td>0</td>\n",
       "      <td>0</td>\n",
       "      <td>0</td>\n",
       "      <td>0</td>\n",
       "      <td>0</td>\n",
       "      <td>0</td>\n",
       "      <td>0</td>\n",
       "      <td>...</td>\n",
       "      <td>0</td>\n",
       "      <td>0</td>\n",
       "      <td>0</td>\n",
       "      <td>0</td>\n",
       "      <td>0</td>\n",
       "      <td>0</td>\n",
       "      <td>0</td>\n",
       "      <td>0</td>\n",
       "      <td>0</td>\n",
       "      <td>0</td>\n",
       "    </tr>\n",
       "    <tr>\n",
       "      <th>34452</th>\n",
       "      <td>8</td>\n",
       "      <td>0</td>\n",
       "      <td>0</td>\n",
       "      <td>0</td>\n",
       "      <td>0</td>\n",
       "      <td>0</td>\n",
       "      <td>0</td>\n",
       "      <td>0</td>\n",
       "      <td>0</td>\n",
       "      <td>0</td>\n",
       "      <td>...</td>\n",
       "      <td>0</td>\n",
       "      <td>0</td>\n",
       "      <td>0</td>\n",
       "      <td>0</td>\n",
       "      <td>0</td>\n",
       "      <td>0</td>\n",
       "      <td>0</td>\n",
       "      <td>0</td>\n",
       "      <td>0</td>\n",
       "      <td>0</td>\n",
       "    </tr>\n",
       "    <tr>\n",
       "      <th>60897</th>\n",
       "      <td>5</td>\n",
       "      <td>0</td>\n",
       "      <td>0</td>\n",
       "      <td>0</td>\n",
       "      <td>0</td>\n",
       "      <td>0</td>\n",
       "      <td>0</td>\n",
       "      <td>0</td>\n",
       "      <td>0</td>\n",
       "      <td>0</td>\n",
       "      <td>...</td>\n",
       "      <td>0</td>\n",
       "      <td>0</td>\n",
       "      <td>0</td>\n",
       "      <td>0</td>\n",
       "      <td>0</td>\n",
       "      <td>0</td>\n",
       "      <td>0</td>\n",
       "      <td>0</td>\n",
       "      <td>0</td>\n",
       "      <td>0</td>\n",
       "    </tr>\n",
       "  </tbody>\n",
       "</table>\n",
       "<p>3 rows × 785 columns</p>\n",
       "</div>"
      ],
      "text/plain": [
       "       class  pixel1  pixel2  pixel3  pixel4  pixel5  pixel6  pixel7  pixel8  \\\n",
       "id                                                                             \n",
       "31953      5       0       0       0       0       0       0       0       0   \n",
       "34452      8       0       0       0       0       0       0       0       0   \n",
       "60897      5       0       0       0       0       0       0       0       0   \n",
       "\n",
       "       pixel9  ...  pixel775  pixel776  pixel777  pixel778  pixel779  \\\n",
       "id             ...                                                     \n",
       "31953       0  ...         0         0         0         0         0   \n",
       "34452       0  ...         0         0         0         0         0   \n",
       "60897       0  ...         0         0         0         0         0   \n",
       "\n",
       "       pixel780  pixel781  pixel782  pixel783  pixel784  \n",
       "id                                                       \n",
       "31953         0         0         0         0         0  \n",
       "34452         0         0         0         0         0  \n",
       "60897         0         0         0         0         0  \n",
       "\n",
       "[3 rows x 785 columns]"
      ]
     },
     "execution_count": 16,
     "metadata": {},
     "output_type": "execute_result"
    }
   ],
   "source": [
    "df = pd.read_csv(\"../../datasets/mnist.csv\")\n",
    "df = df.set_index(\"id\")\n",
    "df.head(3)"
   ]
  },
  {
   "cell_type": "markdown",
   "id": "90cc7478",
   "metadata": {},
   "source": [
    "## Splitting the Data into Training and Test"
   ]
  },
  {
   "cell_type": "code",
   "execution_count": 17,
   "id": "67836c38",
   "metadata": {},
   "outputs": [],
   "source": [
    "x = df.drop([\"class\"], axis=1)\n",
    "y = df[\"class\"]\n",
    "x_train, x_test, y_train, y_test = sklearn.model_selection.train_test_split(x, y)"
   ]
  },
  {
   "cell_type": "markdown",
   "id": "78dad269",
   "metadata": {},
   "source": [
    "## Preparing the Data"
   ]
  },
  {
   "cell_type": "code",
   "execution_count": 18,
   "id": "acee8dbf",
   "metadata": {},
   "outputs": [
    {
     "name": "stdout",
     "output_type": "stream",
     "text": [
      "x_train shape: (3000, 28, 28, 1)\n",
      "3000 train samples\n",
      "1000 test samples\n"
     ]
    }
   ],
   "source": [
    "# Reshaping the data\n",
    "x_train = x_train.to_numpy().reshape(x_train.shape[0], 28, 28, 1)\n",
    "x_test = x_test.to_numpy().reshape(x_test.shape[0], 28, 28, 1)\n",
    "\n",
    "# Model / data parameters\n",
    "num_classes = 10\n",
    "input_shape = (28, 28, 1)\n",
    "\n",
    "# Scale images to the [0, 1] range\n",
    "x_train = x_train.astype(\"float32\") / 255\n",
    "x_test = x_test.astype(\"float32\") / 255\n",
    "\n",
    "# convert class vectors to binary class matrices\n",
    "y_train = keras.utils.to_categorical(y_train, num_classes)\n",
    "y_test = keras.utils.to_categorical(y_test, num_classes)\n",
    "\n",
    "print(\"x_train shape:\", x_train.shape)\n",
    "print(x_train.shape[0], \"train samples\")\n",
    "print(x_test.shape[0], \"test samples\")"
   ]
  },
  {
   "cell_type": "markdown",
   "id": "3d317b5e",
   "metadata": {},
   "source": [
    "## Building the Model"
   ]
  },
  {
   "cell_type": "code",
   "execution_count": 19,
   "id": "8f571899",
   "metadata": {},
   "outputs": [
    {
     "name": "stdout",
     "output_type": "stream",
     "text": [
      "Model: \"sequential_2\"\n",
      "_________________________________________________________________\n",
      "Layer (type)                 Output Shape              Param #   \n",
      "=================================================================\n",
      "conv2d_4 (Conv2D)            (None, 26, 26, 32)        320       \n",
      "_________________________________________________________________\n",
      "max_pooling2d_4 (MaxPooling2 (None, 13, 13, 32)        0         \n",
      "_________________________________________________________________\n",
      "conv2d_5 (Conv2D)            (None, 11, 11, 64)        18496     \n",
      "_________________________________________________________________\n",
      "max_pooling2d_5 (MaxPooling2 (None, 5, 5, 64)          0         \n",
      "_________________________________________________________________\n",
      "flatten_2 (Flatten)          (None, 1600)              0         \n",
      "_________________________________________________________________\n",
      "dropout_2 (Dropout)          (None, 1600)              0         \n",
      "_________________________________________________________________\n",
      "batch_normalization_2 (Batch (None, 1600)              6400      \n",
      "_________________________________________________________________\n",
      "dense_4 (Dense)              (None, 10)                16010     \n",
      "=================================================================\n",
      "Total params: 41,226\n",
      "Trainable params: 38,026\n",
      "Non-trainable params: 3,200\n",
      "_________________________________________________________________\n"
     ]
    }
   ],
   "source": [
    "model = keras.Sequential()\n",
    "\n",
    "model.add(keras.Input(shape=input_shape))\n",
    "model.add(layers.Conv2D(32, kernel_size=(3, 3), activation=\"relu\"))\n",
    "model.add(layers.MaxPooling2D(pool_size=(2, 2)))\n",
    "model.add(layers.Conv2D(64, kernel_size=(3, 3), activation=\"relu\"))\n",
    "model.add(layers.MaxPooling2D(pool_size=(2, 2)))\n",
    "model.add(layers.Flatten())\n",
    "model.add(layers.Dropout(0.5))\n",
    "model.add(keras.layers.BatchNormalization())\n",
    "model.add(layers.Dense(num_classes, activation=\"softmax\"))\n",
    "\n",
    "model.summary()"
   ]
  },
  {
   "cell_type": "markdown",
   "id": "07b882d2",
   "metadata": {},
   "source": [
    "## Training the Model"
   ]
  },
  {
   "cell_type": "code",
   "execution_count": 20,
   "id": "9a7c4215",
   "metadata": {},
   "outputs": [
    {
     "name": "stdout",
     "output_type": "stream",
     "text": [
      "Epoch 1/25\n",
      "22/22 [==============================] - 1s 16ms/step - loss: 1.4241 - accuracy: 0.5381 - val_loss: 2.0148 - val_accuracy: 0.3800\n",
      "Epoch 2/25\n",
      "22/22 [==============================] - 0s 11ms/step - loss: 0.4842 - accuracy: 0.8530 - val_loss: 1.8521 - val_accuracy: 0.5300\n",
      "Epoch 3/25\n",
      "22/22 [==============================] - 0s 11ms/step - loss: 0.3049 - accuracy: 0.9111 - val_loss: 1.7311 - val_accuracy: 0.6267\n",
      "Epoch 4/25\n",
      "22/22 [==============================] - 0s 11ms/step - loss: 0.2328 - accuracy: 0.9304 - val_loss: 1.6094 - val_accuracy: 0.7700\n",
      "Epoch 5/25\n",
      "22/22 [==============================] - 0s 11ms/step - loss: 0.1877 - accuracy: 0.9467 - val_loss: 1.4623 - val_accuracy: 0.8100\n",
      "Epoch 6/25\n",
      "22/22 [==============================] - 0s 11ms/step - loss: 0.1516 - accuracy: 0.9541 - val_loss: 1.3252 - val_accuracy: 0.8833\n",
      "Epoch 7/25\n",
      "22/22 [==============================] - 0s 11ms/step - loss: 0.1422 - accuracy: 0.9563 - val_loss: 1.2092 - val_accuracy: 0.9033\n",
      "Epoch 8/25\n",
      "22/22 [==============================] - 0s 11ms/step - loss: 0.1261 - accuracy: 0.9656 - val_loss: 1.0790 - val_accuracy: 0.9200\n",
      "Epoch 9/25\n",
      "22/22 [==============================] - 0s 11ms/step - loss: 0.1025 - accuracy: 0.9700 - val_loss: 0.9159 - val_accuracy: 0.9433\n",
      "Epoch 10/25\n",
      "22/22 [==============================] - 0s 11ms/step - loss: 0.0962 - accuracy: 0.9719 - val_loss: 0.8197 - val_accuracy: 0.9433\n",
      "Epoch 11/25\n",
      "22/22 [==============================] - 0s 11ms/step - loss: 0.0834 - accuracy: 0.9759 - val_loss: 0.6953 - val_accuracy: 0.9567\n",
      "Epoch 12/25\n",
      "22/22 [==============================] - 0s 11ms/step - loss: 0.0808 - accuracy: 0.9804 - val_loss: 0.5491 - val_accuracy: 0.9700\n",
      "Epoch 13/25\n",
      "22/22 [==============================] - 0s 11ms/step - loss: 0.0775 - accuracy: 0.9767 - val_loss: 0.4915 - val_accuracy: 0.9567\n",
      "Epoch 14/25\n",
      "22/22 [==============================] - 0s 11ms/step - loss: 0.0642 - accuracy: 0.9830 - val_loss: 0.3929 - val_accuracy: 0.9733\n",
      "Epoch 15/25\n",
      "22/22 [==============================] - 0s 11ms/step - loss: 0.0680 - accuracy: 0.9826 - val_loss: 0.3278 - val_accuracy: 0.9567\n",
      "Epoch 16/25\n",
      "22/22 [==============================] - 0s 11ms/step - loss: 0.0634 - accuracy: 0.9856 - val_loss: 0.2931 - val_accuracy: 0.9633\n",
      "Epoch 17/25\n",
      "22/22 [==============================] - 0s 11ms/step - loss: 0.0526 - accuracy: 0.9881 - val_loss: 0.2046 - val_accuracy: 0.9700\n",
      "Epoch 18/25\n",
      "22/22 [==============================] - 0s 11ms/step - loss: 0.0522 - accuracy: 0.9859 - val_loss: 0.1806 - val_accuracy: 0.9700\n",
      "Epoch 19/25\n",
      "22/22 [==============================] - 0s 11ms/step - loss: 0.0454 - accuracy: 0.9889 - val_loss: 0.1555 - val_accuracy: 0.9767\n",
      "Epoch 20/25\n",
      "22/22 [==============================] - 0s 11ms/step - loss: 0.0400 - accuracy: 0.9926 - val_loss: 0.1332 - val_accuracy: 0.9800\n",
      "Epoch 21/25\n",
      "22/22 [==============================] - 0s 11ms/step - loss: 0.0424 - accuracy: 0.9881 - val_loss: 0.1201 - val_accuracy: 0.9767\n",
      "Epoch 22/25\n",
      "22/22 [==============================] - 0s 11ms/step - loss: 0.0364 - accuracy: 0.9904 - val_loss: 0.1195 - val_accuracy: 0.9800\n",
      "Epoch 23/25\n",
      "22/22 [==============================] - 0s 11ms/step - loss: 0.0309 - accuracy: 0.9937 - val_loss: 0.1077 - val_accuracy: 0.9833\n",
      "Epoch 24/25\n",
      "22/22 [==============================] - 0s 11ms/step - loss: 0.0276 - accuracy: 0.9944 - val_loss: 0.1053 - val_accuracy: 0.9767\n",
      "Epoch 25/25\n",
      "22/22 [==============================] - 0s 11ms/step - loss: 0.0322 - accuracy: 0.9930 - val_loss: 0.1072 - val_accuracy: 0.9767\n"
     ]
    },
    {
     "data": {
      "text/plain": [
       "<keras.callbacks.History at 0x7f6eec371520>"
      ]
     },
     "execution_count": 20,
     "metadata": {},
     "output_type": "execute_result"
    }
   ],
   "source": [
    "batch_size = 128\n",
    "epochs = 25\n",
    "model.compile(loss=\"categorical_crossentropy\", optimizer=\"adam\", metrics=[\"accuracy\"])\n",
    "model.fit(x_train, y_train, batch_size=batch_size, epochs=epochs, validation_split=0.1)"
   ]
  },
  {
   "cell_type": "markdown",
   "id": "ec1bbce7",
   "metadata": {},
   "source": [
    "## Evaluating the Trained Model"
   ]
  },
  {
   "cell_type": "code",
   "execution_count": 21,
   "id": "b95308fd",
   "metadata": {},
   "outputs": [
    {
     "name": "stdout",
     "output_type": "stream",
     "text": [
      "Test loss: 0.06211163103580475\n",
      "Test accuracy: 0.984000027179718\n"
     ]
    }
   ],
   "source": [
    "score = model.evaluate(x_test, y_test, verbose=0)\n",
    "print(\"Test loss:\", score[0])\n",
    "print(\"Test accuracy:\", score[1])"
   ]
  },
  {
   "cell_type": "code",
   "execution_count": null,
   "id": "5550f16e",
   "metadata": {},
   "outputs": [],
   "source": []
  }
 ],
 "metadata": {
  "kernelspec": {
   "display_name": "Python 3 (ipykernel)",
   "language": "python",
   "name": "python3"
  },
  "language_info": {
   "codemirror_mode": {
    "name": "ipython",
    "version": 3
   },
   "file_extension": ".py",
   "mimetype": "text/x-python",
   "name": "python",
   "nbconvert_exporter": "python",
   "pygments_lexer": "ipython3",
   "version": "3.8.12"
  }
 },
 "nbformat": 4,
 "nbformat_minor": 5
}
