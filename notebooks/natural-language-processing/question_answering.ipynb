{
 "cells": [
  {
   "cell_type": "markdown",
   "id": "f053a289",
   "metadata": {},
   "source": [
    "# Question Answering\n",
    "Build a question answering system. In particular, you should do the followings:\n",
    "- Download an annotated question answering dataset, such as [SQuAD](https://rajpurkar.github.io/SQuAD-explorer/).\n",
    "- Load and fine-tune a pre-trained question answering model using a library, such as `Simple Transformers`.\n",
    "- Evaluate your question answering model.\n",
    "- Run it on some example questions and check the answers. "
   ]
  },
  {
   "cell_type": "code",
   "execution_count": null,
   "id": "99221de9",
   "metadata": {},
   "outputs": [],
   "source": []
  }
 ],
 "metadata": {
  "kernelspec": {
   "display_name": "Python 3 (ipykernel)",
   "language": "python",
   "name": "python3"
  },
  "language_info": {
   "codemirror_mode": {
    "name": "ipython",
    "version": 3
   },
   "file_extension": ".py",
   "mimetype": "text/x-python",
   "name": "python",
   "nbconvert_exporter": "python",
   "pygments_lexer": "ipython3",
   "version": "3.8.12"
  }
 },
 "nbformat": 4,
 "nbformat_minor": 5
}
